{
 "cells": [
  {
   "cell_type": "code",
   "execution_count": 1,
   "id": "886b932c",
   "metadata": {},
   "outputs": [],
   "source": [
    "import pandas as pd\n",
    "import numpy as np\n",
    "import matplotlib.pyplot as plt\n",
    "import warnings"
   ]
  },
  {
   "cell_type": "markdown",
   "id": "8856b840",
   "metadata": {},
   "source": [
    "# USER ACTIVITY"
   ]
  },
  {
   "cell_type": "code",
   "execution_count": 20,
   "id": "f8ba1079",
   "metadata": {},
   "outputs": [
    {
     "data": {
      "text/html": [
       "<div>\n",
       "<style scoped>\n",
       "    .dataframe tbody tr th:only-of-type {\n",
       "        vertical-align: middle;\n",
       "    }\n",
       "\n",
       "    .dataframe tbody tr th {\n",
       "        vertical-align: top;\n",
       "    }\n",
       "\n",
       "    .dataframe thead th {\n",
       "        text-align: right;\n",
       "    }\n",
       "</style>\n",
       "<table border=\"1\" class=\"dataframe\">\n",
       "  <thead>\n",
       "    <tr style=\"text-align: right;\">\n",
       "      <th></th>\n",
       "      <th>User_ID</th>\n",
       "      <th>Title</th>\n",
       "      <th>datetime time</th>\n",
       "      <th>datetime Year</th>\n",
       "      <th>datetime Month</th>\n",
       "      <th>datetime Day_of_month</th>\n",
       "    </tr>\n",
       "  </thead>\n",
       "  <tbody>\n",
       "    <tr>\n",
       "      <th>0</th>\n",
       "      <td>ID_RAO7ABPO</td>\n",
       "      <td>comp_ID_N5MO</td>\n",
       "      <td>10:49:58</td>\n",
       "      <td>1</td>\n",
       "      <td>11</td>\n",
       "      <td>23</td>\n",
       "    </tr>\n",
       "    <tr>\n",
       "      <th>1</th>\n",
       "      <td>ID_RAO7ABPO</td>\n",
       "      <td>comp_ID_N5MO</td>\n",
       "      <td>12:08:03</td>\n",
       "      <td>1</td>\n",
       "      <td>11</td>\n",
       "      <td>23</td>\n",
       "    </tr>\n",
       "    <tr>\n",
       "      <th>2</th>\n",
       "      <td>ID_RAO7ABPO</td>\n",
       "      <td>comp_ID_N5MO</td>\n",
       "      <td>12:09:14</td>\n",
       "      <td>1</td>\n",
       "      <td>11</td>\n",
       "      <td>23</td>\n",
       "    </tr>\n",
       "    <tr>\n",
       "      <th>3</th>\n",
       "      <td>ID_RAO7ABPO</td>\n",
       "      <td>comp_ID_N5MO</td>\n",
       "      <td>12:11:16</td>\n",
       "      <td>1</td>\n",
       "      <td>11</td>\n",
       "      <td>23</td>\n",
       "    </tr>\n",
       "    <tr>\n",
       "      <th>4</th>\n",
       "      <td>ID_RAO7ABPO</td>\n",
       "      <td>comp_ID_N5MO</td>\n",
       "      <td>12:32:13</td>\n",
       "      <td>1</td>\n",
       "      <td>11</td>\n",
       "      <td>23</td>\n",
       "    </tr>\n",
       "    <tr>\n",
       "      <th>...</th>\n",
       "      <td>...</td>\n",
       "      <td>...</td>\n",
       "      <td>...</td>\n",
       "      <td>...</td>\n",
       "      <td>...</td>\n",
       "      <td>...</td>\n",
       "    </tr>\n",
       "    <tr>\n",
       "      <th>234650</th>\n",
       "      <td>ID_CF3I4GSJ</td>\n",
       "      <td>job_ID_5ONI</td>\n",
       "      <td>08:32:58</td>\n",
       "      <td>1</td>\n",
       "      <td>4</td>\n",
       "      <td>15</td>\n",
       "    </tr>\n",
       "    <tr>\n",
       "      <th>234651</th>\n",
       "      <td>ID_92GNK8VB</td>\n",
       "      <td>job_ID_5ONI</td>\n",
       "      <td>17:53:54</td>\n",
       "      <td>1</td>\n",
       "      <td>4</td>\n",
       "      <td>11</td>\n",
       "    </tr>\n",
       "    <tr>\n",
       "      <th>234652</th>\n",
       "      <td>ID_YP6RVLKJ</td>\n",
       "      <td>job_ID_5ONI</td>\n",
       "      <td>12:46:38</td>\n",
       "      <td>1</td>\n",
       "      <td>4</td>\n",
       "      <td>19</td>\n",
       "    </tr>\n",
       "    <tr>\n",
       "      <th>234653</th>\n",
       "      <td>ID_9GFJ437M</td>\n",
       "      <td>job_ID_5ONI</td>\n",
       "      <td>22:12:10</td>\n",
       "      <td>1</td>\n",
       "      <td>4</td>\n",
       "      <td>7</td>\n",
       "    </tr>\n",
       "    <tr>\n",
       "      <th>234654</th>\n",
       "      <td>ID_1QS0CZ5R</td>\n",
       "      <td>job_ID_5ONI</td>\n",
       "      <td>00:58:47</td>\n",
       "      <td>1</td>\n",
       "      <td>4</td>\n",
       "      <td>15</td>\n",
       "    </tr>\n",
       "  </tbody>\n",
       "</table>\n",
       "<p>234655 rows × 6 columns</p>\n",
       "</div>"
      ],
      "text/plain": [
       "            User_ID         Title datetime time  datetime Year  \\\n",
       "0       ID_RAO7ABPO  comp_ID_N5MO      10:49:58              1   \n",
       "1       ID_RAO7ABPO  comp_ID_N5MO      12:08:03              1   \n",
       "2       ID_RAO7ABPO  comp_ID_N5MO      12:09:14              1   \n",
       "3       ID_RAO7ABPO  comp_ID_N5MO      12:11:16              1   \n",
       "4       ID_RAO7ABPO  comp_ID_N5MO      12:32:13              1   \n",
       "...             ...           ...           ...            ...   \n",
       "234650  ID_CF3I4GSJ   job_ID_5ONI      08:32:58              1   \n",
       "234651  ID_92GNK8VB   job_ID_5ONI      17:53:54              1   \n",
       "234652  ID_YP6RVLKJ   job_ID_5ONI      12:46:38              1   \n",
       "234653  ID_9GFJ437M   job_ID_5ONI      22:12:10              1   \n",
       "234654  ID_1QS0CZ5R   job_ID_5ONI      00:58:47              1   \n",
       "\n",
       "        datetime Month  datetime Day_of_month  \n",
       "0                   11                     23  \n",
       "1                   11                     23  \n",
       "2                   11                     23  \n",
       "3                   11                     23  \n",
       "4                   11                     23  \n",
       "...                ...                    ...  \n",
       "234650               4                     15  \n",
       "234651               4                     11  \n",
       "234652               4                     19  \n",
       "234653               4                      7  \n",
       "234654               4                     15  \n",
       "\n",
       "[234655 rows x 6 columns]"
      ]
     },
     "execution_count": 20,
     "metadata": {},
     "output_type": "execute_result"
    }
   ],
   "source": [
    "df_userAct = pd.read_csv(\"UserActivity.csv\")\n",
    "df_userAct"
   ]
  },
  {
   "cell_type": "code",
   "execution_count": 31,
   "id": "2f5d483e",
   "metadata": {},
   "outputs": [
    {
     "name": "stdout",
     "output_type": "stream",
     "text": [
      "<class 'pandas.core.frame.DataFrame'>\n",
      "RangeIndex: 234655 entries, 0 to 234654\n",
      "Data columns (total 5 columns):\n",
      " #   Column                 Non-Null Count   Dtype \n",
      "---  ------                 --------------   ----- \n",
      " 0   User_ID                234655 non-null  string\n",
      " 1   Title                  234655 non-null  object\n",
      " 2   datetime time          234655 non-null  object\n",
      " 3   datetime Month         234655 non-null  string\n",
      " 4   datetime Day_of_month  234655 non-null  int64 \n",
      "dtypes: int64(1), object(2), string(2)\n",
      "memory usage: 9.0+ MB\n"
     ]
    }
   ],
   "source": [
    "df_userAct.info()"
   ]
  },
  {
   "cell_type": "code",
   "execution_count": 32,
   "id": "5ce42fdd",
   "metadata": {},
   "outputs": [],
   "source": [
    "df = df_userAct[(df_userAct[\"datetime Month\"]== '3') | (df_userAct[\"datetime Month\"]== '4')]"
   ]
  },
  {
   "cell_type": "code",
   "execution_count": null,
   "id": "101f14d5",
   "metadata": {},
   "outputs": [],
   "source": [
    "df"
   ]
  },
  {
   "cell_type": "code",
   "execution_count": 35,
   "id": "9da333fc",
   "metadata": {},
   "outputs": [
    {
     "data": {
      "text/plain": [
       "2718"
      ]
     },
     "execution_count": 35,
     "metadata": {},
     "output_type": "execute_result"
    }
   ],
   "source": [
    "len(df[\"User_ID\"].unique())"
   ]
  },
  {
   "cell_type": "code",
   "execution_count": 22,
   "id": "a118b129",
   "metadata": {},
   "outputs": [
    {
     "data": {
      "text/plain": [
       "7698"
      ]
     },
     "execution_count": 22,
     "metadata": {},
     "output_type": "execute_result"
    }
   ],
   "source": [
    "len(pd.unique(df_userAct['User_ID']))"
   ]
  },
  {
   "cell_type": "code",
   "execution_count": 23,
   "id": "b097fae4",
   "metadata": {},
   "outputs": [
    {
     "data": {
      "text/plain": [
       "1"
      ]
     },
     "execution_count": 23,
     "metadata": {},
     "output_type": "execute_result"
    }
   ],
   "source": [
    "len(pd.unique(df_userAct['datetime Year']))"
   ]
  },
  {
   "cell_type": "code",
   "execution_count": 24,
   "id": "c4f72dab",
   "metadata": {},
   "outputs": [],
   "source": [
    "df_userAct.drop('datetime Year', inplace=True, axis=1)"
   ]
  },
  {
   "cell_type": "code",
   "execution_count": 25,
   "id": "53ef3337",
   "metadata": {},
   "outputs": [],
   "source": [
    "df_userAct[\"User_ID\"] = df_userAct[\"User_ID\"].astype(\"string\")\n",
    "df_userAct[\"datetime Month\"] = df_userAct[\"datetime Month\"].astype(\"string\")"
   ]
  },
  {
   "cell_type": "code",
   "execution_count": 26,
   "id": "09ee6f73",
   "metadata": {},
   "outputs": [],
   "source": [
    "new = df_userAct[\"datetime Month\"].copy()\n",
    "df_userAct[\"User_ID\"] = df_userAct[\"User_ID\"].str.cat(new, sep =\"_Month_\")"
   ]
  },
  {
   "cell_type": "code",
   "execution_count": 9,
   "id": "6cf63d8c",
   "metadata": {},
   "outputs": [],
   "source": [
    "df_userAct.drop('datetime Month', inplace=True, axis=1)"
   ]
  },
  {
   "cell_type": "code",
   "execution_count": 10,
   "id": "ee896afa",
   "metadata": {},
   "outputs": [],
   "source": [
    "df_temp1 = df_userAct.groupby('User_ID').max() "
   ]
  },
  {
   "cell_type": "code",
   "execution_count": 11,
   "id": "f89f49fd",
   "metadata": {},
   "outputs": [],
   "source": [
    "df_temp2 = df_userAct.groupby('User_ID').sum() "
   ]
  },
  {
   "cell_type": "code",
   "execution_count": 12,
   "id": "78b0c80e",
   "metadata": {},
   "outputs": [],
   "source": [
    "df_temp3 = df_userAct.groupby('User_ID').count() "
   ]
  },
  {
   "cell_type": "code",
   "execution_count": 13,
   "id": "b7596df2",
   "metadata": {},
   "outputs": [],
   "source": [
    "df_temp = df_temp1"
   ]
  },
  {
   "cell_type": "code",
   "execution_count": 14,
   "id": "458de006",
   "metadata": {},
   "outputs": [],
   "source": [
    "df_temp[\"datetime Day_of_month\"] = df_temp1[\"datetime Day_of_month\"]"
   ]
  },
  {
   "cell_type": "code",
   "execution_count": 15,
   "id": "2f036e73",
   "metadata": {},
   "outputs": [],
   "source": [
    "df_temp[\"count_UA\"] = df_temp3[\"datetime time\"]"
   ]
  },
  {
   "cell_type": "code",
   "execution_count": 16,
   "id": "3e1a9f4b",
   "metadata": {},
   "outputs": [],
   "source": [
    "df_userAct = df_temp "
   ]
  },
  {
   "cell_type": "code",
   "execution_count": 17,
   "id": "97929aad",
   "metadata": {},
   "outputs": [],
   "source": [
    "df_userAct.drop('Title', inplace=True, axis=1)"
   ]
  },
  {
   "cell_type": "raw",
   "id": "de727517",
   "metadata": {},
   "source": [
    "df_userAct.sort_values('User_ID')"
   ]
  },
  {
   "cell_type": "code",
   "execution_count": 18,
   "id": "b14e9f1b",
   "metadata": {},
   "outputs": [
    {
     "data": {
      "text/html": [
       "<div>\n",
       "<style scoped>\n",
       "    .dataframe tbody tr th:only-of-type {\n",
       "        vertical-align: middle;\n",
       "    }\n",
       "\n",
       "    .dataframe tbody tr th {\n",
       "        vertical-align: top;\n",
       "    }\n",
       "\n",
       "    .dataframe thead th {\n",
       "        text-align: right;\n",
       "    }\n",
       "</style>\n",
       "<table border=\"1\" class=\"dataframe\">\n",
       "  <thead>\n",
       "    <tr style=\"text-align: right;\">\n",
       "      <th></th>\n",
       "      <th>datetime time</th>\n",
       "      <th>datetime Day_of_month</th>\n",
       "      <th>count_UA</th>\n",
       "    </tr>\n",
       "    <tr>\n",
       "      <th>User_ID</th>\n",
       "      <th></th>\n",
       "      <th></th>\n",
       "      <th></th>\n",
       "    </tr>\n",
       "  </thead>\n",
       "  <tbody>\n",
       "    <tr>\n",
       "      <th>ID_00E5OHGR_Month_3</th>\n",
       "      <td>11:10:23</td>\n",
       "      <td>15</td>\n",
       "      <td>25</td>\n",
       "    </tr>\n",
       "    <tr>\n",
       "      <th>ID_00ETFE7J_Month_3</th>\n",
       "      <td>23:41:28</td>\n",
       "      <td>13</td>\n",
       "      <td>16</td>\n",
       "    </tr>\n",
       "    <tr>\n",
       "      <th>ID_00HJDB09_Month_2</th>\n",
       "      <td>09:02:09</td>\n",
       "      <td>11</td>\n",
       "      <td>21</td>\n",
       "    </tr>\n",
       "    <tr>\n",
       "      <th>ID_00V7K62T_Month_1</th>\n",
       "      <td>09:43:13</td>\n",
       "      <td>15</td>\n",
       "      <td>1</td>\n",
       "    </tr>\n",
       "    <tr>\n",
       "      <th>ID_00V7K62T_Month_11</th>\n",
       "      <td>07:47:32</td>\n",
       "      <td>16</td>\n",
       "      <td>7</td>\n",
       "    </tr>\n",
       "    <tr>\n",
       "      <th>...</th>\n",
       "      <td>...</td>\n",
       "      <td>...</td>\n",
       "      <td>...</td>\n",
       "    </tr>\n",
       "    <tr>\n",
       "      <th>ID_ZZDBLYS5_Month_2</th>\n",
       "      <td>15:13:55</td>\n",
       "      <td>12</td>\n",
       "      <td>15</td>\n",
       "    </tr>\n",
       "    <tr>\n",
       "      <th>ID_ZZQK0LU6_Month_1</th>\n",
       "      <td>11:38:50</td>\n",
       "      <td>15</td>\n",
       "      <td>26</td>\n",
       "    </tr>\n",
       "    <tr>\n",
       "      <th>ID_ZZT2KLLN_Month_3</th>\n",
       "      <td>05:23:57</td>\n",
       "      <td>5</td>\n",
       "      <td>10</td>\n",
       "    </tr>\n",
       "    <tr>\n",
       "      <th>ID_ZZXZVCJ8_Month_11</th>\n",
       "      <td>14:53:44</td>\n",
       "      <td>22</td>\n",
       "      <td>8</td>\n",
       "    </tr>\n",
       "    <tr>\n",
       "      <th>ID_ZZXZVCJ8_Month_12</th>\n",
       "      <td>13:53:53</td>\n",
       "      <td>6</td>\n",
       "      <td>2</td>\n",
       "    </tr>\n",
       "  </tbody>\n",
       "</table>\n",
       "<p>10876 rows × 3 columns</p>\n",
       "</div>"
      ],
      "text/plain": [
       "                     datetime time  datetime Day_of_month  count_UA\n",
       "User_ID                                                            \n",
       "ID_00E5OHGR_Month_3       11:10:23                     15        25\n",
       "ID_00ETFE7J_Month_3       23:41:28                     13        16\n",
       "ID_00HJDB09_Month_2       09:02:09                     11        21\n",
       "ID_00V7K62T_Month_1       09:43:13                     15         1\n",
       "ID_00V7K62T_Month_11      07:47:32                     16         7\n",
       "...                            ...                    ...       ...\n",
       "ID_ZZDBLYS5_Month_2       15:13:55                     12        15\n",
       "ID_ZZQK0LU6_Month_1       11:38:50                     15        26\n",
       "ID_ZZT2KLLN_Month_3       05:23:57                      5        10\n",
       "ID_ZZXZVCJ8_Month_11      14:53:44                     22         8\n",
       "ID_ZZXZVCJ8_Month_12      13:53:53                      6         2\n",
       "\n",
       "[10876 rows x 3 columns]"
      ]
     },
     "execution_count": 18,
     "metadata": {},
     "output_type": "execute_result"
    }
   ],
   "source": [
    "df_userAct"
   ]
  },
  {
   "cell_type": "code",
   "execution_count": null,
   "id": "e0f8a58f",
   "metadata": {},
   "outputs": [],
   "source": [
    "df_userAct[(df_userAct[\"Month\"]== 3) | (df[\"Month\"]== 4)]"
   ]
  },
  {
   "cell_type": "markdown",
   "id": "0eb20903",
   "metadata": {},
   "source": [
    "# DISCUSSIONS"
   ]
  },
  {
   "cell_type": "code",
   "execution_count": 19,
   "id": "f291591c",
   "metadata": {},
   "outputs": [],
   "source": [
    "df_disc = pd.read_csv(\"Discussion.csv\")"
   ]
  },
  {
   "cell_type": "code",
   "execution_count": 20,
   "id": "1a3bebda",
   "metadata": {},
   "outputs": [
    {
     "name": "stdout",
     "output_type": "stream",
     "text": [
      "<class 'pandas.core.frame.DataFrame'>\n",
      "RangeIndex: 956 entries, 0 to 955\n",
      "Data columns (total 9 columns):\n",
      " #   Column                   Non-Null Count  Dtype  \n",
      "---  ------                   --------------  -----  \n",
      " 0   Competition ID           956 non-null    object \n",
      " 1   Personal                 956 non-null    int64  \n",
      " 2   Theme                    108 non-null    float64\n",
      " 3   Disc_ID                  956 non-null    object \n",
      " 4   User_ID                  956 non-null    object \n",
      " 5   Created At time          956 non-null    object \n",
      " 6   Created At Year          956 non-null    int64  \n",
      " 7   Created At Month         956 non-null    int64  \n",
      " 8   Created At Day_of_month  956 non-null    int64  \n",
      "dtypes: float64(1), int64(4), object(4)\n",
      "memory usage: 67.3+ KB\n"
     ]
    }
   ],
   "source": [
    "df_disc.info()"
   ]
  },
  {
   "cell_type": "code",
   "execution_count": 21,
   "id": "1bd34152",
   "metadata": {},
   "outputs": [
    {
     "data": {
      "text/html": [
       "<div>\n",
       "<style scoped>\n",
       "    .dataframe tbody tr th:only-of-type {\n",
       "        vertical-align: middle;\n",
       "    }\n",
       "\n",
       "    .dataframe tbody tr th {\n",
       "        vertical-align: top;\n",
       "    }\n",
       "\n",
       "    .dataframe thead th {\n",
       "        text-align: right;\n",
       "    }\n",
       "</style>\n",
       "<table border=\"1\" class=\"dataframe\">\n",
       "  <thead>\n",
       "    <tr style=\"text-align: right;\">\n",
       "      <th></th>\n",
       "      <th>Competition ID</th>\n",
       "      <th>Personal</th>\n",
       "      <th>Theme</th>\n",
       "      <th>Disc_ID</th>\n",
       "      <th>User_ID</th>\n",
       "      <th>Created At time</th>\n",
       "      <th>Created At Year</th>\n",
       "      <th>Created At Month</th>\n",
       "      <th>Created At Day_of_month</th>\n",
       "    </tr>\n",
       "  </thead>\n",
       "  <tbody>\n",
       "    <tr>\n",
       "      <th>0</th>\n",
       "      <td>GeneralDiscussion</td>\n",
       "      <td>1</td>\n",
       "      <td>NaN</td>\n",
       "      <td>ID_0BK7TH</td>\n",
       "      <td>ID_B66PZQQP</td>\n",
       "      <td>19:48:26.862175</td>\n",
       "      <td>1</td>\n",
       "      <td>12</td>\n",
       "      <td>27</td>\n",
       "    </tr>\n",
       "    <tr>\n",
       "      <th>1</th>\n",
       "      <td>GeneralDiscussion</td>\n",
       "      <td>1</td>\n",
       "      <td>NaN</td>\n",
       "      <td>ID_ZFJ9J7</td>\n",
       "      <td>ID_5Y4QLJNC</td>\n",
       "      <td>09:37:52.039526</td>\n",
       "      <td>1</td>\n",
       "      <td>12</td>\n",
       "      <td>20</td>\n",
       "    </tr>\n",
       "    <tr>\n",
       "      <th>2</th>\n",
       "      <td>GeneralDiscussion</td>\n",
       "      <td>1</td>\n",
       "      <td>NaN</td>\n",
       "      <td>ID_ME45XX</td>\n",
       "      <td>ID_CQ02RGX8</td>\n",
       "      <td>17:50:33.894800</td>\n",
       "      <td>1</td>\n",
       "      <td>2</td>\n",
       "      <td>9</td>\n",
       "    </tr>\n",
       "    <tr>\n",
       "      <th>3</th>\n",
       "      <td>ID_WOVD</td>\n",
       "      <td>1</td>\n",
       "      <td>NaN</td>\n",
       "      <td>ID_T2Q4GB</td>\n",
       "      <td>ID_CQ02RGX8</td>\n",
       "      <td>07:57:55.178845</td>\n",
       "      <td>1</td>\n",
       "      <td>2</td>\n",
       "      <td>10</td>\n",
       "    </tr>\n",
       "    <tr>\n",
       "      <th>4</th>\n",
       "      <td>GeneralDiscussion</td>\n",
       "      <td>1</td>\n",
       "      <td>NaN</td>\n",
       "      <td>ID_251XVV</td>\n",
       "      <td>ID_XICHYIPJ</td>\n",
       "      <td>19:56:13.041893</td>\n",
       "      <td>1</td>\n",
       "      <td>12</td>\n",
       "      <td>27</td>\n",
       "    </tr>\n",
       "    <tr>\n",
       "      <th>...</th>\n",
       "      <td>...</td>\n",
       "      <td>...</td>\n",
       "      <td>...</td>\n",
       "      <td>...</td>\n",
       "      <td>...</td>\n",
       "      <td>...</td>\n",
       "      <td>...</td>\n",
       "      <td>...</td>\n",
       "      <td>...</td>\n",
       "    </tr>\n",
       "    <tr>\n",
       "      <th>951</th>\n",
       "      <td>GeneralDiscussion</td>\n",
       "      <td>1</td>\n",
       "      <td>NaN</td>\n",
       "      <td>ID_N2NU2T</td>\n",
       "      <td>ID_ED8SPMFX</td>\n",
       "      <td>03:23:30.178446</td>\n",
       "      <td>1</td>\n",
       "      <td>3</td>\n",
       "      <td>23</td>\n",
       "    </tr>\n",
       "    <tr>\n",
       "      <th>952</th>\n",
       "      <td>GeneralDiscussion</td>\n",
       "      <td>1</td>\n",
       "      <td>NaN</td>\n",
       "      <td>ID_960KNM</td>\n",
       "      <td>ID_0TD2K7VV</td>\n",
       "      <td>10:11:04.131376</td>\n",
       "      <td>1</td>\n",
       "      <td>4</td>\n",
       "      <td>16</td>\n",
       "    </tr>\n",
       "    <tr>\n",
       "      <th>953</th>\n",
       "      <td>ID_M7TY</td>\n",
       "      <td>0</td>\n",
       "      <td>3.0</td>\n",
       "      <td>ID_J5IASR</td>\n",
       "      <td>ID_R7WXMZ7I</td>\n",
       "      <td>17:40:14.006176</td>\n",
       "      <td>1</td>\n",
       "      <td>1</td>\n",
       "      <td>5</td>\n",
       "    </tr>\n",
       "    <tr>\n",
       "      <th>954</th>\n",
       "      <td>ID_HCST</td>\n",
       "      <td>1</td>\n",
       "      <td>NaN</td>\n",
       "      <td>ID_8Q8LJJ</td>\n",
       "      <td>ID_6WFBO49L</td>\n",
       "      <td>16:18:42.357376</td>\n",
       "      <td>1</td>\n",
       "      <td>3</td>\n",
       "      <td>23</td>\n",
       "    </tr>\n",
       "    <tr>\n",
       "      <th>955</th>\n",
       "      <td>GeneralDiscussion</td>\n",
       "      <td>1</td>\n",
       "      <td>NaN</td>\n",
       "      <td>ID_93LEXV</td>\n",
       "      <td>ID_CF3I4GSJ</td>\n",
       "      <td>11:50:57.964075</td>\n",
       "      <td>1</td>\n",
       "      <td>4</td>\n",
       "      <td>14</td>\n",
       "    </tr>\n",
       "  </tbody>\n",
       "</table>\n",
       "<p>956 rows × 9 columns</p>\n",
       "</div>"
      ],
      "text/plain": [
       "        Competition ID  Personal  Theme    Disc_ID      User_ID  \\\n",
       "0    GeneralDiscussion         1    NaN  ID_0BK7TH  ID_B66PZQQP   \n",
       "1    GeneralDiscussion         1    NaN  ID_ZFJ9J7  ID_5Y4QLJNC   \n",
       "2    GeneralDiscussion         1    NaN  ID_ME45XX  ID_CQ02RGX8   \n",
       "3              ID_WOVD         1    NaN  ID_T2Q4GB  ID_CQ02RGX8   \n",
       "4    GeneralDiscussion         1    NaN  ID_251XVV  ID_XICHYIPJ   \n",
       "..                 ...       ...    ...        ...          ...   \n",
       "951  GeneralDiscussion         1    NaN  ID_N2NU2T  ID_ED8SPMFX   \n",
       "952  GeneralDiscussion         1    NaN  ID_960KNM  ID_0TD2K7VV   \n",
       "953            ID_M7TY         0    3.0  ID_J5IASR  ID_R7WXMZ7I   \n",
       "954            ID_HCST         1    NaN  ID_8Q8LJJ  ID_6WFBO49L   \n",
       "955  GeneralDiscussion         1    NaN  ID_93LEXV  ID_CF3I4GSJ   \n",
       "\n",
       "     Created At time  Created At Year  Created At Month  \\\n",
       "0    19:48:26.862175                1                12   \n",
       "1    09:37:52.039526                1                12   \n",
       "2    17:50:33.894800                1                 2   \n",
       "3    07:57:55.178845                1                 2   \n",
       "4    19:56:13.041893                1                12   \n",
       "..               ...              ...               ...   \n",
       "951  03:23:30.178446                1                 3   \n",
       "952  10:11:04.131376                1                 4   \n",
       "953  17:40:14.006176                1                 1   \n",
       "954  16:18:42.357376                1                 3   \n",
       "955  11:50:57.964075                1                 4   \n",
       "\n",
       "     Created At Day_of_month  \n",
       "0                         27  \n",
       "1                         20  \n",
       "2                          9  \n",
       "3                         10  \n",
       "4                         27  \n",
       "..                       ...  \n",
       "951                       23  \n",
       "952                       16  \n",
       "953                        5  \n",
       "954                       23  \n",
       "955                       14  \n",
       "\n",
       "[956 rows x 9 columns]"
      ]
     },
     "execution_count": 21,
     "metadata": {},
     "output_type": "execute_result"
    }
   ],
   "source": [
    "df_disc"
   ]
  },
  {
   "cell_type": "code",
   "execution_count": 22,
   "id": "db27b848",
   "metadata": {},
   "outputs": [
    {
     "data": {
      "text/plain": [
       "691"
      ]
     },
     "execution_count": 22,
     "metadata": {},
     "output_type": "execute_result"
    }
   ],
   "source": [
    "len(pd.unique(df_disc['User_ID']))"
   ]
  },
  {
   "cell_type": "code",
   "execution_count": 23,
   "id": "dfd7452c",
   "metadata": {},
   "outputs": [
    {
     "data": {
      "text/plain": [
       "1"
      ]
     },
     "execution_count": 23,
     "metadata": {},
     "output_type": "execute_result"
    }
   ],
   "source": [
    "len(pd.unique(df_disc['Created At Year']))"
   ]
  },
  {
   "cell_type": "code",
   "execution_count": 24,
   "id": "7cb14fa8",
   "metadata": {},
   "outputs": [],
   "source": [
    "df_disc.drop('Created At Year', inplace=True, axis=1)"
   ]
  },
  {
   "cell_type": "code",
   "execution_count": 25,
   "id": "301938a4",
   "metadata": {},
   "outputs": [],
   "source": [
    "df_disc[\"User_ID\"] = df_disc[\"User_ID\"].astype(\"string\")\n",
    "df_disc[\"Created At Month\"] = df_disc[\"Created At Month\"].astype(\"string\")"
   ]
  },
  {
   "cell_type": "code",
   "execution_count": 26,
   "id": "82a2059d",
   "metadata": {},
   "outputs": [],
   "source": [
    "new = df_disc[\"Created At Month\"].copy()\n",
    "df_disc[\"User_ID\"] = df_disc[\"User_ID\"].str.cat(new, sep =\"_Month_\")"
   ]
  },
  {
   "cell_type": "code",
   "execution_count": 27,
   "id": "c7276936",
   "metadata": {},
   "outputs": [],
   "source": [
    "df_disc.drop('Created At Month', inplace=True, axis=1)"
   ]
  },
  {
   "cell_type": "code",
   "execution_count": 28,
   "id": "c9c8e0e0",
   "metadata": {},
   "outputs": [
    {
     "data": {
      "text/plain": [
       "array([nan,  4.,  1.,  3.,  5.,  2.])"
      ]
     },
     "execution_count": 28,
     "metadata": {},
     "output_type": "execute_result"
    }
   ],
   "source": [
    "pd.unique(df_disc['Theme'])"
   ]
  },
  {
   "cell_type": "markdown",
   "id": "4df67006",
   "metadata": {},
   "source": [
    "# COMMENTS"
   ]
  },
  {
   "cell_type": "code",
   "execution_count": 29,
   "id": "3760bc57",
   "metadata": {},
   "outputs": [],
   "source": [
    "df_com = pd.read_csv(\"Comments.csv\")"
   ]
  },
  {
   "cell_type": "code",
   "execution_count": 30,
   "id": "930c46a1",
   "metadata": {},
   "outputs": [
    {
     "name": "stdout",
     "output_type": "stream",
     "text": [
      "<class 'pandas.core.frame.DataFrame'>\n",
      "RangeIndex: 2788 entries, 0 to 2787\n",
      "Data columns (total 6 columns):\n",
      " #   Column                   Non-Null Count  Dtype \n",
      "---  ------                   --------------  ----- \n",
      " 0   Disc_ID                  2788 non-null   object\n",
      " 1   User_ID                  2788 non-null   object\n",
      " 2   Created At time          2788 non-null   object\n",
      " 3   Created At Year          2788 non-null   int64 \n",
      " 4   Created At Month         2788 non-null   int64 \n",
      " 5   Created At Day_of_month  2788 non-null   int64 \n",
      "dtypes: int64(3), object(3)\n",
      "memory usage: 130.8+ KB\n"
     ]
    }
   ],
   "source": [
    "df_com.info()"
   ]
  },
  {
   "cell_type": "code",
   "execution_count": 31,
   "id": "af159fb1",
   "metadata": {},
   "outputs": [
    {
     "data": {
      "text/html": [
       "<div>\n",
       "<style scoped>\n",
       "    .dataframe tbody tr th:only-of-type {\n",
       "        vertical-align: middle;\n",
       "    }\n",
       "\n",
       "    .dataframe tbody tr th {\n",
       "        vertical-align: top;\n",
       "    }\n",
       "\n",
       "    .dataframe thead th {\n",
       "        text-align: right;\n",
       "    }\n",
       "</style>\n",
       "<table border=\"1\" class=\"dataframe\">\n",
       "  <thead>\n",
       "    <tr style=\"text-align: right;\">\n",
       "      <th></th>\n",
       "      <th>Disc_ID</th>\n",
       "      <th>User_ID</th>\n",
       "      <th>Created At time</th>\n",
       "      <th>Created At Year</th>\n",
       "      <th>Created At Month</th>\n",
       "      <th>Created At Day_of_month</th>\n",
       "    </tr>\n",
       "  </thead>\n",
       "  <tbody>\n",
       "    <tr>\n",
       "      <th>0</th>\n",
       "      <td>ID_PTU0JO</td>\n",
       "      <td>ID_8BQTNGYG</td>\n",
       "      <td>01:18:53.960347</td>\n",
       "      <td>1</td>\n",
       "      <td>2</td>\n",
       "      <td>18</td>\n",
       "    </tr>\n",
       "    <tr>\n",
       "      <th>1</th>\n",
       "      <td>ID_FWGIPM</td>\n",
       "      <td>ID_8BQTNGYG</td>\n",
       "      <td>00:50:03.299989</td>\n",
       "      <td>1</td>\n",
       "      <td>2</td>\n",
       "      <td>14</td>\n",
       "    </tr>\n",
       "    <tr>\n",
       "      <th>2</th>\n",
       "      <td>ID_V8QUAX</td>\n",
       "      <td>ID_8BQTNGYG</td>\n",
       "      <td>00:46:57.298751</td>\n",
       "      <td>1</td>\n",
       "      <td>2</td>\n",
       "      <td>14</td>\n",
       "    </tr>\n",
       "    <tr>\n",
       "      <th>3</th>\n",
       "      <td>ID_WWAY33</td>\n",
       "      <td>ID_8BQTNGYG</td>\n",
       "      <td>02:53:44.504614</td>\n",
       "      <td>1</td>\n",
       "      <td>1</td>\n",
       "      <td>20</td>\n",
       "    </tr>\n",
       "    <tr>\n",
       "      <th>4</th>\n",
       "      <td>ID_EWT1OB</td>\n",
       "      <td>ID_8BQTNGYG</td>\n",
       "      <td>06:53:26.903374</td>\n",
       "      <td>1</td>\n",
       "      <td>2</td>\n",
       "      <td>4</td>\n",
       "    </tr>\n",
       "    <tr>\n",
       "      <th>...</th>\n",
       "      <td>...</td>\n",
       "      <td>...</td>\n",
       "      <td>...</td>\n",
       "      <td>...</td>\n",
       "      <td>...</td>\n",
       "      <td>...</td>\n",
       "    </tr>\n",
       "    <tr>\n",
       "      <th>2783</th>\n",
       "      <td>ID_O24SU4</td>\n",
       "      <td>ID_SC59RO43</td>\n",
       "      <td>11:03:52.575030</td>\n",
       "      <td>1</td>\n",
       "      <td>4</td>\n",
       "      <td>18</td>\n",
       "    </tr>\n",
       "    <tr>\n",
       "      <th>2784</th>\n",
       "      <td>ID_62W6UH</td>\n",
       "      <td>ID_BX3JR1XA</td>\n",
       "      <td>20:51:39.583262</td>\n",
       "      <td>1</td>\n",
       "      <td>4</td>\n",
       "      <td>20</td>\n",
       "    </tr>\n",
       "    <tr>\n",
       "      <th>2785</th>\n",
       "      <td>ID_N1M40F</td>\n",
       "      <td>ID_UA02ZSWR</td>\n",
       "      <td>09:27:21.364650</td>\n",
       "      <td>1</td>\n",
       "      <td>4</td>\n",
       "      <td>19</td>\n",
       "    </tr>\n",
       "    <tr>\n",
       "      <th>2786</th>\n",
       "      <td>ID_N1M40F</td>\n",
       "      <td>ID_XBQ1LQ7B</td>\n",
       "      <td>22:36:29.720601</td>\n",
       "      <td>1</td>\n",
       "      <td>4</td>\n",
       "      <td>19</td>\n",
       "    </tr>\n",
       "    <tr>\n",
       "      <th>2787</th>\n",
       "      <td>ID_L6FKDT</td>\n",
       "      <td>ID_ZIVOLJ3U</td>\n",
       "      <td>09:13:12.568251</td>\n",
       "      <td>1</td>\n",
       "      <td>4</td>\n",
       "      <td>21</td>\n",
       "    </tr>\n",
       "  </tbody>\n",
       "</table>\n",
       "<p>2788 rows × 6 columns</p>\n",
       "</div>"
      ],
      "text/plain": [
       "        Disc_ID      User_ID  Created At time  Created At Year  \\\n",
       "0     ID_PTU0JO  ID_8BQTNGYG  01:18:53.960347                1   \n",
       "1     ID_FWGIPM  ID_8BQTNGYG  00:50:03.299989                1   \n",
       "2     ID_V8QUAX  ID_8BQTNGYG  00:46:57.298751                1   \n",
       "3     ID_WWAY33  ID_8BQTNGYG  02:53:44.504614                1   \n",
       "4     ID_EWT1OB  ID_8BQTNGYG  06:53:26.903374                1   \n",
       "...         ...          ...              ...              ...   \n",
       "2783  ID_O24SU4  ID_SC59RO43  11:03:52.575030                1   \n",
       "2784  ID_62W6UH  ID_BX3JR1XA  20:51:39.583262                1   \n",
       "2785  ID_N1M40F  ID_UA02ZSWR  09:27:21.364650                1   \n",
       "2786  ID_N1M40F  ID_XBQ1LQ7B  22:36:29.720601                1   \n",
       "2787  ID_L6FKDT  ID_ZIVOLJ3U  09:13:12.568251                1   \n",
       "\n",
       "      Created At Month  Created At Day_of_month  \n",
       "0                    2                       18  \n",
       "1                    2                       14  \n",
       "2                    2                       14  \n",
       "3                    1                       20  \n",
       "4                    2                        4  \n",
       "...                ...                      ...  \n",
       "2783                 4                       18  \n",
       "2784                 4                       20  \n",
       "2785                 4                       19  \n",
       "2786                 4                       19  \n",
       "2787                 4                       21  \n",
       "\n",
       "[2788 rows x 6 columns]"
      ]
     },
     "execution_count": 31,
     "metadata": {},
     "output_type": "execute_result"
    }
   ],
   "source": [
    "df_com"
   ]
  },
  {
   "cell_type": "code",
   "execution_count": 32,
   "id": "fc4d3538",
   "metadata": {},
   "outputs": [
    {
     "data": {
      "text/plain": [
       "759"
      ]
     },
     "execution_count": 32,
     "metadata": {},
     "output_type": "execute_result"
    }
   ],
   "source": [
    "len(pd.unique(df_com['User_ID']))"
   ]
  },
  {
   "cell_type": "code",
   "execution_count": 33,
   "id": "83317ab3",
   "metadata": {},
   "outputs": [
    {
     "data": {
      "text/plain": [
       "1"
      ]
     },
     "execution_count": 33,
     "metadata": {},
     "output_type": "execute_result"
    }
   ],
   "source": [
    "len(pd.unique(df_com['Created At Year']))"
   ]
  },
  {
   "cell_type": "code",
   "execution_count": 34,
   "id": "d29bf202",
   "metadata": {},
   "outputs": [],
   "source": [
    "df_com.drop('Created At Year', inplace=True, axis=1)"
   ]
  },
  {
   "cell_type": "code",
   "execution_count": 35,
   "id": "9d065f8f",
   "metadata": {},
   "outputs": [],
   "source": [
    "df_com[\"User_ID\"] = df_com[\"User_ID\"].astype(\"string\")\n",
    "df_com[\"Created At Month\"] = df_com[\"Created At Month\"].astype(\"string\")"
   ]
  },
  {
   "cell_type": "code",
   "execution_count": 36,
   "id": "32c775b5",
   "metadata": {},
   "outputs": [],
   "source": [
    "new = df_com[\"Created At Month\"].copy()\n",
    "df_com[\"User_ID\"] = df_com[\"User_ID\"].str.cat(new, sep =\"_Month_\")"
   ]
  },
  {
   "cell_type": "code",
   "execution_count": 37,
   "id": "485d1c24",
   "metadata": {},
   "outputs": [],
   "source": [
    "df_com.drop('Created At Month', inplace=True, axis=1)"
   ]
  },
  {
   "cell_type": "markdown",
   "id": "aa2ee7ac",
   "metadata": {},
   "source": [
    "# MERGE 1"
   ]
  },
  {
   "cell_type": "code",
   "execution_count": 38,
   "id": "10f6ce45",
   "metadata": {},
   "outputs": [],
   "source": [
    "result1 = pd.merge(df_disc, df_com, how=\"outer\", on=['User_ID', 'Disc_ID'])"
   ]
  },
  {
   "cell_type": "code",
   "execution_count": 39,
   "id": "e46c312d",
   "metadata": {},
   "outputs": [
    {
     "data": {
      "text/html": [
       "<div>\n",
       "<style scoped>\n",
       "    .dataframe tbody tr th:only-of-type {\n",
       "        vertical-align: middle;\n",
       "    }\n",
       "\n",
       "    .dataframe tbody tr th {\n",
       "        vertical-align: top;\n",
       "    }\n",
       "\n",
       "    .dataframe thead th {\n",
       "        text-align: right;\n",
       "    }\n",
       "</style>\n",
       "<table border=\"1\" class=\"dataframe\">\n",
       "  <thead>\n",
       "    <tr style=\"text-align: right;\">\n",
       "      <th></th>\n",
       "      <th>Competition ID</th>\n",
       "      <th>Personal</th>\n",
       "      <th>Theme</th>\n",
       "      <th>Disc_ID</th>\n",
       "      <th>User_ID</th>\n",
       "      <th>Created At time_x</th>\n",
       "      <th>Created At Day_of_month_x</th>\n",
       "      <th>Created At time_y</th>\n",
       "      <th>Created At Day_of_month_y</th>\n",
       "    </tr>\n",
       "  </thead>\n",
       "  <tbody>\n",
       "    <tr>\n",
       "      <th>0</th>\n",
       "      <td>GeneralDiscussion</td>\n",
       "      <td>1.0</td>\n",
       "      <td>NaN</td>\n",
       "      <td>ID_0BK7TH</td>\n",
       "      <td>ID_B66PZQQP_Month_12</td>\n",
       "      <td>19:48:26.862175</td>\n",
       "      <td>27.0</td>\n",
       "      <td>NaN</td>\n",
       "      <td>NaN</td>\n",
       "    </tr>\n",
       "    <tr>\n",
       "      <th>1</th>\n",
       "      <td>GeneralDiscussion</td>\n",
       "      <td>1.0</td>\n",
       "      <td>NaN</td>\n",
       "      <td>ID_ZFJ9J7</td>\n",
       "      <td>ID_5Y4QLJNC_Month_12</td>\n",
       "      <td>09:37:52.039526</td>\n",
       "      <td>20.0</td>\n",
       "      <td>NaN</td>\n",
       "      <td>NaN</td>\n",
       "    </tr>\n",
       "    <tr>\n",
       "      <th>2</th>\n",
       "      <td>GeneralDiscussion</td>\n",
       "      <td>1.0</td>\n",
       "      <td>NaN</td>\n",
       "      <td>ID_ME45XX</td>\n",
       "      <td>ID_CQ02RGX8_Month_2</td>\n",
       "      <td>17:50:33.894800</td>\n",
       "      <td>9.0</td>\n",
       "      <td>NaN</td>\n",
       "      <td>NaN</td>\n",
       "    </tr>\n",
       "    <tr>\n",
       "      <th>3</th>\n",
       "      <td>ID_WOVD</td>\n",
       "      <td>1.0</td>\n",
       "      <td>NaN</td>\n",
       "      <td>ID_T2Q4GB</td>\n",
       "      <td>ID_CQ02RGX8_Month_2</td>\n",
       "      <td>07:57:55.178845</td>\n",
       "      <td>10.0</td>\n",
       "      <td>19:46:53.564412</td>\n",
       "      <td>11.0</td>\n",
       "    </tr>\n",
       "    <tr>\n",
       "      <th>4</th>\n",
       "      <td>GeneralDiscussion</td>\n",
       "      <td>1.0</td>\n",
       "      <td>NaN</td>\n",
       "      <td>ID_251XVV</td>\n",
       "      <td>ID_XICHYIPJ_Month_12</td>\n",
       "      <td>19:56:13.041893</td>\n",
       "      <td>27.0</td>\n",
       "      <td>NaN</td>\n",
       "      <td>NaN</td>\n",
       "    </tr>\n",
       "    <tr>\n",
       "      <th>...</th>\n",
       "      <td>...</td>\n",
       "      <td>...</td>\n",
       "      <td>...</td>\n",
       "      <td>...</td>\n",
       "      <td>...</td>\n",
       "      <td>...</td>\n",
       "      <td>...</td>\n",
       "      <td>...</td>\n",
       "      <td>...</td>\n",
       "    </tr>\n",
       "    <tr>\n",
       "      <th>3415</th>\n",
       "      <td>NaN</td>\n",
       "      <td>NaN</td>\n",
       "      <td>NaN</td>\n",
       "      <td>ID_5XKX1Y</td>\n",
       "      <td>ID_F5IWLL5N_Month_4</td>\n",
       "      <td>NaN</td>\n",
       "      <td>NaN</td>\n",
       "      <td>11:05:04.354654</td>\n",
       "      <td>16.0</td>\n",
       "    </tr>\n",
       "    <tr>\n",
       "      <th>3416</th>\n",
       "      <td>NaN</td>\n",
       "      <td>NaN</td>\n",
       "      <td>NaN</td>\n",
       "      <td>ID_5XKX1Y</td>\n",
       "      <td>ID_F5IWLL5N_Month_4</td>\n",
       "      <td>NaN</td>\n",
       "      <td>NaN</td>\n",
       "      <td>11:04:00.980436</td>\n",
       "      <td>16.0</td>\n",
       "    </tr>\n",
       "    <tr>\n",
       "      <th>3417</th>\n",
       "      <td>NaN</td>\n",
       "      <td>NaN</td>\n",
       "      <td>NaN</td>\n",
       "      <td>ID_5XKX1Y</td>\n",
       "      <td>ID_78I8ZFGC_Month_4</td>\n",
       "      <td>NaN</td>\n",
       "      <td>NaN</td>\n",
       "      <td>08:15:37.567408</td>\n",
       "      <td>19.0</td>\n",
       "    </tr>\n",
       "    <tr>\n",
       "      <th>3418</th>\n",
       "      <td>NaN</td>\n",
       "      <td>NaN</td>\n",
       "      <td>NaN</td>\n",
       "      <td>ID_N1M40F</td>\n",
       "      <td>ID_UA02ZSWR_Month_4</td>\n",
       "      <td>NaN</td>\n",
       "      <td>NaN</td>\n",
       "      <td>09:27:21.364650</td>\n",
       "      <td>19.0</td>\n",
       "    </tr>\n",
       "    <tr>\n",
       "      <th>3419</th>\n",
       "      <td>NaN</td>\n",
       "      <td>NaN</td>\n",
       "      <td>NaN</td>\n",
       "      <td>ID_N1M40F</td>\n",
       "      <td>ID_XBQ1LQ7B_Month_4</td>\n",
       "      <td>NaN</td>\n",
       "      <td>NaN</td>\n",
       "      <td>22:36:29.720601</td>\n",
       "      <td>19.0</td>\n",
       "    </tr>\n",
       "  </tbody>\n",
       "</table>\n",
       "<p>3420 rows × 9 columns</p>\n",
       "</div>"
      ],
      "text/plain": [
       "         Competition ID  Personal  Theme    Disc_ID               User_ID  \\\n",
       "0     GeneralDiscussion       1.0    NaN  ID_0BK7TH  ID_B66PZQQP_Month_12   \n",
       "1     GeneralDiscussion       1.0    NaN  ID_ZFJ9J7  ID_5Y4QLJNC_Month_12   \n",
       "2     GeneralDiscussion       1.0    NaN  ID_ME45XX   ID_CQ02RGX8_Month_2   \n",
       "3               ID_WOVD       1.0    NaN  ID_T2Q4GB   ID_CQ02RGX8_Month_2   \n",
       "4     GeneralDiscussion       1.0    NaN  ID_251XVV  ID_XICHYIPJ_Month_12   \n",
       "...                 ...       ...    ...        ...                   ...   \n",
       "3415                NaN       NaN    NaN  ID_5XKX1Y   ID_F5IWLL5N_Month_4   \n",
       "3416                NaN       NaN    NaN  ID_5XKX1Y   ID_F5IWLL5N_Month_4   \n",
       "3417                NaN       NaN    NaN  ID_5XKX1Y   ID_78I8ZFGC_Month_4   \n",
       "3418                NaN       NaN    NaN  ID_N1M40F   ID_UA02ZSWR_Month_4   \n",
       "3419                NaN       NaN    NaN  ID_N1M40F   ID_XBQ1LQ7B_Month_4   \n",
       "\n",
       "     Created At time_x  Created At Day_of_month_x Created At time_y  \\\n",
       "0      19:48:26.862175                       27.0               NaN   \n",
       "1      09:37:52.039526                       20.0               NaN   \n",
       "2      17:50:33.894800                        9.0               NaN   \n",
       "3      07:57:55.178845                       10.0   19:46:53.564412   \n",
       "4      19:56:13.041893                       27.0               NaN   \n",
       "...                ...                        ...               ...   \n",
       "3415               NaN                        NaN   11:05:04.354654   \n",
       "3416               NaN                        NaN   11:04:00.980436   \n",
       "3417               NaN                        NaN   08:15:37.567408   \n",
       "3418               NaN                        NaN   09:27:21.364650   \n",
       "3419               NaN                        NaN   22:36:29.720601   \n",
       "\n",
       "      Created At Day_of_month_y  \n",
       "0                           NaN  \n",
       "1                           NaN  \n",
       "2                           NaN  \n",
       "3                          11.0  \n",
       "4                           NaN  \n",
       "...                         ...  \n",
       "3415                       16.0  \n",
       "3416                       16.0  \n",
       "3417                       19.0  \n",
       "3418                       19.0  \n",
       "3419                       19.0  \n",
       "\n",
       "[3420 rows x 9 columns]"
      ]
     },
     "execution_count": 39,
     "metadata": {},
     "output_type": "execute_result"
    }
   ],
   "source": [
    "result1"
   ]
  },
  {
   "cell_type": "code",
   "execution_count": 40,
   "id": "252fe48c",
   "metadata": {},
   "outputs": [
    {
     "name": "stdout",
     "output_type": "stream",
     "text": [
      "<class 'pandas.core.frame.DataFrame'>\n",
      "Int64Index: 3420 entries, 0 to 3419\n",
      "Data columns (total 9 columns):\n",
      " #   Column                     Non-Null Count  Dtype  \n",
      "---  ------                     --------------  -----  \n",
      " 0   Competition ID             1129 non-null   object \n",
      " 1   Personal                   1129 non-null   float64\n",
      " 2   Theme                      171 non-null    float64\n",
      " 3   Disc_ID                    3420 non-null   object \n",
      " 4   User_ID                    3420 non-null   string \n",
      " 5   Created At time_x          1129 non-null   object \n",
      " 6   Created At Day_of_month_x  1129 non-null   float64\n",
      " 7   Created At time_y          2788 non-null   object \n",
      " 8   Created At Day_of_month_y  2788 non-null   float64\n",
      "dtypes: float64(4), object(4), string(1)\n",
      "memory usage: 267.2+ KB\n"
     ]
    }
   ],
   "source": [
    "result1.info()"
   ]
  },
  {
   "cell_type": "markdown",
   "id": "b1583267",
   "metadata": {},
   "source": [
    "# COMPETITIONS"
   ]
  },
  {
   "cell_type": "code",
   "execution_count": 41,
   "id": "5a8227ce",
   "metadata": {},
   "outputs": [],
   "source": [
    "df_comp = pd.read_csv(\"Competition.csv\")"
   ]
  },
  {
   "cell_type": "code",
   "execution_count": 42,
   "id": "d1a71db1",
   "metadata": {},
   "outputs": [
    {
     "name": "stdout",
     "output_type": "stream",
     "text": [
      "<class 'pandas.core.frame.DataFrame'>\n",
      "RangeIndex: 236 entries, 0 to 235\n",
      "Data columns (total 20 columns):\n",
      " #   Column                   Non-Null Count  Dtype  \n",
      "---  ------                   --------------  -----  \n",
      " 0   FeatureA                 236 non-null    object \n",
      " 1   FeatureB                 236 non-null    object \n",
      " 2   FeatureC                 188 non-null    float64\n",
      " 3   FeatureD                 236 non-null    int64  \n",
      " 4   FeatureE                 236 non-null    int64  \n",
      " 5   SecretCode               236 non-null    int64  \n",
      " 6   FeatureF                 236 non-null    object \n",
      " 7   FeatureG                 236 non-null    object \n",
      " 8   FeatureH                 236 non-null    object \n",
      " 9   FeatureI                 178 non-null    float64\n",
      " 10  Country_ID               114 non-null    object \n",
      " 11  Comp_ID                  236 non-null    object \n",
      " 12  End Time time            213 non-null    object \n",
      " 13  End Time Year            213 non-null    float64\n",
      " 14  End Time Month           213 non-null    float64\n",
      " 15  End Time Day_of_month    213 non-null    float64\n",
      " 16  Start Time time          236 non-null    object \n",
      " 17  Start Time Year          236 non-null    int64  \n",
      " 18  Start Time Month         236 non-null    int64  \n",
      " 19  Start Time Day_of_month  236 non-null    int64  \n",
      "dtypes: float64(5), int64(6), object(9)\n",
      "memory usage: 37.0+ KB\n"
     ]
    }
   ],
   "source": [
    "df_comp.info()"
   ]
  },
  {
   "cell_type": "code",
   "execution_count": 43,
   "id": "bc6e19e5",
   "metadata": {},
   "outputs": [
    {
     "data": {
      "text/html": [
       "<div>\n",
       "<style scoped>\n",
       "    .dataframe tbody tr th:only-of-type {\n",
       "        vertical-align: middle;\n",
       "    }\n",
       "\n",
       "    .dataframe tbody tr th {\n",
       "        vertical-align: top;\n",
       "    }\n",
       "\n",
       "    .dataframe thead th {\n",
       "        text-align: right;\n",
       "    }\n",
       "</style>\n",
       "<table border=\"1\" class=\"dataframe\">\n",
       "  <thead>\n",
       "    <tr style=\"text-align: right;\">\n",
       "      <th></th>\n",
       "      <th>FeatureA</th>\n",
       "      <th>FeatureB</th>\n",
       "      <th>FeatureC</th>\n",
       "      <th>FeatureD</th>\n",
       "      <th>FeatureE</th>\n",
       "      <th>SecretCode</th>\n",
       "      <th>FeatureF</th>\n",
       "      <th>FeatureG</th>\n",
       "      <th>FeatureH</th>\n",
       "      <th>FeatureI</th>\n",
       "      <th>Country_ID</th>\n",
       "      <th>Comp_ID</th>\n",
       "      <th>End Time time</th>\n",
       "      <th>End Time Year</th>\n",
       "      <th>End Time Month</th>\n",
       "      <th>End Time Day_of_month</th>\n",
       "      <th>Start Time time</th>\n",
       "      <th>Start Time Year</th>\n",
       "      <th>Start Time Month</th>\n",
       "      <th>Start Time Day_of_month</th>\n",
       "    </tr>\n",
       "  </thead>\n",
       "  <tbody>\n",
       "    <tr>\n",
       "      <th>0</th>\n",
       "      <td>[2, 4]</td>\n",
       "      <td>[14]</td>\n",
       "      <td>15.0</td>\n",
       "      <td>0</td>\n",
       "      <td>2</td>\n",
       "      <td>1</td>\n",
       "      <td>[3]</td>\n",
       "      <td>[]</td>\n",
       "      <td>[]</td>\n",
       "      <td>NaN</td>\n",
       "      <td>03GB</td>\n",
       "      <td>ID_AU0T</td>\n",
       "      <td>21:05:00</td>\n",
       "      <td>2.0</td>\n",
       "      <td>6.0</td>\n",
       "      <td>19.0</td>\n",
       "      <td>07:00:00</td>\n",
       "      <td>2</td>\n",
       "      <td>6</td>\n",
       "      <td>19</td>\n",
       "    </tr>\n",
       "    <tr>\n",
       "      <th>1</th>\n",
       "      <td>[1]</td>\n",
       "      <td>[]</td>\n",
       "      <td>3.0</td>\n",
       "      <td>0</td>\n",
       "      <td>3</td>\n",
       "      <td>1</td>\n",
       "      <td>[1]</td>\n",
       "      <td>[]</td>\n",
       "      <td>[1]</td>\n",
       "      <td>3.0</td>\n",
       "      <td>1SUM</td>\n",
       "      <td>ID_O21T</td>\n",
       "      <td>15:30:00</td>\n",
       "      <td>2.0</td>\n",
       "      <td>2.0</td>\n",
       "      <td>15.0</td>\n",
       "      <td>12:00:00</td>\n",
       "      <td>2</td>\n",
       "      <td>2</td>\n",
       "      <td>1</td>\n",
       "    </tr>\n",
       "    <tr>\n",
       "      <th>2</th>\n",
       "      <td>[1]</td>\n",
       "      <td>[9]</td>\n",
       "      <td>2.0</td>\n",
       "      <td>0</td>\n",
       "      <td>2</td>\n",
       "      <td>1</td>\n",
       "      <td>[1, 5]</td>\n",
       "      <td>[5]</td>\n",
       "      <td>[1]</td>\n",
       "      <td>2.0</td>\n",
       "      <td>D73V</td>\n",
       "      <td>ID_W6XE</td>\n",
       "      <td>21:59:00</td>\n",
       "      <td>2.0</td>\n",
       "      <td>5.0</td>\n",
       "      <td>9.0</td>\n",
       "      <td>08:00:00</td>\n",
       "      <td>2</td>\n",
       "      <td>3</td>\n",
       "      <td>28</td>\n",
       "    </tr>\n",
       "    <tr>\n",
       "      <th>3</th>\n",
       "      <td>[1]</td>\n",
       "      <td>[5, 6]</td>\n",
       "      <td>9.0</td>\n",
       "      <td>1</td>\n",
       "      <td>1</td>\n",
       "      <td>0</td>\n",
       "      <td>[7]</td>\n",
       "      <td>[]</td>\n",
       "      <td>[7]</td>\n",
       "      <td>9.0</td>\n",
       "      <td>OTOG</td>\n",
       "      <td>ID_A2FN</td>\n",
       "      <td>00:00:00</td>\n",
       "      <td>3.0</td>\n",
       "      <td>10.0</td>\n",
       "      <td>2.0</td>\n",
       "      <td>00:00:00</td>\n",
       "      <td>4</td>\n",
       "      <td>6</td>\n",
       "      <td>29</td>\n",
       "    </tr>\n",
       "    <tr>\n",
       "      <th>4</th>\n",
       "      <td>[]</td>\n",
       "      <td>[]</td>\n",
       "      <td>1.0</td>\n",
       "      <td>0</td>\n",
       "      <td>2</td>\n",
       "      <td>1</td>\n",
       "      <td>[1]</td>\n",
       "      <td>[4]</td>\n",
       "      <td>[]</td>\n",
       "      <td>NaN</td>\n",
       "      <td>NaN</td>\n",
       "      <td>ID_X0PD</td>\n",
       "      <td>12:00:00</td>\n",
       "      <td>2.0</td>\n",
       "      <td>6.0</td>\n",
       "      <td>22.0</td>\n",
       "      <td>12:00:00</td>\n",
       "      <td>2</td>\n",
       "      <td>6</td>\n",
       "      <td>12</td>\n",
       "    </tr>\n",
       "    <tr>\n",
       "      <th>...</th>\n",
       "      <td>...</td>\n",
       "      <td>...</td>\n",
       "      <td>...</td>\n",
       "      <td>...</td>\n",
       "      <td>...</td>\n",
       "      <td>...</td>\n",
       "      <td>...</td>\n",
       "      <td>...</td>\n",
       "      <td>...</td>\n",
       "      <td>...</td>\n",
       "      <td>...</td>\n",
       "      <td>...</td>\n",
       "      <td>...</td>\n",
       "      <td>...</td>\n",
       "      <td>...</td>\n",
       "      <td>...</td>\n",
       "      <td>...</td>\n",
       "      <td>...</td>\n",
       "      <td>...</td>\n",
       "      <td>...</td>\n",
       "    </tr>\n",
       "    <tr>\n",
       "      <th>231</th>\n",
       "      <td>[1]</td>\n",
       "      <td>[]</td>\n",
       "      <td>20.0</td>\n",
       "      <td>1</td>\n",
       "      <td>2</td>\n",
       "      <td>0</td>\n",
       "      <td>[1, 5]</td>\n",
       "      <td>[5]</td>\n",
       "      <td>[1]</td>\n",
       "      <td>20.0</td>\n",
       "      <td>NaN</td>\n",
       "      <td>ID_PNHR</td>\n",
       "      <td>23:59:00</td>\n",
       "      <td>2.0</td>\n",
       "      <td>4.0</td>\n",
       "      <td>19.0</td>\n",
       "      <td>06:00:00</td>\n",
       "      <td>2</td>\n",
       "      <td>1</td>\n",
       "      <td>25</td>\n",
       "    </tr>\n",
       "    <tr>\n",
       "      <th>232</th>\n",
       "      <td>[1]</td>\n",
       "      <td>[7]</td>\n",
       "      <td>4.0</td>\n",
       "      <td>1</td>\n",
       "      <td>1</td>\n",
       "      <td>0</td>\n",
       "      <td>[1]</td>\n",
       "      <td>[5]</td>\n",
       "      <td>[1]</td>\n",
       "      <td>4.0</td>\n",
       "      <td>NaN</td>\n",
       "      <td>ID_AS79</td>\n",
       "      <td>23:59:00</td>\n",
       "      <td>1.0</td>\n",
       "      <td>4.0</td>\n",
       "      <td>25.0</td>\n",
       "      <td>06:00:00</td>\n",
       "      <td>1</td>\n",
       "      <td>1</td>\n",
       "      <td>24</td>\n",
       "    </tr>\n",
       "    <tr>\n",
       "      <th>233</th>\n",
       "      <td>[1]</td>\n",
       "      <td>[]</td>\n",
       "      <td>NaN</td>\n",
       "      <td>0</td>\n",
       "      <td>2</td>\n",
       "      <td>1</td>\n",
       "      <td>[1]</td>\n",
       "      <td>[3]</td>\n",
       "      <td>[]</td>\n",
       "      <td>NaN</td>\n",
       "      <td>0FT1</td>\n",
       "      <td>ID_M3G0</td>\n",
       "      <td>17:00:00</td>\n",
       "      <td>1.0</td>\n",
       "      <td>10.0</td>\n",
       "      <td>20.0</td>\n",
       "      <td>08:57:00</td>\n",
       "      <td>1</td>\n",
       "      <td>10</td>\n",
       "      <td>19</td>\n",
       "    </tr>\n",
       "    <tr>\n",
       "      <th>234</th>\n",
       "      <td>[1]</td>\n",
       "      <td>[]</td>\n",
       "      <td>2.0</td>\n",
       "      <td>0</td>\n",
       "      <td>2</td>\n",
       "      <td>0</td>\n",
       "      <td>[3]</td>\n",
       "      <td>[3]</td>\n",
       "      <td>[2]</td>\n",
       "      <td>2.0</td>\n",
       "      <td>OTOG</td>\n",
       "      <td>ID_8DGC</td>\n",
       "      <td>23:59:00</td>\n",
       "      <td>1.0</td>\n",
       "      <td>4.0</td>\n",
       "      <td>4.0</td>\n",
       "      <td>11:00:00</td>\n",
       "      <td>1</td>\n",
       "      <td>4</td>\n",
       "      <td>2</td>\n",
       "    </tr>\n",
       "    <tr>\n",
       "      <th>235</th>\n",
       "      <td>[1]</td>\n",
       "      <td>[]</td>\n",
       "      <td>2.0</td>\n",
       "      <td>1</td>\n",
       "      <td>2</td>\n",
       "      <td>0</td>\n",
       "      <td>[2]</td>\n",
       "      <td>[4]</td>\n",
       "      <td>[2]</td>\n",
       "      <td>2.0</td>\n",
       "      <td>NaN</td>\n",
       "      <td>ID_9TS1</td>\n",
       "      <td>23:59:00</td>\n",
       "      <td>1.0</td>\n",
       "      <td>2.0</td>\n",
       "      <td>24.0</td>\n",
       "      <td>06:00:00</td>\n",
       "      <td>1</td>\n",
       "      <td>1</td>\n",
       "      <td>22</td>\n",
       "    </tr>\n",
       "  </tbody>\n",
       "</table>\n",
       "<p>236 rows × 20 columns</p>\n",
       "</div>"
      ],
      "text/plain": [
       "    FeatureA FeatureB  FeatureC  FeatureD  FeatureE  SecretCode FeatureF  \\\n",
       "0     [2, 4]     [14]      15.0         0         2           1      [3]   \n",
       "1        [1]       []       3.0         0         3           1      [1]   \n",
       "2        [1]      [9]       2.0         0         2           1   [1, 5]   \n",
       "3        [1]   [5, 6]       9.0         1         1           0      [7]   \n",
       "4         []       []       1.0         0         2           1      [1]   \n",
       "..       ...      ...       ...       ...       ...         ...      ...   \n",
       "231      [1]       []      20.0         1         2           0   [1, 5]   \n",
       "232      [1]      [7]       4.0         1         1           0      [1]   \n",
       "233      [1]       []       NaN         0         2           1      [1]   \n",
       "234      [1]       []       2.0         0         2           0      [3]   \n",
       "235      [1]       []       2.0         1         2           0      [2]   \n",
       "\n",
       "    FeatureG FeatureH  FeatureI Country_ID  Comp_ID End Time time  \\\n",
       "0         []       []       NaN       03GB  ID_AU0T      21:05:00   \n",
       "1         []      [1]       3.0       1SUM  ID_O21T      15:30:00   \n",
       "2        [5]      [1]       2.0       D73V  ID_W6XE      21:59:00   \n",
       "3         []      [7]       9.0       OTOG  ID_A2FN      00:00:00   \n",
       "4        [4]       []       NaN        NaN  ID_X0PD      12:00:00   \n",
       "..       ...      ...       ...        ...      ...           ...   \n",
       "231      [5]      [1]      20.0        NaN  ID_PNHR      23:59:00   \n",
       "232      [5]      [1]       4.0        NaN  ID_AS79      23:59:00   \n",
       "233      [3]       []       NaN       0FT1  ID_M3G0      17:00:00   \n",
       "234      [3]      [2]       2.0       OTOG  ID_8DGC      23:59:00   \n",
       "235      [4]      [2]       2.0        NaN  ID_9TS1      23:59:00   \n",
       "\n",
       "     End Time Year  End Time Month  End Time Day_of_month Start Time time  \\\n",
       "0              2.0             6.0                   19.0        07:00:00   \n",
       "1              2.0             2.0                   15.0        12:00:00   \n",
       "2              2.0             5.0                    9.0        08:00:00   \n",
       "3              3.0            10.0                    2.0        00:00:00   \n",
       "4              2.0             6.0                   22.0        12:00:00   \n",
       "..             ...             ...                    ...             ...   \n",
       "231            2.0             4.0                   19.0        06:00:00   \n",
       "232            1.0             4.0                   25.0        06:00:00   \n",
       "233            1.0            10.0                   20.0        08:57:00   \n",
       "234            1.0             4.0                    4.0        11:00:00   \n",
       "235            1.0             2.0                   24.0        06:00:00   \n",
       "\n",
       "     Start Time Year  Start Time Month  Start Time Day_of_month  \n",
       "0                  2                 6                       19  \n",
       "1                  2                 2                        1  \n",
       "2                  2                 3                       28  \n",
       "3                  4                 6                       29  \n",
       "4                  2                 6                       12  \n",
       "..               ...               ...                      ...  \n",
       "231                2                 1                       25  \n",
       "232                1                 1                       24  \n",
       "233                1                10                       19  \n",
       "234                1                 4                        2  \n",
       "235                1                 1                       22  \n",
       "\n",
       "[236 rows x 20 columns]"
      ]
     },
     "execution_count": 43,
     "metadata": {},
     "output_type": "execute_result"
    }
   ],
   "source": [
    "df_comp"
   ]
  },
  {
   "cell_type": "code",
   "execution_count": 44,
   "id": "de6978c9",
   "metadata": {},
   "outputs": [
    {
     "data": {
      "text/plain": [
       "236"
      ]
     },
     "execution_count": 44,
     "metadata": {},
     "output_type": "execute_result"
    }
   ],
   "source": [
    "len(pd.unique(df_comp['Comp_ID']))"
   ]
  },
  {
   "cell_type": "code",
   "execution_count": 45,
   "id": "f676d874",
   "metadata": {},
   "outputs": [
    {
     "data": {
      "text/plain": [
       "5"
      ]
     },
     "execution_count": 45,
     "metadata": {},
     "output_type": "execute_result"
    }
   ],
   "source": [
    "len(pd.unique(df_comp['Start Time Year']))"
   ]
  },
  {
   "cell_type": "markdown",
   "id": "cd89891d",
   "metadata": {},
   "source": [
    "# COMPETITION PARTICIPATION"
   ]
  },
  {
   "cell_type": "code",
   "execution_count": 46,
   "id": "901743eb",
   "metadata": {},
   "outputs": [],
   "source": [
    "df_compP = pd.read_csv(\"CompetitionPartipation.csv\")"
   ]
  },
  {
   "cell_type": "code",
   "execution_count": 47,
   "id": "1d6b3db1",
   "metadata": {},
   "outputs": [
    {
     "name": "stdout",
     "output_type": "stream",
     "text": [
      "<class 'pandas.core.frame.DataFrame'>\n",
      "RangeIndex: 5625 entries, 0 to 5624\n",
      "Data columns (total 8 columns):\n",
      " #   Column                       Non-Null Count  Dtype \n",
      "---  ------                       --------------  ----- \n",
      " 0   Competition ID               5625 non-null   object\n",
      " 1   Participant Type             5625 non-null   int64 \n",
      " 2   Successful Submission Count  1124 non-null   object\n",
      " 3   User_ID                      5625 non-null   object\n",
      " 4   Created At time              5625 non-null   object\n",
      " 5   Created At Year              5625 non-null   int64 \n",
      " 6   Created At Month             5625 non-null   int64 \n",
      " 7   Created At Day_of_month      5625 non-null   int64 \n",
      "dtypes: int64(4), object(4)\n",
      "memory usage: 351.7+ KB\n"
     ]
    }
   ],
   "source": [
    "df_compP.info()"
   ]
  },
  {
   "cell_type": "code",
   "execution_count": 48,
   "id": "86de401c",
   "metadata": {},
   "outputs": [
    {
     "data": {
      "text/html": [
       "<div>\n",
       "<style scoped>\n",
       "    .dataframe tbody tr th:only-of-type {\n",
       "        vertical-align: middle;\n",
       "    }\n",
       "\n",
       "    .dataframe tbody tr th {\n",
       "        vertical-align: top;\n",
       "    }\n",
       "\n",
       "    .dataframe thead th {\n",
       "        text-align: right;\n",
       "    }\n",
       "</style>\n",
       "<table border=\"1\" class=\"dataframe\">\n",
       "  <thead>\n",
       "    <tr style=\"text-align: right;\">\n",
       "      <th></th>\n",
       "      <th>Competition ID</th>\n",
       "      <th>Participant Type</th>\n",
       "      <th>Successful Submission Count</th>\n",
       "      <th>User_ID</th>\n",
       "      <th>Created At time</th>\n",
       "      <th>Created At Year</th>\n",
       "      <th>Created At Month</th>\n",
       "      <th>Created At Day_of_month</th>\n",
       "    </tr>\n",
       "  </thead>\n",
       "  <tbody>\n",
       "    <tr>\n",
       "      <th>0</th>\n",
       "      <td>ID_IVH9</td>\n",
       "      <td>1</td>\n",
       "      <td>NaN</td>\n",
       "      <td>ID_XXWYR8KC</td>\n",
       "      <td>19:38:04.689865</td>\n",
       "      <td>1</td>\n",
       "      <td>11</td>\n",
       "      <td>20</td>\n",
       "    </tr>\n",
       "    <tr>\n",
       "      <th>1</th>\n",
       "      <td>ID_540G</td>\n",
       "      <td>1</td>\n",
       "      <td>NaN</td>\n",
       "      <td>ID_XXWYR8KC</td>\n",
       "      <td>19:38:04.670583</td>\n",
       "      <td>1</td>\n",
       "      <td>11</td>\n",
       "      <td>20</td>\n",
       "    </tr>\n",
       "    <tr>\n",
       "      <th>2</th>\n",
       "      <td>ID_BARV</td>\n",
       "      <td>1</td>\n",
       "      <td>NaN</td>\n",
       "      <td>ID_XXWYR8KC</td>\n",
       "      <td>12:06:55.884320</td>\n",
       "      <td>1</td>\n",
       "      <td>12</td>\n",
       "      <td>17</td>\n",
       "    </tr>\n",
       "    <tr>\n",
       "      <th>3</th>\n",
       "      <td>ID_0D02</td>\n",
       "      <td>1</td>\n",
       "      <td>count 10</td>\n",
       "      <td>ID_XXWYR8KC</td>\n",
       "      <td>11:24:04.239058</td>\n",
       "      <td>1</td>\n",
       "      <td>12</td>\n",
       "      <td>6</td>\n",
       "    </tr>\n",
       "    <tr>\n",
       "      <th>4</th>\n",
       "      <td>ID_IV5D</td>\n",
       "      <td>1</td>\n",
       "      <td>NaN</td>\n",
       "      <td>ID_8RNJ6AWC</td>\n",
       "      <td>15:25:34.162971</td>\n",
       "      <td>1</td>\n",
       "      <td>12</td>\n",
       "      <td>8</td>\n",
       "    </tr>\n",
       "    <tr>\n",
       "      <th>...</th>\n",
       "      <td>...</td>\n",
       "      <td>...</td>\n",
       "      <td>...</td>\n",
       "      <td>...</td>\n",
       "      <td>...</td>\n",
       "      <td>...</td>\n",
       "      <td>...</td>\n",
       "      <td>...</td>\n",
       "    </tr>\n",
       "    <tr>\n",
       "      <th>5620</th>\n",
       "      <td>ID_G5IQ</td>\n",
       "      <td>1</td>\n",
       "      <td>NaN</td>\n",
       "      <td>ID_2DGGDVLC</td>\n",
       "      <td>15:33:39.507041</td>\n",
       "      <td>1</td>\n",
       "      <td>4</td>\n",
       "      <td>7</td>\n",
       "    </tr>\n",
       "    <tr>\n",
       "      <th>5621</th>\n",
       "      <td>ID_84NC</td>\n",
       "      <td>1</td>\n",
       "      <td>NaN</td>\n",
       "      <td>ID_2DGGDVLC</td>\n",
       "      <td>15:34:15.045823</td>\n",
       "      <td>1</td>\n",
       "      <td>4</td>\n",
       "      <td>7</td>\n",
       "    </tr>\n",
       "    <tr>\n",
       "      <th>5622</th>\n",
       "      <td>ID_LFJT</td>\n",
       "      <td>1</td>\n",
       "      <td>NaN</td>\n",
       "      <td>ID_2DGGDVLC</td>\n",
       "      <td>15:46:23.330890</td>\n",
       "      <td>1</td>\n",
       "      <td>4</td>\n",
       "      <td>7</td>\n",
       "    </tr>\n",
       "    <tr>\n",
       "      <th>5623</th>\n",
       "      <td>ID_CNBR</td>\n",
       "      <td>1</td>\n",
       "      <td>NaN</td>\n",
       "      <td>ID_JZ6S41Q9</td>\n",
       "      <td>11:23:59.382726</td>\n",
       "      <td>1</td>\n",
       "      <td>4</td>\n",
       "      <td>5</td>\n",
       "    </tr>\n",
       "    <tr>\n",
       "      <th>5624</th>\n",
       "      <td>ID_CNBR</td>\n",
       "      <td>1</td>\n",
       "      <td>NaN</td>\n",
       "      <td>ID_5817BWY4</td>\n",
       "      <td>09:16:38.801381</td>\n",
       "      <td>1</td>\n",
       "      <td>3</td>\n",
       "      <td>3</td>\n",
       "    </tr>\n",
       "  </tbody>\n",
       "</table>\n",
       "<p>5625 rows × 8 columns</p>\n",
       "</div>"
      ],
      "text/plain": [
       "     Competition ID  Participant Type Successful Submission Count  \\\n",
       "0           ID_IVH9                 1                         NaN   \n",
       "1           ID_540G                 1                         NaN   \n",
       "2           ID_BARV                 1                         NaN   \n",
       "3           ID_0D02                 1                    count 10   \n",
       "4           ID_IV5D                 1                         NaN   \n",
       "...             ...               ...                         ...   \n",
       "5620        ID_G5IQ                 1                         NaN   \n",
       "5621        ID_84NC                 1                         NaN   \n",
       "5622        ID_LFJT                 1                         NaN   \n",
       "5623        ID_CNBR                 1                         NaN   \n",
       "5624        ID_CNBR                 1                         NaN   \n",
       "\n",
       "          User_ID  Created At time  Created At Year  Created At Month  \\\n",
       "0     ID_XXWYR8KC  19:38:04.689865                1                11   \n",
       "1     ID_XXWYR8KC  19:38:04.670583                1                11   \n",
       "2     ID_XXWYR8KC  12:06:55.884320                1                12   \n",
       "3     ID_XXWYR8KC  11:24:04.239058                1                12   \n",
       "4     ID_8RNJ6AWC  15:25:34.162971                1                12   \n",
       "...           ...              ...              ...               ...   \n",
       "5620  ID_2DGGDVLC  15:33:39.507041                1                 4   \n",
       "5621  ID_2DGGDVLC  15:34:15.045823                1                 4   \n",
       "5622  ID_2DGGDVLC  15:46:23.330890                1                 4   \n",
       "5623  ID_JZ6S41Q9  11:23:59.382726                1                 4   \n",
       "5624  ID_5817BWY4  09:16:38.801381                1                 3   \n",
       "\n",
       "      Created At Day_of_month  \n",
       "0                          20  \n",
       "1                          20  \n",
       "2                          17  \n",
       "3                           6  \n",
       "4                           8  \n",
       "...                       ...  \n",
       "5620                        7  \n",
       "5621                        7  \n",
       "5622                        7  \n",
       "5623                        5  \n",
       "5624                        3  \n",
       "\n",
       "[5625 rows x 8 columns]"
      ]
     },
     "execution_count": 48,
     "metadata": {},
     "output_type": "execute_result"
    }
   ],
   "source": [
    "df_compP"
   ]
  },
  {
   "cell_type": "code",
   "execution_count": 49,
   "id": "81bf4f33",
   "metadata": {},
   "outputs": [
    {
     "data": {
      "text/plain": [
       "3649"
      ]
     },
     "execution_count": 49,
     "metadata": {},
     "output_type": "execute_result"
    }
   ],
   "source": [
    "len(pd.unique(df_compP['User_ID']))"
   ]
  },
  {
   "cell_type": "code",
   "execution_count": 50,
   "id": "26c84ab7",
   "metadata": {},
   "outputs": [
    {
     "data": {
      "text/plain": [
       "1"
      ]
     },
     "execution_count": 50,
     "metadata": {},
     "output_type": "execute_result"
    }
   ],
   "source": [
    "len(pd.unique(df_compP['Created At Year']))"
   ]
  },
  {
   "cell_type": "code",
   "execution_count": 51,
   "id": "6084626a",
   "metadata": {},
   "outputs": [],
   "source": [
    "df_compP.drop('Created At Year', inplace=True, axis=1)"
   ]
  },
  {
   "cell_type": "code",
   "execution_count": 52,
   "id": "35437760",
   "metadata": {},
   "outputs": [],
   "source": [
    "df_compP.rename(columns={'Competition ID': 'Comp_ID'},  inplace = True)"
   ]
  },
  {
   "cell_type": "code",
   "execution_count": 53,
   "id": "6df35171",
   "metadata": {},
   "outputs": [],
   "source": [
    "df_compP[\"User_ID\"] = df_compP[\"User_ID\"].astype(\"string\")\n",
    "df_compP[\"Created At Month\"] = df_compP[\"Created At Month\"].astype(\"string\")"
   ]
  },
  {
   "cell_type": "code",
   "execution_count": 54,
   "id": "0591ca7e",
   "metadata": {},
   "outputs": [],
   "source": [
    "new = df_compP[\"Created At Month\"].copy()\n",
    "df_compP[\"User_ID\"] = df_compP[\"User_ID\"].str.cat(new, sep =\"_Month_\")"
   ]
  },
  {
   "cell_type": "code",
   "execution_count": 55,
   "id": "4be9aab2",
   "metadata": {},
   "outputs": [],
   "source": [
    "df_compP.drop('Created At Month', inplace=True, axis=1)"
   ]
  },
  {
   "cell_type": "code",
   "execution_count": null,
   "id": "7417f6cd",
   "metadata": {},
   "outputs": [],
   "source": [
    "df_compP.info()"
   ]
  },
  {
   "cell_type": "code",
   "execution_count": null,
   "id": "f3f94ee2",
   "metadata": {},
   "outputs": [],
   "source": [
    "df_compP"
   ]
  },
  {
   "cell_type": "markdown",
   "id": "19b75814",
   "metadata": {},
   "source": [
    "# MERGE 2"
   ]
  },
  {
   "cell_type": "code",
   "execution_count": 56,
   "id": "f46842f9",
   "metadata": {},
   "outputs": [],
   "source": [
    "result2 = pd.merge(df_compP, df_comp, how=\"outer\", on= 'Comp_ID')"
   ]
  },
  {
   "cell_type": "code",
   "execution_count": 57,
   "id": "421d0c7d",
   "metadata": {},
   "outputs": [],
   "source": [
    "result2 = result2[result2['User_ID'].notna()]"
   ]
  },
  {
   "cell_type": "code",
   "execution_count": 58,
   "id": "5b4488e5",
   "metadata": {},
   "outputs": [
    {
     "name": "stdout",
     "output_type": "stream",
     "text": [
      "<class 'pandas.core.frame.DataFrame'>\n",
      "Int64Index: 5625 entries, 0 to 5624\n",
      "Data columns (total 25 columns):\n",
      " #   Column                       Non-Null Count  Dtype  \n",
      "---  ------                       --------------  -----  \n",
      " 0   Comp_ID                      5625 non-null   object \n",
      " 1   Participant Type             5625 non-null   float64\n",
      " 2   Successful Submission Count  1124 non-null   object \n",
      " 3   User_ID                      5625 non-null   string \n",
      " 4   Created At time              5625 non-null   object \n",
      " 5   Created At Day_of_month      5625 non-null   float64\n",
      " 6   FeatureA                     5625 non-null   object \n",
      " 7   FeatureB                     5625 non-null   object \n",
      " 8   FeatureC                     3581 non-null   float64\n",
      " 9   FeatureD                     5625 non-null   int64  \n",
      " 10  FeatureE                     5625 non-null   int64  \n",
      " 11  SecretCode                   5625 non-null   int64  \n",
      " 12  FeatureF                     5625 non-null   object \n",
      " 13  FeatureG                     5625 non-null   object \n",
      " 14  FeatureH                     5625 non-null   object \n",
      " 15  FeatureI                     4766 non-null   float64\n",
      " 16  Country_ID                   2566 non-null   object \n",
      " 17  End Time time                4344 non-null   object \n",
      " 18  End Time Year                4344 non-null   float64\n",
      " 19  End Time Month               4344 non-null   float64\n",
      " 20  End Time Day_of_month        4344 non-null   float64\n",
      " 21  Start Time time              5625 non-null   object \n",
      " 22  Start Time Year              5625 non-null   int64  \n",
      " 23  Start Time Month             5625 non-null   int64  \n",
      " 24  Start Time Day_of_month      5625 non-null   int64  \n",
      "dtypes: float64(7), int64(6), object(11), string(1)\n",
      "memory usage: 1.1+ MB\n"
     ]
    }
   ],
   "source": [
    "result2.info()"
   ]
  },
  {
   "cell_type": "code",
   "execution_count": 59,
   "id": "cdd809f8",
   "metadata": {},
   "outputs": [
    {
     "data": {
      "text/html": [
       "<div>\n",
       "<style scoped>\n",
       "    .dataframe tbody tr th:only-of-type {\n",
       "        vertical-align: middle;\n",
       "    }\n",
       "\n",
       "    .dataframe tbody tr th {\n",
       "        vertical-align: top;\n",
       "    }\n",
       "\n",
       "    .dataframe thead th {\n",
       "        text-align: right;\n",
       "    }\n",
       "</style>\n",
       "<table border=\"1\" class=\"dataframe\">\n",
       "  <thead>\n",
       "    <tr style=\"text-align: right;\">\n",
       "      <th></th>\n",
       "      <th>Comp_ID</th>\n",
       "      <th>Participant Type</th>\n",
       "      <th>Successful Submission Count</th>\n",
       "      <th>User_ID</th>\n",
       "      <th>Created At time</th>\n",
       "      <th>Created At Day_of_month</th>\n",
       "      <th>FeatureA</th>\n",
       "      <th>FeatureB</th>\n",
       "      <th>FeatureC</th>\n",
       "      <th>FeatureD</th>\n",
       "      <th>...</th>\n",
       "      <th>FeatureI</th>\n",
       "      <th>Country_ID</th>\n",
       "      <th>End Time time</th>\n",
       "      <th>End Time Year</th>\n",
       "      <th>End Time Month</th>\n",
       "      <th>End Time Day_of_month</th>\n",
       "      <th>Start Time time</th>\n",
       "      <th>Start Time Year</th>\n",
       "      <th>Start Time Month</th>\n",
       "      <th>Start Time Day_of_month</th>\n",
       "    </tr>\n",
       "  </thead>\n",
       "  <tbody>\n",
       "    <tr>\n",
       "      <th>0</th>\n",
       "      <td>ID_IVH9</td>\n",
       "      <td>1.0</td>\n",
       "      <td>NaN</td>\n",
       "      <td>ID_XXWYR8KC_Month_11</td>\n",
       "      <td>19:38:04.689865</td>\n",
       "      <td>20.0</td>\n",
       "      <td>[1]</td>\n",
       "      <td>[12, 16]</td>\n",
       "      <td>NaN</td>\n",
       "      <td>1</td>\n",
       "      <td>...</td>\n",
       "      <td>NaN</td>\n",
       "      <td>NaN</td>\n",
       "      <td>00:00:00</td>\n",
       "      <td>3.0</td>\n",
       "      <td>9.0</td>\n",
       "      <td>24.0</td>\n",
       "      <td>00:00:00</td>\n",
       "      <td>4</td>\n",
       "      <td>6</td>\n",
       "      <td>25</td>\n",
       "    </tr>\n",
       "    <tr>\n",
       "      <th>1</th>\n",
       "      <td>ID_IVH9</td>\n",
       "      <td>1.0</td>\n",
       "      <td>NaN</td>\n",
       "      <td>ID_9GFJ437M_Month_4</td>\n",
       "      <td>21:15:54.617702</td>\n",
       "      <td>7.0</td>\n",
       "      <td>[1]</td>\n",
       "      <td>[12, 16]</td>\n",
       "      <td>NaN</td>\n",
       "      <td>1</td>\n",
       "      <td>...</td>\n",
       "      <td>NaN</td>\n",
       "      <td>NaN</td>\n",
       "      <td>00:00:00</td>\n",
       "      <td>3.0</td>\n",
       "      <td>9.0</td>\n",
       "      <td>24.0</td>\n",
       "      <td>00:00:00</td>\n",
       "      <td>4</td>\n",
       "      <td>6</td>\n",
       "      <td>25</td>\n",
       "    </tr>\n",
       "    <tr>\n",
       "      <th>2</th>\n",
       "      <td>ID_IVH9</td>\n",
       "      <td>1.0</td>\n",
       "      <td>NaN</td>\n",
       "      <td>ID_RB0UZ5HG_Month_11</td>\n",
       "      <td>16:43:35.871761</td>\n",
       "      <td>30.0</td>\n",
       "      <td>[1]</td>\n",
       "      <td>[12, 16]</td>\n",
       "      <td>NaN</td>\n",
       "      <td>1</td>\n",
       "      <td>...</td>\n",
       "      <td>NaN</td>\n",
       "      <td>NaN</td>\n",
       "      <td>00:00:00</td>\n",
       "      <td>3.0</td>\n",
       "      <td>9.0</td>\n",
       "      <td>24.0</td>\n",
       "      <td>00:00:00</td>\n",
       "      <td>4</td>\n",
       "      <td>6</td>\n",
       "      <td>25</td>\n",
       "    </tr>\n",
       "    <tr>\n",
       "      <th>3</th>\n",
       "      <td>ID_IVH9</td>\n",
       "      <td>1.0</td>\n",
       "      <td>NaN</td>\n",
       "      <td>ID_4WIXUBUI_Month_11</td>\n",
       "      <td>17:55:40.888019</td>\n",
       "      <td>23.0</td>\n",
       "      <td>[1]</td>\n",
       "      <td>[12, 16]</td>\n",
       "      <td>NaN</td>\n",
       "      <td>1</td>\n",
       "      <td>...</td>\n",
       "      <td>NaN</td>\n",
       "      <td>NaN</td>\n",
       "      <td>00:00:00</td>\n",
       "      <td>3.0</td>\n",
       "      <td>9.0</td>\n",
       "      <td>24.0</td>\n",
       "      <td>00:00:00</td>\n",
       "      <td>4</td>\n",
       "      <td>6</td>\n",
       "      <td>25</td>\n",
       "    </tr>\n",
       "    <tr>\n",
       "      <th>4</th>\n",
       "      <td>ID_IVH9</td>\n",
       "      <td>1.0</td>\n",
       "      <td>NaN</td>\n",
       "      <td>ID_385A35BC_Month_11</td>\n",
       "      <td>18:30:49.827315</td>\n",
       "      <td>30.0</td>\n",
       "      <td>[1]</td>\n",
       "      <td>[12, 16]</td>\n",
       "      <td>NaN</td>\n",
       "      <td>1</td>\n",
       "      <td>...</td>\n",
       "      <td>NaN</td>\n",
       "      <td>NaN</td>\n",
       "      <td>00:00:00</td>\n",
       "      <td>3.0</td>\n",
       "      <td>9.0</td>\n",
       "      <td>24.0</td>\n",
       "      <td>00:00:00</td>\n",
       "      <td>4</td>\n",
       "      <td>6</td>\n",
       "      <td>25</td>\n",
       "    </tr>\n",
       "    <tr>\n",
       "      <th>...</th>\n",
       "      <td>...</td>\n",
       "      <td>...</td>\n",
       "      <td>...</td>\n",
       "      <td>...</td>\n",
       "      <td>...</td>\n",
       "      <td>...</td>\n",
       "      <td>...</td>\n",
       "      <td>...</td>\n",
       "      <td>...</td>\n",
       "      <td>...</td>\n",
       "      <td>...</td>\n",
       "      <td>...</td>\n",
       "      <td>...</td>\n",
       "      <td>...</td>\n",
       "      <td>...</td>\n",
       "      <td>...</td>\n",
       "      <td>...</td>\n",
       "      <td>...</td>\n",
       "      <td>...</td>\n",
       "      <td>...</td>\n",
       "      <td>...</td>\n",
       "    </tr>\n",
       "    <tr>\n",
       "      <th>5620</th>\n",
       "      <td>ID_1HUO</td>\n",
       "      <td>1.0</td>\n",
       "      <td>NaN</td>\n",
       "      <td>ID_G3UDNLXT_Month_3</td>\n",
       "      <td>15:59:16.861378</td>\n",
       "      <td>10.0</td>\n",
       "      <td>[2]</td>\n",
       "      <td>[14, 8]</td>\n",
       "      <td>15.0</td>\n",
       "      <td>1</td>\n",
       "      <td>...</td>\n",
       "      <td>15.0</td>\n",
       "      <td>NaN</td>\n",
       "      <td>23:59:00</td>\n",
       "      <td>2.0</td>\n",
       "      <td>3.0</td>\n",
       "      <td>29.0</td>\n",
       "      <td>06:00:00</td>\n",
       "      <td>2</td>\n",
       "      <td>12</td>\n",
       "      <td>28</td>\n",
       "    </tr>\n",
       "    <tr>\n",
       "      <th>5621</th>\n",
       "      <td>ID_ZN92</td>\n",
       "      <td>1.0</td>\n",
       "      <td>NaN</td>\n",
       "      <td>ID_2B8G6G89_Month_11</td>\n",
       "      <td>06:38:13.766016</td>\n",
       "      <td>17.0</td>\n",
       "      <td>[2, 7]</td>\n",
       "      <td>[]</td>\n",
       "      <td>9.0</td>\n",
       "      <td>1</td>\n",
       "      <td>...</td>\n",
       "      <td>9.0</td>\n",
       "      <td>NaN</td>\n",
       "      <td>00:00:00</td>\n",
       "      <td>3.0</td>\n",
       "      <td>11.0</td>\n",
       "      <td>20.0</td>\n",
       "      <td>00:00:00</td>\n",
       "      <td>3</td>\n",
       "      <td>8</td>\n",
       "      <td>16</td>\n",
       "    </tr>\n",
       "    <tr>\n",
       "      <th>5622</th>\n",
       "      <td>ID_EPVA</td>\n",
       "      <td>1.0</td>\n",
       "      <td>NaN</td>\n",
       "      <td>ID_1USABYQK_Month_2</td>\n",
       "      <td>10:25:06.366740</td>\n",
       "      <td>6.0</td>\n",
       "      <td>[1, 6]</td>\n",
       "      <td>[]</td>\n",
       "      <td>NaN</td>\n",
       "      <td>1</td>\n",
       "      <td>...</td>\n",
       "      <td>NaN</td>\n",
       "      <td>NaN</td>\n",
       "      <td>23:59:00</td>\n",
       "      <td>2.0</td>\n",
       "      <td>3.0</td>\n",
       "      <td>15.0</td>\n",
       "      <td>06:00:00</td>\n",
       "      <td>2</td>\n",
       "      <td>11</td>\n",
       "      <td>16</td>\n",
       "    </tr>\n",
       "    <tr>\n",
       "      <th>5623</th>\n",
       "      <td>ID_7079</td>\n",
       "      <td>1.0</td>\n",
       "      <td>NaN</td>\n",
       "      <td>ID_T4SPV3PY_Month_4</td>\n",
       "      <td>04:23:17.682554</td>\n",
       "      <td>11.0</td>\n",
       "      <td>[7, 3, 2]</td>\n",
       "      <td>[15]</td>\n",
       "      <td>10.0</td>\n",
       "      <td>1</td>\n",
       "      <td>...</td>\n",
       "      <td>10.0</td>\n",
       "      <td>03GB</td>\n",
       "      <td>23:59:00</td>\n",
       "      <td>3.0</td>\n",
       "      <td>6.0</td>\n",
       "      <td>29.0</td>\n",
       "      <td>06:00:00</td>\n",
       "      <td>3</td>\n",
       "      <td>4</td>\n",
       "      <td>11</td>\n",
       "    </tr>\n",
       "    <tr>\n",
       "      <th>5624</th>\n",
       "      <td>ID_84NC</td>\n",
       "      <td>1.0</td>\n",
       "      <td>NaN</td>\n",
       "      <td>ID_2DGGDVLC_Month_4</td>\n",
       "      <td>15:34:15.045823</td>\n",
       "      <td>7.0</td>\n",
       "      <td>[5]</td>\n",
       "      <td>[15]</td>\n",
       "      <td>10.0</td>\n",
       "      <td>1</td>\n",
       "      <td>...</td>\n",
       "      <td>10.0</td>\n",
       "      <td>NaN</td>\n",
       "      <td>23:59:00</td>\n",
       "      <td>2.0</td>\n",
       "      <td>2.0</td>\n",
       "      <td>4.0</td>\n",
       "      <td>06:00:00</td>\n",
       "      <td>2</td>\n",
       "      <td>10</td>\n",
       "      <td>26</td>\n",
       "    </tr>\n",
       "  </tbody>\n",
       "</table>\n",
       "<p>5625 rows × 25 columns</p>\n",
       "</div>"
      ],
      "text/plain": [
       "      Comp_ID  Participant Type Successful Submission Count  \\\n",
       "0     ID_IVH9               1.0                         NaN   \n",
       "1     ID_IVH9               1.0                         NaN   \n",
       "2     ID_IVH9               1.0                         NaN   \n",
       "3     ID_IVH9               1.0                         NaN   \n",
       "4     ID_IVH9               1.0                         NaN   \n",
       "...       ...               ...                         ...   \n",
       "5620  ID_1HUO               1.0                         NaN   \n",
       "5621  ID_ZN92               1.0                         NaN   \n",
       "5622  ID_EPVA               1.0                         NaN   \n",
       "5623  ID_7079               1.0                         NaN   \n",
       "5624  ID_84NC               1.0                         NaN   \n",
       "\n",
       "                   User_ID  Created At time  Created At Day_of_month  \\\n",
       "0     ID_XXWYR8KC_Month_11  19:38:04.689865                     20.0   \n",
       "1      ID_9GFJ437M_Month_4  21:15:54.617702                      7.0   \n",
       "2     ID_RB0UZ5HG_Month_11  16:43:35.871761                     30.0   \n",
       "3     ID_4WIXUBUI_Month_11  17:55:40.888019                     23.0   \n",
       "4     ID_385A35BC_Month_11  18:30:49.827315                     30.0   \n",
       "...                    ...              ...                      ...   \n",
       "5620   ID_G3UDNLXT_Month_3  15:59:16.861378                     10.0   \n",
       "5621  ID_2B8G6G89_Month_11  06:38:13.766016                     17.0   \n",
       "5622   ID_1USABYQK_Month_2  10:25:06.366740                      6.0   \n",
       "5623   ID_T4SPV3PY_Month_4  04:23:17.682554                     11.0   \n",
       "5624   ID_2DGGDVLC_Month_4  15:34:15.045823                      7.0   \n",
       "\n",
       "       FeatureA  FeatureB  FeatureC  FeatureD  ...  FeatureI  Country_ID  \\\n",
       "0           [1]  [12, 16]       NaN         1  ...       NaN         NaN   \n",
       "1           [1]  [12, 16]       NaN         1  ...       NaN         NaN   \n",
       "2           [1]  [12, 16]       NaN         1  ...       NaN         NaN   \n",
       "3           [1]  [12, 16]       NaN         1  ...       NaN         NaN   \n",
       "4           [1]  [12, 16]       NaN         1  ...       NaN         NaN   \n",
       "...         ...       ...       ...       ...  ...       ...         ...   \n",
       "5620        [2]   [14, 8]      15.0         1  ...      15.0         NaN   \n",
       "5621     [2, 7]        []       9.0         1  ...       9.0         NaN   \n",
       "5622     [1, 6]        []       NaN         1  ...       NaN         NaN   \n",
       "5623  [7, 3, 2]      [15]      10.0         1  ...      10.0        03GB   \n",
       "5624        [5]      [15]      10.0         1  ...      10.0         NaN   \n",
       "\n",
       "     End Time time End Time Year End Time Month  End Time Day_of_month  \\\n",
       "0         00:00:00           3.0            9.0                   24.0   \n",
       "1         00:00:00           3.0            9.0                   24.0   \n",
       "2         00:00:00           3.0            9.0                   24.0   \n",
       "3         00:00:00           3.0            9.0                   24.0   \n",
       "4         00:00:00           3.0            9.0                   24.0   \n",
       "...            ...           ...            ...                    ...   \n",
       "5620      23:59:00           2.0            3.0                   29.0   \n",
       "5621      00:00:00           3.0           11.0                   20.0   \n",
       "5622      23:59:00           2.0            3.0                   15.0   \n",
       "5623      23:59:00           3.0            6.0                   29.0   \n",
       "5624      23:59:00           2.0            2.0                    4.0   \n",
       "\n",
       "     Start Time time Start Time Year  Start Time Month  \\\n",
       "0           00:00:00               4                 6   \n",
       "1           00:00:00               4                 6   \n",
       "2           00:00:00               4                 6   \n",
       "3           00:00:00               4                 6   \n",
       "4           00:00:00               4                 6   \n",
       "...              ...             ...               ...   \n",
       "5620        06:00:00               2                12   \n",
       "5621        00:00:00               3                 8   \n",
       "5622        06:00:00               2                11   \n",
       "5623        06:00:00               3                 4   \n",
       "5624        06:00:00               2                10   \n",
       "\n",
       "      Start Time Day_of_month  \n",
       "0                          25  \n",
       "1                          25  \n",
       "2                          25  \n",
       "3                          25  \n",
       "4                          25  \n",
       "...                       ...  \n",
       "5620                       28  \n",
       "5621                       16  \n",
       "5622                       16  \n",
       "5623                       11  \n",
       "5624                       26  \n",
       "\n",
       "[5625 rows x 25 columns]"
      ]
     },
     "execution_count": 59,
     "metadata": {},
     "output_type": "execute_result"
    }
   ],
   "source": [
    "result2"
   ]
  },
  {
   "cell_type": "markdown",
   "id": "9bb36659",
   "metadata": {},
   "source": [
    "# USERS"
   ]
  },
  {
   "cell_type": "code",
   "execution_count": 60,
   "id": "c7178f32",
   "metadata": {},
   "outputs": [],
   "source": [
    "df_user = pd.read_csv('Users.csv')"
   ]
  },
  {
   "cell_type": "code",
   "execution_count": 61,
   "id": "3b2e8c30",
   "metadata": {},
   "outputs": [
    {
     "name": "stdout",
     "output_type": "stream",
     "text": [
      "<class 'pandas.core.frame.DataFrame'>\n",
      "RangeIndex: 8936 entries, 0 to 8935\n",
      "Data columns (total 8 columns):\n",
      " #   Column                   Non-Null Count  Dtype \n",
      "---  ------                   --------------  ----- \n",
      " 0   FeatureY                 8936 non-null   int64 \n",
      " 1   FeatureX                 8936 non-null   int64 \n",
      " 2   User_ID                  8936 non-null   object\n",
      " 3   Countries_ID             5322 non-null   object\n",
      " 4   Created At time          8936 non-null   object\n",
      " 5   Created At Year          8936 non-null   int64 \n",
      " 6   Created At Month         8936 non-null   int64 \n",
      " 7   Created At Day_of_month  8936 non-null   int64 \n",
      "dtypes: int64(5), object(3)\n",
      "memory usage: 558.6+ KB\n"
     ]
    }
   ],
   "source": [
    "df_user.info()"
   ]
  },
  {
   "cell_type": "code",
   "execution_count": 62,
   "id": "81843e49",
   "metadata": {},
   "outputs": [
    {
     "data": {
      "text/html": [
       "<div>\n",
       "<style scoped>\n",
       "    .dataframe tbody tr th:only-of-type {\n",
       "        vertical-align: middle;\n",
       "    }\n",
       "\n",
       "    .dataframe tbody tr th {\n",
       "        vertical-align: top;\n",
       "    }\n",
       "\n",
       "    .dataframe thead th {\n",
       "        text-align: right;\n",
       "    }\n",
       "</style>\n",
       "<table border=\"1\" class=\"dataframe\">\n",
       "  <thead>\n",
       "    <tr style=\"text-align: right;\">\n",
       "      <th></th>\n",
       "      <th>FeatureY</th>\n",
       "      <th>FeatureX</th>\n",
       "      <th>User_ID</th>\n",
       "      <th>Countries_ID</th>\n",
       "      <th>Created At time</th>\n",
       "      <th>Created At Year</th>\n",
       "      <th>Created At Month</th>\n",
       "      <th>Created At Day_of_month</th>\n",
       "    </tr>\n",
       "  </thead>\n",
       "  <tbody>\n",
       "    <tr>\n",
       "      <th>0</th>\n",
       "      <td>0</td>\n",
       "      <td>0</td>\n",
       "      <td>ID_JT45778G</td>\n",
       "      <td>X9GR</td>\n",
       "      <td>12:52:28.115008</td>\n",
       "      <td>1</td>\n",
       "      <td>12</td>\n",
       "      <td>14</td>\n",
       "    </tr>\n",
       "    <tr>\n",
       "      <th>1</th>\n",
       "      <td>0</td>\n",
       "      <td>0</td>\n",
       "      <td>ID_JST2E746</td>\n",
       "      <td>NaN</td>\n",
       "      <td>07:47:45.923194</td>\n",
       "      <td>1</td>\n",
       "      <td>4</td>\n",
       "      <td>21</td>\n",
       "    </tr>\n",
       "    <tr>\n",
       "      <th>2</th>\n",
       "      <td>0</td>\n",
       "      <td>0</td>\n",
       "      <td>ID_JBATRARU</td>\n",
       "      <td>NaN</td>\n",
       "      <td>08:36:46.773862</td>\n",
       "      <td>1</td>\n",
       "      <td>4</td>\n",
       "      <td>21</td>\n",
       "    </tr>\n",
       "    <tr>\n",
       "      <th>3</th>\n",
       "      <td>0</td>\n",
       "      <td>0</td>\n",
       "      <td>ID_M0NYS4PB</td>\n",
       "      <td>NaN</td>\n",
       "      <td>11:33:40.628926</td>\n",
       "      <td>1</td>\n",
       "      <td>4</td>\n",
       "      <td>20</td>\n",
       "    </tr>\n",
       "    <tr>\n",
       "      <th>4</th>\n",
       "      <td>0</td>\n",
       "      <td>0</td>\n",
       "      <td>ID_OMAOEER0</td>\n",
       "      <td>NaN</td>\n",
       "      <td>16:28:35.956023</td>\n",
       "      <td>1</td>\n",
       "      <td>2</td>\n",
       "      <td>31</td>\n",
       "    </tr>\n",
       "    <tr>\n",
       "      <th>...</th>\n",
       "      <td>...</td>\n",
       "      <td>...</td>\n",
       "      <td>...</td>\n",
       "      <td>...</td>\n",
       "      <td>...</td>\n",
       "      <td>...</td>\n",
       "      <td>...</td>\n",
       "      <td>...</td>\n",
       "    </tr>\n",
       "    <tr>\n",
       "      <th>8931</th>\n",
       "      <td>0</td>\n",
       "      <td>0</td>\n",
       "      <td>ID_R4PDD7MY</td>\n",
       "      <td>UKC2</td>\n",
       "      <td>03:59:15.620697</td>\n",
       "      <td>1</td>\n",
       "      <td>4</td>\n",
       "      <td>10</td>\n",
       "    </tr>\n",
       "    <tr>\n",
       "      <th>8932</th>\n",
       "      <td>0</td>\n",
       "      <td>0</td>\n",
       "      <td>ID_CF1OPNQ5</td>\n",
       "      <td>ME75</td>\n",
       "      <td>21:25:16.299368</td>\n",
       "      <td>1</td>\n",
       "      <td>12</td>\n",
       "      <td>29</td>\n",
       "    </tr>\n",
       "    <tr>\n",
       "      <th>8933</th>\n",
       "      <td>0</td>\n",
       "      <td>0</td>\n",
       "      <td>ID_7PSNGF84</td>\n",
       "      <td>H801</td>\n",
       "      <td>10:03:43.201075</td>\n",
       "      <td>1</td>\n",
       "      <td>1</td>\n",
       "      <td>18</td>\n",
       "    </tr>\n",
       "    <tr>\n",
       "      <th>8934</th>\n",
       "      <td>1</td>\n",
       "      <td>0</td>\n",
       "      <td>ID_ZUKI8HI5</td>\n",
       "      <td>E3V2</td>\n",
       "      <td>18:00:54.828074</td>\n",
       "      <td>1</td>\n",
       "      <td>2</td>\n",
       "      <td>1</td>\n",
       "    </tr>\n",
       "    <tr>\n",
       "      <th>8935</th>\n",
       "      <td>1</td>\n",
       "      <td>0</td>\n",
       "      <td>ID_IBGWZD19</td>\n",
       "      <td>ZRXX</td>\n",
       "      <td>12:51:27.877194</td>\n",
       "      <td>1</td>\n",
       "      <td>11</td>\n",
       "      <td>7</td>\n",
       "    </tr>\n",
       "  </tbody>\n",
       "</table>\n",
       "<p>8936 rows × 8 columns</p>\n",
       "</div>"
      ],
      "text/plain": [
       "      FeatureY  FeatureX      User_ID Countries_ID  Created At time  \\\n",
       "0            0         0  ID_JT45778G         X9GR  12:52:28.115008   \n",
       "1            0         0  ID_JST2E746          NaN  07:47:45.923194   \n",
       "2            0         0  ID_JBATRARU          NaN  08:36:46.773862   \n",
       "3            0         0  ID_M0NYS4PB          NaN  11:33:40.628926   \n",
       "4            0         0  ID_OMAOEER0          NaN  16:28:35.956023   \n",
       "...        ...       ...          ...          ...              ...   \n",
       "8931         0         0  ID_R4PDD7MY         UKC2  03:59:15.620697   \n",
       "8932         0         0  ID_CF1OPNQ5         ME75  21:25:16.299368   \n",
       "8933         0         0  ID_7PSNGF84         H801  10:03:43.201075   \n",
       "8934         1         0  ID_ZUKI8HI5         E3V2  18:00:54.828074   \n",
       "8935         1         0  ID_IBGWZD19         ZRXX  12:51:27.877194   \n",
       "\n",
       "      Created At Year  Created At Month  Created At Day_of_month  \n",
       "0                   1                12                       14  \n",
       "1                   1                 4                       21  \n",
       "2                   1                 4                       21  \n",
       "3                   1                 4                       20  \n",
       "4                   1                 2                       31  \n",
       "...               ...               ...                      ...  \n",
       "8931                1                 4                       10  \n",
       "8932                1                12                       29  \n",
       "8933                1                 1                       18  \n",
       "8934                1                 2                        1  \n",
       "8935                1                11                        7  \n",
       "\n",
       "[8936 rows x 8 columns]"
      ]
     },
     "execution_count": 62,
     "metadata": {},
     "output_type": "execute_result"
    }
   ],
   "source": [
    "df_user"
   ]
  },
  {
   "cell_type": "code",
   "execution_count": 63,
   "id": "135d278c",
   "metadata": {},
   "outputs": [
    {
     "data": {
      "text/plain": [
       "8936"
      ]
     },
     "execution_count": 63,
     "metadata": {},
     "output_type": "execute_result"
    }
   ],
   "source": [
    "len(pd.unique(df_user['User_ID']))"
   ]
  },
  {
   "cell_type": "code",
   "execution_count": 64,
   "id": "a6536600",
   "metadata": {},
   "outputs": [
    {
     "data": {
      "text/plain": [
       "1"
      ]
     },
     "execution_count": 64,
     "metadata": {},
     "output_type": "execute_result"
    }
   ],
   "source": [
    "len(pd.unique(df_user['Created At Year']))"
   ]
  },
  {
   "cell_type": "code",
   "execution_count": 65,
   "id": "3f8fabc6",
   "metadata": {},
   "outputs": [],
   "source": [
    "df_user.drop('Created At Year', inplace=True, axis=1)"
   ]
  },
  {
   "cell_type": "code",
   "execution_count": 66,
   "id": "9651893b",
   "metadata": {},
   "outputs": [],
   "source": [
    "df_user[\"User_ID\"] = df_user[\"User_ID\"].astype(\"string\")\n",
    "df_user[\"Created At Month\"] = df_user[\"Created At Month\"].astype(\"string\")"
   ]
  },
  {
   "cell_type": "code",
   "execution_count": 67,
   "id": "60f3d1ea",
   "metadata": {},
   "outputs": [],
   "source": [
    "new = df_user[\"Created At Month\"].copy()\n",
    "df_user[\"User_ID\"] = df_user[\"User_ID\"].str.cat(new, sep =\"_Month_\")"
   ]
  },
  {
   "cell_type": "code",
   "execution_count": 68,
   "id": "b5662e4a",
   "metadata": {},
   "outputs": [],
   "source": [
    "df_user.drop('Created At Month', inplace=True, axis=1)"
   ]
  },
  {
   "cell_type": "code",
   "execution_count": 69,
   "id": "97d057bd",
   "metadata": {},
   "outputs": [
    {
     "data": {
      "text/html": [
       "<div>\n",
       "<style scoped>\n",
       "    .dataframe tbody tr th:only-of-type {\n",
       "        vertical-align: middle;\n",
       "    }\n",
       "\n",
       "    .dataframe tbody tr th {\n",
       "        vertical-align: top;\n",
       "    }\n",
       "\n",
       "    .dataframe thead th {\n",
       "        text-align: right;\n",
       "    }\n",
       "</style>\n",
       "<table border=\"1\" class=\"dataframe\">\n",
       "  <thead>\n",
       "    <tr style=\"text-align: right;\">\n",
       "      <th></th>\n",
       "      <th>FeatureY</th>\n",
       "      <th>FeatureX</th>\n",
       "      <th>User_ID</th>\n",
       "      <th>Countries_ID</th>\n",
       "      <th>Created At time</th>\n",
       "      <th>Created At Day_of_month</th>\n",
       "    </tr>\n",
       "  </thead>\n",
       "  <tbody>\n",
       "    <tr>\n",
       "      <th>0</th>\n",
       "      <td>0</td>\n",
       "      <td>0</td>\n",
       "      <td>ID_JT45778G_Month_12</td>\n",
       "      <td>X9GR</td>\n",
       "      <td>12:52:28.115008</td>\n",
       "      <td>14</td>\n",
       "    </tr>\n",
       "    <tr>\n",
       "      <th>1</th>\n",
       "      <td>0</td>\n",
       "      <td>0</td>\n",
       "      <td>ID_JST2E746_Month_4</td>\n",
       "      <td>NaN</td>\n",
       "      <td>07:47:45.923194</td>\n",
       "      <td>21</td>\n",
       "    </tr>\n",
       "    <tr>\n",
       "      <th>2</th>\n",
       "      <td>0</td>\n",
       "      <td>0</td>\n",
       "      <td>ID_JBATRARU_Month_4</td>\n",
       "      <td>NaN</td>\n",
       "      <td>08:36:46.773862</td>\n",
       "      <td>21</td>\n",
       "    </tr>\n",
       "    <tr>\n",
       "      <th>3</th>\n",
       "      <td>0</td>\n",
       "      <td>0</td>\n",
       "      <td>ID_M0NYS4PB_Month_4</td>\n",
       "      <td>NaN</td>\n",
       "      <td>11:33:40.628926</td>\n",
       "      <td>20</td>\n",
       "    </tr>\n",
       "    <tr>\n",
       "      <th>4</th>\n",
       "      <td>0</td>\n",
       "      <td>0</td>\n",
       "      <td>ID_OMAOEER0_Month_2</td>\n",
       "      <td>NaN</td>\n",
       "      <td>16:28:35.956023</td>\n",
       "      <td>31</td>\n",
       "    </tr>\n",
       "    <tr>\n",
       "      <th>...</th>\n",
       "      <td>...</td>\n",
       "      <td>...</td>\n",
       "      <td>...</td>\n",
       "      <td>...</td>\n",
       "      <td>...</td>\n",
       "      <td>...</td>\n",
       "    </tr>\n",
       "    <tr>\n",
       "      <th>8931</th>\n",
       "      <td>0</td>\n",
       "      <td>0</td>\n",
       "      <td>ID_R4PDD7MY_Month_4</td>\n",
       "      <td>UKC2</td>\n",
       "      <td>03:59:15.620697</td>\n",
       "      <td>10</td>\n",
       "    </tr>\n",
       "    <tr>\n",
       "      <th>8932</th>\n",
       "      <td>0</td>\n",
       "      <td>0</td>\n",
       "      <td>ID_CF1OPNQ5_Month_12</td>\n",
       "      <td>ME75</td>\n",
       "      <td>21:25:16.299368</td>\n",
       "      <td>29</td>\n",
       "    </tr>\n",
       "    <tr>\n",
       "      <th>8933</th>\n",
       "      <td>0</td>\n",
       "      <td>0</td>\n",
       "      <td>ID_7PSNGF84_Month_1</td>\n",
       "      <td>H801</td>\n",
       "      <td>10:03:43.201075</td>\n",
       "      <td>18</td>\n",
       "    </tr>\n",
       "    <tr>\n",
       "      <th>8934</th>\n",
       "      <td>1</td>\n",
       "      <td>0</td>\n",
       "      <td>ID_ZUKI8HI5_Month_2</td>\n",
       "      <td>E3V2</td>\n",
       "      <td>18:00:54.828074</td>\n",
       "      <td>1</td>\n",
       "    </tr>\n",
       "    <tr>\n",
       "      <th>8935</th>\n",
       "      <td>1</td>\n",
       "      <td>0</td>\n",
       "      <td>ID_IBGWZD19_Month_11</td>\n",
       "      <td>ZRXX</td>\n",
       "      <td>12:51:27.877194</td>\n",
       "      <td>7</td>\n",
       "    </tr>\n",
       "  </tbody>\n",
       "</table>\n",
       "<p>8936 rows × 6 columns</p>\n",
       "</div>"
      ],
      "text/plain": [
       "      FeatureY  FeatureX               User_ID Countries_ID  Created At time  \\\n",
       "0            0         0  ID_JT45778G_Month_12         X9GR  12:52:28.115008   \n",
       "1            0         0   ID_JST2E746_Month_4          NaN  07:47:45.923194   \n",
       "2            0         0   ID_JBATRARU_Month_4          NaN  08:36:46.773862   \n",
       "3            0         0   ID_M0NYS4PB_Month_4          NaN  11:33:40.628926   \n",
       "4            0         0   ID_OMAOEER0_Month_2          NaN  16:28:35.956023   \n",
       "...        ...       ...                   ...          ...              ...   \n",
       "8931         0         0   ID_R4PDD7MY_Month_4         UKC2  03:59:15.620697   \n",
       "8932         0         0  ID_CF1OPNQ5_Month_12         ME75  21:25:16.299368   \n",
       "8933         0         0   ID_7PSNGF84_Month_1         H801  10:03:43.201075   \n",
       "8934         1         0   ID_ZUKI8HI5_Month_2         E3V2  18:00:54.828074   \n",
       "8935         1         0  ID_IBGWZD19_Month_11         ZRXX  12:51:27.877194   \n",
       "\n",
       "      Created At Day_of_month  \n",
       "0                          14  \n",
       "1                          21  \n",
       "2                          21  \n",
       "3                          20  \n",
       "4                          31  \n",
       "...                       ...  \n",
       "8931                       10  \n",
       "8932                       29  \n",
       "8933                       18  \n",
       "8934                        1  \n",
       "8935                        7  \n",
       "\n",
       "[8936 rows x 6 columns]"
      ]
     },
     "execution_count": 69,
     "metadata": {},
     "output_type": "execute_result"
    }
   ],
   "source": [
    "df_user"
   ]
  },
  {
   "cell_type": "markdown",
   "id": "a171fc36",
   "metadata": {},
   "source": [
    "# MERGE 3"
   ]
  },
  {
   "cell_type": "code",
   "execution_count": 70,
   "id": "f4391e48",
   "metadata": {},
   "outputs": [],
   "source": [
    "result3 = pd.merge(df_userAct, df_user, how=\"outer\", on= 'User_ID')"
   ]
  },
  {
   "cell_type": "code",
   "execution_count": 71,
   "id": "19c94b43",
   "metadata": {},
   "outputs": [
    {
     "data": {
      "text/html": [
       "<div>\n",
       "<style scoped>\n",
       "    .dataframe tbody tr th:only-of-type {\n",
       "        vertical-align: middle;\n",
       "    }\n",
       "\n",
       "    .dataframe tbody tr th {\n",
       "        vertical-align: top;\n",
       "    }\n",
       "\n",
       "    .dataframe thead th {\n",
       "        text-align: right;\n",
       "    }\n",
       "</style>\n",
       "<table border=\"1\" class=\"dataframe\">\n",
       "  <thead>\n",
       "    <tr style=\"text-align: right;\">\n",
       "      <th></th>\n",
       "      <th>User_ID</th>\n",
       "      <th>datetime time</th>\n",
       "      <th>datetime Day_of_month</th>\n",
       "      <th>count_UA</th>\n",
       "      <th>FeatureY</th>\n",
       "      <th>FeatureX</th>\n",
       "      <th>Countries_ID</th>\n",
       "      <th>Created At time</th>\n",
       "      <th>Created At Day_of_month</th>\n",
       "    </tr>\n",
       "  </thead>\n",
       "  <tbody>\n",
       "    <tr>\n",
       "      <th>0</th>\n",
       "      <td>ID_00E5OHGR_Month_3</td>\n",
       "      <td>11:10:23</td>\n",
       "      <td>15.0</td>\n",
       "      <td>25.0</td>\n",
       "      <td>0.0</td>\n",
       "      <td>0.0</td>\n",
       "      <td>ISIQ</td>\n",
       "      <td>08:29:49.568521</td>\n",
       "      <td>11.0</td>\n",
       "    </tr>\n",
       "    <tr>\n",
       "      <th>1</th>\n",
       "      <td>ID_00ETFE7J_Month_3</td>\n",
       "      <td>23:41:28</td>\n",
       "      <td>13.0</td>\n",
       "      <td>16.0</td>\n",
       "      <td>0.0</td>\n",
       "      <td>0.0</td>\n",
       "      <td>NaN</td>\n",
       "      <td>20:53:04.318404</td>\n",
       "      <td>12.0</td>\n",
       "    </tr>\n",
       "    <tr>\n",
       "      <th>2</th>\n",
       "      <td>ID_00HJDB09_Month_2</td>\n",
       "      <td>09:02:09</td>\n",
       "      <td>11.0</td>\n",
       "      <td>21.0</td>\n",
       "      <td>1.0</td>\n",
       "      <td>0.0</td>\n",
       "      <td>81UD</td>\n",
       "      <td>06:51:48.183997</td>\n",
       "      <td>9.0</td>\n",
       "    </tr>\n",
       "    <tr>\n",
       "      <th>3</th>\n",
       "      <td>ID_00V7K62T_Month_1</td>\n",
       "      <td>09:43:13</td>\n",
       "      <td>15.0</td>\n",
       "      <td>1.0</td>\n",
       "      <td>NaN</td>\n",
       "      <td>NaN</td>\n",
       "      <td>NaN</td>\n",
       "      <td>NaN</td>\n",
       "      <td>NaN</td>\n",
       "    </tr>\n",
       "    <tr>\n",
       "      <th>4</th>\n",
       "      <td>ID_00V7K62T_Month_11</td>\n",
       "      <td>07:47:32</td>\n",
       "      <td>16.0</td>\n",
       "      <td>7.0</td>\n",
       "      <td>0.0</td>\n",
       "      <td>0.0</td>\n",
       "      <td>GYYX</td>\n",
       "      <td>05:47:15.776115</td>\n",
       "      <td>16.0</td>\n",
       "    </tr>\n",
       "    <tr>\n",
       "      <th>...</th>\n",
       "      <td>...</td>\n",
       "      <td>...</td>\n",
       "      <td>...</td>\n",
       "      <td>...</td>\n",
       "      <td>...</td>\n",
       "      <td>...</td>\n",
       "      <td>...</td>\n",
       "      <td>...</td>\n",
       "      <td>...</td>\n",
       "    </tr>\n",
       "    <tr>\n",
       "      <th>12137</th>\n",
       "      <td>ID_1SAYTO8W_Month_4</td>\n",
       "      <td>NaN</td>\n",
       "      <td>NaN</td>\n",
       "      <td>NaN</td>\n",
       "      <td>1.0</td>\n",
       "      <td>0.0</td>\n",
       "      <td>253Q</td>\n",
       "      <td>16:25:22.888762</td>\n",
       "      <td>10.0</td>\n",
       "    </tr>\n",
       "    <tr>\n",
       "      <th>12138</th>\n",
       "      <td>ID_JOECIKVP_Month_11</td>\n",
       "      <td>NaN</td>\n",
       "      <td>NaN</td>\n",
       "      <td>NaN</td>\n",
       "      <td>3.0</td>\n",
       "      <td>0.0</td>\n",
       "      <td>QF0N</td>\n",
       "      <td>19:27:30.801989</td>\n",
       "      <td>17.0</td>\n",
       "    </tr>\n",
       "    <tr>\n",
       "      <th>12139</th>\n",
       "      <td>ID_WJHBGHLB_Month_2</td>\n",
       "      <td>NaN</td>\n",
       "      <td>NaN</td>\n",
       "      <td>NaN</td>\n",
       "      <td>0.0</td>\n",
       "      <td>0.0</td>\n",
       "      <td>NP6G</td>\n",
       "      <td>10:55:49.951592</td>\n",
       "      <td>26.0</td>\n",
       "    </tr>\n",
       "    <tr>\n",
       "      <th>12140</th>\n",
       "      <td>ID_UO5SFBJT_Month_2</td>\n",
       "      <td>NaN</td>\n",
       "      <td>NaN</td>\n",
       "      <td>NaN</td>\n",
       "      <td>0.0</td>\n",
       "      <td>0.0</td>\n",
       "      <td>NP6G</td>\n",
       "      <td>09:08:40.036689</td>\n",
       "      <td>25.0</td>\n",
       "    </tr>\n",
       "    <tr>\n",
       "      <th>12141</th>\n",
       "      <td>ID_CF1OPNQ5_Month_12</td>\n",
       "      <td>NaN</td>\n",
       "      <td>NaN</td>\n",
       "      <td>NaN</td>\n",
       "      <td>0.0</td>\n",
       "      <td>0.0</td>\n",
       "      <td>ME75</td>\n",
       "      <td>21:25:16.299368</td>\n",
       "      <td>29.0</td>\n",
       "    </tr>\n",
       "  </tbody>\n",
       "</table>\n",
       "<p>12142 rows × 9 columns</p>\n",
       "</div>"
      ],
      "text/plain": [
       "                    User_ID datetime time  datetime Day_of_month  count_UA  \\\n",
       "0       ID_00E5OHGR_Month_3      11:10:23                   15.0      25.0   \n",
       "1       ID_00ETFE7J_Month_3      23:41:28                   13.0      16.0   \n",
       "2       ID_00HJDB09_Month_2      09:02:09                   11.0      21.0   \n",
       "3       ID_00V7K62T_Month_1      09:43:13                   15.0       1.0   \n",
       "4      ID_00V7K62T_Month_11      07:47:32                   16.0       7.0   \n",
       "...                     ...           ...                    ...       ...   \n",
       "12137   ID_1SAYTO8W_Month_4           NaN                    NaN       NaN   \n",
       "12138  ID_JOECIKVP_Month_11           NaN                    NaN       NaN   \n",
       "12139   ID_WJHBGHLB_Month_2           NaN                    NaN       NaN   \n",
       "12140   ID_UO5SFBJT_Month_2           NaN                    NaN       NaN   \n",
       "12141  ID_CF1OPNQ5_Month_12           NaN                    NaN       NaN   \n",
       "\n",
       "       FeatureY  FeatureX Countries_ID  Created At time  \\\n",
       "0           0.0       0.0         ISIQ  08:29:49.568521   \n",
       "1           0.0       0.0          NaN  20:53:04.318404   \n",
       "2           1.0       0.0         81UD  06:51:48.183997   \n",
       "3           NaN       NaN          NaN              NaN   \n",
       "4           0.0       0.0         GYYX  05:47:15.776115   \n",
       "...         ...       ...          ...              ...   \n",
       "12137       1.0       0.0         253Q  16:25:22.888762   \n",
       "12138       3.0       0.0         QF0N  19:27:30.801989   \n",
       "12139       0.0       0.0         NP6G  10:55:49.951592   \n",
       "12140       0.0       0.0         NP6G  09:08:40.036689   \n",
       "12141       0.0       0.0         ME75  21:25:16.299368   \n",
       "\n",
       "       Created At Day_of_month  \n",
       "0                         11.0  \n",
       "1                         12.0  \n",
       "2                          9.0  \n",
       "3                          NaN  \n",
       "4                         16.0  \n",
       "...                        ...  \n",
       "12137                     10.0  \n",
       "12138                     17.0  \n",
       "12139                     26.0  \n",
       "12140                     25.0  \n",
       "12141                     29.0  \n",
       "\n",
       "[12142 rows x 9 columns]"
      ]
     },
     "execution_count": 71,
     "metadata": {},
     "output_type": "execute_result"
    }
   ],
   "source": [
    "result3"
   ]
  },
  {
   "cell_type": "markdown",
   "id": "40dcd973",
   "metadata": {},
   "source": [
    "# MERGE 4"
   ]
  },
  {
   "cell_type": "code",
   "execution_count": 72,
   "id": "23ad4c6f",
   "metadata": {},
   "outputs": [],
   "source": [
    "result4 = pd.merge(result1, result2, how=\"outer\", on= 'User_ID')"
   ]
  },
  {
   "cell_type": "code",
   "execution_count": 73,
   "id": "2927c78b",
   "metadata": {},
   "outputs": [],
   "source": [
    "result4.rename(columns={'Created At time_x': 'Created_Time_x'},  inplace = True)"
   ]
  },
  {
   "cell_type": "code",
   "execution_count": 74,
   "id": "89669fc6",
   "metadata": {},
   "outputs": [],
   "source": [
    "result4.rename(columns={'Created At Day_of_month_x': 'Created_Day_of_month_x'},  inplace = True)"
   ]
  },
  {
   "cell_type": "code",
   "execution_count": 75,
   "id": "27b744f1",
   "metadata": {},
   "outputs": [],
   "source": [
    "result4.rename(columns={'Created At time_y': 'Created_Time_y'},  inplace = True)"
   ]
  },
  {
   "cell_type": "code",
   "execution_count": 76,
   "id": "be81c450",
   "metadata": {},
   "outputs": [],
   "source": [
    "result4.rename(columns={'Created At Day_of_month_y': 'Created_Day_of_month_y'},  inplace = True)"
   ]
  },
  {
   "cell_type": "code",
   "execution_count": 77,
   "id": "1a03d171",
   "metadata": {},
   "outputs": [
    {
     "name": "stdout",
     "output_type": "stream",
     "text": [
      "<class 'pandas.core.frame.DataFrame'>\n",
      "Int64Index: 9698 entries, 0 to 9697\n",
      "Data columns (total 33 columns):\n",
      " #   Column                       Non-Null Count  Dtype  \n",
      "---  ------                       --------------  -----  \n",
      " 0   Competition ID               1808 non-null   object \n",
      " 1   Personal                     1808 non-null   float64\n",
      " 2   Theme                        269 non-null    float64\n",
      " 3   Disc_ID                      5560 non-null   object \n",
      " 4   User_ID                      9698 non-null   string \n",
      " 5   Created_Time_x               1808 non-null   object \n",
      " 6   Created_Day_of_month_x       1808 non-null   float64\n",
      " 7   Created_Time_y               4644 non-null   object \n",
      " 8   Created_Day_of_month_y       4644 non-null   float64\n",
      " 9   Comp_ID                      8715 non-null   object \n",
      " 10  Participant Type             8715 non-null   float64\n",
      " 11  Successful Submission Count  2355 non-null   object \n",
      " 12  Created At time              8715 non-null   object \n",
      " 13  Created At Day_of_month      8715 non-null   float64\n",
      " 14  FeatureA                     8715 non-null   object \n",
      " 15  FeatureB                     8715 non-null   object \n",
      " 16  FeatureC                     5274 non-null   float64\n",
      " 17  FeatureD                     8715 non-null   float64\n",
      " 18  FeatureE                     8715 non-null   float64\n",
      " 19  SecretCode                   8715 non-null   float64\n",
      " 20  FeatureF                     8715 non-null   object \n",
      " 21  FeatureG                     8715 non-null   object \n",
      " 22  FeatureH                     8715 non-null   object \n",
      " 23  FeatureI                     7446 non-null   float64\n",
      " 24  Country_ID                   4112 non-null   object \n",
      " 25  End Time time                6929 non-null   object \n",
      " 26  End Time Year                6929 non-null   float64\n",
      " 27  End Time Month               6929 non-null   float64\n",
      " 28  End Time Day_of_month        6929 non-null   float64\n",
      " 29  Start Time time              8715 non-null   object \n",
      " 30  Start Time Year              8715 non-null   float64\n",
      " 31  Start Time Month             8715 non-null   float64\n",
      " 32  Start Time Day_of_month      8715 non-null   float64\n",
      "dtypes: float64(17), object(15), string(1)\n",
      "memory usage: 2.5+ MB\n"
     ]
    }
   ],
   "source": [
    "result4.info()"
   ]
  },
  {
   "cell_type": "code",
   "execution_count": 78,
   "id": "4935f6c1",
   "metadata": {},
   "outputs": [
    {
     "data": {
      "text/html": [
       "<div>\n",
       "<style scoped>\n",
       "    .dataframe tbody tr th:only-of-type {\n",
       "        vertical-align: middle;\n",
       "    }\n",
       "\n",
       "    .dataframe tbody tr th {\n",
       "        vertical-align: top;\n",
       "    }\n",
       "\n",
       "    .dataframe thead th {\n",
       "        text-align: right;\n",
       "    }\n",
       "</style>\n",
       "<table border=\"1\" class=\"dataframe\">\n",
       "  <thead>\n",
       "    <tr style=\"text-align: right;\">\n",
       "      <th></th>\n",
       "      <th>Competition ID</th>\n",
       "      <th>Personal</th>\n",
       "      <th>Theme</th>\n",
       "      <th>Disc_ID</th>\n",
       "      <th>User_ID</th>\n",
       "      <th>Created_Time_x</th>\n",
       "      <th>Created_Day_of_month_x</th>\n",
       "      <th>Created_Time_y</th>\n",
       "      <th>Created_Day_of_month_y</th>\n",
       "      <th>Comp_ID</th>\n",
       "      <th>...</th>\n",
       "      <th>FeatureI</th>\n",
       "      <th>Country_ID</th>\n",
       "      <th>End Time time</th>\n",
       "      <th>End Time Year</th>\n",
       "      <th>End Time Month</th>\n",
       "      <th>End Time Day_of_month</th>\n",
       "      <th>Start Time time</th>\n",
       "      <th>Start Time Year</th>\n",
       "      <th>Start Time Month</th>\n",
       "      <th>Start Time Day_of_month</th>\n",
       "    </tr>\n",
       "  </thead>\n",
       "  <tbody>\n",
       "    <tr>\n",
       "      <th>0</th>\n",
       "      <td>GeneralDiscussion</td>\n",
       "      <td>1.0</td>\n",
       "      <td>NaN</td>\n",
       "      <td>ID_0BK7TH</td>\n",
       "      <td>ID_B66PZQQP_Month_12</td>\n",
       "      <td>19:48:26.862175</td>\n",
       "      <td>27.0</td>\n",
       "      <td>NaN</td>\n",
       "      <td>NaN</td>\n",
       "      <td>ID_KHED</td>\n",
       "      <td>...</td>\n",
       "      <td>31.0</td>\n",
       "      <td>ROVH</td>\n",
       "      <td>22:59:00</td>\n",
       "      <td>1.0</td>\n",
       "      <td>2.0</td>\n",
       "      <td>3.0</td>\n",
       "      <td>22:59:00</td>\n",
       "      <td>1.0</td>\n",
       "      <td>12.0</td>\n",
       "      <td>28.0</td>\n",
       "    </tr>\n",
       "    <tr>\n",
       "      <th>1</th>\n",
       "      <td>GeneralDiscussion</td>\n",
       "      <td>1.0</td>\n",
       "      <td>NaN</td>\n",
       "      <td>ID_ZFJ9J7</td>\n",
       "      <td>ID_5Y4QLJNC_Month_12</td>\n",
       "      <td>09:37:52.039526</td>\n",
       "      <td>20.0</td>\n",
       "      <td>NaN</td>\n",
       "      <td>NaN</td>\n",
       "      <td>NaN</td>\n",
       "      <td>...</td>\n",
       "      <td>NaN</td>\n",
       "      <td>NaN</td>\n",
       "      <td>NaN</td>\n",
       "      <td>NaN</td>\n",
       "      <td>NaN</td>\n",
       "      <td>NaN</td>\n",
       "      <td>NaN</td>\n",
       "      <td>NaN</td>\n",
       "      <td>NaN</td>\n",
       "      <td>NaN</td>\n",
       "    </tr>\n",
       "    <tr>\n",
       "      <th>2</th>\n",
       "      <td>GeneralDiscussion</td>\n",
       "      <td>1.0</td>\n",
       "      <td>NaN</td>\n",
       "      <td>ID_ME45XX</td>\n",
       "      <td>ID_CQ02RGX8_Month_2</td>\n",
       "      <td>17:50:33.894800</td>\n",
       "      <td>9.0</td>\n",
       "      <td>NaN</td>\n",
       "      <td>NaN</td>\n",
       "      <td>ID_PDKH</td>\n",
       "      <td>...</td>\n",
       "      <td>29.0</td>\n",
       "      <td>NaN</td>\n",
       "      <td>23:59:00</td>\n",
       "      <td>1.0</td>\n",
       "      <td>3.0</td>\n",
       "      <td>28.0</td>\n",
       "      <td>06:00:00</td>\n",
       "      <td>1.0</td>\n",
       "      <td>12.0</td>\n",
       "      <td>24.0</td>\n",
       "    </tr>\n",
       "    <tr>\n",
       "      <th>3</th>\n",
       "      <td>GeneralDiscussion</td>\n",
       "      <td>1.0</td>\n",
       "      <td>NaN</td>\n",
       "      <td>ID_ME45XX</td>\n",
       "      <td>ID_CQ02RGX8_Month_2</td>\n",
       "      <td>17:50:33.894800</td>\n",
       "      <td>9.0</td>\n",
       "      <td>NaN</td>\n",
       "      <td>NaN</td>\n",
       "      <td>ID_G05Z</td>\n",
       "      <td>...</td>\n",
       "      <td>28.0</td>\n",
       "      <td>FLPN</td>\n",
       "      <td>23:59:00</td>\n",
       "      <td>1.0</td>\n",
       "      <td>3.0</td>\n",
       "      <td>7.0</td>\n",
       "      <td>08:00:00</td>\n",
       "      <td>1.0</td>\n",
       "      <td>2.0</td>\n",
       "      <td>7.0</td>\n",
       "    </tr>\n",
       "    <tr>\n",
       "      <th>4</th>\n",
       "      <td>GeneralDiscussion</td>\n",
       "      <td>1.0</td>\n",
       "      <td>NaN</td>\n",
       "      <td>ID_ME45XX</td>\n",
       "      <td>ID_CQ02RGX8_Month_2</td>\n",
       "      <td>17:50:33.894800</td>\n",
       "      <td>9.0</td>\n",
       "      <td>NaN</td>\n",
       "      <td>NaN</td>\n",
       "      <td>ID_WOVD</td>\n",
       "      <td>...</td>\n",
       "      <td>28.0</td>\n",
       "      <td>FLPN</td>\n",
       "      <td>12:00:00</td>\n",
       "      <td>1.0</td>\n",
       "      <td>2.0</td>\n",
       "      <td>10.0</td>\n",
       "      <td>09:10:00</td>\n",
       "      <td>1.0</td>\n",
       "      <td>2.0</td>\n",
       "      <td>9.0</td>\n",
       "    </tr>\n",
       "    <tr>\n",
       "      <th>...</th>\n",
       "      <td>...</td>\n",
       "      <td>...</td>\n",
       "      <td>...</td>\n",
       "      <td>...</td>\n",
       "      <td>...</td>\n",
       "      <td>...</td>\n",
       "      <td>...</td>\n",
       "      <td>...</td>\n",
       "      <td>...</td>\n",
       "      <td>...</td>\n",
       "      <td>...</td>\n",
       "      <td>...</td>\n",
       "      <td>...</td>\n",
       "      <td>...</td>\n",
       "      <td>...</td>\n",
       "      <td>...</td>\n",
       "      <td>...</td>\n",
       "      <td>...</td>\n",
       "      <td>...</td>\n",
       "      <td>...</td>\n",
       "      <td>...</td>\n",
       "    </tr>\n",
       "    <tr>\n",
       "      <th>9693</th>\n",
       "      <td>NaN</td>\n",
       "      <td>NaN</td>\n",
       "      <td>NaN</td>\n",
       "      <td>NaN</td>\n",
       "      <td>ID_Y38HDQ4L_Month_1</td>\n",
       "      <td>NaN</td>\n",
       "      <td>NaN</td>\n",
       "      <td>NaN</td>\n",
       "      <td>NaN</td>\n",
       "      <td>ID_A1ZA</td>\n",
       "      <td>...</td>\n",
       "      <td>NaN</td>\n",
       "      <td>NaN</td>\n",
       "      <td>00:00:00</td>\n",
       "      <td>5.0</td>\n",
       "      <td>6.0</td>\n",
       "      <td>13.0</td>\n",
       "      <td>00:00:00</td>\n",
       "      <td>5.0</td>\n",
       "      <td>4.0</td>\n",
       "      <td>5.0</td>\n",
       "    </tr>\n",
       "    <tr>\n",
       "      <th>9694</th>\n",
       "      <td>NaN</td>\n",
       "      <td>NaN</td>\n",
       "      <td>NaN</td>\n",
       "      <td>NaN</td>\n",
       "      <td>ID_SEOWRNQ5_Month_1</td>\n",
       "      <td>NaN</td>\n",
       "      <td>NaN</td>\n",
       "      <td>NaN</td>\n",
       "      <td>NaN</td>\n",
       "      <td>ID_1HUO</td>\n",
       "      <td>...</td>\n",
       "      <td>15.0</td>\n",
       "      <td>NaN</td>\n",
       "      <td>23:59:00</td>\n",
       "      <td>2.0</td>\n",
       "      <td>3.0</td>\n",
       "      <td>29.0</td>\n",
       "      <td>06:00:00</td>\n",
       "      <td>2.0</td>\n",
       "      <td>12.0</td>\n",
       "      <td>28.0</td>\n",
       "    </tr>\n",
       "    <tr>\n",
       "      <th>9695</th>\n",
       "      <td>NaN</td>\n",
       "      <td>NaN</td>\n",
       "      <td>NaN</td>\n",
       "      <td>NaN</td>\n",
       "      <td>ID_2B8G6G89_Month_11</td>\n",
       "      <td>NaN</td>\n",
       "      <td>NaN</td>\n",
       "      <td>NaN</td>\n",
       "      <td>NaN</td>\n",
       "      <td>ID_ZN92</td>\n",
       "      <td>...</td>\n",
       "      <td>9.0</td>\n",
       "      <td>NaN</td>\n",
       "      <td>00:00:00</td>\n",
       "      <td>3.0</td>\n",
       "      <td>11.0</td>\n",
       "      <td>20.0</td>\n",
       "      <td>00:00:00</td>\n",
       "      <td>3.0</td>\n",
       "      <td>8.0</td>\n",
       "      <td>16.0</td>\n",
       "    </tr>\n",
       "    <tr>\n",
       "      <th>9696</th>\n",
       "      <td>NaN</td>\n",
       "      <td>NaN</td>\n",
       "      <td>NaN</td>\n",
       "      <td>NaN</td>\n",
       "      <td>ID_1USABYQK_Month_2</td>\n",
       "      <td>NaN</td>\n",
       "      <td>NaN</td>\n",
       "      <td>NaN</td>\n",
       "      <td>NaN</td>\n",
       "      <td>ID_EPVA</td>\n",
       "      <td>...</td>\n",
       "      <td>NaN</td>\n",
       "      <td>NaN</td>\n",
       "      <td>23:59:00</td>\n",
       "      <td>2.0</td>\n",
       "      <td>3.0</td>\n",
       "      <td>15.0</td>\n",
       "      <td>06:00:00</td>\n",
       "      <td>2.0</td>\n",
       "      <td>11.0</td>\n",
       "      <td>16.0</td>\n",
       "    </tr>\n",
       "    <tr>\n",
       "      <th>9697</th>\n",
       "      <td>NaN</td>\n",
       "      <td>NaN</td>\n",
       "      <td>NaN</td>\n",
       "      <td>NaN</td>\n",
       "      <td>ID_T4SPV3PY_Month_4</td>\n",
       "      <td>NaN</td>\n",
       "      <td>NaN</td>\n",
       "      <td>NaN</td>\n",
       "      <td>NaN</td>\n",
       "      <td>ID_7079</td>\n",
       "      <td>...</td>\n",
       "      <td>10.0</td>\n",
       "      <td>03GB</td>\n",
       "      <td>23:59:00</td>\n",
       "      <td>3.0</td>\n",
       "      <td>6.0</td>\n",
       "      <td>29.0</td>\n",
       "      <td>06:00:00</td>\n",
       "      <td>3.0</td>\n",
       "      <td>4.0</td>\n",
       "      <td>11.0</td>\n",
       "    </tr>\n",
       "  </tbody>\n",
       "</table>\n",
       "<p>9698 rows × 33 columns</p>\n",
       "</div>"
      ],
      "text/plain": [
       "         Competition ID  Personal  Theme    Disc_ID               User_ID  \\\n",
       "0     GeneralDiscussion       1.0    NaN  ID_0BK7TH  ID_B66PZQQP_Month_12   \n",
       "1     GeneralDiscussion       1.0    NaN  ID_ZFJ9J7  ID_5Y4QLJNC_Month_12   \n",
       "2     GeneralDiscussion       1.0    NaN  ID_ME45XX   ID_CQ02RGX8_Month_2   \n",
       "3     GeneralDiscussion       1.0    NaN  ID_ME45XX   ID_CQ02RGX8_Month_2   \n",
       "4     GeneralDiscussion       1.0    NaN  ID_ME45XX   ID_CQ02RGX8_Month_2   \n",
       "...                 ...       ...    ...        ...                   ...   \n",
       "9693                NaN       NaN    NaN        NaN   ID_Y38HDQ4L_Month_1   \n",
       "9694                NaN       NaN    NaN        NaN   ID_SEOWRNQ5_Month_1   \n",
       "9695                NaN       NaN    NaN        NaN  ID_2B8G6G89_Month_11   \n",
       "9696                NaN       NaN    NaN        NaN   ID_1USABYQK_Month_2   \n",
       "9697                NaN       NaN    NaN        NaN   ID_T4SPV3PY_Month_4   \n",
       "\n",
       "       Created_Time_x  Created_Day_of_month_x Created_Time_y  \\\n",
       "0     19:48:26.862175                    27.0            NaN   \n",
       "1     09:37:52.039526                    20.0            NaN   \n",
       "2     17:50:33.894800                     9.0            NaN   \n",
       "3     17:50:33.894800                     9.0            NaN   \n",
       "4     17:50:33.894800                     9.0            NaN   \n",
       "...               ...                     ...            ...   \n",
       "9693              NaN                     NaN            NaN   \n",
       "9694              NaN                     NaN            NaN   \n",
       "9695              NaN                     NaN            NaN   \n",
       "9696              NaN                     NaN            NaN   \n",
       "9697              NaN                     NaN            NaN   \n",
       "\n",
       "      Created_Day_of_month_y  Comp_ID  ...  FeatureI Country_ID End Time time  \\\n",
       "0                        NaN  ID_KHED  ...      31.0       ROVH      22:59:00   \n",
       "1                        NaN      NaN  ...       NaN        NaN           NaN   \n",
       "2                        NaN  ID_PDKH  ...      29.0        NaN      23:59:00   \n",
       "3                        NaN  ID_G05Z  ...      28.0       FLPN      23:59:00   \n",
       "4                        NaN  ID_WOVD  ...      28.0       FLPN      12:00:00   \n",
       "...                      ...      ...  ...       ...        ...           ...   \n",
       "9693                     NaN  ID_A1ZA  ...       NaN        NaN      00:00:00   \n",
       "9694                     NaN  ID_1HUO  ...      15.0        NaN      23:59:00   \n",
       "9695                     NaN  ID_ZN92  ...       9.0        NaN      00:00:00   \n",
       "9696                     NaN  ID_EPVA  ...       NaN        NaN      23:59:00   \n",
       "9697                     NaN  ID_7079  ...      10.0       03GB      23:59:00   \n",
       "\n",
       "      End Time Year End Time Month End Time Day_of_month  Start Time time  \\\n",
       "0               1.0            2.0                   3.0         22:59:00   \n",
       "1               NaN            NaN                   NaN              NaN   \n",
       "2               1.0            3.0                  28.0         06:00:00   \n",
       "3               1.0            3.0                   7.0         08:00:00   \n",
       "4               1.0            2.0                  10.0         09:10:00   \n",
       "...             ...            ...                   ...              ...   \n",
       "9693            5.0            6.0                  13.0         00:00:00   \n",
       "9694            2.0            3.0                  29.0         06:00:00   \n",
       "9695            3.0           11.0                  20.0         00:00:00   \n",
       "9696            2.0            3.0                  15.0         06:00:00   \n",
       "9697            3.0            6.0                  29.0         06:00:00   \n",
       "\n",
       "      Start Time Year  Start Time Month  Start Time Day_of_month  \n",
       "0                 1.0              12.0                     28.0  \n",
       "1                 NaN               NaN                      NaN  \n",
       "2                 1.0              12.0                     24.0  \n",
       "3                 1.0               2.0                      7.0  \n",
       "4                 1.0               2.0                      9.0  \n",
       "...               ...               ...                      ...  \n",
       "9693              5.0               4.0                      5.0  \n",
       "9694              2.0              12.0                     28.0  \n",
       "9695              3.0               8.0                     16.0  \n",
       "9696              2.0              11.0                     16.0  \n",
       "9697              3.0               4.0                     11.0  \n",
       "\n",
       "[9698 rows x 33 columns]"
      ]
     },
     "execution_count": 78,
     "metadata": {},
     "output_type": "execute_result"
    }
   ],
   "source": [
    "result4"
   ]
  },
  {
   "cell_type": "markdown",
   "id": "9fce6837",
   "metadata": {},
   "source": [
    "# MERGE 5"
   ]
  },
  {
   "cell_type": "code",
   "execution_count": 79,
   "id": "96c1ecbc",
   "metadata": {},
   "outputs": [],
   "source": [
    "df_final = pd.merge(result4, result3, how=\"outer\", on= 'User_ID')"
   ]
  },
  {
   "cell_type": "code",
   "execution_count": 80,
   "id": "00f20228",
   "metadata": {},
   "outputs": [],
   "source": [
    "df_final.drop('Competition ID', inplace=True, axis=1)"
   ]
  },
  {
   "cell_type": "code",
   "execution_count": 81,
   "id": "9c523d52",
   "metadata": {},
   "outputs": [],
   "source": [
    "df_final.drop('Disc_ID', inplace=True, axis=1)"
   ]
  },
  {
   "cell_type": "code",
   "execution_count": 82,
   "id": "73eeae88",
   "metadata": {},
   "outputs": [],
   "source": [
    "df_final.drop('Comp_ID', inplace=True, axis=1)"
   ]
  },
  {
   "cell_type": "code",
   "execution_count": 83,
   "id": "701af5b7",
   "metadata": {},
   "outputs": [],
   "source": [
    "df_final.drop('Countries_ID', inplace=True, axis=1)"
   ]
  },
  {
   "cell_type": "code",
   "execution_count": 84,
   "id": "78c3c0db",
   "metadata": {},
   "outputs": [],
   "source": [
    "df_final.drop('Country_ID', inplace=True, axis=1)"
   ]
  },
  {
   "cell_type": "code",
   "execution_count": 85,
   "id": "a9fba33d",
   "metadata": {},
   "outputs": [],
   "source": [
    "first_column = df_final.pop('User_ID')"
   ]
  },
  {
   "cell_type": "code",
   "execution_count": 86,
   "id": "5bbeaa82",
   "metadata": {},
   "outputs": [],
   "source": [
    "df_final.insert(0, 'User_ID', first_column)"
   ]
  },
  {
   "cell_type": "code",
   "execution_count": 87,
   "id": "06cbe88c",
   "metadata": {},
   "outputs": [
    {
     "name": "stdout",
     "output_type": "stream",
     "text": [
      "<class 'pandas.core.frame.DataFrame'>\n",
      "Int64Index: 17544 entries, 0 to 17543\n",
      "Data columns (total 36 columns):\n",
      " #   Column                       Non-Null Count  Dtype  \n",
      "---  ------                       --------------  -----  \n",
      " 0   User_ID                      17544 non-null  object \n",
      " 1   Personal                     1808 non-null   float64\n",
      " 2   Theme                        269 non-null    float64\n",
      " 3   Created_Time_x               1808 non-null   object \n",
      " 4   Created_Day_of_month_x       1808 non-null   float64\n",
      " 5   Created_Time_y               4644 non-null   object \n",
      " 6   Created_Day_of_month_y       4644 non-null   float64\n",
      " 7   Participant Type             8715 non-null   float64\n",
      " 8   Successful Submission Count  2355 non-null   object \n",
      " 9   Created At time_x            8715 non-null   object \n",
      " 10  Created At Day_of_month_x    8715 non-null   float64\n",
      " 11  FeatureA                     8715 non-null   object \n",
      " 12  FeatureB                     8715 non-null   object \n",
      " 13  FeatureC                     5274 non-null   float64\n",
      " 14  FeatureD                     8715 non-null   float64\n",
      " 15  FeatureE                     8715 non-null   float64\n",
      " 16  SecretCode                   8715 non-null   float64\n",
      " 17  FeatureF                     8715 non-null   object \n",
      " 18  FeatureG                     8715 non-null   object \n",
      " 19  FeatureH                     8715 non-null   object \n",
      " 20  FeatureI                     7446 non-null   float64\n",
      " 21  End Time time                6929 non-null   object \n",
      " 22  End Time Year                6929 non-null   float64\n",
      " 23  End Time Month               6929 non-null   float64\n",
      " 24  End Time Day_of_month        6929 non-null   float64\n",
      " 25  Start Time time              8715 non-null   object \n",
      " 26  Start Time Year              8715 non-null   float64\n",
      " 27  Start Time Month             8715 non-null   float64\n",
      " 28  Start Time Day_of_month      8715 non-null   float64\n",
      " 29  datetime time                15292 non-null  object \n",
      " 30  datetime Day_of_month        15292 non-null  float64\n",
      " 31  count_UA                     15292 non-null  float64\n",
      " 32  FeatureY                     11786 non-null  float64\n",
      " 33  FeatureX                     11786 non-null  float64\n",
      " 34  Created At time_y            11786 non-null  object \n",
      " 35  Created At Day_of_month_y    11786 non-null  float64\n",
      "dtypes: float64(22), object(14)\n",
      "memory usage: 5.0+ MB\n"
     ]
    }
   ],
   "source": [
    "df_final.info()"
   ]
  },
  {
   "cell_type": "code",
   "execution_count": 88,
   "id": "217f2886",
   "metadata": {},
   "outputs": [
    {
     "data": {
      "text/html": [
       "<div>\n",
       "<style scoped>\n",
       "    .dataframe tbody tr th:only-of-type {\n",
       "        vertical-align: middle;\n",
       "    }\n",
       "\n",
       "    .dataframe tbody tr th {\n",
       "        vertical-align: top;\n",
       "    }\n",
       "\n",
       "    .dataframe thead th {\n",
       "        text-align: right;\n",
       "    }\n",
       "</style>\n",
       "<table border=\"1\" class=\"dataframe\">\n",
       "  <thead>\n",
       "    <tr style=\"text-align: right;\">\n",
       "      <th></th>\n",
       "      <th>User_ID</th>\n",
       "      <th>Personal</th>\n",
       "      <th>Theme</th>\n",
       "      <th>Created_Time_x</th>\n",
       "      <th>Created_Day_of_month_x</th>\n",
       "      <th>Created_Time_y</th>\n",
       "      <th>Created_Day_of_month_y</th>\n",
       "      <th>Participant Type</th>\n",
       "      <th>Successful Submission Count</th>\n",
       "      <th>Created At time_x</th>\n",
       "      <th>...</th>\n",
       "      <th>Start Time Year</th>\n",
       "      <th>Start Time Month</th>\n",
       "      <th>Start Time Day_of_month</th>\n",
       "      <th>datetime time</th>\n",
       "      <th>datetime Day_of_month</th>\n",
       "      <th>count_UA</th>\n",
       "      <th>FeatureY</th>\n",
       "      <th>FeatureX</th>\n",
       "      <th>Created At time_y</th>\n",
       "      <th>Created At Day_of_month_y</th>\n",
       "    </tr>\n",
       "  </thead>\n",
       "  <tbody>\n",
       "    <tr>\n",
       "      <th>0</th>\n",
       "      <td>ID_B66PZQQP_Month_12</td>\n",
       "      <td>1.0</td>\n",
       "      <td>NaN</td>\n",
       "      <td>19:48:26.862175</td>\n",
       "      <td>27.0</td>\n",
       "      <td>NaN</td>\n",
       "      <td>NaN</td>\n",
       "      <td>1.0</td>\n",
       "      <td>NaN</td>\n",
       "      <td>10:53:52.558030</td>\n",
       "      <td>...</td>\n",
       "      <td>1.0</td>\n",
       "      <td>12.0</td>\n",
       "      <td>28.0</td>\n",
       "      <td>20:52:03</td>\n",
       "      <td>28.0</td>\n",
       "      <td>35.0</td>\n",
       "      <td>0.0</td>\n",
       "      <td>0.0</td>\n",
       "      <td>08:26:28.847530</td>\n",
       "      <td>20.0</td>\n",
       "    </tr>\n",
       "    <tr>\n",
       "      <th>1</th>\n",
       "      <td>ID_5Y4QLJNC_Month_12</td>\n",
       "      <td>1.0</td>\n",
       "      <td>NaN</td>\n",
       "      <td>09:37:52.039526</td>\n",
       "      <td>20.0</td>\n",
       "      <td>NaN</td>\n",
       "      <td>NaN</td>\n",
       "      <td>NaN</td>\n",
       "      <td>NaN</td>\n",
       "      <td>NaN</td>\n",
       "      <td>...</td>\n",
       "      <td>NaN</td>\n",
       "      <td>NaN</td>\n",
       "      <td>NaN</td>\n",
       "      <td>10:38:23</td>\n",
       "      <td>20.0</td>\n",
       "      <td>14.0</td>\n",
       "      <td>0.0</td>\n",
       "      <td>0.0</td>\n",
       "      <td>09:28:59.699371</td>\n",
       "      <td>20.0</td>\n",
       "    </tr>\n",
       "    <tr>\n",
       "      <th>2</th>\n",
       "      <td>ID_CQ02RGX8_Month_2</td>\n",
       "      <td>1.0</td>\n",
       "      <td>NaN</td>\n",
       "      <td>17:50:33.894800</td>\n",
       "      <td>9.0</td>\n",
       "      <td>NaN</td>\n",
       "      <td>NaN</td>\n",
       "      <td>1.0</td>\n",
       "      <td>NaN</td>\n",
       "      <td>18:57:59.998938</td>\n",
       "      <td>...</td>\n",
       "      <td>1.0</td>\n",
       "      <td>12.0</td>\n",
       "      <td>24.0</td>\n",
       "      <td>21:37:16</td>\n",
       "      <td>24.0</td>\n",
       "      <td>96.0</td>\n",
       "      <td>1.0</td>\n",
       "      <td>1.0</td>\n",
       "      <td>15:29:09.389920</td>\n",
       "      <td>8.0</td>\n",
       "    </tr>\n",
       "    <tr>\n",
       "      <th>3</th>\n",
       "      <td>ID_CQ02RGX8_Month_2</td>\n",
       "      <td>1.0</td>\n",
       "      <td>NaN</td>\n",
       "      <td>17:50:33.894800</td>\n",
       "      <td>9.0</td>\n",
       "      <td>NaN</td>\n",
       "      <td>NaN</td>\n",
       "      <td>1.0</td>\n",
       "      <td>NaN</td>\n",
       "      <td>18:49:47.531900</td>\n",
       "      <td>...</td>\n",
       "      <td>1.0</td>\n",
       "      <td>2.0</td>\n",
       "      <td>7.0</td>\n",
       "      <td>21:37:16</td>\n",
       "      <td>24.0</td>\n",
       "      <td>96.0</td>\n",
       "      <td>1.0</td>\n",
       "      <td>1.0</td>\n",
       "      <td>15:29:09.389920</td>\n",
       "      <td>8.0</td>\n",
       "    </tr>\n",
       "    <tr>\n",
       "      <th>4</th>\n",
       "      <td>ID_CQ02RGX8_Month_2</td>\n",
       "      <td>1.0</td>\n",
       "      <td>NaN</td>\n",
       "      <td>17:50:33.894800</td>\n",
       "      <td>9.0</td>\n",
       "      <td>NaN</td>\n",
       "      <td>NaN</td>\n",
       "      <td>1.0</td>\n",
       "      <td>NaN</td>\n",
       "      <td>15:34:35.872471</td>\n",
       "      <td>...</td>\n",
       "      <td>1.0</td>\n",
       "      <td>2.0</td>\n",
       "      <td>9.0</td>\n",
       "      <td>21:37:16</td>\n",
       "      <td>24.0</td>\n",
       "      <td>96.0</td>\n",
       "      <td>1.0</td>\n",
       "      <td>1.0</td>\n",
       "      <td>15:29:09.389920</td>\n",
       "      <td>8.0</td>\n",
       "    </tr>\n",
       "    <tr>\n",
       "      <th>...</th>\n",
       "      <td>...</td>\n",
       "      <td>...</td>\n",
       "      <td>...</td>\n",
       "      <td>...</td>\n",
       "      <td>...</td>\n",
       "      <td>...</td>\n",
       "      <td>...</td>\n",
       "      <td>...</td>\n",
       "      <td>...</td>\n",
       "      <td>...</td>\n",
       "      <td>...</td>\n",
       "      <td>...</td>\n",
       "      <td>...</td>\n",
       "      <td>...</td>\n",
       "      <td>...</td>\n",
       "      <td>...</td>\n",
       "      <td>...</td>\n",
       "      <td>...</td>\n",
       "      <td>...</td>\n",
       "      <td>...</td>\n",
       "      <td>...</td>\n",
       "    </tr>\n",
       "    <tr>\n",
       "      <th>17539</th>\n",
       "      <td>ID_7ZD233CM_Month_4</td>\n",
       "      <td>NaN</td>\n",
       "      <td>NaN</td>\n",
       "      <td>NaN</td>\n",
       "      <td>NaN</td>\n",
       "      <td>NaN</td>\n",
       "      <td>NaN</td>\n",
       "      <td>NaN</td>\n",
       "      <td>NaN</td>\n",
       "      <td>NaN</td>\n",
       "      <td>...</td>\n",
       "      <td>NaN</td>\n",
       "      <td>NaN</td>\n",
       "      <td>NaN</td>\n",
       "      <td>NaN</td>\n",
       "      <td>NaN</td>\n",
       "      <td>NaN</td>\n",
       "      <td>1.0</td>\n",
       "      <td>0.0</td>\n",
       "      <td>16:14:31.621149</td>\n",
       "      <td>5.0</td>\n",
       "    </tr>\n",
       "    <tr>\n",
       "      <th>17540</th>\n",
       "      <td>ID_SLIVU9LB_Month_3</td>\n",
       "      <td>NaN</td>\n",
       "      <td>NaN</td>\n",
       "      <td>NaN</td>\n",
       "      <td>NaN</td>\n",
       "      <td>NaN</td>\n",
       "      <td>NaN</td>\n",
       "      <td>NaN</td>\n",
       "      <td>NaN</td>\n",
       "      <td>NaN</td>\n",
       "      <td>...</td>\n",
       "      <td>NaN</td>\n",
       "      <td>NaN</td>\n",
       "      <td>NaN</td>\n",
       "      <td>NaN</td>\n",
       "      <td>NaN</td>\n",
       "      <td>NaN</td>\n",
       "      <td>0.0</td>\n",
       "      <td>0.0</td>\n",
       "      <td>04:04:35.100180</td>\n",
       "      <td>26.0</td>\n",
       "    </tr>\n",
       "    <tr>\n",
       "      <th>17541</th>\n",
       "      <td>ID_1SAYTO8W_Month_4</td>\n",
       "      <td>NaN</td>\n",
       "      <td>NaN</td>\n",
       "      <td>NaN</td>\n",
       "      <td>NaN</td>\n",
       "      <td>NaN</td>\n",
       "      <td>NaN</td>\n",
       "      <td>NaN</td>\n",
       "      <td>NaN</td>\n",
       "      <td>NaN</td>\n",
       "      <td>...</td>\n",
       "      <td>NaN</td>\n",
       "      <td>NaN</td>\n",
       "      <td>NaN</td>\n",
       "      <td>NaN</td>\n",
       "      <td>NaN</td>\n",
       "      <td>NaN</td>\n",
       "      <td>1.0</td>\n",
       "      <td>0.0</td>\n",
       "      <td>16:25:22.888762</td>\n",
       "      <td>10.0</td>\n",
       "    </tr>\n",
       "    <tr>\n",
       "      <th>17542</th>\n",
       "      <td>ID_WJHBGHLB_Month_2</td>\n",
       "      <td>NaN</td>\n",
       "      <td>NaN</td>\n",
       "      <td>NaN</td>\n",
       "      <td>NaN</td>\n",
       "      <td>NaN</td>\n",
       "      <td>NaN</td>\n",
       "      <td>NaN</td>\n",
       "      <td>NaN</td>\n",
       "      <td>NaN</td>\n",
       "      <td>...</td>\n",
       "      <td>NaN</td>\n",
       "      <td>NaN</td>\n",
       "      <td>NaN</td>\n",
       "      <td>NaN</td>\n",
       "      <td>NaN</td>\n",
       "      <td>NaN</td>\n",
       "      <td>0.0</td>\n",
       "      <td>0.0</td>\n",
       "      <td>10:55:49.951592</td>\n",
       "      <td>26.0</td>\n",
       "    </tr>\n",
       "    <tr>\n",
       "      <th>17543</th>\n",
       "      <td>ID_UO5SFBJT_Month_2</td>\n",
       "      <td>NaN</td>\n",
       "      <td>NaN</td>\n",
       "      <td>NaN</td>\n",
       "      <td>NaN</td>\n",
       "      <td>NaN</td>\n",
       "      <td>NaN</td>\n",
       "      <td>NaN</td>\n",
       "      <td>NaN</td>\n",
       "      <td>NaN</td>\n",
       "      <td>...</td>\n",
       "      <td>NaN</td>\n",
       "      <td>NaN</td>\n",
       "      <td>NaN</td>\n",
       "      <td>NaN</td>\n",
       "      <td>NaN</td>\n",
       "      <td>NaN</td>\n",
       "      <td>0.0</td>\n",
       "      <td>0.0</td>\n",
       "      <td>09:08:40.036689</td>\n",
       "      <td>25.0</td>\n",
       "    </tr>\n",
       "  </tbody>\n",
       "</table>\n",
       "<p>17544 rows × 36 columns</p>\n",
       "</div>"
      ],
      "text/plain": [
       "                    User_ID  Personal  Theme   Created_Time_x  \\\n",
       "0      ID_B66PZQQP_Month_12       1.0    NaN  19:48:26.862175   \n",
       "1      ID_5Y4QLJNC_Month_12       1.0    NaN  09:37:52.039526   \n",
       "2       ID_CQ02RGX8_Month_2       1.0    NaN  17:50:33.894800   \n",
       "3       ID_CQ02RGX8_Month_2       1.0    NaN  17:50:33.894800   \n",
       "4       ID_CQ02RGX8_Month_2       1.0    NaN  17:50:33.894800   \n",
       "...                     ...       ...    ...              ...   \n",
       "17539   ID_7ZD233CM_Month_4       NaN    NaN              NaN   \n",
       "17540   ID_SLIVU9LB_Month_3       NaN    NaN              NaN   \n",
       "17541   ID_1SAYTO8W_Month_4       NaN    NaN              NaN   \n",
       "17542   ID_WJHBGHLB_Month_2       NaN    NaN              NaN   \n",
       "17543   ID_UO5SFBJT_Month_2       NaN    NaN              NaN   \n",
       "\n",
       "       Created_Day_of_month_x Created_Time_y  Created_Day_of_month_y  \\\n",
       "0                        27.0            NaN                     NaN   \n",
       "1                        20.0            NaN                     NaN   \n",
       "2                         9.0            NaN                     NaN   \n",
       "3                         9.0            NaN                     NaN   \n",
       "4                         9.0            NaN                     NaN   \n",
       "...                       ...            ...                     ...   \n",
       "17539                     NaN            NaN                     NaN   \n",
       "17540                     NaN            NaN                     NaN   \n",
       "17541                     NaN            NaN                     NaN   \n",
       "17542                     NaN            NaN                     NaN   \n",
       "17543                     NaN            NaN                     NaN   \n",
       "\n",
       "       Participant Type Successful Submission Count Created At time_x  ...  \\\n",
       "0                   1.0                         NaN   10:53:52.558030  ...   \n",
       "1                   NaN                         NaN               NaN  ...   \n",
       "2                   1.0                         NaN   18:57:59.998938  ...   \n",
       "3                   1.0                         NaN   18:49:47.531900  ...   \n",
       "4                   1.0                         NaN   15:34:35.872471  ...   \n",
       "...                 ...                         ...               ...  ...   \n",
       "17539               NaN                         NaN               NaN  ...   \n",
       "17540               NaN                         NaN               NaN  ...   \n",
       "17541               NaN                         NaN               NaN  ...   \n",
       "17542               NaN                         NaN               NaN  ...   \n",
       "17543               NaN                         NaN               NaN  ...   \n",
       "\n",
       "       Start Time Year Start Time Month Start Time Day_of_month  \\\n",
       "0                  1.0             12.0                    28.0   \n",
       "1                  NaN              NaN                     NaN   \n",
       "2                  1.0             12.0                    24.0   \n",
       "3                  1.0              2.0                     7.0   \n",
       "4                  1.0              2.0                     9.0   \n",
       "...                ...              ...                     ...   \n",
       "17539              NaN              NaN                     NaN   \n",
       "17540              NaN              NaN                     NaN   \n",
       "17541              NaN              NaN                     NaN   \n",
       "17542              NaN              NaN                     NaN   \n",
       "17543              NaN              NaN                     NaN   \n",
       "\n",
       "       datetime time  datetime Day_of_month  count_UA  FeatureY FeatureX  \\\n",
       "0           20:52:03                   28.0      35.0       0.0      0.0   \n",
       "1           10:38:23                   20.0      14.0       0.0      0.0   \n",
       "2           21:37:16                   24.0      96.0       1.0      1.0   \n",
       "3           21:37:16                   24.0      96.0       1.0      1.0   \n",
       "4           21:37:16                   24.0      96.0       1.0      1.0   \n",
       "...              ...                    ...       ...       ...      ...   \n",
       "17539            NaN                    NaN       NaN       1.0      0.0   \n",
       "17540            NaN                    NaN       NaN       0.0      0.0   \n",
       "17541            NaN                    NaN       NaN       1.0      0.0   \n",
       "17542            NaN                    NaN       NaN       0.0      0.0   \n",
       "17543            NaN                    NaN       NaN       0.0      0.0   \n",
       "\n",
       "      Created At time_y Created At Day_of_month_y  \n",
       "0       08:26:28.847530                      20.0  \n",
       "1       09:28:59.699371                      20.0  \n",
       "2       15:29:09.389920                       8.0  \n",
       "3       15:29:09.389920                       8.0  \n",
       "4       15:29:09.389920                       8.0  \n",
       "...                 ...                       ...  \n",
       "17539   16:14:31.621149                       5.0  \n",
       "17540   04:04:35.100180                      26.0  \n",
       "17541   16:25:22.888762                      10.0  \n",
       "17542   10:55:49.951592                      26.0  \n",
       "17543   09:08:40.036689                      25.0  \n",
       "\n",
       "[17544 rows x 36 columns]"
      ]
     },
     "execution_count": 88,
     "metadata": {},
     "output_type": "execute_result"
    }
   ],
   "source": [
    "df_final"
   ]
  },
  {
   "cell_type": "markdown",
   "id": "d7dd7b76",
   "metadata": {},
   "source": [
    "# DATA CLEANING AND TRANSFORMATION"
   ]
  },
  {
   "cell_type": "code",
   "execution_count": 89,
   "id": "b96c09ef",
   "metadata": {},
   "outputs": [
    {
     "name": "stdout",
     "output_type": "stream",
     "text": [
      "<class 'pandas.core.frame.DataFrame'>\n",
      "Int64Index: 17544 entries, 0 to 17543\n",
      "Data columns (total 36 columns):\n",
      " #   Column                       Non-Null Count  Dtype  \n",
      "---  ------                       --------------  -----  \n",
      " 0   User_ID                      17544 non-null  object \n",
      " 1   Personal                     1808 non-null   float64\n",
      " 2   Theme                        269 non-null    float64\n",
      " 3   Created_Time_x               1808 non-null   object \n",
      " 4   Created_Day_of_month_x       1808 non-null   float64\n",
      " 5   Created_Time_y               4644 non-null   object \n",
      " 6   Created_Day_of_month_y       4644 non-null   float64\n",
      " 7   Participant Type             8715 non-null   float64\n",
      " 8   Successful Submission Count  2355 non-null   object \n",
      " 9   Created At time_x            8715 non-null   object \n",
      " 10  Created At Day_of_month_x    8715 non-null   float64\n",
      " 11  FeatureA                     8715 non-null   object \n",
      " 12  FeatureB                     8715 non-null   object \n",
      " 13  FeatureC                     5274 non-null   float64\n",
      " 14  FeatureD                     8715 non-null   float64\n",
      " 15  FeatureE                     8715 non-null   float64\n",
      " 16  SecretCode                   8715 non-null   float64\n",
      " 17  FeatureF                     8715 non-null   object \n",
      " 18  FeatureG                     8715 non-null   object \n",
      " 19  FeatureH                     8715 non-null   object \n",
      " 20  FeatureI                     7446 non-null   float64\n",
      " 21  End Time time                6929 non-null   object \n",
      " 22  End Time Year                6929 non-null   float64\n",
      " 23  End Time Month               6929 non-null   float64\n",
      " 24  End Time Day_of_month        6929 non-null   float64\n",
      " 25  Start Time time              8715 non-null   object \n",
      " 26  Start Time Year              8715 non-null   float64\n",
      " 27  Start Time Month             8715 non-null   float64\n",
      " 28  Start Time Day_of_month      8715 non-null   float64\n",
      " 29  datetime time                15292 non-null  object \n",
      " 30  datetime Day_of_month        15292 non-null  float64\n",
      " 31  count_UA                     15292 non-null  float64\n",
      " 32  FeatureY                     11786 non-null  float64\n",
      " 33  FeatureX                     11786 non-null  float64\n",
      " 34  Created At time_y            11786 non-null  object \n",
      " 35  Created At Day_of_month_y    11786 non-null  float64\n",
      "dtypes: float64(22), object(14)\n",
      "memory usage: 5.0+ MB\n"
     ]
    }
   ],
   "source": [
    "df_final.info()"
   ]
  },
  {
   "cell_type": "code",
   "execution_count": 90,
   "id": "0fb3ab61",
   "metadata": {},
   "outputs": [],
   "source": [
    "#Created_Time_x = Time of the day disscussion was made\n",
    "#Created_Time_y = Time of the day comment was made\n",
    "#Created At time_x = Time of the day user enrolled to the competation\n",
    "#Start Time Day_of_month = The day of the month competation started.\n",
    "\n",
    "df_final.rename(columns={'Created_Time_x': 'Discussion time'},  inplace = True)\n",
    "df_final.rename(columns={'Created_Day_of_month_x': 'Discussion day of month'},  inplace = True)\n",
    "df_final.rename(columns={'Created_Time_y': 'comment time'},  inplace = True)\n",
    "df_final.rename(columns={'Created_Day_of_month_y': 'comment day of month'},  inplace = True)"
   ]
  },
  {
   "cell_type": "code",
   "execution_count": 91,
   "id": "edcc2b9b",
   "metadata": {},
   "outputs": [
    {
     "data": {
      "text/plain": [
       "(17544, 36)"
      ]
     },
     "execution_count": 91,
     "metadata": {},
     "output_type": "execute_result"
    }
   ],
   "source": [
    "df_final.shape"
   ]
  },
  {
   "cell_type": "code",
   "execution_count": 92,
   "id": "d336d32d",
   "metadata": {},
   "outputs": [
    {
     "data": {
      "text/plain": [
       "array([ 1.,  0., nan])"
      ]
     },
     "execution_count": 92,
     "metadata": {},
     "output_type": "execute_result"
    }
   ],
   "source": [
    "df_final[\"Personal\"].unique()"
   ]
  },
  {
   "cell_type": "code",
   "execution_count": 93,
   "id": "243dfe8e",
   "metadata": {},
   "outputs": [
    {
     "data": {
      "text/plain": [
       "array([ 1.,  0., -1.])"
      ]
     },
     "execution_count": 93,
     "metadata": {},
     "output_type": "execute_result"
    }
   ],
   "source": [
    "df_final['Personal'].fillna(-1, inplace = True)\n",
    "df_final[\"Personal\"].unique()"
   ]
  },
  {
   "cell_type": "code",
   "execution_count": 94,
   "id": "709fae56",
   "metadata": {},
   "outputs": [
    {
     "data": {
      "text/plain": [
       "array([nan,  1.,  3.,  4.,  5.,  2.])"
      ]
     },
     "execution_count": 94,
     "metadata": {},
     "output_type": "execute_result"
    }
   ],
   "source": [
    "df_final[\"Theme\"].unique()"
   ]
  },
  {
   "cell_type": "code",
   "execution_count": 95,
   "id": "a2fc4bd7",
   "metadata": {},
   "outputs": [
    {
     "data": {
      "text/plain": [
       "array([-1.,  1.,  3.,  4.,  5.,  2.])"
      ]
     },
     "execution_count": 95,
     "metadata": {},
     "output_type": "execute_result"
    }
   ],
   "source": [
    "df_final['Theme'].fillna(-1, inplace = True)\n",
    "df_final[\"Theme\"].unique()"
   ]
  },
  {
   "cell_type": "code",
   "execution_count": 96,
   "id": "80811acb",
   "metadata": {},
   "outputs": [],
   "source": [
    "df_final['Discussion Hour'] = df_final['Discussion time'].str[0:2]"
   ]
  },
  {
   "cell_type": "code",
   "execution_count": 97,
   "id": "f56fabc0",
   "metadata": {},
   "outputs": [],
   "source": [
    "df_final['Discussion Minute'] = df_final['Discussion time'].str[3:5]"
   ]
  },
  {
   "cell_type": "code",
   "execution_count": 98,
   "id": "606cea4f",
   "metadata": {},
   "outputs": [],
   "source": [
    "df_final['Discussion Second'] = df_final['Discussion time'].str[6:]"
   ]
  },
  {
   "cell_type": "code",
   "execution_count": 99,
   "id": "e237b32e",
   "metadata": {},
   "outputs": [
    {
     "data": {
      "text/plain": [
       "15736"
      ]
     },
     "execution_count": 99,
     "metadata": {},
     "output_type": "execute_result"
    }
   ],
   "source": [
    "df_final['Discussion Hour'].isna().sum()"
   ]
  },
  {
   "cell_type": "code",
   "execution_count": 100,
   "id": "257a7da1",
   "metadata": {},
   "outputs": [
    {
     "data": {
      "text/plain": [
       "array(['19', '09', '17', '07', '18', nan, '00', '01', '05', '16', '11',\n",
       "       '04', '22', '14', '15', '23', '13', '20', '06', '10', '21', '12',\n",
       "       '08', '03', '02'], dtype=object)"
      ]
     },
     "execution_count": 100,
     "metadata": {},
     "output_type": "execute_result"
    }
   ],
   "source": [
    "df_final['Discussion Hour'].unique()"
   ]
  },
  {
   "cell_type": "code",
   "execution_count": 101,
   "id": "75b18b7e",
   "metadata": {},
   "outputs": [],
   "source": [
    "df_final['Discussion Hour'].fillna(-1, inplace = True)"
   ]
  },
  {
   "cell_type": "code",
   "execution_count": 102,
   "id": "bef171b5",
   "metadata": {},
   "outputs": [
    {
     "data": {
      "text/plain": [
       "15736"
      ]
     },
     "execution_count": 102,
     "metadata": {},
     "output_type": "execute_result"
    }
   ],
   "source": [
    "df_final['Discussion Minute'].isna().sum()"
   ]
  },
  {
   "cell_type": "code",
   "execution_count": 103,
   "id": "5528f0eb",
   "metadata": {},
   "outputs": [
    {
     "data": {
      "text/plain": [
       "array(['48', '37', '50', '57', '56', '20', nan, '30', '46', '40', '06',\n",
       "       '16', '38', '33', '15', '23', '24', '43', '29', '08', '12', '55',\n",
       "       '17', '09', '51', '54', '02', '25', '49', '01', '04', '53', '11',\n",
       "       '45', '39', '14', '22', '27', '59', '52', '32', '00', '34', '03',\n",
       "       '26', '21', '35', '47', '10', '13', '19', '42', '07', '18', '41',\n",
       "       '58', '44', '31', '05', '28', '36'], dtype=object)"
      ]
     },
     "execution_count": 103,
     "metadata": {},
     "output_type": "execute_result"
    }
   ],
   "source": [
    "df_final['Discussion Minute'].unique()"
   ]
  },
  {
   "cell_type": "code",
   "execution_count": 104,
   "id": "3cc49b72",
   "metadata": {},
   "outputs": [],
   "source": [
    "df_final['Discussion Minute'].fillna(-1, inplace = True)"
   ]
  },
  {
   "cell_type": "code",
   "execution_count": 105,
   "id": "3a6d67af",
   "metadata": {},
   "outputs": [
    {
     "data": {
      "text/plain": [
       "15736"
      ]
     },
     "execution_count": 105,
     "metadata": {},
     "output_type": "execute_result"
    }
   ],
   "source": [
    "df_final['Discussion Second'].isna().sum()"
   ]
  },
  {
   "cell_type": "code",
   "execution_count": 106,
   "id": "49956586",
   "metadata": {},
   "outputs": [
    {
     "data": {
      "text/plain": [
       "array(['26.862175', '52.039526', '33.894800', '55.178845', '13.041893',\n",
       "       '26.568254', nan, '29.783050', '27.612805', '35.086345',\n",
       "       '12.169921', '40.333317', '44.100793', '59.487090', '01.933357',\n",
       "       '33.569274', '11.949158', '44.320109', '26.173657', '16.391943',\n",
       "       '28.053523', '18.523584', '04.209496', '28.763053', '02.333957',\n",
       "       '29.263011', '38.306855', '45.654428', '04.182685', '31.265634',\n",
       "       '43.788440', '11.204001', '39.027702', '24.634990', '35.793235',\n",
       "       '11.094345', '37.184387', '02.756378', '20.593903', '18.723879',\n",
       "       '25.197713', '47.536192', '02.164837', '46.506030', '54.806741',\n",
       "       '14.782633', '26.706182', '18.693431', '08.787572', '40.964195',\n",
       "       '33.145372', '04.937397', '08.659357', '41.206182', '53.881313',\n",
       "       '15.327132', '01.489955', '31.333212', '31.956448', '40.263617',\n",
       "       '42.503249', '07.312394', '24.955349', '47.356771', '01.603470',\n",
       "       '17.182560', '13.366132', '21.937716', '47.513193', '16.064929',\n",
       "       '25.093232', '18.148701', '12.239815', '38.279193', '00.969387',\n",
       "       '02.179913', '13.939672', '43.387168', '50.328094', '54.860790',\n",
       "       '53.847303', '15.619428', '38.862530', '05.532697', '01.434911',\n",
       "       '01.401729', '53.150632', '58.362050', '33.084061', '01.905520',\n",
       "       '59.140447', '59.358020', '16.636884', '43.578646', '48.717444',\n",
       "       '46.314235', '31.132188', '46.283243', '05.792535', '14.302717',\n",
       "       '02.292148', '40.213958', '17.755367', '59.535510', '32.528714',\n",
       "       '42.837115', '18.007330', '56.694448', '41.659584', '04.296241',\n",
       "       '15.142277', '46.128355', '37.260406', '20.962819', '52.249479',\n",
       "       '36.299966', '17.886166', '30.893401', '23.299528', '38.888976',\n",
       "       '46.043416', '14.976401', '12.640876', '31.637980', '00.920944',\n",
       "       '23.229130', '00.550046', '00.695438', '57.847578', '26.727561',\n",
       "       '59.114545', '02.011408', '19.959616', '21.736658', '19.555450',\n",
       "       '34.489521', '59.113034', '40.267683', '39.354783', '45.541447',\n",
       "       '00.967514', '57.041811', '17.652965', '02.536090', '21.903347',\n",
       "       '45.368771', '57.935065', '05.776718', '07.833695', '04.347415',\n",
       "       '00.929801', '10.389546', '38.552817', '41.091250', '35.817547',\n",
       "       '18.506083', '58.431488', '15.376752', '36.734351', '55.873444',\n",
       "       '00.939924', '01.332155', '37.654008', '54.359281', '21.009735',\n",
       "       '41.519411', '26.190643', '28.697829', '19.152228', '51.202820',\n",
       "       '38.619729', '06.080544', '39.806073', '21.507361', '30.934188',\n",
       "       '14.445380', '44.519552', '44.746841', '14.486043', '32.865029',\n",
       "       '34.867356', '44.431037', '04.282176', '03.056215', '05.821891',\n",
       "       '50.435105', '24.633442', '24.148813', '08.195780', '40.316980',\n",
       "       '39.882106', '03.568422', '13.614760', '40.478375', '38.950412',\n",
       "       '59.125376', '37.036929', '01.351364', '40.590824', '49.998466',\n",
       "       '21.805910', '44.303650', '47.885470', '18.276977', '38.729026',\n",
       "       '38.512683', '35.830818', '47.706916', '45.241292', '09.972224',\n",
       "       '50.258635', '15.930916', '24.650790', '19.445214', '07.188984',\n",
       "       '21.868701', '20.631033', '08.210636', '41.805516', '06.733003',\n",
       "       '03.091908', '36.432031', '32.255153', '49.950323', '28.470421',\n",
       "       '41.076438', '00.450347', '18.742952', '16.948559', '15.872795',\n",
       "       '30.066920', '59.919546', '28.595472', '31.625564', '02.851247',\n",
       "       '49.610428', '09.705343', '10.054418', '45.874220', '50.277866',\n",
       "       '40.552911', '10.714609', '14.343605', '54.337452', '12.154271',\n",
       "       '30.557706', '26.994021', '45.292928', '10.170631', '29.494306',\n",
       "       '07.088140', '39.119234', '22.702135', '22.534749', '28.831953',\n",
       "       '10.892523', '52.835146', '11.696523', '05.217983', '17.887742',\n",
       "       '13.593966', '41.002460', '06.321975', '59.217345', '28.042531',\n",
       "       '24.371738', '28.369838', '29.825694', '22.931036', '06.579679',\n",
       "       '28.547931', '05.719339', '55.684631', '42.932101', '48.217355',\n",
       "       '41.924326', '38.540838', '30.486092', '27.526136', '50.721067',\n",
       "       '51.797528', '58.804766', '53.433528', '54.212400', '36.591371',\n",
       "       '03.151481', '02.200905', '29.942589', '20.792936', '58.536531',\n",
       "       '29.027583', '08.524655', '28.871756', '39.995382', '30.579967',\n",
       "       '29.852599', '02.609700', '20.349274', '29.076212', '28.978420',\n",
       "       '34.310214', '45.445319', '12.874549', '55.556486', '56.327924',\n",
       "       '42.503271', '26.960079', '59.924061', '22.408456', '47.899796',\n",
       "       '30.656385', '30.262457', '00.130233', '54.260845', '55.387463',\n",
       "       '40.504432', '51.180978', '03.844568', '02.277182', '59.192603',\n",
       "       '51.069970', '36.514595', '51.044824', '18.727592', '37.845375',\n",
       "       '14.335348', '37.280431', '31.740576', '48.963489', '48.404885',\n",
       "       '11.589377', '18.895833', '35.437541', '40.036772', '23.579873',\n",
       "       '56.594469', '20.714477', '25.170308', '34.200846', '14.748773',\n",
       "       '12.119766', '23.737459', '50.793114', '54.242265', '54.141089',\n",
       "       '00.590562', '43.610361', '10.281891', '42.535906', '46.475627',\n",
       "       '52.131399', '43.768402', '19.748144', '13.829492', '01.998829',\n",
       "       '17.882238', '53.449351', '37.960252', '23.164597', '34.715030',\n",
       "       '09.929556', '17.598831', '23.204988', '38.571050', '01.348356',\n",
       "       '41.476204', '23.931802', '11.426735', '58.061681', '21.430334',\n",
       "       '40.565292', '21.054982', '53.884568', '46.631244', '23.233125',\n",
       "       '55.716670', '41.028018', '05.218956', '43.880093', '16.244932',\n",
       "       '09.350420', '22.774947', '11.603048', '33.358534', '29.910685',\n",
       "       '11.011150', '48.892687', '43.755781', '18.852473', '57.042222',\n",
       "       '49.815518', '12.793788', '44.954144', '58.494919', '01.546798',\n",
       "       '33.321945', '20.050590', '24.306646', '43.150216', '36.387663',\n",
       "       '51.882127', '29.963488', '50.160411', '33.176360', '05.819146',\n",
       "       '14.022527', '33.197158', '51.353127', '52.184910', '25.769058',\n",
       "       '02.334770', '09.812933', '45.731450', '24.438873', '46.019317',\n",
       "       '49.684429', '13.112545', '21.171239', '15.813709', '11.760220',\n",
       "       '57.840696', '03.994864', '09.465824', '15.646339', '36.820915',\n",
       "       '43.125340', '20.100932', '12.827878', '49.181364', '50.578340',\n",
       "       '20.836629', '22.112064', '22.492622', '33.192656', '08.080925',\n",
       "       '26.363589', '28.627108', '25.551960', '44.154817', '32.606950',\n",
       "       '31.815320', '38.568844', '46.422699', '00.256670', '22.417501',\n",
       "       '47.012370', '13.610069', '44.814865', '12.671281', '01.079019',\n",
       "       '40.738452', '50.300122', '07.005084', '04.527190', '12.725467',\n",
       "       '23.104353', '40.997829', '44.294240', '29.498014', '31.248444',\n",
       "       '21.253021', '13.933555', '06.065221', '50.758439', '42.385163',\n",
       "       '59.052684', '16.867621', '08.964369', '08.899041', '34.441349',\n",
       "       '33.804214', '10.365411', '39.544327', '40.778494', '09.429361',\n",
       "       '53.116834', '54.350154', '59.239603', '01.954623', '26.656284',\n",
       "       '28.016077', '53.906968', '28.287003', '15.781530', '59.558955',\n",
       "       '14.426354', '44.603272', '23.104900', '15.495690', '09.200291',\n",
       "       '07.087125', '04.132094', '52.597855', '26.915380', '14.679614',\n",
       "       '08.665775', '49.704212', '09.152201', '10.351365', '35.612093',\n",
       "       '31.060341', '07.362854', '55.210663', '47.299374', '09.102483',\n",
       "       '59.398493', '45.238129', '28.858873', '09.894218', '05.634524',\n",
       "       '57.666854', '04.572547', '10.842111', '10.837163', '36.675584',\n",
       "       '40.315691', '59.486243', '20.233685', '05.907307', '55.755765',\n",
       "       '46.119380', '56.644097', '29.903785', '29.723646', '20.318463',\n",
       "       '36.171246', '15.740967', '44.294967', '09.146242', '09.531813',\n",
       "       '28.206693', '46.391415', '09.612968', '36.330276', '04.559071',\n",
       "       '43.540987', '47.543126', '48.263482', '00.239631', '50.499076',\n",
       "       '31.491400', '29.680584', '08.239669', '24.167553', '26.192331',\n",
       "       '06.892885', '17.728563', '01.626272', '47.429032', '43.216684',\n",
       "       '10.846579', '14.396572', '27.240772', '29.399077', '52.296485',\n",
       "       '18.116258', '06.826395', '28.149676', '48.955135', '13.797132',\n",
       "       '09.154386', '21.678545', '32.770847', '49.868874', '07.970463',\n",
       "       '15.424541', '07.449401', '52.252052', '18.008503', '27.212700',\n",
       "       '47.006845', '27.156834', '09.694121', '22.376043', '47.142141',\n",
       "       '14.961117', '50.588368', '17.366511', '15.724242', '39.038867',\n",
       "       '08.031349', '38.603052', '40.505139', '34.425742', '17.143929',\n",
       "       '35.944566', '50.022518', '07.401258', '43.614455', '12.289691',\n",
       "       '54.030145', '22.449897', '18.055412', '28.941488', '35.167554',\n",
       "       '27.337162', '35.067742', '17.172591', '47.497754', '15.053194',\n",
       "       '20.517115', '16.280286', '48.661864', '51.840878', '08.201042',\n",
       "       '26.817125', '11.848313', '00.612980', '35.575190', '25.940500',\n",
       "       '28.122922', '49.390292', '04.975127', '34.154606', '15.301721',\n",
       "       '26.247966', '32.500732', '00.815393', '21.947255', '55.431930',\n",
       "       '37.580750', '14.733815', '25.081543', '54.361437', '28.473684',\n",
       "       '57.824873', '05.242582', '46.542784', '04.160568', '16.711686',\n",
       "       '48.952796', '01.161791', '16.503985', '55.431916', '14.269599',\n",
       "       '49.810542', '11.871648', '19.363860', '45.416940', '09.622032',\n",
       "       '48.626820', '51.199035', '33.866522', '12.097042', '45.525259',\n",
       "       '42.862874', '07.813623', '20.973888', '32.486170', '16.717356',\n",
       "       '32.773627', '11.063768', '52.636760', '36.316701', '10.620714',\n",
       "       '19.657004', '24.222567', '39.919359', '54.204480', '30.040895',\n",
       "       '05.855102', '46.402582', '08.761945', '28.516584', '09.236288',\n",
       "       '41.825084', '21.942292', '38.926924', '57.265017', '04.146020',\n",
       "       '42.300576', '30.882897', '48.329198', '16.829596', '23.288644',\n",
       "       '32.460089', '52.904371', '31.026068', '31.515936', '07.803312',\n",
       "       '52.216632', '43.643242', '20.685279', '20.281286', '48.120355',\n",
       "       '21.881766', '44.860559', '42.202569', '47.126284', '57.864185',\n",
       "       '50.938239', '06.989473', '30.570987', '54.740297', '39.436231',\n",
       "       '38.938875', '08.570094', '49.474648', '17.513672', '32.032457',\n",
       "       '49.590009', '02.614977', '39.425041', '34.797190', '22.172852',\n",
       "       '09.988495', '58.815823', '25.013608', '08.174747', '57.316301',\n",
       "       '24.015741', '36.562592', '43.114083', '37.722845', '13.338244',\n",
       "       '07.425978', '14.918702', '52.029353', '17.898638', '02.061656',\n",
       "       '41.744048', '40.174351', '43.545176', '01.224902', '27.146267',\n",
       "       '10.493731', '09.450493', '10.551764', '53.544520', '55.719588',\n",
       "       '12.958927', '57.701518', '44.368576', '22.634670', '15.281417',\n",
       "       '40.368649', '22.195738', '09.295241', '23.603127', '30.438637',\n",
       "       '53.410963', '44.597026', '47.620665', '20.135541', '43.485040',\n",
       "       '14.071130', '00.898579', '55.896727', '34.904803', '52.332891',\n",
       "       '21.138410', '36.479358', '19.001233', '21.602216', '19.455668',\n",
       "       '31.830143', '05.524140', '50.081272', '25.141263', '36.346273',\n",
       "       '48.025139', '46.482228', '25.954984', '05.534972', '38.925772',\n",
       "       '07.724648', '41.445487', '13.147883', '59.646759', '40.094039',\n",
       "       '42.517485', '20.531781', '01.666520', '53.647391', '41.462761',\n",
       "       '40.228962', '45.266944', '44.112135', '11.886094', '37.300864',\n",
       "       '44.841271', '47.841717', '00.407870', '03.682631', '47.273780',\n",
       "       '18.964669', '08.616595', '43.443633', '38.464941', '14.315235',\n",
       "       '53.221517', '29.609319', '53.148755', '33.239239', '11.681989',\n",
       "       '17.339243', '17.403987', '55.589357', '44.187750', '13.296252',\n",
       "       '04.382395', '26.748475', '29.234154', '52.480041', '45.829121',\n",
       "       '05.779210', '16.012395', '18.490307', '08.684719', '25.153361',\n",
       "       '47.654060', '02.453238', '21.933579', '03.452766', '48.256507',\n",
       "       '12.202597', '29.054254', '02.422621', '44.374878', '40.318423',\n",
       "       '05.782742', '03.701333', '53.477170', '08.189403', '35.692176',\n",
       "       '53.319352', '32.262515', '55.575923', '31.465153', '47.569599',\n",
       "       '37.868951', '04.683034', '05.934895', '48.903188', '36.836773',\n",
       "       '14.272654', '21.586714', '10.848817', '23.323819', '46.363674',\n",
       "       '42.502178', '26.579589', '35.151266', '14.574219', '33.911331',\n",
       "       '05.161907', '27.347362', '54.551559', '40.643030', '00.921814',\n",
       "       '45.925347', '46.297654', '35.847766', '34.977634', '21.910349',\n",
       "       '09.749270', '17.896827', '47.944725', '59.470111', '30.569663',\n",
       "       '06.647015', '42.184918', '28.894473', '41.975334', '22.261423',\n",
       "       '41.054505', '15.491295', '52.417679', '59.863291', '52.552915',\n",
       "       '40.452200', '55.890417', '57.694855', '23.843477', '33.351964',\n",
       "       '53.457708', '34.711662', '25.500711', '33.179364', '41.233510',\n",
       "       '37.176102', '55.186149', '40.590175', '59.091321', '03.210981',\n",
       "       '32.361851', '05.029948', '36.212889', '21.797508', '14.227511',\n",
       "       '53.814238', '55.068403', '15.220359', '14.386209', '08.291185',\n",
       "       '42.193574', '27.293896', '11.397834', '22.293922', '37.606486',\n",
       "       '44.617765', '12.582296', '02.954234', '29.963669', '26.554130',\n",
       "       '41.250259', '17.941291', '30.595927', '24.012940', '38.833156',\n",
       "       '38.134709', '19.338229', '07.844622', '33.587943', '33.178713',\n",
       "       '47.535028', '07.326508', '59.067752', '48.408237', '34.778690',\n",
       "       '42.998752', '59.010075', '16.368799', '10.954856', '21.351761',\n",
       "       '25.338837', '18.773433', '26.190550', '27.811127', '55.166850',\n",
       "       '27.807383', '06.396139', '55.102047', '34.614288', '46.525308',\n",
       "       '10.244058', '42.337619', '03.568967', '04.440142', '00.931129',\n",
       "       '17.440000', '01.305980', '49.260302', '16.044558', '42.357203',\n",
       "       '35.316369', '21.665683', '09.422175', '07.045079', '20.719965',\n",
       "       '03.684945', '32.526651', '30.178446', '04.131376', '14.006176',\n",
       "       '42.357376', '57.964075'], dtype=object)"
      ]
     },
     "execution_count": 106,
     "metadata": {},
     "output_type": "execute_result"
    }
   ],
   "source": [
    "df_final['Discussion Second'].unique()"
   ]
  },
  {
   "cell_type": "code",
   "execution_count": 107,
   "id": "0339be7e",
   "metadata": {},
   "outputs": [],
   "source": [
    "df_final['Discussion Second'].fillna(-1, inplace = True)"
   ]
  },
  {
   "cell_type": "code",
   "execution_count": 108,
   "id": "50c08404",
   "metadata": {},
   "outputs": [
    {
     "data": {
      "text/plain": [
       "array([27., 20.,  9., 10., 29., nan, 15., 18., 17.,  8., 16., 31., 13.,\n",
       "        3.,  1., 23., 19., 14., 26.,  5.,  6.,  7., 28.,  2., 21., 22.,\n",
       "       30., 12.,  4., 24., 25., 11.])"
      ]
     },
     "execution_count": 108,
     "metadata": {},
     "output_type": "execute_result"
    }
   ],
   "source": [
    "df_final['Discussion day of month'].unique()"
   ]
  },
  {
   "cell_type": "code",
   "execution_count": 109,
   "id": "14034432",
   "metadata": {},
   "outputs": [],
   "source": [
    "df_final['Discussion day of month'].fillna(0, inplace = True)"
   ]
  },
  {
   "cell_type": "code",
   "execution_count": 110,
   "id": "c843ed68",
   "metadata": {},
   "outputs": [],
   "source": [
    "df_final.drop('Discussion time', axis=1, inplace=True)"
   ]
  },
  {
   "cell_type": "code",
   "execution_count": 111,
   "id": "0e85b2c5",
   "metadata": {},
   "outputs": [
    {
     "data": {
      "text/plain": [
       "array([nan, '19:46:53.564412', '12:35:02.540162', ..., '08:15:37.567408',\n",
       "       '09:27:21.364650', '22:36:29.720601'], dtype=object)"
      ]
     },
     "execution_count": 111,
     "metadata": {},
     "output_type": "execute_result"
    }
   ],
   "source": [
    "df_final[\"comment time\"].unique()"
   ]
  },
  {
   "cell_type": "code",
   "execution_count": 112,
   "id": "e3c80ff5",
   "metadata": {},
   "outputs": [],
   "source": [
    "df_final['Comment Hour'] = df_final['comment time'].str[0:2]"
   ]
  },
  {
   "cell_type": "code",
   "execution_count": 113,
   "id": "eaa81e7f",
   "metadata": {},
   "outputs": [],
   "source": [
    "df_final['Comment Minute'] = df_final['comment time'].str[3:5]"
   ]
  },
  {
   "cell_type": "code",
   "execution_count": 114,
   "id": "271c6a1d",
   "metadata": {},
   "outputs": [],
   "source": [
    "df_final['Comment Second'] = df_final['comment time'].str[6:]"
   ]
  },
  {
   "cell_type": "code",
   "execution_count": 115,
   "id": "872da0d3",
   "metadata": {},
   "outputs": [
    {
     "data": {
      "text/plain": [
       "12900"
      ]
     },
     "execution_count": 115,
     "metadata": {},
     "output_type": "execute_result"
    }
   ],
   "source": [
    "df_final['Comment Hour'].isna().sum()"
   ]
  },
  {
   "cell_type": "code",
   "execution_count": 116,
   "id": "7a7ed74a",
   "metadata": {},
   "outputs": [
    {
     "data": {
      "text/plain": [
       "array([nan, '19', '12', '11', '13', '00', '15', '05', '16', '17', '08',\n",
       "       '18', '01', '22', '04', '14', '23', '20', '10', '06', '02', '09',\n",
       "       '07', '21', '03'], dtype=object)"
      ]
     },
     "execution_count": 116,
     "metadata": {},
     "output_type": "execute_result"
    }
   ],
   "source": [
    "df_final['Comment Hour'].unique()"
   ]
  },
  {
   "cell_type": "code",
   "execution_count": 117,
   "id": "90a2684d",
   "metadata": {},
   "outputs": [],
   "source": [
    "df_final['Comment Hour'].fillna(-1, inplace = True)"
   ]
  },
  {
   "cell_type": "code",
   "execution_count": 118,
   "id": "fd2d288b",
   "metadata": {},
   "outputs": [
    {
     "data": {
      "text/plain": [
       "12900"
      ]
     },
     "execution_count": 118,
     "metadata": {},
     "output_type": "execute_result"
    }
   ],
   "source": [
    "df_final['Comment Minute'].isna().sum()"
   ]
  },
  {
   "cell_type": "code",
   "execution_count": 119,
   "id": "2eaefc3a",
   "metadata": {},
   "outputs": [
    {
     "data": {
      "text/plain": [
       "array([nan, '46', '35', '17', '21', '33', '58', '42', '41', '25', '44',\n",
       "       '39', '34', '16', '36', '51', '24', '29', '37', '53', '32', '52',\n",
       "       '49', '15', '28', '06', '18', '14', '20', '22', '08', '11', '57',\n",
       "       '30', '04', '12', '56', '54', '55', '47', '05', '43', '38', '10',\n",
       "       '27', '01', '09', '19', '02', '23', '45', '31', '03', '00', '07',\n",
       "       '50', '48', '40', '26', '59', '13'], dtype=object)"
      ]
     },
     "execution_count": 119,
     "metadata": {},
     "output_type": "execute_result"
    }
   ],
   "source": [
    "df_final['Comment Minute'].unique()"
   ]
  },
  {
   "cell_type": "code",
   "execution_count": 120,
   "id": "db33e421",
   "metadata": {},
   "outputs": [],
   "source": [
    "df_final['Comment Minute'].fillna(-1, inplace = True)"
   ]
  },
  {
   "cell_type": "code",
   "execution_count": 121,
   "id": "e971265a",
   "metadata": {},
   "outputs": [
    {
     "data": {
      "text/plain": [
       "12900"
      ]
     },
     "execution_count": 121,
     "metadata": {},
     "output_type": "execute_result"
    }
   ],
   "source": [
    "df_final['Comment Second'].isna().sum()"
   ]
  },
  {
   "cell_type": "code",
   "execution_count": 122,
   "id": "050d7b26",
   "metadata": {},
   "outputs": [
    {
     "data": {
      "text/plain": [
       "array([nan, '53.564412', '02.540162', ..., '37.567408', '21.364650',\n",
       "       '29.720601'], dtype=object)"
      ]
     },
     "execution_count": 122,
     "metadata": {},
     "output_type": "execute_result"
    }
   ],
   "source": [
    "df_final['Comment Second'].unique()"
   ]
  },
  {
   "cell_type": "code",
   "execution_count": 123,
   "id": "98dca0f5",
   "metadata": {},
   "outputs": [],
   "source": [
    "df_final['Comment Second'].fillna(-1, inplace = True)"
   ]
  },
  {
   "cell_type": "code",
   "execution_count": 124,
   "id": "bf422c98",
   "metadata": {},
   "outputs": [
    {
     "data": {
      "text/plain": [
       "array([nan, 11., 14., 24., 15.,  4.,  9., 18., 17.,  8., 16., 31., 13.,\n",
       "       12.,  1.,  3., 25., 30.,  5., 29., 23., 19., 20., 21., 26.,  7.,\n",
       "        2., 27., 22., 28.,  6., 10.])"
      ]
     },
     "execution_count": 124,
     "metadata": {},
     "output_type": "execute_result"
    }
   ],
   "source": [
    "df_final['comment day of month'].unique()"
   ]
  },
  {
   "cell_type": "code",
   "execution_count": 125,
   "id": "548840b5",
   "metadata": {},
   "outputs": [],
   "source": [
    "df_final['comment day of month'].fillna(0, inplace = True)"
   ]
  },
  {
   "cell_type": "code",
   "execution_count": 126,
   "id": "e7f98e04",
   "metadata": {},
   "outputs": [],
   "source": [
    "df_final.drop('comment time', axis=1, inplace=True)"
   ]
  },
  {
   "cell_type": "markdown",
   "id": "0031159c",
   "metadata": {},
   "source": [
    "In starting 6 columns, we can't use any other method to fill because majority of the columns are null and if first row is only null means we cant use interpolate or padding methods."
   ]
  },
  {
   "cell_type": "markdown",
   "id": "da599bbd",
   "metadata": {},
   "source": [
    "We are using average beacuse less rows are missing and since there are no teams participating in teams in the competation the values reamins 1."
   ]
  },
  {
   "cell_type": "code",
   "execution_count": 127,
   "id": "8e00f64b",
   "metadata": {},
   "outputs": [
    {
     "data": {
      "text/plain": [
       "8829"
      ]
     },
     "execution_count": 127,
     "metadata": {},
     "output_type": "execute_result"
    }
   ],
   "source": [
    "df_final['Participant Type'].isna().sum()"
   ]
  },
  {
   "cell_type": "code",
   "execution_count": 128,
   "id": "19c7bc29",
   "metadata": {},
   "outputs": [
    {
     "data": {
      "text/plain": [
       "array([ 1., nan])"
      ]
     },
     "execution_count": 128,
     "metadata": {},
     "output_type": "execute_result"
    }
   ],
   "source": [
    "df_final[\"Participant Type\"].unique()"
   ]
  },
  {
   "cell_type": "code",
   "execution_count": 129,
   "id": "3d8efcf5",
   "metadata": {},
   "outputs": [
    {
     "data": {
      "text/plain": [
       "0.49675102599179205"
      ]
     },
     "execution_count": 129,
     "metadata": {},
     "output_type": "execute_result"
    }
   ],
   "source": [
    "df_temp = df_final[\"Participant Type\"]\n",
    "df_temp.fillna(0, inplace = True)\n",
    "d = df_temp.mean()\n",
    "d"
   ]
  },
  {
   "cell_type": "code",
   "execution_count": 130,
   "id": "33cf336e",
   "metadata": {},
   "outputs": [],
   "source": [
    "df_final['Participant Type'].fillna(d, inplace = True)"
   ]
  },
  {
   "cell_type": "code",
   "execution_count": 131,
   "id": "999010a6",
   "metadata": {},
   "outputs": [
    {
     "data": {
      "text/plain": [
       "array([nan, 'count 10', 'count 8', 'count 6', 'count 9', 'count 3',\n",
       "       'count 4', 'count 7', 'count 5'], dtype=object)"
      ]
     },
     "execution_count": 131,
     "metadata": {},
     "output_type": "execute_result"
    }
   ],
   "source": [
    "df_final[\"Successful Submission Count\"].unique()"
   ]
  },
  {
   "cell_type": "code",
   "execution_count": 132,
   "id": "fc5214b6",
   "metadata": {},
   "outputs": [
    {
     "data": {
      "text/plain": [
       "15189"
      ]
     },
     "execution_count": 132,
     "metadata": {},
     "output_type": "execute_result"
    }
   ],
   "source": [
    "df_final['Successful Submission Count'].isna().sum()"
   ]
  },
  {
   "cell_type": "code",
   "execution_count": 133,
   "id": "53b6a4b4",
   "metadata": {},
   "outputs": [],
   "source": [
    "df_final['Successful Submission Count'] = df_final['Successful Submission Count'].str[6:]"
   ]
  },
  {
   "cell_type": "code",
   "execution_count": 134,
   "id": "5b34c507",
   "metadata": {},
   "outputs": [],
   "source": [
    "df_final['Successful Submission Count'].fillna(0, inplace = True)"
   ]
  },
  {
   "cell_type": "code",
   "execution_count": 135,
   "id": "be193ece",
   "metadata": {},
   "outputs": [],
   "source": [
    "df_final.rename(columns={'Created At time_x': 'competition enrollment time'},  inplace = True)\n",
    "df_final.rename(columns={'Created At Day_of_month_x': 'competition enrollment day'},  inplace = True)"
   ]
  },
  {
   "cell_type": "code",
   "execution_count": 136,
   "id": "4e017791",
   "metadata": {},
   "outputs": [
    {
     "data": {
      "text/plain": [
       "array(['10:53:52.558030', nan, '18:57:59.998938', ..., '06:38:13.766016',\n",
       "       '10:25:06.366740', '04:23:17.682554'], dtype=object)"
      ]
     },
     "execution_count": 136,
     "metadata": {},
     "output_type": "execute_result"
    }
   ],
   "source": [
    "df_final['competition enrollment time'].unique()"
   ]
  },
  {
   "cell_type": "code",
   "execution_count": 137,
   "id": "60a0d8cb",
   "metadata": {},
   "outputs": [],
   "source": [
    "df_final['competition enrollment hour'] = df_final['competition enrollment time'].str[0:2]"
   ]
  },
  {
   "cell_type": "code",
   "execution_count": 138,
   "id": "8f9c9af7",
   "metadata": {},
   "outputs": [],
   "source": [
    "df_final['competition enrollment minute'] = df_final['competition enrollment time'].str[3:5]"
   ]
  },
  {
   "cell_type": "code",
   "execution_count": 139,
   "id": "cb2a9f24",
   "metadata": {},
   "outputs": [],
   "source": [
    "df_final['competition enrollment second'] = df_final['competition enrollment time'].str[6:]"
   ]
  },
  {
   "cell_type": "code",
   "execution_count": 140,
   "id": "0cc19cda",
   "metadata": {},
   "outputs": [
    {
     "data": {
      "text/plain": [
       "8829"
      ]
     },
     "execution_count": 140,
     "metadata": {},
     "output_type": "execute_result"
    }
   ],
   "source": [
    "df_final['competition enrollment hour'].isna().sum()"
   ]
  },
  {
   "cell_type": "code",
   "execution_count": 141,
   "id": "2d3b3bd8",
   "metadata": {},
   "outputs": [
    {
     "data": {
      "text/plain": [
       "array(['10', nan, '18', '15', '01', '16', '17', '22', '13', '02', '07',\n",
       "       '08', '19', '12', '09', '05', '21', '03', '23', '14', '06', '11',\n",
       "       '20', '00', '04'], dtype=object)"
      ]
     },
     "execution_count": 141,
     "metadata": {},
     "output_type": "execute_result"
    }
   ],
   "source": [
    "df_final['competition enrollment hour'].unique()"
   ]
  },
  {
   "cell_type": "code",
   "execution_count": 142,
   "id": "eca361a8",
   "metadata": {},
   "outputs": [],
   "source": [
    "df_final['competition enrollment hour'].fillna(-1, inplace = True)"
   ]
  },
  {
   "cell_type": "code",
   "execution_count": 143,
   "id": "dcbd0e8b",
   "metadata": {},
   "outputs": [
    {
     "data": {
      "text/plain": [
       "8829"
      ]
     },
     "execution_count": 143,
     "metadata": {},
     "output_type": "execute_result"
    }
   ],
   "source": [
    "df_final['competition enrollment minute'].isna().sum()"
   ]
  },
  {
   "cell_type": "code",
   "execution_count": 144,
   "id": "d5950cbe",
   "metadata": {},
   "outputs": [
    {
     "data": {
      "text/plain": [
       "array(['53', nan, '57', '49', '34', '07', '22', '59', '18', '15', '55',\n",
       "       '12', '29', '45', '51', '30', '38', '37', '41', '42', '47', '36',\n",
       "       '01', '09', '19', '40', '25', '33', '31', '16', '43', '06', '32',\n",
       "       '13', '20', '54', '58', '24', '46', '50', '04', '17', '28', '44',\n",
       "       '21', '00', '39', '48', '11', '26', '05', '03', '35', '10', '27',\n",
       "       '52', '14', '56', '23', '02', '08'], dtype=object)"
      ]
     },
     "execution_count": 144,
     "metadata": {},
     "output_type": "execute_result"
    }
   ],
   "source": [
    "df_final['competition enrollment minute'].unique()"
   ]
  },
  {
   "cell_type": "code",
   "execution_count": 145,
   "id": "344d38be",
   "metadata": {},
   "outputs": [],
   "source": [
    "df_final['competition enrollment minute'].fillna(-1, inplace = True)"
   ]
  },
  {
   "cell_type": "code",
   "execution_count": 146,
   "id": "53c75bce",
   "metadata": {},
   "outputs": [
    {
     "data": {
      "text/plain": [
       "8829"
      ]
     },
     "execution_count": 146,
     "metadata": {},
     "output_type": "execute_result"
    }
   ],
   "source": [
    "df_final['competition enrollment second'].isna().sum()"
   ]
  },
  {
   "cell_type": "code",
   "execution_count": 147,
   "id": "31838a58",
   "metadata": {},
   "outputs": [
    {
     "data": {
      "text/plain": [
       "array(['52.558030', nan, '59.998938', ..., '13.766016', '06.366740',\n",
       "       '17.682554'], dtype=object)"
      ]
     },
     "execution_count": 147,
     "metadata": {},
     "output_type": "execute_result"
    }
   ],
   "source": [
    "df_final['competition enrollment second'].unique()"
   ]
  },
  {
   "cell_type": "code",
   "execution_count": 148,
   "id": "a3807f2b",
   "metadata": {},
   "outputs": [],
   "source": [
    "df_final['competition enrollment second'].fillna(-1, inplace = True)"
   ]
  },
  {
   "cell_type": "code",
   "execution_count": 149,
   "id": "389ec48b",
   "metadata": {},
   "outputs": [],
   "source": [
    "df_final.drop('competition enrollment time', axis=1, inplace=True)"
   ]
  },
  {
   "cell_type": "code",
   "execution_count": 150,
   "id": "cfb08778",
   "metadata": {},
   "outputs": [
    {
     "data": {
      "text/plain": [
       "array([28., nan, 12.,  8., 17., 19.,  9.,  1.,  2., 30., 29., 13., 31.,\n",
       "        3., 20., 26., 27., 16.,  4., 10., 21., 23.,  5., 15., 18., 11.,\n",
       "        7., 24., 22., 25., 14.,  6.])"
      ]
     },
     "execution_count": 150,
     "metadata": {},
     "output_type": "execute_result"
    }
   ],
   "source": [
    "df_final['competition enrollment day'].unique()"
   ]
  },
  {
   "cell_type": "code",
   "execution_count": 151,
   "id": "2c878b97",
   "metadata": {},
   "outputs": [],
   "source": [
    "df_final['competition enrollment day'].fillna(0, inplace = True)"
   ]
  },
  {
   "cell_type": "code",
   "execution_count": 152,
   "id": "9d9d90d8",
   "metadata": {},
   "outputs": [
    {
     "data": {
      "text/plain": [
       "8829"
      ]
     },
     "execution_count": 152,
     "metadata": {},
     "output_type": "execute_result"
    }
   ],
   "source": [
    "df_final['FeatureA'].isna().sum()"
   ]
  },
  {
   "cell_type": "code",
   "execution_count": 153,
   "id": "fa424d3e",
   "metadata": {},
   "outputs": [
    {
     "data": {
      "text/plain": [
       "array(['[]', nan, '[1]', '[2]', '[1, 7]', '[4]', '[1, 6]', '[2, 4]',\n",
       "       '[3]', '[7]', '[3, 2]', '[4, 2]', '[5]', '[3, 7]', '[2, 3]',\n",
       "       '[4, 7, 2]', '[1, 9]', '[5, 4]', '[5, 2]', '[1, 4, 5]', '[8]',\n",
       "       '[2, 4, 5]', '[2, 7]', '[7, 3, 2]'], dtype=object)"
      ]
     },
     "execution_count": 153,
     "metadata": {},
     "output_type": "execute_result"
    }
   ],
   "source": [
    "df_final['FeatureA'].unique()"
   ]
  },
  {
   "cell_type": "code",
   "execution_count": 154,
   "id": "173a1668",
   "metadata": {},
   "outputs": [],
   "source": [
    "df_final['FeatureA'].fillna(-1, inplace = True)"
   ]
  },
  {
   "cell_type": "code",
   "execution_count": 155,
   "id": "2aa56679",
   "metadata": {},
   "outputs": [
    {
     "data": {
      "text/plain": [
       "array(['[]', nan, '[5]', '[9]', '[14]', '[2]', '[1]', '[7]', '[7, 5]',\n",
       "       '[6]', '[5, 6]', '[15]', '[12, 16]', '[10]', '[14, 8]', '[14, 7]',\n",
       "       '[16]', '[5, 7]', '[12]'], dtype=object)"
      ]
     },
     "execution_count": 155,
     "metadata": {},
     "output_type": "execute_result"
    }
   ],
   "source": [
    "df_final['FeatureB'].unique()"
   ]
  },
  {
   "cell_type": "code",
   "execution_count": 156,
   "id": "0d2e61c4",
   "metadata": {},
   "outputs": [],
   "source": [
    "df_final['FeatureB'].fillna(-1, inplace = True)"
   ]
  },
  {
   "cell_type": "code",
   "execution_count": 157,
   "id": "7f1959ba",
   "metadata": {},
   "outputs": [
    {
     "data": {
      "text/plain": [
       "array([nan, 28.,  4.,  2., 10., 15.,  6., 29., 11., 13.,  7., 24., 14.,\n",
       "       35.,  8.,  9.,  3.,  5., 25., 27., 20.,  1., 12., 37., 26., 31.,\n",
       "       18., 16.])"
      ]
     },
     "execution_count": 157,
     "metadata": {},
     "output_type": "execute_result"
    }
   ],
   "source": [
    "df_final['FeatureC'].unique()"
   ]
  },
  {
   "cell_type": "code",
   "execution_count": 158,
   "id": "95be403d",
   "metadata": {},
   "outputs": [],
   "source": [
    "df_final['FeatureC'].fillna(-1, inplace = True)"
   ]
  },
  {
   "cell_type": "code",
   "execution_count": 159,
   "id": "5bf0c2a7",
   "metadata": {},
   "outputs": [
    {
     "data": {
      "text/plain": [
       "array([ 0., nan,  1.])"
      ]
     },
     "execution_count": 159,
     "metadata": {},
     "output_type": "execute_result"
    }
   ],
   "source": [
    "df_final['FeatureD'].unique()"
   ]
  },
  {
   "cell_type": "code",
   "execution_count": 160,
   "id": "c8165638",
   "metadata": {},
   "outputs": [],
   "source": [
    "df_final['FeatureD'].fillna(-1, inplace = True)"
   ]
  },
  {
   "cell_type": "code",
   "execution_count": 161,
   "id": "bea84a69",
   "metadata": {},
   "outputs": [
    {
     "data": {
      "text/plain": [
       "array([ 3., nan,  2.,  1.])"
      ]
     },
     "execution_count": 161,
     "metadata": {},
     "output_type": "execute_result"
    }
   ],
   "source": [
    "df_final['FeatureE'].unique()"
   ]
  },
  {
   "cell_type": "code",
   "execution_count": 162,
   "id": "14e47be1",
   "metadata": {},
   "outputs": [],
   "source": [
    "df_final['FeatureE'].fillna(-1, inplace = True)"
   ]
  },
  {
   "cell_type": "code",
   "execution_count": 163,
   "id": "e86ce0a6",
   "metadata": {},
   "outputs": [
    {
     "data": {
      "text/plain": [
       "array(['[]', nan, '[7]', '[10]', '[1]', '[2]', '[2, 3]', '[3]', '[15]',\n",
       "       '[2, 8]', '[6]', '[3, 2]', '[1, 5]', '[9]', '[2, 11]', '[1, 12]',\n",
       "       '[2, 13]', '[2, 1]', '[1, 3]', '[3, 1]', '[8]', '[1, 11]'],\n",
       "      dtype=object)"
      ]
     },
     "execution_count": 163,
     "metadata": {},
     "output_type": "execute_result"
    }
   ],
   "source": [
    "df_final['FeatureF'].unique()"
   ]
  },
  {
   "cell_type": "code",
   "execution_count": 164,
   "id": "7ff2c5fe",
   "metadata": {},
   "outputs": [],
   "source": [
    "df_final['FeatureE'].fillna(-1, inplace = True)"
   ]
  },
  {
   "cell_type": "code",
   "execution_count": 165,
   "id": "06c6d03b",
   "metadata": {},
   "outputs": [
    {
     "data": {
      "text/plain": [
       "array(['[5]', nan, '[4]', '[3]', '[]', '[5, 3, 4]'], dtype=object)"
      ]
     },
     "execution_count": 165,
     "metadata": {},
     "output_type": "execute_result"
    }
   ],
   "source": [
    "df_final['FeatureG'].unique()"
   ]
  },
  {
   "cell_type": "code",
   "execution_count": 166,
   "id": "d0abe41a",
   "metadata": {},
   "outputs": [],
   "source": [
    "df_final['FeatureE'].fillna(-1, inplace = True)"
   ]
  },
  {
   "cell_type": "code",
   "execution_count": 167,
   "id": "78cc5f1e",
   "metadata": {},
   "outputs": [
    {
     "data": {
      "text/plain": [
       "array(['[1]', nan, '[]', '[10]', '[2]', '[3, 2]', '[2, 3]', '[3]', '[7]',\n",
       "       '[6]', '[8, 10]', '[9]', '[2, 8]', '[2, 1]', '[1, 3]', '[3, 1]',\n",
       "       '[8]'], dtype=object)"
      ]
     },
     "execution_count": 167,
     "metadata": {},
     "output_type": "execute_result"
    }
   ],
   "source": [
    "df_final['FeatureH'].unique()"
   ]
  },
  {
   "cell_type": "code",
   "execution_count": 168,
   "id": "a9f33892",
   "metadata": {},
   "outputs": [],
   "source": [
    "df_final['FeatureH'].fillna(-1, inplace = True)"
   ]
  },
  {
   "cell_type": "code",
   "execution_count": 169,
   "id": "c8099462",
   "metadata": {},
   "outputs": [
    {
     "data": {
      "text/plain": [
       "array([31., nan, 29., 28.,  4.,  2., 10., 15.,  6., 33., 11., 13.,  7.,\n",
       "       24., 14., 35.,  8.,  9.,  3.,  5., 25., 27., 20.,  1., 12., 37.,\n",
       "       26., 16.])"
      ]
     },
     "execution_count": 169,
     "metadata": {},
     "output_type": "execute_result"
    }
   ],
   "source": [
    "df_final['FeatureI'].unique()"
   ]
  },
  {
   "cell_type": "code",
   "execution_count": 170,
   "id": "452eaaa3",
   "metadata": {},
   "outputs": [],
   "source": [
    "df_final['FeatureI'].fillna(-1, inplace = True)"
   ]
  },
  {
   "cell_type": "code",
   "execution_count": 284,
   "id": "1626e422",
   "metadata": {},
   "outputs": [
    {
     "data": {
      "text/plain": [
       "array([ 0., nan,  1.])"
      ]
     },
     "execution_count": 284,
     "metadata": {},
     "output_type": "execute_result"
    }
   ],
   "source": [
    "df_final['FeatureX'].unique()"
   ]
  },
  {
   "cell_type": "code",
   "execution_count": 285,
   "id": "b1eb2904",
   "metadata": {},
   "outputs": [],
   "source": [
    "df_final['FeatureX'].fillna(-1, inplace = True)"
   ]
  },
  {
   "cell_type": "code",
   "execution_count": 286,
   "id": "78bcc98f",
   "metadata": {},
   "outputs": [
    {
     "data": {
      "text/plain": [
       "array([ 0.,  1., nan,  3.])"
      ]
     },
     "execution_count": 286,
     "metadata": {},
     "output_type": "execute_result"
    }
   ],
   "source": [
    "df_final['FeatureY'].unique()"
   ]
  },
  {
   "cell_type": "code",
   "execution_count": 287,
   "id": "f2c85e50",
   "metadata": {},
   "outputs": [],
   "source": [
    "df_final['FeatureY'].fillna(-1, inplace = True)"
   ]
  },
  {
   "cell_type": "code",
   "execution_count": 171,
   "id": "4c6cec9c",
   "metadata": {},
   "outputs": [
    {
     "data": {
      "text/plain": [
       "8829"
      ]
     },
     "execution_count": 171,
     "metadata": {},
     "output_type": "execute_result"
    }
   ],
   "source": [
    "df_final['SecretCode'].isna().sum()"
   ]
  },
  {
   "cell_type": "code",
   "execution_count": 172,
   "id": "c1e26e24",
   "metadata": {},
   "outputs": [
    {
     "data": {
      "text/plain": [
       "array([ 1., nan,  0.])"
      ]
     },
     "execution_count": 172,
     "metadata": {},
     "output_type": "execute_result"
    }
   ],
   "source": [
    "df_final['SecretCode'].unique()"
   ]
  },
  {
   "cell_type": "code",
   "execution_count": 173,
   "id": "ba7de0e4",
   "metadata": {},
   "outputs": [],
   "source": [
    "df_final['SecretCode'].fillna(-1, inplace = True)"
   ]
  },
  {
   "cell_type": "code",
   "execution_count": 174,
   "id": "ff5e0124",
   "metadata": {},
   "outputs": [],
   "source": [
    "df_final.rename(columns={'End Time time': 'competition ended time'},  inplace = True)\n",
    "df_final.rename(columns={'End Time Year': 'competition ended year'},  inplace = True)\n",
    "df_final.rename(columns={'End Time Month': 'competition ended month'},  inplace = True)\n",
    "df_final.rename(columns={'End Time Day_of_month': 'competition ended day'},  inplace = True)\n",
    "df_final.rename(columns={'Start Time time': 'competition started time'},  inplace = True)\n",
    "df_final.rename(columns={'Start Time Year': 'competition started year'},  inplace = True)\n",
    "df_final.rename(columns={'Start Time Month': 'competition started month'},  inplace = True)\n",
    "df_final.rename(columns={'Start Time Day_of_month': 'competition started day'},  inplace = True)"
   ]
  },
  {
   "cell_type": "code",
   "execution_count": 175,
   "id": "28d4770a",
   "metadata": {},
   "outputs": [
    {
     "data": {
      "text/plain": [
       "array(['22:59:00', nan, '23:59:00', '12:00:00', '11:59:00', '15:00:00',\n",
       "       '06:00:00', '05:59:00', '14:00:00', '23:30:00', '00:00:00',\n",
       "       '02:00:00', '11:00:00', '09:30:00'], dtype=object)"
      ]
     },
     "execution_count": 175,
     "metadata": {},
     "output_type": "execute_result"
    }
   ],
   "source": [
    "df_final['competition ended time'].unique()"
   ]
  },
  {
   "cell_type": "code",
   "execution_count": 176,
   "id": "a5c5f5ea",
   "metadata": {},
   "outputs": [],
   "source": [
    "df_final['competition ended hour'] = df_final['competition ended time'].str[0:2]\n",
    "df_final['competition ended minute'] = df_final['competition ended time'].str[3:5]\n",
    "df_final['competition ended second'] = df_final['competition ended time'].str[6:]"
   ]
  },
  {
   "cell_type": "code",
   "execution_count": 177,
   "id": "2573f1dd",
   "metadata": {},
   "outputs": [
    {
     "data": {
      "text/plain": [
       "10615"
      ]
     },
     "execution_count": 177,
     "metadata": {},
     "output_type": "execute_result"
    }
   ],
   "source": [
    "df_final['competition ended hour'].isna().sum()"
   ]
  },
  {
   "cell_type": "code",
   "execution_count": 178,
   "id": "d61e3dfe",
   "metadata": {},
   "outputs": [
    {
     "data": {
      "text/plain": [
       "array(['22', nan, '23', '12', '11', '15', '06', '05', '14', '00', '02',\n",
       "       '09'], dtype=object)"
      ]
     },
     "execution_count": 178,
     "metadata": {},
     "output_type": "execute_result"
    }
   ],
   "source": [
    "df_final['competition ended hour'].unique()"
   ]
  },
  {
   "cell_type": "code",
   "execution_count": 179,
   "id": "03f5bc99",
   "metadata": {},
   "outputs": [],
   "source": [
    "df_final['competition ended hour'].fillna(-1, inplace = True)"
   ]
  },
  {
   "cell_type": "code",
   "execution_count": 180,
   "id": "27abb6b4",
   "metadata": {},
   "outputs": [
    {
     "data": {
      "text/plain": [
       "10615"
      ]
     },
     "execution_count": 180,
     "metadata": {},
     "output_type": "execute_result"
    }
   ],
   "source": [
    "df_final['competition ended minute'].isna().sum()"
   ]
  },
  {
   "cell_type": "code",
   "execution_count": 181,
   "id": "b0dc6339",
   "metadata": {},
   "outputs": [
    {
     "data": {
      "text/plain": [
       "array(['59', nan, '00', '30'], dtype=object)"
      ]
     },
     "execution_count": 181,
     "metadata": {},
     "output_type": "execute_result"
    }
   ],
   "source": [
    "df_final['competition ended minute'].unique()"
   ]
  },
  {
   "cell_type": "code",
   "execution_count": 182,
   "id": "9dc923f1",
   "metadata": {},
   "outputs": [],
   "source": [
    "df_final['competition ended minute'].fillna(-1, inplace = True)"
   ]
  },
  {
   "cell_type": "code",
   "execution_count": 183,
   "id": "5149e6b7",
   "metadata": {},
   "outputs": [
    {
     "data": {
      "text/plain": [
       "10615"
      ]
     },
     "execution_count": 183,
     "metadata": {},
     "output_type": "execute_result"
    }
   ],
   "source": [
    "df_final['competition ended second'].isna().sum()"
   ]
  },
  {
   "cell_type": "code",
   "execution_count": 184,
   "id": "1daf976d",
   "metadata": {},
   "outputs": [
    {
     "data": {
      "text/plain": [
       "array(['00', nan], dtype=object)"
      ]
     },
     "execution_count": 184,
     "metadata": {},
     "output_type": "execute_result"
    }
   ],
   "source": [
    "df_final['competition ended second'].unique()"
   ]
  },
  {
   "cell_type": "code",
   "execution_count": 185,
   "id": "8d6e8419",
   "metadata": {},
   "outputs": [],
   "source": [
    "df_final['competition ended second'].fillna(-1, inplace = True)"
   ]
  },
  {
   "cell_type": "code",
   "execution_count": 186,
   "id": "cd7dae07",
   "metadata": {},
   "outputs": [],
   "source": [
    "df_final.drop('competition ended time', axis=1, inplace=True)"
   ]
  },
  {
   "cell_type": "code",
   "execution_count": 187,
   "id": "8dc88c60",
   "metadata": {},
   "outputs": [
    {
     "data": {
      "text/plain": [
       "array([ 1., nan,  2.,  3.,  4.,  5.])"
      ]
     },
     "execution_count": 187,
     "metadata": {},
     "output_type": "execute_result"
    }
   ],
   "source": [
    "df_final['competition ended year'].unique()"
   ]
  },
  {
   "cell_type": "code",
   "execution_count": 188,
   "id": "c55ac0fc",
   "metadata": {},
   "outputs": [],
   "source": [
    "df_final['competition ended year'].fillna(0, inplace = True)"
   ]
  },
  {
   "cell_type": "code",
   "execution_count": 189,
   "id": "b2811b01",
   "metadata": {},
   "outputs": [
    {
     "data": {
      "text/plain": [
       "array([ 2., nan,  3.,  5.,  1., 10.,  6.,  4., 12., 11.,  9.,  8.,  7.])"
      ]
     },
     "execution_count": 189,
     "metadata": {},
     "output_type": "execute_result"
    }
   ],
   "source": [
    "df_final['competition ended month'].unique()"
   ]
  },
  {
   "cell_type": "code",
   "execution_count": 190,
   "id": "fa2b466f",
   "metadata": {},
   "outputs": [],
   "source": [
    "df_final['competition ended month'].fillna(0, inplace = True)"
   ]
  },
  {
   "cell_type": "code",
   "execution_count": 191,
   "id": "2ceca791",
   "metadata": {},
   "outputs": [
    {
     "data": {
      "text/plain": [
       "array([ 3., nan, 28.,  7., 10.,  2.,  8., 26.,  1.,  5., 24., 14., 23.,\n",
       "       18., 30., 13.,  4., 25., 19., 29., 21.,  6., 27., 17., 31.,  9.,\n",
       "       16., 15., 20.])"
      ]
     },
     "execution_count": 191,
     "metadata": {},
     "output_type": "execute_result"
    }
   ],
   "source": [
    "df_final['competition ended day'].unique()"
   ]
  },
  {
   "cell_type": "code",
   "execution_count": 192,
   "id": "09832490",
   "metadata": {},
   "outputs": [],
   "source": [
    "df_final['competition ended day'].fillna(0, inplace = True)"
   ]
  },
  {
   "cell_type": "code",
   "execution_count": 193,
   "id": "22c426e7",
   "metadata": {},
   "outputs": [
    {
     "data": {
      "text/plain": [
       "array(['22:59:00', nan, '06:00:00', '08:00:00', '09:10:00', '02:00:00',\n",
       "       '07:00:00', '05:00:00', '11:00:00', '00:00:00', '23:00:00',\n",
       "       '10:00:00', '09:00:00', '23:59:00', '00:01:00', '10:30:00',\n",
       "       '12:00:00', '13:30:00', '13:00:00', '14:00:00', '04:00:00',\n",
       "       '20:00:00', '09:30:00', '15:00:00', '05:59:00', '01:59:00'],\n",
       "      dtype=object)"
      ]
     },
     "execution_count": 193,
     "metadata": {},
     "output_type": "execute_result"
    }
   ],
   "source": [
    "df_final['competition started time'].unique()"
   ]
  },
  {
   "cell_type": "code",
   "execution_count": 194,
   "id": "c28d4ad0",
   "metadata": {},
   "outputs": [],
   "source": [
    "df_final['competition started hour'] = df_final['competition started time'].str[0:2]\n",
    "df_final['competition started minute'] = df_final['competition started time'].str[3:5]\n",
    "df_final['competition started second'] = df_final['competition started time'].str[6:]"
   ]
  },
  {
   "cell_type": "code",
   "execution_count": 195,
   "id": "636b3d4b",
   "metadata": {},
   "outputs": [
    {
     "data": {
      "text/plain": [
       "8829"
      ]
     },
     "execution_count": 195,
     "metadata": {},
     "output_type": "execute_result"
    }
   ],
   "source": [
    "df_final['competition started hour'].isna().sum()"
   ]
  },
  {
   "cell_type": "code",
   "execution_count": 196,
   "id": "f9ade4d3",
   "metadata": {},
   "outputs": [
    {
     "data": {
      "text/plain": [
       "array(['22', nan, '06', '08', '09', '02', '07', '05', '11', '00', '23',\n",
       "       '10', '12', '13', '14', '04', '20', '15', '01'], dtype=object)"
      ]
     },
     "execution_count": 196,
     "metadata": {},
     "output_type": "execute_result"
    }
   ],
   "source": [
    "df_final['competition started hour'].unique()"
   ]
  },
  {
   "cell_type": "code",
   "execution_count": 197,
   "id": "21483759",
   "metadata": {},
   "outputs": [],
   "source": [
    "df_final['competition started hour'].fillna(-1, inplace = True)"
   ]
  },
  {
   "cell_type": "code",
   "execution_count": 198,
   "id": "d7ac4df1",
   "metadata": {},
   "outputs": [
    {
     "data": {
      "text/plain": [
       "8829"
      ]
     },
     "execution_count": 198,
     "metadata": {},
     "output_type": "execute_result"
    }
   ],
   "source": [
    "df_final['competition started minute'].isna().sum()"
   ]
  },
  {
   "cell_type": "code",
   "execution_count": 199,
   "id": "e7304644",
   "metadata": {},
   "outputs": [
    {
     "data": {
      "text/plain": [
       "array(['59', nan, '00', '10', '01', '30'], dtype=object)"
      ]
     },
     "execution_count": 199,
     "metadata": {},
     "output_type": "execute_result"
    }
   ],
   "source": [
    "df_final['competition started minute'].unique()"
   ]
  },
  {
   "cell_type": "code",
   "execution_count": 200,
   "id": "092d27da",
   "metadata": {},
   "outputs": [],
   "source": [
    "df_final['competition started minute'].fillna(-1, inplace = True)"
   ]
  },
  {
   "cell_type": "code",
   "execution_count": 201,
   "id": "67a4edcd",
   "metadata": {},
   "outputs": [
    {
     "data": {
      "text/plain": [
       "8829"
      ]
     },
     "execution_count": 201,
     "metadata": {},
     "output_type": "execute_result"
    }
   ],
   "source": [
    "df_final['competition started second'].isna().sum()"
   ]
  },
  {
   "cell_type": "code",
   "execution_count": 202,
   "id": "441819e6",
   "metadata": {},
   "outputs": [
    {
     "data": {
      "text/plain": [
       "array(['00', nan], dtype=object)"
      ]
     },
     "execution_count": 202,
     "metadata": {},
     "output_type": "execute_result"
    }
   ],
   "source": [
    "df_final['competition started second'].unique()"
   ]
  },
  {
   "cell_type": "code",
   "execution_count": 203,
   "id": "f5680373",
   "metadata": {},
   "outputs": [],
   "source": [
    "df_final['competition started second'].fillna(-1, inplace = True)"
   ]
  },
  {
   "cell_type": "code",
   "execution_count": 204,
   "id": "53654de0",
   "metadata": {},
   "outputs": [],
   "source": [
    "df_final.drop('competition started time', axis=1, inplace=True)"
   ]
  },
  {
   "cell_type": "code",
   "execution_count": 205,
   "id": "627fcf41",
   "metadata": {},
   "outputs": [
    {
     "data": {
      "text/plain": [
       "array([ 1., nan,  4.,  3.,  5.,  2.])"
      ]
     },
     "execution_count": 205,
     "metadata": {},
     "output_type": "execute_result"
    }
   ],
   "source": [
    "df_final['competition started year'].unique()"
   ]
  },
  {
   "cell_type": "code",
   "execution_count": 206,
   "id": "3c359fe2",
   "metadata": {},
   "outputs": [],
   "source": [
    "df_final['competition started year'].fillna(0, inplace = True)"
   ]
  },
  {
   "cell_type": "code",
   "execution_count": 207,
   "id": "982671cc",
   "metadata": {},
   "outputs": [
    {
     "data": {
      "text/plain": [
       "array([12., nan,  2.,  1., 11.,  9.,  3.,  5.,  6.,  4., 10.,  8.,  7.])"
      ]
     },
     "execution_count": 207,
     "metadata": {},
     "output_type": "execute_result"
    }
   ],
   "source": [
    "df_final['competition started month'].unique()"
   ]
  },
  {
   "cell_type": "code",
   "execution_count": 208,
   "id": "7b1880e8",
   "metadata": {},
   "outputs": [],
   "source": [
    "df_final['competition started month'].fillna(0, inplace = True)"
   ]
  },
  {
   "cell_type": "code",
   "execution_count": 209,
   "id": "84674d98",
   "metadata": {},
   "outputs": [
    {
     "data": {
      "text/plain": [
       "array([28., nan, 24.,  7.,  9.,  4., 15.,  1.,  3., 22., 13., 29., 14.,\n",
       "       11., 19.,  6.,  5., 16.,  2., 20., 30., 26., 25., 27., 23., 17.,\n",
       "       18., 21., 12.])"
      ]
     },
     "execution_count": 209,
     "metadata": {},
     "output_type": "execute_result"
    }
   ],
   "source": [
    "df_final['competition started day'].unique()"
   ]
  },
  {
   "cell_type": "code",
   "execution_count": 210,
   "id": "f3a17dad",
   "metadata": {},
   "outputs": [],
   "source": [
    "df_final['competition started day'].fillna(0, inplace = True)"
   ]
  },
  {
   "cell_type": "code",
   "execution_count": 211,
   "id": "21f1373d",
   "metadata": {},
   "outputs": [],
   "source": [
    "df_final.rename(columns={'datetime time': 'Time user completed action'},  inplace = True)\n",
    "df_final.rename(columns={'datetime Day_of_month': 'Day last active'},  inplace = True)"
   ]
  },
  {
   "cell_type": "code",
   "execution_count": 212,
   "id": "c236362b",
   "metadata": {},
   "outputs": [
    {
     "data": {
      "text/plain": [
       "array(['20:52:03', '10:38:23', '21:37:16', ..., '09:43:02', '08:23:16',\n",
       "       '05:23:57'], dtype=object)"
      ]
     },
     "execution_count": 212,
     "metadata": {},
     "output_type": "execute_result"
    }
   ],
   "source": [
    "df_final['Time user completed action'].unique()"
   ]
  },
  {
   "cell_type": "code",
   "execution_count": 213,
   "id": "60d9a9d4",
   "metadata": {},
   "outputs": [],
   "source": [
    "df_final['Time user completed action in hour'] = df_final['Time user completed action'].str[0:2]\n",
    "df_final['Time user completed action in minute'] = df_final['Time user completed action'].str[3:5]\n",
    "df_final['Time user completed action in second'] = df_final['Time user completed action'].str[6:]"
   ]
  },
  {
   "cell_type": "code",
   "execution_count": 214,
   "id": "e1df43fc",
   "metadata": {},
   "outputs": [
    {
     "data": {
      "text/plain": [
       "2252"
      ]
     },
     "execution_count": 214,
     "metadata": {},
     "output_type": "execute_result"
    }
   ],
   "source": [
    "df_final['Time user completed action in hour'].isna().sum()"
   ]
  },
  {
   "cell_type": "code",
   "execution_count": 215,
   "id": "f7ef9b60",
   "metadata": {},
   "outputs": [
    {
     "data": {
      "text/plain": [
       "array(['20', '10', '21', '23', '17', '14', '18', '22', '08', nan, '15',\n",
       "       '11', '13', '19', '07', '16', '12', '09', '04', '02', '03', '06',\n",
       "       '05', '01', '00'], dtype=object)"
      ]
     },
     "execution_count": 215,
     "metadata": {},
     "output_type": "execute_result"
    }
   ],
   "source": [
    "df_final['Time user completed action in hour'].unique()"
   ]
  },
  {
   "cell_type": "code",
   "execution_count": 216,
   "id": "e291fba5",
   "metadata": {},
   "outputs": [],
   "source": [
    "df_final['Time user completed action in hour'].fillna(-1, inplace = True)"
   ]
  },
  {
   "cell_type": "code",
   "execution_count": 217,
   "id": "ec0c8c35",
   "metadata": {},
   "outputs": [
    {
     "data": {
      "text/plain": [
       "2252"
      ]
     },
     "execution_count": 217,
     "metadata": {},
     "output_type": "execute_result"
    }
   ],
   "source": [
    "df_final['Time user completed action in minute'].isna().sum()"
   ]
  },
  {
   "cell_type": "code",
   "execution_count": 218,
   "id": "5dd8ff21",
   "metadata": {},
   "outputs": [
    {
     "data": {
      "text/plain": [
       "array(['52', '38', '37', '02', '20', '27', '59', '32', '26', '51', '30',\n",
       "       '39', '19', '06', '31', '23', '14', nan, '58', '50', '22', '28',\n",
       "       '42', '21', '47', '01', '57', '44', '33', '15', '16', '24', '43',\n",
       "       '54', '09', '00', '18', '12', '53', '46', '05', '34', '55', '25',\n",
       "       '17', '56', '10', '04', '45', '41', '11', '03', '36', '29', '48',\n",
       "       '35', '07', '40', '08', '13', '49'], dtype=object)"
      ]
     },
     "execution_count": 218,
     "metadata": {},
     "output_type": "execute_result"
    }
   ],
   "source": [
    "df_final['Time user completed action in minute'].unique()"
   ]
  },
  {
   "cell_type": "code",
   "execution_count": 219,
   "id": "2765b0f7",
   "metadata": {},
   "outputs": [],
   "source": [
    "df_final['Time user completed action in minute'].fillna(-1, inplace = True)"
   ]
  },
  {
   "cell_type": "code",
   "execution_count": 220,
   "id": "03dca499",
   "metadata": {},
   "outputs": [
    {
     "data": {
      "text/plain": [
       "2252"
      ]
     },
     "execution_count": 220,
     "metadata": {},
     "output_type": "execute_result"
    }
   ],
   "source": [
    "df_final['Time user completed action in second'].isna().sum()"
   ]
  },
  {
   "cell_type": "code",
   "execution_count": 221,
   "id": "15901947",
   "metadata": {},
   "outputs": [
    {
     "data": {
      "text/plain": [
       "array(['03', '23', '16', '44', '13', '20', '52', '55', '33', '21', '45',\n",
       "       '22', '57', '26', '11', '32', '31', '46', '36', '59', nan, '38',\n",
       "       '43', '34', '53', '08', '00', '35', '15', '24', '10', '27', '17',\n",
       "       '51', '56', '29', '42', '49', '05', '18', '28', '02', '09', '07',\n",
       "       '58', '41', '19', '39', '48', '54', '50', '04', '06', '12', '25',\n",
       "       '30', '40', '47', '01', '14', '37'], dtype=object)"
      ]
     },
     "execution_count": 221,
     "metadata": {},
     "output_type": "execute_result"
    }
   ],
   "source": [
    "df_final['Time user completed action in second'].unique()"
   ]
  },
  {
   "cell_type": "code",
   "execution_count": 222,
   "id": "cf0aeff2",
   "metadata": {},
   "outputs": [],
   "source": [
    "df_final['Time user completed action in second'].fillna(-1, inplace = True)"
   ]
  },
  {
   "cell_type": "code",
   "execution_count": 223,
   "id": "dda92750",
   "metadata": {},
   "outputs": [],
   "source": [
    "df_final.drop('Time user completed action', axis=1, inplace=True)"
   ]
  },
  {
   "cell_type": "code",
   "execution_count": 224,
   "id": "ab3f0138",
   "metadata": {},
   "outputs": [
    {
     "data": {
      "text/plain": [
       "array([28., 20., 24., 27., 29., 31., 30., 15., 26.,  5.,  6., nan, 10.,\n",
       "        9., 14.,  3.,  7., 19., 11., 18.,  4., 21.,  8., 25., 22., 13.,\n",
       "       17.,  1., 16., 23.,  2., 12.])"
      ]
     },
     "execution_count": 224,
     "metadata": {},
     "output_type": "execute_result"
    }
   ],
   "source": [
    "df_final['Day last active'].unique()"
   ]
  },
  {
   "cell_type": "code",
   "execution_count": 225,
   "id": "6d107de2",
   "metadata": {},
   "outputs": [],
   "source": [
    "df_final['competition started day'].fillna(0, inplace = True)"
   ]
  },
  {
   "cell_type": "code",
   "execution_count": 226,
   "id": "18c03d40",
   "metadata": {},
   "outputs": [
    {
     "data": {
      "text/plain": [
       "2252"
      ]
     },
     "execution_count": 226,
     "metadata": {},
     "output_type": "execute_result"
    }
   ],
   "source": [
    "df_final['count_UA'].isna().sum()"
   ]
  },
  {
   "cell_type": "code",
   "execution_count": 227,
   "id": "0f3b08b1",
   "metadata": {},
   "outputs": [
    {
     "data": {
      "text/plain": [
       "array([3.500e+01, 1.400e+01, 9.600e+01, 7.100e+01, 1.660e+02, 1.680e+02,\n",
       "       1.476e+03, 1.171e+03, 2.790e+02, 8.870e+02, 1.900e+01, 1.500e+01,\n",
       "       2.300e+01, 1.000e+01, 1.500e+02, 1.370e+02, 1.530e+02, 1.800e+02,\n",
       "       2.620e+02, 1.700e+01, 3.270e+02,       nan, 1.770e+02, 2.800e+01,\n",
       "       8.100e+01, 2.000e+01, 7.700e+01, 1.100e+02, 3.000e+01, 1.540e+02,\n",
       "       6.100e+01, 4.800e+01, 1.146e+03, 1.748e+03, 1.663e+03, 2.400e+01,\n",
       "       3.400e+01, 4.700e+01, 7.600e+01, 4.500e+01, 1.070e+02, 8.200e+01,\n",
       "       6.500e+01, 2.200e+01, 3.800e+01, 3.200e+01, 9.500e+01, 2.100e+01,\n",
       "       9.200e+01, 4.200e+01, 9.900e+01, 1.800e+01, 6.000e+01, 1.100e+01,\n",
       "       1.640e+02, 9.000e+00, 3.300e+01, 8.500e+01, 7.800e+01, 4.000e+01,\n",
       "       3.700e+01, 2.900e+01, 5.900e+01, 8.600e+01, 1.010e+02, 5.600e+01,\n",
       "       4.300e+01, 7.300e+01, 7.000e+01, 1.710e+02, 2.020e+02, 1.350e+02,\n",
       "       2.700e+01, 6.400e+01, 7.000e+00, 1.200e+01, 1.240e+02, 7.200e+01,\n",
       "       2.040e+02, 5.300e+01, 1.250e+02, 1.380e+02, 2.500e+01, 4.100e+01,\n",
       "       8.800e+01, 1.130e+02, 8.400e+01, 4.890e+02, 1.780e+02, 6.700e+01,\n",
       "       3.570e+02, 5.400e+01, 1.830e+02, 1.400e+02, 1.020e+02, 7.400e+01,\n",
       "       2.460e+02, 9.000e+01, 2.510e+02, 1.210e+02, 2.000e+02, 2.470e+02,\n",
       "       5.700e+01, 1.300e+02, 4.820e+02, 1.550e+02, 2.150e+02, 1.190e+02,\n",
       "       3.010e+02, 5.000e+01, 6.000e+00, 1.060e+02, 4.400e+01, 1.420e+02,\n",
       "       6.800e+01, 1.670e+02, 9.300e+01, 1.140e+02, 3.900e+01, 8.700e+01,\n",
       "       3.300e+02, 6.200e+01, 8.000e+01, 3.600e+01, 1.730e+02, 3.210e+02,\n",
       "       1.560e+02, 7.900e+01, 2.270e+02, 6.600e+01, 9.400e+01, 3.330e+02,\n",
       "       3.480e+02, 4.120e+02, 2.340e+02, 5.100e+01, 3.600e+02, 1.270e+02,\n",
       "       1.300e+01, 1.590e+02, 6.900e+01, 1.220e+02, 2.500e+02, 9.100e+01,\n",
       "       4.600e+01, 1.090e+02, 2.600e+01, 2.230e+02, 2.110e+02, 2.190e+02,\n",
       "       1.430e+02, 1.510e+02, 1.410e+02, 1.050e+02, 1.480e+02, 1.390e+02,\n",
       "       5.800e+01, 3.400e+02, 1.110e+02, 7.500e+01, 3.100e+01, 2.420e+02,\n",
       "       4.040e+02, 1.000e+02, 5.450e+02, 1.600e+01, 1.180e+02, 6.300e+01,\n",
       "       4.900e+01, 2.560e+02, 1.890e+02, 5.500e+01, 1.040e+02, 1.720e+02,\n",
       "       1.310e+02, 1.470e+02, 8.000e+00, 1.080e+02, 1.880e+02, 1.330e+02,\n",
       "       1.750e+02, 8.900e+01, 8.300e+01, 1.150e+02, 1.230e+02, 5.200e+01,\n",
       "       2.300e+02, 2.250e+02, 1.810e+02, 3.840e+02, 1.690e+02, 1.120e+02,\n",
       "       1.200e+02, 1.950e+02, 3.040e+02, 2.020e+03, 7.560e+02, 2.580e+02,\n",
       "       3.870e+02, 1.340e+02, 2.000e+00, 2.170e+02, 5.000e+00, 1.570e+02,\n",
       "       3.690e+02, 3.000e+00, 1.440e+02, 4.770e+02, 1.620e+02, 4.000e+00,\n",
       "       1.290e+02, 2.360e+02, 2.220e+02, 1.840e+02, 1.610e+02, 1.520e+02,\n",
       "       2.140e+02, 9.700e+01, 1.760e+02, 3.140e+02, 1.900e+02, 1.000e+00,\n",
       "       1.320e+02, 3.310e+02, 2.480e+02, 1.450e+02, 3.150e+02, 2.760e+02,\n",
       "       1.160e+02, 9.800e+01, 1.790e+02, 5.320e+02, 1.280e+02, 2.640e+02,\n",
       "       1.740e+02, 2.370e+02, 1.260e+02, 1.700e+02, 1.860e+02, 1.740e+03,\n",
       "       2.550e+02, 1.360e+02, 1.030e+02, 3.810e+02, 2.740e+02])"
      ]
     },
     "execution_count": 227,
     "metadata": {},
     "output_type": "execute_result"
    }
   ],
   "source": [
    "df_final['count_UA'].unique()"
   ]
  },
  {
   "cell_type": "code",
   "execution_count": 228,
   "id": "5611a4c0",
   "metadata": {},
   "outputs": [],
   "source": [
    "df_final['count_UA'].fillna(0, inplace = True)"
   ]
  },
  {
   "cell_type": "code",
   "execution_count": 229,
   "id": "527b766a",
   "metadata": {},
   "outputs": [],
   "source": [
    "df_final.rename(columns={'Created At time_y': 'Time user signed in'},  inplace = True)\n",
    "df_final.rename(columns={'Created At Day_of_month_y': 'day user signed in'},  inplace = True)"
   ]
  },
  {
   "cell_type": "code",
   "execution_count": 230,
   "id": "9c7b3d9f",
   "metadata": {},
   "outputs": [
    {
     "data": {
      "text/plain": [
       "array(['08:26:28.847530', '09:28:59.699371', '15:29:09.389920', ...,\n",
       "       '16:25:22.888762', '10:55:49.951592', '09:08:40.036689'],\n",
       "      dtype=object)"
      ]
     },
     "execution_count": 230,
     "metadata": {},
     "output_type": "execute_result"
    }
   ],
   "source": [
    "df_final['Time user signed in'].unique()"
   ]
  },
  {
   "cell_type": "code",
   "execution_count": 231,
   "id": "bc93bc01",
   "metadata": {},
   "outputs": [],
   "source": [
    "df_final['Time user signed in hour'] = df_final['Time user signed in'].str[0:2]\n",
    "df_final['Time user signed in minute'] = df_final['Time user signed in'].str[3:5]\n",
    "df_final['Time user signed in second'] = df_final['Time user signed in'].str[6:]"
   ]
  },
  {
   "cell_type": "code",
   "execution_count": 232,
   "id": "cbb6f0fd",
   "metadata": {},
   "outputs": [
    {
     "data": {
      "text/plain": [
       "5758"
      ]
     },
     "execution_count": 232,
     "metadata": {},
     "output_type": "execute_result"
    }
   ],
   "source": [
    "df_final['Time user signed in hour'].isna().sum()"
   ]
  },
  {
   "cell_type": "code",
   "execution_count": 233,
   "id": "d613180f",
   "metadata": {},
   "outputs": [
    {
     "data": {
      "text/plain": [
       "array(['08', '09', '15', '19', nan, '17', '20', '22', '13', '07', '05',\n",
       "       '06', '14', '18', '16', '03', '10', '23', '12', '11', '21', '04',\n",
       "       '00', '01', '02'], dtype=object)"
      ]
     },
     "execution_count": 233,
     "metadata": {},
     "output_type": "execute_result"
    }
   ],
   "source": [
    "df_final['Time user signed in hour'].unique()"
   ]
  },
  {
   "cell_type": "code",
   "execution_count": 234,
   "id": "df2f816a",
   "metadata": {},
   "outputs": [],
   "source": [
    "df_final['Time user signed in hour'].fillna(-1, inplace = True)"
   ]
  },
  {
   "cell_type": "code",
   "execution_count": 235,
   "id": "5f73dffc",
   "metadata": {},
   "outputs": [
    {
     "data": {
      "text/plain": [
       "5758"
      ]
     },
     "execution_count": 235,
     "metadata": {},
     "output_type": "execute_result"
    }
   ],
   "source": [
    "df_final['Time user signed in minute'].isna().sum()"
   ]
  },
  {
   "cell_type": "code",
   "execution_count": 236,
   "id": "60775c9f",
   "metadata": {},
   "outputs": [
    {
     "data": {
      "text/plain": [
       "array(['26', '28', '29', '25', nan, '21', '19', '48', '55', '37', '01',\n",
       "       '43', '24', '27', '47', '14', '52', '11', '02', '40', '42', '49',\n",
       "       '18', '06', '30', '44', '08', '57', '16', '41', '54', '53', '15',\n",
       "       '12', '23', '03', '20', '31', '10', '46', '50', '38', '36', '07',\n",
       "       '00', '05', '56', '13', '17', '04', '59', '35', '51', '22', '34',\n",
       "       '33', '45', '32', '39', '58', '09'], dtype=object)"
      ]
     },
     "execution_count": 236,
     "metadata": {},
     "output_type": "execute_result"
    }
   ],
   "source": [
    "df_final['Time user signed in minute'].unique()"
   ]
  },
  {
   "cell_type": "code",
   "execution_count": 237,
   "id": "b148d8e4",
   "metadata": {},
   "outputs": [],
   "source": [
    "df_final['Time user signed in minute'].fillna(-1, inplace = True)"
   ]
  },
  {
   "cell_type": "code",
   "execution_count": 238,
   "id": "15fffac8",
   "metadata": {},
   "outputs": [
    {
     "data": {
      "text/plain": [
       "5758"
      ]
     },
     "execution_count": 238,
     "metadata": {},
     "output_type": "execute_result"
    }
   ],
   "source": [
    "df_final['Time user signed in second'].isna().sum()"
   ]
  },
  {
   "cell_type": "code",
   "execution_count": 239,
   "id": "1c8d2053",
   "metadata": {},
   "outputs": [
    {
     "data": {
      "text/plain": [
       "array(['28.847530', '59.699371', '09.389920', ..., '22.888762',\n",
       "       '49.951592', '40.036689'], dtype=object)"
      ]
     },
     "execution_count": 239,
     "metadata": {},
     "output_type": "execute_result"
    }
   ],
   "source": [
    "df_final['Time user signed in second'].unique()"
   ]
  },
  {
   "cell_type": "code",
   "execution_count": 240,
   "id": "9b1fbb53",
   "metadata": {},
   "outputs": [],
   "source": [
    "df_final['Time user signed in second'].fillna(-1, inplace = True)"
   ]
  },
  {
   "cell_type": "code",
   "execution_count": 241,
   "id": "16d39387",
   "metadata": {},
   "outputs": [],
   "source": [
    "df_final.drop('Time user signed in', axis=1, inplace=True)"
   ]
  },
  {
   "cell_type": "code",
   "execution_count": 242,
   "id": "3a0d93a8",
   "metadata": {},
   "outputs": [
    {
     "data": {
      "text/plain": [
       "5758"
      ]
     },
     "execution_count": 242,
     "metadata": {},
     "output_type": "execute_result"
    }
   ],
   "source": [
    "df_final['day user signed in'].isna().sum()"
   ]
  },
  {
   "cell_type": "code",
   "execution_count": 243,
   "id": "1d991b12",
   "metadata": {},
   "outputs": [
    {
     "data": {
      "text/plain": [
       "array([20.,  8., 27., nan, 13., 31.,  3., 29.,  6.,  5., 26.,  4., 28.,\n",
       "       10., 18., 22., 17., 24., 30.,  1., 16., 21., 25.,  9., 14., 19.,\n",
       "       12.,  7.,  2., 15., 11., 23.])"
      ]
     },
     "execution_count": 243,
     "metadata": {},
     "output_type": "execute_result"
    }
   ],
   "source": [
    "df_final['day user signed in'].unique()"
   ]
  },
  {
   "cell_type": "code",
   "execution_count": 244,
   "id": "f924906b",
   "metadata": {},
   "outputs": [],
   "source": [
    "df_final['day user signed in'].fillna(0, inplace = True)"
   ]
  },
  {
   "cell_type": "code",
   "execution_count": 245,
   "id": "db2cc5c8",
   "metadata": {},
   "outputs": [],
   "source": [
    "df_final['Discussion Hour'] = pd.to_numeric(df_final['Discussion Hour'])\n",
    "df_final['Discussion Minute'] = pd.to_numeric(df_final['Discussion Minute'])\n",
    "df_final['Discussion Second'] = pd.to_numeric(df_final['Discussion Second'])\n",
    "df_final['Comment Hour'] = pd.to_numeric(df_final['Comment Hour'])\n",
    "df_final['Comment Minute'] = pd.to_numeric(df_final['Comment Minute'])\n",
    "df_final['Comment Second'] = pd.to_numeric(df_final['Comment Second'])\n",
    "df_final['competition enrollment hour'] = pd.to_numeric(df_final['competition enrollment hour'])\n",
    "df_final['competition enrollment minute'] = pd.to_numeric(df_final['competition enrollment minute'])\n",
    "df_final['competition enrollment second'] = pd.to_numeric(df_final['competition enrollment second'])"
   ]
  },
  {
   "cell_type": "code",
   "execution_count": 246,
   "id": "b48aa25e",
   "metadata": {},
   "outputs": [],
   "source": [
    "df_final['competition ended hour'] = pd.to_numeric(df_final['competition ended hour'])\n",
    "df_final['competition ended minute'] = pd.to_numeric(df_final['competition ended minute'])\n",
    "df_final['competition ended second'] = pd.to_numeric(df_final['competition ended second'])\n",
    "df_final['competition started hour'] = pd.to_numeric(df_final['competition started hour'])\n",
    "df_final['competition started minute'] = pd.to_numeric(df_final['competition started minute'])\n",
    "df_final['competition started second'] = pd.to_numeric(df_final['competition started second'])\n",
    "df_final['Time user completed action in hour'] = pd.to_numeric(df_final['Time user completed action in hour'])\n",
    "df_final['Time user completed action in minute'] = pd.to_numeric(df_final['Time user completed action in minute'])\n",
    "df_final['Time user completed action in second'] = pd.to_numeric(df_final['Time user completed action in second'])\n",
    "df_final['Time user signed in hour'] = pd.to_numeric(df_final['Time user signed in hour'])\n",
    "df_final['Time user signed in minute'] = pd.to_numeric(df_final['Time user signed in minute'])\n",
    "df_final['Time user signed in second'] = pd.to_numeric(df_final['Time user signed in second'])\n",
    "df_final['Successful Submission Count'] = pd.to_numeric(df_final['Successful Submission Count'])"
   ]
  },
  {
   "cell_type": "code",
   "execution_count": 247,
   "id": "af8312a2",
   "metadata": {},
   "outputs": [],
   "source": [
    "df_temp1 = df_final.groupby('User_ID').max()\n",
    "df_temp2 = df_final.groupby('User_ID').sum()\n",
    "df_temp3 = df_final.groupby('User_ID').count() \n",
    "df_temp4 = df_final.groupby('User_ID').mean()"
   ]
  },
  {
   "cell_type": "code",
   "execution_count": 248,
   "id": "0e047068",
   "metadata": {},
   "outputs": [
    {
     "name": "stdout",
     "output_type": "stream",
     "text": [
      "<class 'pandas.core.frame.DataFrame'>\n",
      "Index: 12246 entries, ID_00E5OHGR_Month_3 to ID_ZZXZVCJ8_Month_12\n",
      "Data columns (total 49 columns):\n",
      " #   Column                                Non-Null Count  Dtype  \n",
      "---  ------                                --------------  -----  \n",
      " 0   Personal                              12246 non-null  float64\n",
      " 1   Theme                                 12246 non-null  float64\n",
      " 2   Discussion day of month               12246 non-null  float64\n",
      " 3   comment day of month                  12246 non-null  float64\n",
      " 4   Participant Type                      12246 non-null  float64\n",
      " 5   Successful Submission Count           12246 non-null  int64  \n",
      " 6   competition enrollment day            12246 non-null  float64\n",
      " 7   FeatureA                              12246 non-null  object \n",
      " 8   FeatureB                              12246 non-null  object \n",
      " 9   FeatureC                              12246 non-null  float64\n",
      " 10  FeatureD                              12246 non-null  float64\n",
      " 11  FeatureE                              12246 non-null  float64\n",
      " 12  SecretCode                            12246 non-null  float64\n",
      " 13  FeatureF                              4012 non-null   object \n",
      " 14  FeatureG                              4012 non-null   object \n",
      " 15  FeatureH                              12246 non-null  object \n",
      " 16  FeatureI                              12246 non-null  float64\n",
      " 17  competition ended year                12246 non-null  float64\n",
      " 18  competition ended month               12246 non-null  float64\n",
      " 19  competition ended day                 12246 non-null  float64\n",
      " 20  competition started year              12246 non-null  float64\n",
      " 21  competition started month             12246 non-null  float64\n",
      " 22  competition started day               12246 non-null  float64\n",
      " 23  month user completed action           10876 non-null  float64\n",
      " 24  count_UA                              12246 non-null  float64\n",
      " 25  FeatureY                              8936 non-null   float64\n",
      " 26  FeatureX                              8936 non-null   float64\n",
      " 27  day user signed in                    12246 non-null  float64\n",
      " 28  Discussion Hour                       12246 non-null  int64  \n",
      " 29  Discussion Minute                     12246 non-null  int64  \n",
      " 30  Discussion Second                     12246 non-null  float64\n",
      " 31  Comment Hour                          12246 non-null  int64  \n",
      " 32  Comment Minute                        12246 non-null  int64  \n",
      " 33  Comment Second                        12246 non-null  float64\n",
      " 34  competition enrollment hour           12246 non-null  int64  \n",
      " 35  competition enrollment minute         12246 non-null  int64  \n",
      " 36  competition enrollment second         12246 non-null  float64\n",
      " 37  competition ended hour                12246 non-null  int64  \n",
      " 38  competition ended minute              12246 non-null  int64  \n",
      " 39  competition ended second              12246 non-null  int64  \n",
      " 40  competition started hour              12246 non-null  int64  \n",
      " 41  competition started minute            12246 non-null  int64  \n",
      " 42  competition started second            12246 non-null  int64  \n",
      " 43  Time user completed action in hour    12246 non-null  int64  \n",
      " 44  Time user completed action in minute  12246 non-null  int64  \n",
      " 45  Time user completed action in second  12246 non-null  int64  \n",
      " 46  Time user signed in hour              12246 non-null  int64  \n",
      " 47  Time user signed in minute            12246 non-null  int64  \n",
      " 48  Time user signed in second            12246 non-null  float64\n",
      "dtypes: float64(26), int64(18), object(5)\n",
      "memory usage: 4.7+ MB\n"
     ]
    }
   ],
   "source": [
    "df_temp1.info()"
   ]
  },
  {
   "cell_type": "code",
   "execution_count": 249,
   "id": "d54db73d",
   "metadata": {},
   "outputs": [],
   "source": [
    "df_final = df_temp1\n",
    "df_final[\"month user completed action\"] = df_temp1[\"month user completed action\"]\n",
    "df_final[\"count_UA\"] = df_temp2[\"count_UA\"]\n",
    "df_final[\"Theme\"] = df_temp4[\"Theme\"]\n",
    "df_final[\"Personal\"] = df_temp4[\"Personal\"]\n",
    "df_final[\"Participant Type\"] = df_temp4[\"Participant Type\"]\n",
    "df_final[\"Successful Submission Count\"] = df_temp2[\"Successful Submission Count\"]"
   ]
  },
  {
   "cell_type": "code",
   "execution_count": 250,
   "id": "a3709d89",
   "metadata": {},
   "outputs": [],
   "source": [
    "df_final.reset_index(level=0, inplace=True)"
   ]
  },
  {
   "cell_type": "code",
   "execution_count": 251,
   "id": "d0698bdd",
   "metadata": {},
   "outputs": [
    {
     "name": "stdout",
     "output_type": "stream",
     "text": [
      "<class 'pandas.core.frame.DataFrame'>\n",
      "RangeIndex: 12246 entries, 0 to 12245\n",
      "Data columns (total 50 columns):\n",
      " #   Column                                Non-Null Count  Dtype  \n",
      "---  ------                                --------------  -----  \n",
      " 0   User_ID                               12246 non-null  object \n",
      " 1   Personal                              12246 non-null  float64\n",
      " 2   Theme                                 12246 non-null  float64\n",
      " 3   Discussion day of month               12246 non-null  float64\n",
      " 4   comment day of month                  12246 non-null  float64\n",
      " 5   Participant Type                      12246 non-null  float64\n",
      " 6   Successful Submission Count           12246 non-null  int64  \n",
      " 7   competition enrollment day            12246 non-null  float64\n",
      " 8   FeatureA                              12246 non-null  object \n",
      " 9   FeatureB                              12246 non-null  object \n",
      " 10  FeatureC                              12246 non-null  float64\n",
      " 11  FeatureD                              12246 non-null  float64\n",
      " 12  FeatureE                              12246 non-null  float64\n",
      " 13  SecretCode                            12246 non-null  float64\n",
      " 14  FeatureF                              4012 non-null   object \n",
      " 15  FeatureG                              4012 non-null   object \n",
      " 16  FeatureH                              12246 non-null  object \n",
      " 17  FeatureI                              12246 non-null  float64\n",
      " 18  competition ended year                12246 non-null  float64\n",
      " 19  competition ended month               12246 non-null  float64\n",
      " 20  competition ended day                 12246 non-null  float64\n",
      " 21  competition started year              12246 non-null  float64\n",
      " 22  competition started month             12246 non-null  float64\n",
      " 23  competition started day               12246 non-null  float64\n",
      " 24  month user completed action           10876 non-null  float64\n",
      " 25  count_UA                              12246 non-null  float64\n",
      " 26  FeatureY                              8936 non-null   float64\n",
      " 27  FeatureX                              8936 non-null   float64\n",
      " 28  day user signed in                    12246 non-null  float64\n",
      " 29  Discussion Hour                       12246 non-null  int64  \n",
      " 30  Discussion Minute                     12246 non-null  int64  \n",
      " 31  Discussion Second                     12246 non-null  float64\n",
      " 32  Comment Hour                          12246 non-null  int64  \n",
      " 33  Comment Minute                        12246 non-null  int64  \n",
      " 34  Comment Second                        12246 non-null  float64\n",
      " 35  competition enrollment hour           12246 non-null  int64  \n",
      " 36  competition enrollment minute         12246 non-null  int64  \n",
      " 37  competition enrollment second         12246 non-null  float64\n",
      " 38  competition ended hour                12246 non-null  int64  \n",
      " 39  competition ended minute              12246 non-null  int64  \n",
      " 40  competition ended second              12246 non-null  int64  \n",
      " 41  competition started hour              12246 non-null  int64  \n",
      " 42  competition started minute            12246 non-null  int64  \n",
      " 43  competition started second            12246 non-null  int64  \n",
      " 44  Time user completed action in hour    12246 non-null  int64  \n",
      " 45  Time user completed action in minute  12246 non-null  int64  \n",
      " 46  Time user completed action in second  12246 non-null  int64  \n",
      " 47  Time user signed in hour              12246 non-null  int64  \n",
      " 48  Time user signed in minute            12246 non-null  int64  \n",
      " 49  Time user signed in second            12246 non-null  float64\n",
      "dtypes: float64(26), int64(18), object(6)\n",
      "memory usage: 4.7+ MB\n"
     ]
    }
   ],
   "source": [
    "df_final.info()"
   ]
  },
  {
   "cell_type": "code",
   "execution_count": 252,
   "id": "a754a1ca",
   "metadata": {},
   "outputs": [
    {
     "data": {
      "text/html": [
       "<div>\n",
       "<style scoped>\n",
       "    .dataframe tbody tr th:only-of-type {\n",
       "        vertical-align: middle;\n",
       "    }\n",
       "\n",
       "    .dataframe tbody tr th {\n",
       "        vertical-align: top;\n",
       "    }\n",
       "\n",
       "    .dataframe thead th {\n",
       "        text-align: right;\n",
       "    }\n",
       "</style>\n",
       "<table border=\"1\" class=\"dataframe\">\n",
       "  <thead>\n",
       "    <tr style=\"text-align: right;\">\n",
       "      <th></th>\n",
       "      <th>User_ID</th>\n",
       "      <th>Personal</th>\n",
       "      <th>Theme</th>\n",
       "      <th>Discussion day of month</th>\n",
       "      <th>comment day of month</th>\n",
       "      <th>Participant Type</th>\n",
       "      <th>Successful Submission Count</th>\n",
       "      <th>competition enrollment day</th>\n",
       "      <th>FeatureA</th>\n",
       "      <th>FeatureB</th>\n",
       "      <th>...</th>\n",
       "      <th>competition ended second</th>\n",
       "      <th>competition started hour</th>\n",
       "      <th>competition started minute</th>\n",
       "      <th>competition started second</th>\n",
       "      <th>Time user completed action in hour</th>\n",
       "      <th>Time user completed action in minute</th>\n",
       "      <th>Time user completed action in second</th>\n",
       "      <th>Time user signed in hour</th>\n",
       "      <th>Time user signed in minute</th>\n",
       "      <th>Time user signed in second</th>\n",
       "    </tr>\n",
       "  </thead>\n",
       "  <tbody>\n",
       "    <tr>\n",
       "      <th>0</th>\n",
       "      <td>ID_00E5OHGR_Month_3</td>\n",
       "      <td>-1.0</td>\n",
       "      <td>-1.0</td>\n",
       "      <td>0.0</td>\n",
       "      <td>0.0</td>\n",
       "      <td>1.0</td>\n",
       "      <td>0</td>\n",
       "      <td>15.0</td>\n",
       "      <td>[7]</td>\n",
       "      <td>[2]</td>\n",
       "      <td>...</td>\n",
       "      <td>0</td>\n",
       "      <td>23</td>\n",
       "      <td>59</td>\n",
       "      <td>0</td>\n",
       "      <td>11</td>\n",
       "      <td>10</td>\n",
       "      <td>23</td>\n",
       "      <td>8</td>\n",
       "      <td>29</td>\n",
       "      <td>49.568521</td>\n",
       "    </tr>\n",
       "    <tr>\n",
       "      <th>1</th>\n",
       "      <td>ID_00ETFE7J_Month_3</td>\n",
       "      <td>-1.0</td>\n",
       "      <td>-1.0</td>\n",
       "      <td>0.0</td>\n",
       "      <td>0.0</td>\n",
       "      <td>1.0</td>\n",
       "      <td>10</td>\n",
       "      <td>12.0</td>\n",
       "      <td>[1]</td>\n",
       "      <td>[9]</td>\n",
       "      <td>...</td>\n",
       "      <td>-1</td>\n",
       "      <td>0</td>\n",
       "      <td>0</td>\n",
       "      <td>0</td>\n",
       "      <td>23</td>\n",
       "      <td>41</td>\n",
       "      <td>28</td>\n",
       "      <td>20</td>\n",
       "      <td>53</td>\n",
       "      <td>4.318404</td>\n",
       "    </tr>\n",
       "    <tr>\n",
       "      <th>2</th>\n",
       "      <td>ID_00HJDB09_Month_2</td>\n",
       "      <td>-1.0</td>\n",
       "      <td>-1.0</td>\n",
       "      <td>0.0</td>\n",
       "      <td>0.0</td>\n",
       "      <td>0.0</td>\n",
       "      <td>0</td>\n",
       "      <td>0.0</td>\n",
       "      <td>-1</td>\n",
       "      <td>-1</td>\n",
       "      <td>...</td>\n",
       "      <td>-1</td>\n",
       "      <td>-1</td>\n",
       "      <td>-1</td>\n",
       "      <td>-1</td>\n",
       "      <td>9</td>\n",
       "      <td>2</td>\n",
       "      <td>9</td>\n",
       "      <td>6</td>\n",
       "      <td>51</td>\n",
       "      <td>48.183997</td>\n",
       "    </tr>\n",
       "    <tr>\n",
       "      <th>3</th>\n",
       "      <td>ID_00V7K62T_Month_1</td>\n",
       "      <td>-1.0</td>\n",
       "      <td>-1.0</td>\n",
       "      <td>0.0</td>\n",
       "      <td>0.0</td>\n",
       "      <td>0.0</td>\n",
       "      <td>0</td>\n",
       "      <td>0.0</td>\n",
       "      <td>-1</td>\n",
       "      <td>-1</td>\n",
       "      <td>...</td>\n",
       "      <td>-1</td>\n",
       "      <td>-1</td>\n",
       "      <td>-1</td>\n",
       "      <td>-1</td>\n",
       "      <td>9</td>\n",
       "      <td>43</td>\n",
       "      <td>13</td>\n",
       "      <td>-1</td>\n",
       "      <td>-1</td>\n",
       "      <td>-1.000000</td>\n",
       "    </tr>\n",
       "    <tr>\n",
       "      <th>4</th>\n",
       "      <td>ID_00V7K62T_Month_11</td>\n",
       "      <td>-1.0</td>\n",
       "      <td>-1.0</td>\n",
       "      <td>0.0</td>\n",
       "      <td>0.0</td>\n",
       "      <td>0.0</td>\n",
       "      <td>0</td>\n",
       "      <td>0.0</td>\n",
       "      <td>-1</td>\n",
       "      <td>-1</td>\n",
       "      <td>...</td>\n",
       "      <td>-1</td>\n",
       "      <td>-1</td>\n",
       "      <td>-1</td>\n",
       "      <td>-1</td>\n",
       "      <td>7</td>\n",
       "      <td>47</td>\n",
       "      <td>32</td>\n",
       "      <td>5</td>\n",
       "      <td>47</td>\n",
       "      <td>15.776115</td>\n",
       "    </tr>\n",
       "    <tr>\n",
       "      <th>...</th>\n",
       "      <td>...</td>\n",
       "      <td>...</td>\n",
       "      <td>...</td>\n",
       "      <td>...</td>\n",
       "      <td>...</td>\n",
       "      <td>...</td>\n",
       "      <td>...</td>\n",
       "      <td>...</td>\n",
       "      <td>...</td>\n",
       "      <td>...</td>\n",
       "      <td>...</td>\n",
       "      <td>...</td>\n",
       "      <td>...</td>\n",
       "      <td>...</td>\n",
       "      <td>...</td>\n",
       "      <td>...</td>\n",
       "      <td>...</td>\n",
       "      <td>...</td>\n",
       "      <td>...</td>\n",
       "      <td>...</td>\n",
       "      <td>...</td>\n",
       "    </tr>\n",
       "    <tr>\n",
       "      <th>12241</th>\n",
       "      <td>ID_ZZQK0LU6_Month_1</td>\n",
       "      <td>-1.0</td>\n",
       "      <td>-1.0</td>\n",
       "      <td>0.0</td>\n",
       "      <td>0.0</td>\n",
       "      <td>0.0</td>\n",
       "      <td>0</td>\n",
       "      <td>0.0</td>\n",
       "      <td>-1</td>\n",
       "      <td>-1</td>\n",
       "      <td>...</td>\n",
       "      <td>-1</td>\n",
       "      <td>-1</td>\n",
       "      <td>-1</td>\n",
       "      <td>-1</td>\n",
       "      <td>11</td>\n",
       "      <td>38</td>\n",
       "      <td>50</td>\n",
       "      <td>10</td>\n",
       "      <td>22</td>\n",
       "      <td>28.618352</td>\n",
       "    </tr>\n",
       "    <tr>\n",
       "      <th>12242</th>\n",
       "      <td>ID_ZZT2KLLN_Month_3</td>\n",
       "      <td>-1.0</td>\n",
       "      <td>-1.0</td>\n",
       "      <td>0.0</td>\n",
       "      <td>0.0</td>\n",
       "      <td>0.0</td>\n",
       "      <td>0</td>\n",
       "      <td>0.0</td>\n",
       "      <td>-1</td>\n",
       "      <td>-1</td>\n",
       "      <td>...</td>\n",
       "      <td>-1</td>\n",
       "      <td>-1</td>\n",
       "      <td>-1</td>\n",
       "      <td>-1</td>\n",
       "      <td>5</td>\n",
       "      <td>23</td>\n",
       "      <td>57</td>\n",
       "      <td>4</td>\n",
       "      <td>21</td>\n",
       "      <td>59.028835</td>\n",
       "    </tr>\n",
       "    <tr>\n",
       "      <th>12243</th>\n",
       "      <td>ID_ZZVUJ45W_Month_2</td>\n",
       "      <td>-1.0</td>\n",
       "      <td>-1.0</td>\n",
       "      <td>0.0</td>\n",
       "      <td>0.0</td>\n",
       "      <td>1.0</td>\n",
       "      <td>0</td>\n",
       "      <td>15.0</td>\n",
       "      <td>[1]</td>\n",
       "      <td>[]</td>\n",
       "      <td>...</td>\n",
       "      <td>0</td>\n",
       "      <td>13</td>\n",
       "      <td>30</td>\n",
       "      <td>0</td>\n",
       "      <td>-1</td>\n",
       "      <td>-1</td>\n",
       "      <td>-1</td>\n",
       "      <td>9</td>\n",
       "      <td>4</td>\n",
       "      <td>8.881773</td>\n",
       "    </tr>\n",
       "    <tr>\n",
       "      <th>12244</th>\n",
       "      <td>ID_ZZXZVCJ8_Month_11</td>\n",
       "      <td>-1.0</td>\n",
       "      <td>-1.0</td>\n",
       "      <td>0.0</td>\n",
       "      <td>0.0</td>\n",
       "      <td>1.0</td>\n",
       "      <td>0</td>\n",
       "      <td>22.0</td>\n",
       "      <td>[1]</td>\n",
       "      <td>[]</td>\n",
       "      <td>...</td>\n",
       "      <td>-1</td>\n",
       "      <td>9</td>\n",
       "      <td>0</td>\n",
       "      <td>0</td>\n",
       "      <td>14</td>\n",
       "      <td>53</td>\n",
       "      <td>44</td>\n",
       "      <td>12</td>\n",
       "      <td>53</td>\n",
       "      <td>31.956136</td>\n",
       "    </tr>\n",
       "    <tr>\n",
       "      <th>12245</th>\n",
       "      <td>ID_ZZXZVCJ8_Month_12</td>\n",
       "      <td>-1.0</td>\n",
       "      <td>-1.0</td>\n",
       "      <td>0.0</td>\n",
       "      <td>0.0</td>\n",
       "      <td>0.0</td>\n",
       "      <td>0</td>\n",
       "      <td>0.0</td>\n",
       "      <td>-1</td>\n",
       "      <td>-1</td>\n",
       "      <td>...</td>\n",
       "      <td>-1</td>\n",
       "      <td>-1</td>\n",
       "      <td>-1</td>\n",
       "      <td>-1</td>\n",
       "      <td>13</td>\n",
       "      <td>53</td>\n",
       "      <td>53</td>\n",
       "      <td>-1</td>\n",
       "      <td>-1</td>\n",
       "      <td>-1.000000</td>\n",
       "    </tr>\n",
       "  </tbody>\n",
       "</table>\n",
       "<p>12246 rows × 50 columns</p>\n",
       "</div>"
      ],
      "text/plain": [
       "                    User_ID  Personal  Theme  Discussion day of month  \\\n",
       "0       ID_00E5OHGR_Month_3      -1.0   -1.0                      0.0   \n",
       "1       ID_00ETFE7J_Month_3      -1.0   -1.0                      0.0   \n",
       "2       ID_00HJDB09_Month_2      -1.0   -1.0                      0.0   \n",
       "3       ID_00V7K62T_Month_1      -1.0   -1.0                      0.0   \n",
       "4      ID_00V7K62T_Month_11      -1.0   -1.0                      0.0   \n",
       "...                     ...       ...    ...                      ...   \n",
       "12241   ID_ZZQK0LU6_Month_1      -1.0   -1.0                      0.0   \n",
       "12242   ID_ZZT2KLLN_Month_3      -1.0   -1.0                      0.0   \n",
       "12243   ID_ZZVUJ45W_Month_2      -1.0   -1.0                      0.0   \n",
       "12244  ID_ZZXZVCJ8_Month_11      -1.0   -1.0                      0.0   \n",
       "12245  ID_ZZXZVCJ8_Month_12      -1.0   -1.0                      0.0   \n",
       "\n",
       "       comment day of month  Participant Type  Successful Submission Count  \\\n",
       "0                       0.0               1.0                            0   \n",
       "1                       0.0               1.0                           10   \n",
       "2                       0.0               0.0                            0   \n",
       "3                       0.0               0.0                            0   \n",
       "4                       0.0               0.0                            0   \n",
       "...                     ...               ...                          ...   \n",
       "12241                   0.0               0.0                            0   \n",
       "12242                   0.0               0.0                            0   \n",
       "12243                   0.0               1.0                            0   \n",
       "12244                   0.0               1.0                            0   \n",
       "12245                   0.0               0.0                            0   \n",
       "\n",
       "       competition enrollment day FeatureA FeatureB  ...  \\\n",
       "0                            15.0      [7]      [2]  ...   \n",
       "1                            12.0      [1]      [9]  ...   \n",
       "2                             0.0       -1       -1  ...   \n",
       "3                             0.0       -1       -1  ...   \n",
       "4                             0.0       -1       -1  ...   \n",
       "...                           ...      ...      ...  ...   \n",
       "12241                         0.0       -1       -1  ...   \n",
       "12242                         0.0       -1       -1  ...   \n",
       "12243                        15.0      [1]       []  ...   \n",
       "12244                        22.0      [1]       []  ...   \n",
       "12245                         0.0       -1       -1  ...   \n",
       "\n",
       "       competition ended second  competition started hour  \\\n",
       "0                             0                        23   \n",
       "1                            -1                         0   \n",
       "2                            -1                        -1   \n",
       "3                            -1                        -1   \n",
       "4                            -1                        -1   \n",
       "...                         ...                       ...   \n",
       "12241                        -1                        -1   \n",
       "12242                        -1                        -1   \n",
       "12243                         0                        13   \n",
       "12244                        -1                         9   \n",
       "12245                        -1                        -1   \n",
       "\n",
       "       competition started minute  competition started second  \\\n",
       "0                              59                           0   \n",
       "1                               0                           0   \n",
       "2                              -1                          -1   \n",
       "3                              -1                          -1   \n",
       "4                              -1                          -1   \n",
       "...                           ...                         ...   \n",
       "12241                          -1                          -1   \n",
       "12242                          -1                          -1   \n",
       "12243                          30                           0   \n",
       "12244                           0                           0   \n",
       "12245                          -1                          -1   \n",
       "\n",
       "      Time user completed action in hour Time user completed action in minute  \\\n",
       "0                                     11                                   10   \n",
       "1                                     23                                   41   \n",
       "2                                      9                                    2   \n",
       "3                                      9                                   43   \n",
       "4                                      7                                   47   \n",
       "...                                  ...                                  ...   \n",
       "12241                                 11                                   38   \n",
       "12242                                  5                                   23   \n",
       "12243                                 -1                                   -1   \n",
       "12244                                 14                                   53   \n",
       "12245                                 13                                   53   \n",
       "\n",
       "      Time user completed action in second  Time user signed in hour  \\\n",
       "0                                       23                         8   \n",
       "1                                       28                        20   \n",
       "2                                        9                         6   \n",
       "3                                       13                        -1   \n",
       "4                                       32                         5   \n",
       "...                                    ...                       ...   \n",
       "12241                                   50                        10   \n",
       "12242                                   57                         4   \n",
       "12243                                   -1                         9   \n",
       "12244                                   44                        12   \n",
       "12245                                   53                        -1   \n",
       "\n",
       "       Time user signed in minute  Time user signed in second  \n",
       "0                              29                   49.568521  \n",
       "1                              53                    4.318404  \n",
       "2                              51                   48.183997  \n",
       "3                              -1                   -1.000000  \n",
       "4                              47                   15.776115  \n",
       "...                           ...                         ...  \n",
       "12241                          22                   28.618352  \n",
       "12242                          21                   59.028835  \n",
       "12243                           4                    8.881773  \n",
       "12244                          53                   31.956136  \n",
       "12245                          -1                   -1.000000  \n",
       "\n",
       "[12246 rows x 50 columns]"
      ]
     },
     "execution_count": 252,
     "metadata": {},
     "output_type": "execute_result"
    }
   ],
   "source": [
    "df_final"
   ]
  },
  {
   "cell_type": "markdown",
   "id": "244a90ab",
   "metadata": {},
   "source": [
    "# ACTIVE"
   ]
  },
  {
   "cell_type": "code",
   "execution_count": 267,
   "id": "de3ed010",
   "metadata": {},
   "outputs": [],
   "source": [
    "conditions = [\n",
    "    (df_final['count_UA'] >= 15) | (df_final['Successful Submission Count'] > 0) | ((df_final['Discussion day of month'] > 0) & (df_final[\"comment day of month\"] > 0)),\n",
    "    (df_final[\"count_UA\"] > -1)\n",
    "    ]\n",
    "\n",
    "values = [1, 0]\n",
    "\n",
    "df_final['Active'] = np.select(conditions, values)"
   ]
  },
  {
   "cell_type": "code",
   "execution_count": 268,
   "id": "cfb5a2e3",
   "metadata": {},
   "outputs": [
    {
     "data": {
      "text/html": [
       "<div>\n",
       "<style scoped>\n",
       "    .dataframe tbody tr th:only-of-type {\n",
       "        vertical-align: middle;\n",
       "    }\n",
       "\n",
       "    .dataframe tbody tr th {\n",
       "        vertical-align: top;\n",
       "    }\n",
       "\n",
       "    .dataframe thead th {\n",
       "        text-align: right;\n",
       "    }\n",
       "</style>\n",
       "<table border=\"1\" class=\"dataframe\">\n",
       "  <thead>\n",
       "    <tr style=\"text-align: right;\">\n",
       "      <th></th>\n",
       "      <th>User_ID</th>\n",
       "      <th>Personal</th>\n",
       "      <th>Theme</th>\n",
       "      <th>Discussion day of month</th>\n",
       "      <th>comment day of month</th>\n",
       "      <th>Participant Type</th>\n",
       "      <th>Successful Submission Count</th>\n",
       "      <th>competition enrollment day</th>\n",
       "      <th>FeatureA</th>\n",
       "      <th>FeatureB</th>\n",
       "      <th>...</th>\n",
       "      <th>competition started minute</th>\n",
       "      <th>competition started second</th>\n",
       "      <th>Time user completed action in hour</th>\n",
       "      <th>Time user completed action in minute</th>\n",
       "      <th>Time user completed action in second</th>\n",
       "      <th>Time user signed in hour</th>\n",
       "      <th>Time user signed in minute</th>\n",
       "      <th>Time user signed in second</th>\n",
       "      <th>Active</th>\n",
       "      <th>Next Month Active</th>\n",
       "    </tr>\n",
       "  </thead>\n",
       "  <tbody>\n",
       "    <tr>\n",
       "      <th>0</th>\n",
       "      <td>ID_00E5OHGR_Month_3</td>\n",
       "      <td>-1.0</td>\n",
       "      <td>-1.0</td>\n",
       "      <td>0.0</td>\n",
       "      <td>0.0</td>\n",
       "      <td>1.0</td>\n",
       "      <td>0</td>\n",
       "      <td>15.0</td>\n",
       "      <td>[7]</td>\n",
       "      <td>[2]</td>\n",
       "      <td>...</td>\n",
       "      <td>59</td>\n",
       "      <td>0</td>\n",
       "      <td>11</td>\n",
       "      <td>10</td>\n",
       "      <td>23</td>\n",
       "      <td>8</td>\n",
       "      <td>29</td>\n",
       "      <td>49.568521</td>\n",
       "      <td>1</td>\n",
       "      <td>0.0</td>\n",
       "    </tr>\n",
       "    <tr>\n",
       "      <th>1</th>\n",
       "      <td>ID_00ETFE7J_Month_3</td>\n",
       "      <td>-1.0</td>\n",
       "      <td>-1.0</td>\n",
       "      <td>0.0</td>\n",
       "      <td>0.0</td>\n",
       "      <td>1.0</td>\n",
       "      <td>10</td>\n",
       "      <td>12.0</td>\n",
       "      <td>[1]</td>\n",
       "      <td>[9]</td>\n",
       "      <td>...</td>\n",
       "      <td>0</td>\n",
       "      <td>0</td>\n",
       "      <td>23</td>\n",
       "      <td>41</td>\n",
       "      <td>28</td>\n",
       "      <td>20</td>\n",
       "      <td>53</td>\n",
       "      <td>4.318404</td>\n",
       "      <td>1</td>\n",
       "      <td>0.0</td>\n",
       "    </tr>\n",
       "    <tr>\n",
       "      <th>2</th>\n",
       "      <td>ID_00HJDB09_Month_2</td>\n",
       "      <td>-1.0</td>\n",
       "      <td>-1.0</td>\n",
       "      <td>0.0</td>\n",
       "      <td>0.0</td>\n",
       "      <td>0.0</td>\n",
       "      <td>0</td>\n",
       "      <td>0.0</td>\n",
       "      <td>-1</td>\n",
       "      <td>-1</td>\n",
       "      <td>...</td>\n",
       "      <td>-1</td>\n",
       "      <td>-1</td>\n",
       "      <td>9</td>\n",
       "      <td>2</td>\n",
       "      <td>9</td>\n",
       "      <td>6</td>\n",
       "      <td>51</td>\n",
       "      <td>48.183997</td>\n",
       "      <td>1</td>\n",
       "      <td>0.0</td>\n",
       "    </tr>\n",
       "    <tr>\n",
       "      <th>3</th>\n",
       "      <td>ID_00V7K62T_Month_1</td>\n",
       "      <td>-1.0</td>\n",
       "      <td>-1.0</td>\n",
       "      <td>0.0</td>\n",
       "      <td>0.0</td>\n",
       "      <td>0.0</td>\n",
       "      <td>0</td>\n",
       "      <td>0.0</td>\n",
       "      <td>-1</td>\n",
       "      <td>-1</td>\n",
       "      <td>...</td>\n",
       "      <td>-1</td>\n",
       "      <td>-1</td>\n",
       "      <td>9</td>\n",
       "      <td>43</td>\n",
       "      <td>13</td>\n",
       "      <td>-1</td>\n",
       "      <td>-1</td>\n",
       "      <td>-1.000000</td>\n",
       "      <td>0</td>\n",
       "      <td>0.0</td>\n",
       "    </tr>\n",
       "    <tr>\n",
       "      <th>4</th>\n",
       "      <td>ID_00V7K62T_Month_11</td>\n",
       "      <td>-1.0</td>\n",
       "      <td>-1.0</td>\n",
       "      <td>0.0</td>\n",
       "      <td>0.0</td>\n",
       "      <td>0.0</td>\n",
       "      <td>0</td>\n",
       "      <td>0.0</td>\n",
       "      <td>-1</td>\n",
       "      <td>-1</td>\n",
       "      <td>...</td>\n",
       "      <td>-1</td>\n",
       "      <td>-1</td>\n",
       "      <td>7</td>\n",
       "      <td>47</td>\n",
       "      <td>32</td>\n",
       "      <td>5</td>\n",
       "      <td>47</td>\n",
       "      <td>15.776115</td>\n",
       "      <td>0</td>\n",
       "      <td>0.0</td>\n",
       "    </tr>\n",
       "    <tr>\n",
       "      <th>...</th>\n",
       "      <td>...</td>\n",
       "      <td>...</td>\n",
       "      <td>...</td>\n",
       "      <td>...</td>\n",
       "      <td>...</td>\n",
       "      <td>...</td>\n",
       "      <td>...</td>\n",
       "      <td>...</td>\n",
       "      <td>...</td>\n",
       "      <td>...</td>\n",
       "      <td>...</td>\n",
       "      <td>...</td>\n",
       "      <td>...</td>\n",
       "      <td>...</td>\n",
       "      <td>...</td>\n",
       "      <td>...</td>\n",
       "      <td>...</td>\n",
       "      <td>...</td>\n",
       "      <td>...</td>\n",
       "      <td>...</td>\n",
       "      <td>...</td>\n",
       "    </tr>\n",
       "    <tr>\n",
       "      <th>12241</th>\n",
       "      <td>ID_ZZQK0LU6_Month_1</td>\n",
       "      <td>-1.0</td>\n",
       "      <td>-1.0</td>\n",
       "      <td>0.0</td>\n",
       "      <td>0.0</td>\n",
       "      <td>0.0</td>\n",
       "      <td>0</td>\n",
       "      <td>0.0</td>\n",
       "      <td>-1</td>\n",
       "      <td>-1</td>\n",
       "      <td>...</td>\n",
       "      <td>-1</td>\n",
       "      <td>-1</td>\n",
       "      <td>11</td>\n",
       "      <td>38</td>\n",
       "      <td>50</td>\n",
       "      <td>10</td>\n",
       "      <td>22</td>\n",
       "      <td>28.618352</td>\n",
       "      <td>1</td>\n",
       "      <td>0.0</td>\n",
       "    </tr>\n",
       "    <tr>\n",
       "      <th>12242</th>\n",
       "      <td>ID_ZZT2KLLN_Month_3</td>\n",
       "      <td>-1.0</td>\n",
       "      <td>-1.0</td>\n",
       "      <td>0.0</td>\n",
       "      <td>0.0</td>\n",
       "      <td>0.0</td>\n",
       "      <td>0</td>\n",
       "      <td>0.0</td>\n",
       "      <td>-1</td>\n",
       "      <td>-1</td>\n",
       "      <td>...</td>\n",
       "      <td>-1</td>\n",
       "      <td>-1</td>\n",
       "      <td>5</td>\n",
       "      <td>23</td>\n",
       "      <td>57</td>\n",
       "      <td>4</td>\n",
       "      <td>21</td>\n",
       "      <td>59.028835</td>\n",
       "      <td>0</td>\n",
       "      <td>0.0</td>\n",
       "    </tr>\n",
       "    <tr>\n",
       "      <th>12243</th>\n",
       "      <td>ID_ZZVUJ45W_Month_2</td>\n",
       "      <td>-1.0</td>\n",
       "      <td>-1.0</td>\n",
       "      <td>0.0</td>\n",
       "      <td>0.0</td>\n",
       "      <td>1.0</td>\n",
       "      <td>0</td>\n",
       "      <td>15.0</td>\n",
       "      <td>[1]</td>\n",
       "      <td>[]</td>\n",
       "      <td>...</td>\n",
       "      <td>30</td>\n",
       "      <td>0</td>\n",
       "      <td>-1</td>\n",
       "      <td>-1</td>\n",
       "      <td>-1</td>\n",
       "      <td>9</td>\n",
       "      <td>4</td>\n",
       "      <td>8.881773</td>\n",
       "      <td>0</td>\n",
       "      <td>0.0</td>\n",
       "    </tr>\n",
       "    <tr>\n",
       "      <th>12244</th>\n",
       "      <td>ID_ZZXZVCJ8_Month_11</td>\n",
       "      <td>-1.0</td>\n",
       "      <td>-1.0</td>\n",
       "      <td>0.0</td>\n",
       "      <td>0.0</td>\n",
       "      <td>1.0</td>\n",
       "      <td>0</td>\n",
       "      <td>22.0</td>\n",
       "      <td>[1]</td>\n",
       "      <td>[]</td>\n",
       "      <td>...</td>\n",
       "      <td>0</td>\n",
       "      <td>0</td>\n",
       "      <td>14</td>\n",
       "      <td>53</td>\n",
       "      <td>44</td>\n",
       "      <td>12</td>\n",
       "      <td>53</td>\n",
       "      <td>31.956136</td>\n",
       "      <td>0</td>\n",
       "      <td>0.0</td>\n",
       "    </tr>\n",
       "    <tr>\n",
       "      <th>12245</th>\n",
       "      <td>ID_ZZXZVCJ8_Month_12</td>\n",
       "      <td>-1.0</td>\n",
       "      <td>-1.0</td>\n",
       "      <td>0.0</td>\n",
       "      <td>0.0</td>\n",
       "      <td>0.0</td>\n",
       "      <td>0</td>\n",
       "      <td>0.0</td>\n",
       "      <td>-1</td>\n",
       "      <td>-1</td>\n",
       "      <td>...</td>\n",
       "      <td>-1</td>\n",
       "      <td>-1</td>\n",
       "      <td>13</td>\n",
       "      <td>53</td>\n",
       "      <td>53</td>\n",
       "      <td>-1</td>\n",
       "      <td>-1</td>\n",
       "      <td>-1.000000</td>\n",
       "      <td>0</td>\n",
       "      <td>0.0</td>\n",
       "    </tr>\n",
       "  </tbody>\n",
       "</table>\n",
       "<p>12246 rows × 52 columns</p>\n",
       "</div>"
      ],
      "text/plain": [
       "                    User_ID  Personal  Theme  Discussion day of month  \\\n",
       "0       ID_00E5OHGR_Month_3      -1.0   -1.0                      0.0   \n",
       "1       ID_00ETFE7J_Month_3      -1.0   -1.0                      0.0   \n",
       "2       ID_00HJDB09_Month_2      -1.0   -1.0                      0.0   \n",
       "3       ID_00V7K62T_Month_1      -1.0   -1.0                      0.0   \n",
       "4      ID_00V7K62T_Month_11      -1.0   -1.0                      0.0   \n",
       "...                     ...       ...    ...                      ...   \n",
       "12241   ID_ZZQK0LU6_Month_1      -1.0   -1.0                      0.0   \n",
       "12242   ID_ZZT2KLLN_Month_3      -1.0   -1.0                      0.0   \n",
       "12243   ID_ZZVUJ45W_Month_2      -1.0   -1.0                      0.0   \n",
       "12244  ID_ZZXZVCJ8_Month_11      -1.0   -1.0                      0.0   \n",
       "12245  ID_ZZXZVCJ8_Month_12      -1.0   -1.0                      0.0   \n",
       "\n",
       "       comment day of month  Participant Type  Successful Submission Count  \\\n",
       "0                       0.0               1.0                            0   \n",
       "1                       0.0               1.0                           10   \n",
       "2                       0.0               0.0                            0   \n",
       "3                       0.0               0.0                            0   \n",
       "4                       0.0               0.0                            0   \n",
       "...                     ...               ...                          ...   \n",
       "12241                   0.0               0.0                            0   \n",
       "12242                   0.0               0.0                            0   \n",
       "12243                   0.0               1.0                            0   \n",
       "12244                   0.0               1.0                            0   \n",
       "12245                   0.0               0.0                            0   \n",
       "\n",
       "       competition enrollment day FeatureA FeatureB  ...  \\\n",
       "0                            15.0      [7]      [2]  ...   \n",
       "1                            12.0      [1]      [9]  ...   \n",
       "2                             0.0       -1       -1  ...   \n",
       "3                             0.0       -1       -1  ...   \n",
       "4                             0.0       -1       -1  ...   \n",
       "...                           ...      ...      ...  ...   \n",
       "12241                         0.0       -1       -1  ...   \n",
       "12242                         0.0       -1       -1  ...   \n",
       "12243                        15.0      [1]       []  ...   \n",
       "12244                        22.0      [1]       []  ...   \n",
       "12245                         0.0       -1       -1  ...   \n",
       "\n",
       "       competition started minute  competition started second  \\\n",
       "0                              59                           0   \n",
       "1                               0                           0   \n",
       "2                              -1                          -1   \n",
       "3                              -1                          -1   \n",
       "4                              -1                          -1   \n",
       "...                           ...                         ...   \n",
       "12241                          -1                          -1   \n",
       "12242                          -1                          -1   \n",
       "12243                          30                           0   \n",
       "12244                           0                           0   \n",
       "12245                          -1                          -1   \n",
       "\n",
       "       Time user completed action in hour  \\\n",
       "0                                      11   \n",
       "1                                      23   \n",
       "2                                       9   \n",
       "3                                       9   \n",
       "4                                       7   \n",
       "...                                   ...   \n",
       "12241                                  11   \n",
       "12242                                   5   \n",
       "12243                                  -1   \n",
       "12244                                  14   \n",
       "12245                                  13   \n",
       "\n",
       "       Time user completed action in minute  \\\n",
       "0                                        10   \n",
       "1                                        41   \n",
       "2                                         2   \n",
       "3                                        43   \n",
       "4                                        47   \n",
       "...                                     ...   \n",
       "12241                                    38   \n",
       "12242                                    23   \n",
       "12243                                    -1   \n",
       "12244                                    53   \n",
       "12245                                    53   \n",
       "\n",
       "      Time user completed action in second Time user signed in hour  \\\n",
       "0                                       23                        8   \n",
       "1                                       28                       20   \n",
       "2                                        9                        6   \n",
       "3                                       13                       -1   \n",
       "4                                       32                        5   \n",
       "...                                    ...                      ...   \n",
       "12241                                   50                       10   \n",
       "12242                                   57                        4   \n",
       "12243                                   -1                        9   \n",
       "12244                                   44                       12   \n",
       "12245                                   53                       -1   \n",
       "\n",
       "      Time user signed in minute  Time user signed in second  Active  \\\n",
       "0                             29                   49.568521       1   \n",
       "1                             53                    4.318404       1   \n",
       "2                             51                   48.183997       1   \n",
       "3                             -1                   -1.000000       0   \n",
       "4                             47                   15.776115       0   \n",
       "...                          ...                         ...     ...   \n",
       "12241                         22                   28.618352       1   \n",
       "12242                         21                   59.028835       0   \n",
       "12243                          4                    8.881773       0   \n",
       "12244                         53                   31.956136       0   \n",
       "12245                         -1                   -1.000000       0   \n",
       "\n",
       "       Next Month Active  \n",
       "0                    0.0  \n",
       "1                    0.0  \n",
       "2                    0.0  \n",
       "3                    0.0  \n",
       "4                    0.0  \n",
       "...                  ...  \n",
       "12241                0.0  \n",
       "12242                0.0  \n",
       "12243                0.0  \n",
       "12244                0.0  \n",
       "12245                0.0  \n",
       "\n",
       "[12246 rows x 52 columns]"
      ]
     },
     "execution_count": 268,
     "metadata": {},
     "output_type": "execute_result"
    }
   ],
   "source": [
    "df_final"
   ]
  },
  {
   "cell_type": "code",
   "execution_count": 269,
   "id": "27cb21f6",
   "metadata": {},
   "outputs": [
    {
     "data": {
      "text/plain": [
       "4450"
      ]
     },
     "execution_count": 269,
     "metadata": {},
     "output_type": "execute_result"
    }
   ],
   "source": [
    "df_final[df_final['Active']==1].shape[0]"
   ]
  },
  {
   "cell_type": "code",
   "execution_count": 270,
   "id": "c7321108",
   "metadata": {},
   "outputs": [
    {
     "data": {
      "text/plain": [
       "array([1, 0])"
      ]
     },
     "execution_count": 270,
     "metadata": {},
     "output_type": "execute_result"
    }
   ],
   "source": [
    "df_final['Active'].unique()"
   ]
  },
  {
   "cell_type": "markdown",
   "id": "bf7afd40",
   "metadata": {},
   "source": [
    "# NEXT MONTH ACTIVITY"
   ]
  },
  {
   "cell_type": "code",
   "execution_count": 271,
   "id": "6ec6fe6b",
   "metadata": {},
   "outputs": [],
   "source": [
    "df_temp = df_final[[\"User_ID\", \"Active\"]]"
   ]
  },
  {
   "cell_type": "code",
   "execution_count": 272,
   "id": "b811ce0c",
   "metadata": {},
   "outputs": [
    {
     "name": "stderr",
     "output_type": "stream",
     "text": [
      "C:\\Users\\HP\\AppData\\Local\\Temp/ipykernel_10344/1297166380.py:1: SettingWithCopyWarning: \n",
      "A value is trying to be set on a copy of a slice from a DataFrame.\n",
      "Try using .loc[row_indexer,col_indexer] = value instead\n",
      "\n",
      "See the caveats in the documentation: https://pandas.pydata.org/pandas-docs/stable/user_guide/indexing.html#returning-a-view-versus-a-copy\n",
      "  df_temp[\"Month\"] = df_temp[\"User_ID\"].str[-1]\n",
      "C:\\Users\\HP\\AppData\\Local\\Temp/ipykernel_10344/1297166380.py:2: SettingWithCopyWarning: \n",
      "A value is trying to be set on a copy of a slice from a DataFrame.\n",
      "Try using .loc[row_indexer,col_indexer] = value instead\n",
      "\n",
      "See the caveats in the documentation: https://pandas.pydata.org/pandas-docs/stable/user_guide/indexing.html#returning-a-view-versus-a-copy\n",
      "  df_temp[\"Month\"] = pd.to_numeric(df_temp[\"Month\"])\n"
     ]
    }
   ],
   "source": [
    "df_temp[\"Month\"] = df_temp[\"User_ID\"].str[19:]\n",
    "df_temp[\"Month\"] = pd.to_numeric(df_temp[\"Month\"])"
   ]
  },
  {
   "cell_type": "code",
   "execution_count": 273,
   "id": "0b48717f",
   "metadata": {},
   "outputs": [
    {
     "name": "stderr",
     "output_type": "stream",
     "text": [
      "C:\\Users\\HP\\AppData\\Local\\Temp/ipykernel_10344/1636279723.py:1: SettingWithCopyWarning: \n",
      "A value is trying to be set on a copy of a slice from a DataFrame.\n",
      "Try using .loc[row_indexer,col_indexer] = value instead\n",
      "\n",
      "See the caveats in the documentation: https://pandas.pydata.org/pandas-docs/stable/user_guide/indexing.html#returning-a-view-versus-a-copy\n",
      "  df_temp[\"ID\"] = df_temp[\"User_ID\"].str[:-8]\n"
     ]
    }
   ],
   "source": [
    "df_temp[\"ID\"] = df_temp[\"User_ID\"].str[:-8]"
   ]
  },
  {
   "cell_type": "code",
   "execution_count": 274,
   "id": "6d95fb8e",
   "metadata": {},
   "outputs": [
    {
     "data": {
      "text/html": [
       "<div>\n",
       "<style scoped>\n",
       "    .dataframe tbody tr th:only-of-type {\n",
       "        vertical-align: middle;\n",
       "    }\n",
       "\n",
       "    .dataframe tbody tr th {\n",
       "        vertical-align: top;\n",
       "    }\n",
       "\n",
       "    .dataframe thead th {\n",
       "        text-align: right;\n",
       "    }\n",
       "</style>\n",
       "<table border=\"1\" class=\"dataframe\">\n",
       "  <thead>\n",
       "    <tr style=\"text-align: right;\">\n",
       "      <th></th>\n",
       "      <th>User_ID</th>\n",
       "      <th>Active</th>\n",
       "      <th>Month</th>\n",
       "      <th>ID</th>\n",
       "    </tr>\n",
       "  </thead>\n",
       "  <tbody>\n",
       "    <tr>\n",
       "      <th>0</th>\n",
       "      <td>ID_00E5OHGR_Month_3</td>\n",
       "      <td>1</td>\n",
       "      <td>3</td>\n",
       "      <td>ID_00E5OHGR</td>\n",
       "    </tr>\n",
       "    <tr>\n",
       "      <th>1</th>\n",
       "      <td>ID_00ETFE7J_Month_3</td>\n",
       "      <td>1</td>\n",
       "      <td>3</td>\n",
       "      <td>ID_00ETFE7J</td>\n",
       "    </tr>\n",
       "    <tr>\n",
       "      <th>2</th>\n",
       "      <td>ID_00HJDB09_Month_2</td>\n",
       "      <td>1</td>\n",
       "      <td>2</td>\n",
       "      <td>ID_00HJDB09</td>\n",
       "    </tr>\n",
       "    <tr>\n",
       "      <th>3</th>\n",
       "      <td>ID_00V7K62T_Month_1</td>\n",
       "      <td>0</td>\n",
       "      <td>1</td>\n",
       "      <td>ID_00V7K62T</td>\n",
       "    </tr>\n",
       "    <tr>\n",
       "      <th>4</th>\n",
       "      <td>ID_00V7K62T_Month_11</td>\n",
       "      <td>0</td>\n",
       "      <td>1</td>\n",
       "      <td>ID_00V7K62T_</td>\n",
       "    </tr>\n",
       "    <tr>\n",
       "      <th>...</th>\n",
       "      <td>...</td>\n",
       "      <td>...</td>\n",
       "      <td>...</td>\n",
       "      <td>...</td>\n",
       "    </tr>\n",
       "    <tr>\n",
       "      <th>12241</th>\n",
       "      <td>ID_ZZQK0LU6_Month_1</td>\n",
       "      <td>1</td>\n",
       "      <td>1</td>\n",
       "      <td>ID_ZZQK0LU6</td>\n",
       "    </tr>\n",
       "    <tr>\n",
       "      <th>12242</th>\n",
       "      <td>ID_ZZT2KLLN_Month_3</td>\n",
       "      <td>0</td>\n",
       "      <td>3</td>\n",
       "      <td>ID_ZZT2KLLN</td>\n",
       "    </tr>\n",
       "    <tr>\n",
       "      <th>12243</th>\n",
       "      <td>ID_ZZVUJ45W_Month_2</td>\n",
       "      <td>0</td>\n",
       "      <td>2</td>\n",
       "      <td>ID_ZZVUJ45W</td>\n",
       "    </tr>\n",
       "    <tr>\n",
       "      <th>12244</th>\n",
       "      <td>ID_ZZXZVCJ8_Month_11</td>\n",
       "      <td>0</td>\n",
       "      <td>1</td>\n",
       "      <td>ID_ZZXZVCJ8_</td>\n",
       "    </tr>\n",
       "    <tr>\n",
       "      <th>12245</th>\n",
       "      <td>ID_ZZXZVCJ8_Month_12</td>\n",
       "      <td>0</td>\n",
       "      <td>2</td>\n",
       "      <td>ID_ZZXZVCJ8_</td>\n",
       "    </tr>\n",
       "  </tbody>\n",
       "</table>\n",
       "<p>12246 rows × 4 columns</p>\n",
       "</div>"
      ],
      "text/plain": [
       "                    User_ID  Active  Month            ID\n",
       "0       ID_00E5OHGR_Month_3       1      3   ID_00E5OHGR\n",
       "1       ID_00ETFE7J_Month_3       1      3   ID_00ETFE7J\n",
       "2       ID_00HJDB09_Month_2       1      2   ID_00HJDB09\n",
       "3       ID_00V7K62T_Month_1       0      1   ID_00V7K62T\n",
       "4      ID_00V7K62T_Month_11       0      1  ID_00V7K62T_\n",
       "...                     ...     ...    ...           ...\n",
       "12241   ID_ZZQK0LU6_Month_1       1      1   ID_ZZQK0LU6\n",
       "12242   ID_ZZT2KLLN_Month_3       0      3   ID_ZZT2KLLN\n",
       "12243   ID_ZZVUJ45W_Month_2       0      2   ID_ZZVUJ45W\n",
       "12244  ID_ZZXZVCJ8_Month_11       0      1  ID_ZZXZVCJ8_\n",
       "12245  ID_ZZXZVCJ8_Month_12       0      2  ID_ZZXZVCJ8_\n",
       "\n",
       "[12246 rows x 4 columns]"
      ]
     },
     "execution_count": 274,
     "metadata": {},
     "output_type": "execute_result"
    }
   ],
   "source": [
    "df_temp"
   ]
  },
  {
   "cell_type": "code",
   "execution_count": 275,
   "id": "63d3ab2a",
   "metadata": {},
   "outputs": [
    {
     "name": "stderr",
     "output_type": "stream",
     "text": [
      "C:\\Users\\HP\\anaconda3\\lib\\site-packages\\pandas\\core\\indexing.py:1684: SettingWithCopyWarning: \n",
      "A value is trying to be set on a copy of a slice from a DataFrame.\n",
      "Try using .loc[row_indexer,col_indexer] = value instead\n",
      "\n",
      "See the caveats in the documentation: https://pandas.pydata.org/pandas-docs/stable/user_guide/indexing.html#returning-a-view-versus-a-copy\n",
      "  self.obj[key] = infer_fill_value(value)\n",
      "C:\\Users\\HP\\anaconda3\\lib\\site-packages\\pandas\\core\\indexing.py:1817: SettingWithCopyWarning: \n",
      "A value is trying to be set on a copy of a slice from a DataFrame.\n",
      "Try using .loc[row_indexer,col_indexer] = value instead\n",
      "\n",
      "See the caveats in the documentation: https://pandas.pydata.org/pandas-docs/stable/user_guide/indexing.html#returning-a-view-versus-a-copy\n",
      "  self._setitem_single_column(loc, value, pi)\n"
     ]
    }
   ],
   "source": [
    "for i in range(len(df_temp)-1):\n",
    "    if (df_temp.loc[i, \"ID\"] == df_temp.loc[i+1, \"ID\"]) & (df_temp.loc[i, \"Active\"] == 1) & (df_temp.loc[i+1, \"Active\"] == 1):\n",
    "        df_temp.loc[i, \"Next Month Active\"] = 1\n",
    "    else:\n",
    "        df_temp.loc[i, \"Next Month Active\"] = 0"
   ]
  },
  {
   "cell_type": "code",
   "execution_count": 276,
   "id": "53307660",
   "metadata": {},
   "outputs": [
    {
     "name": "stderr",
     "output_type": "stream",
     "text": [
      "C:\\Users\\HP\\anaconda3\\lib\\site-packages\\pandas\\core\\generic.py:6392: SettingWithCopyWarning: \n",
      "A value is trying to be set on a copy of a slice from a DataFrame\n",
      "\n",
      "See the caveats in the documentation: https://pandas.pydata.org/pandas-docs/stable/user_guide/indexing.html#returning-a-view-versus-a-copy\n",
      "  return self._update_inplace(result)\n"
     ]
    }
   ],
   "source": [
    "df_temp['Next Month Active'].fillna(0, inplace = True)"
   ]
  },
  {
   "cell_type": "code",
   "execution_count": 277,
   "id": "2a70a2cc",
   "metadata": {},
   "outputs": [
    {
     "data": {
      "text/plain": [
       "253"
      ]
     },
     "execution_count": 277,
     "metadata": {},
     "output_type": "execute_result"
    }
   ],
   "source": [
    "df_temp[df_temp[\"Next Month Active\"]==1].shape[0]"
   ]
  },
  {
   "cell_type": "code",
   "execution_count": 278,
   "id": "eec6747a",
   "metadata": {},
   "outputs": [],
   "source": [
    "df_final[\"Next Month Active\"] = df_temp[\"Next Month Active\"]"
   ]
  },
  {
   "cell_type": "code",
   "execution_count": 279,
   "id": "c501c126",
   "metadata": {},
   "outputs": [
    {
     "name": "stdout",
     "output_type": "stream",
     "text": [
      "<class 'pandas.core.frame.DataFrame'>\n",
      "RangeIndex: 12246 entries, 0 to 12245\n",
      "Data columns (total 52 columns):\n",
      " #   Column                                Non-Null Count  Dtype  \n",
      "---  ------                                --------------  -----  \n",
      " 0   User_ID                               12246 non-null  object \n",
      " 1   Personal                              12246 non-null  float64\n",
      " 2   Theme                                 12246 non-null  float64\n",
      " 3   Discussion day of month               12246 non-null  float64\n",
      " 4   comment day of month                  12246 non-null  float64\n",
      " 5   Participant Type                      12246 non-null  float64\n",
      " 6   Successful Submission Count           12246 non-null  int64  \n",
      " 7   competition enrollment day            12246 non-null  float64\n",
      " 8   FeatureA                              12246 non-null  object \n",
      " 9   FeatureB                              12246 non-null  object \n",
      " 10  FeatureC                              12246 non-null  float64\n",
      " 11  FeatureD                              12246 non-null  float64\n",
      " 12  FeatureE                              12246 non-null  float64\n",
      " 13  SecretCode                            12246 non-null  float64\n",
      " 14  FeatureF                              4012 non-null   object \n",
      " 15  FeatureG                              4012 non-null   object \n",
      " 16  FeatureH                              12246 non-null  object \n",
      " 17  FeatureI                              12246 non-null  float64\n",
      " 18  competition ended year                12246 non-null  float64\n",
      " 19  competition ended month               12246 non-null  float64\n",
      " 20  competition ended day                 12246 non-null  float64\n",
      " 21  competition started year              12246 non-null  float64\n",
      " 22  competition started month             12246 non-null  float64\n",
      " 23  competition started day               12246 non-null  float64\n",
      " 24  month user completed action           10876 non-null  float64\n",
      " 25  count_UA                              12246 non-null  float64\n",
      " 26  FeatureY                              8936 non-null   float64\n",
      " 27  FeatureX                              8936 non-null   float64\n",
      " 28  day user signed in                    12246 non-null  float64\n",
      " 29  Discussion Hour                       12246 non-null  int64  \n",
      " 30  Discussion Minute                     12246 non-null  int64  \n",
      " 31  Discussion Second                     12246 non-null  float64\n",
      " 32  Comment Hour                          12246 non-null  int64  \n",
      " 33  Comment Minute                        12246 non-null  int64  \n",
      " 34  Comment Second                        12246 non-null  float64\n",
      " 35  competition enrollment hour           12246 non-null  int64  \n",
      " 36  competition enrollment minute         12246 non-null  int64  \n",
      " 37  competition enrollment second         12246 non-null  float64\n",
      " 38  competition ended hour                12246 non-null  int64  \n",
      " 39  competition ended minute              12246 non-null  int64  \n",
      " 40  competition ended second              12246 non-null  int64  \n",
      " 41  competition started hour              12246 non-null  int64  \n",
      " 42  competition started minute            12246 non-null  int64  \n",
      " 43  competition started second            12246 non-null  int64  \n",
      " 44  Time user completed action in hour    12246 non-null  int64  \n",
      " 45  Time user completed action in minute  12246 non-null  int64  \n",
      " 46  Time user completed action in second  12246 non-null  int64  \n",
      " 47  Time user signed in hour              12246 non-null  int64  \n",
      " 48  Time user signed in minute            12246 non-null  int64  \n",
      " 49  Time user signed in second            12246 non-null  float64\n",
      " 50  Active                                12246 non-null  int32  \n",
      " 51  Next Month Active                     12246 non-null  float64\n",
      "dtypes: float64(27), int32(1), int64(18), object(6)\n",
      "memory usage: 4.8+ MB\n"
     ]
    }
   ],
   "source": [
    "df_final.info()"
   ]
  },
  {
   "cell_type": "code",
   "execution_count": 280,
   "id": "beb98d73",
   "metadata": {},
   "outputs": [
    {
     "data": {
      "text/html": [
       "<div>\n",
       "<style scoped>\n",
       "    .dataframe tbody tr th:only-of-type {\n",
       "        vertical-align: middle;\n",
       "    }\n",
       "\n",
       "    .dataframe tbody tr th {\n",
       "        vertical-align: top;\n",
       "    }\n",
       "\n",
       "    .dataframe thead th {\n",
       "        text-align: right;\n",
       "    }\n",
       "</style>\n",
       "<table border=\"1\" class=\"dataframe\">\n",
       "  <thead>\n",
       "    <tr style=\"text-align: right;\">\n",
       "      <th></th>\n",
       "      <th>User_ID</th>\n",
       "      <th>Personal</th>\n",
       "      <th>Theme</th>\n",
       "      <th>Discussion day of month</th>\n",
       "      <th>comment day of month</th>\n",
       "      <th>Participant Type</th>\n",
       "      <th>Successful Submission Count</th>\n",
       "      <th>competition enrollment day</th>\n",
       "      <th>FeatureA</th>\n",
       "      <th>FeatureB</th>\n",
       "      <th>...</th>\n",
       "      <th>competition started minute</th>\n",
       "      <th>competition started second</th>\n",
       "      <th>Time user completed action in hour</th>\n",
       "      <th>Time user completed action in minute</th>\n",
       "      <th>Time user completed action in second</th>\n",
       "      <th>Time user signed in hour</th>\n",
       "      <th>Time user signed in minute</th>\n",
       "      <th>Time user signed in second</th>\n",
       "      <th>Active</th>\n",
       "      <th>Next Month Active</th>\n",
       "    </tr>\n",
       "  </thead>\n",
       "  <tbody>\n",
       "    <tr>\n",
       "      <th>0</th>\n",
       "      <td>ID_00E5OHGR_Month_3</td>\n",
       "      <td>-1.0</td>\n",
       "      <td>-1.0</td>\n",
       "      <td>0.0</td>\n",
       "      <td>0.0</td>\n",
       "      <td>1.0</td>\n",
       "      <td>0</td>\n",
       "      <td>15.0</td>\n",
       "      <td>[7]</td>\n",
       "      <td>[2]</td>\n",
       "      <td>...</td>\n",
       "      <td>59</td>\n",
       "      <td>0</td>\n",
       "      <td>11</td>\n",
       "      <td>10</td>\n",
       "      <td>23</td>\n",
       "      <td>8</td>\n",
       "      <td>29</td>\n",
       "      <td>49.568521</td>\n",
       "      <td>1</td>\n",
       "      <td>0.0</td>\n",
       "    </tr>\n",
       "    <tr>\n",
       "      <th>1</th>\n",
       "      <td>ID_00ETFE7J_Month_3</td>\n",
       "      <td>-1.0</td>\n",
       "      <td>-1.0</td>\n",
       "      <td>0.0</td>\n",
       "      <td>0.0</td>\n",
       "      <td>1.0</td>\n",
       "      <td>10</td>\n",
       "      <td>12.0</td>\n",
       "      <td>[1]</td>\n",
       "      <td>[9]</td>\n",
       "      <td>...</td>\n",
       "      <td>0</td>\n",
       "      <td>0</td>\n",
       "      <td>23</td>\n",
       "      <td>41</td>\n",
       "      <td>28</td>\n",
       "      <td>20</td>\n",
       "      <td>53</td>\n",
       "      <td>4.318404</td>\n",
       "      <td>1</td>\n",
       "      <td>0.0</td>\n",
       "    </tr>\n",
       "    <tr>\n",
       "      <th>2</th>\n",
       "      <td>ID_00HJDB09_Month_2</td>\n",
       "      <td>-1.0</td>\n",
       "      <td>-1.0</td>\n",
       "      <td>0.0</td>\n",
       "      <td>0.0</td>\n",
       "      <td>0.0</td>\n",
       "      <td>0</td>\n",
       "      <td>0.0</td>\n",
       "      <td>-1</td>\n",
       "      <td>-1</td>\n",
       "      <td>...</td>\n",
       "      <td>-1</td>\n",
       "      <td>-1</td>\n",
       "      <td>9</td>\n",
       "      <td>2</td>\n",
       "      <td>9</td>\n",
       "      <td>6</td>\n",
       "      <td>51</td>\n",
       "      <td>48.183997</td>\n",
       "      <td>1</td>\n",
       "      <td>0.0</td>\n",
       "    </tr>\n",
       "    <tr>\n",
       "      <th>3</th>\n",
       "      <td>ID_00V7K62T_Month_1</td>\n",
       "      <td>-1.0</td>\n",
       "      <td>-1.0</td>\n",
       "      <td>0.0</td>\n",
       "      <td>0.0</td>\n",
       "      <td>0.0</td>\n",
       "      <td>0</td>\n",
       "      <td>0.0</td>\n",
       "      <td>-1</td>\n",
       "      <td>-1</td>\n",
       "      <td>...</td>\n",
       "      <td>-1</td>\n",
       "      <td>-1</td>\n",
       "      <td>9</td>\n",
       "      <td>43</td>\n",
       "      <td>13</td>\n",
       "      <td>-1</td>\n",
       "      <td>-1</td>\n",
       "      <td>-1.000000</td>\n",
       "      <td>0</td>\n",
       "      <td>0.0</td>\n",
       "    </tr>\n",
       "    <tr>\n",
       "      <th>4</th>\n",
       "      <td>ID_00V7K62T_Month_11</td>\n",
       "      <td>-1.0</td>\n",
       "      <td>-1.0</td>\n",
       "      <td>0.0</td>\n",
       "      <td>0.0</td>\n",
       "      <td>0.0</td>\n",
       "      <td>0</td>\n",
       "      <td>0.0</td>\n",
       "      <td>-1</td>\n",
       "      <td>-1</td>\n",
       "      <td>...</td>\n",
       "      <td>-1</td>\n",
       "      <td>-1</td>\n",
       "      <td>7</td>\n",
       "      <td>47</td>\n",
       "      <td>32</td>\n",
       "      <td>5</td>\n",
       "      <td>47</td>\n",
       "      <td>15.776115</td>\n",
       "      <td>0</td>\n",
       "      <td>0.0</td>\n",
       "    </tr>\n",
       "    <tr>\n",
       "      <th>...</th>\n",
       "      <td>...</td>\n",
       "      <td>...</td>\n",
       "      <td>...</td>\n",
       "      <td>...</td>\n",
       "      <td>...</td>\n",
       "      <td>...</td>\n",
       "      <td>...</td>\n",
       "      <td>...</td>\n",
       "      <td>...</td>\n",
       "      <td>...</td>\n",
       "      <td>...</td>\n",
       "      <td>...</td>\n",
       "      <td>...</td>\n",
       "      <td>...</td>\n",
       "      <td>...</td>\n",
       "      <td>...</td>\n",
       "      <td>...</td>\n",
       "      <td>...</td>\n",
       "      <td>...</td>\n",
       "      <td>...</td>\n",
       "      <td>...</td>\n",
       "    </tr>\n",
       "    <tr>\n",
       "      <th>12241</th>\n",
       "      <td>ID_ZZQK0LU6_Month_1</td>\n",
       "      <td>-1.0</td>\n",
       "      <td>-1.0</td>\n",
       "      <td>0.0</td>\n",
       "      <td>0.0</td>\n",
       "      <td>0.0</td>\n",
       "      <td>0</td>\n",
       "      <td>0.0</td>\n",
       "      <td>-1</td>\n",
       "      <td>-1</td>\n",
       "      <td>...</td>\n",
       "      <td>-1</td>\n",
       "      <td>-1</td>\n",
       "      <td>11</td>\n",
       "      <td>38</td>\n",
       "      <td>50</td>\n",
       "      <td>10</td>\n",
       "      <td>22</td>\n",
       "      <td>28.618352</td>\n",
       "      <td>1</td>\n",
       "      <td>0.0</td>\n",
       "    </tr>\n",
       "    <tr>\n",
       "      <th>12242</th>\n",
       "      <td>ID_ZZT2KLLN_Month_3</td>\n",
       "      <td>-1.0</td>\n",
       "      <td>-1.0</td>\n",
       "      <td>0.0</td>\n",
       "      <td>0.0</td>\n",
       "      <td>0.0</td>\n",
       "      <td>0</td>\n",
       "      <td>0.0</td>\n",
       "      <td>-1</td>\n",
       "      <td>-1</td>\n",
       "      <td>...</td>\n",
       "      <td>-1</td>\n",
       "      <td>-1</td>\n",
       "      <td>5</td>\n",
       "      <td>23</td>\n",
       "      <td>57</td>\n",
       "      <td>4</td>\n",
       "      <td>21</td>\n",
       "      <td>59.028835</td>\n",
       "      <td>0</td>\n",
       "      <td>0.0</td>\n",
       "    </tr>\n",
       "    <tr>\n",
       "      <th>12243</th>\n",
       "      <td>ID_ZZVUJ45W_Month_2</td>\n",
       "      <td>-1.0</td>\n",
       "      <td>-1.0</td>\n",
       "      <td>0.0</td>\n",
       "      <td>0.0</td>\n",
       "      <td>1.0</td>\n",
       "      <td>0</td>\n",
       "      <td>15.0</td>\n",
       "      <td>[1]</td>\n",
       "      <td>[]</td>\n",
       "      <td>...</td>\n",
       "      <td>30</td>\n",
       "      <td>0</td>\n",
       "      <td>-1</td>\n",
       "      <td>-1</td>\n",
       "      <td>-1</td>\n",
       "      <td>9</td>\n",
       "      <td>4</td>\n",
       "      <td>8.881773</td>\n",
       "      <td>0</td>\n",
       "      <td>0.0</td>\n",
       "    </tr>\n",
       "    <tr>\n",
       "      <th>12244</th>\n",
       "      <td>ID_ZZXZVCJ8_Month_11</td>\n",
       "      <td>-1.0</td>\n",
       "      <td>-1.0</td>\n",
       "      <td>0.0</td>\n",
       "      <td>0.0</td>\n",
       "      <td>1.0</td>\n",
       "      <td>0</td>\n",
       "      <td>22.0</td>\n",
       "      <td>[1]</td>\n",
       "      <td>[]</td>\n",
       "      <td>...</td>\n",
       "      <td>0</td>\n",
       "      <td>0</td>\n",
       "      <td>14</td>\n",
       "      <td>53</td>\n",
       "      <td>44</td>\n",
       "      <td>12</td>\n",
       "      <td>53</td>\n",
       "      <td>31.956136</td>\n",
       "      <td>0</td>\n",
       "      <td>0.0</td>\n",
       "    </tr>\n",
       "    <tr>\n",
       "      <th>12245</th>\n",
       "      <td>ID_ZZXZVCJ8_Month_12</td>\n",
       "      <td>-1.0</td>\n",
       "      <td>-1.0</td>\n",
       "      <td>0.0</td>\n",
       "      <td>0.0</td>\n",
       "      <td>0.0</td>\n",
       "      <td>0</td>\n",
       "      <td>0.0</td>\n",
       "      <td>-1</td>\n",
       "      <td>-1</td>\n",
       "      <td>...</td>\n",
       "      <td>-1</td>\n",
       "      <td>-1</td>\n",
       "      <td>13</td>\n",
       "      <td>53</td>\n",
       "      <td>53</td>\n",
       "      <td>-1</td>\n",
       "      <td>-1</td>\n",
       "      <td>-1.000000</td>\n",
       "      <td>0</td>\n",
       "      <td>0.0</td>\n",
       "    </tr>\n",
       "  </tbody>\n",
       "</table>\n",
       "<p>12246 rows × 52 columns</p>\n",
       "</div>"
      ],
      "text/plain": [
       "                    User_ID  Personal  Theme  Discussion day of month  \\\n",
       "0       ID_00E5OHGR_Month_3      -1.0   -1.0                      0.0   \n",
       "1       ID_00ETFE7J_Month_3      -1.0   -1.0                      0.0   \n",
       "2       ID_00HJDB09_Month_2      -1.0   -1.0                      0.0   \n",
       "3       ID_00V7K62T_Month_1      -1.0   -1.0                      0.0   \n",
       "4      ID_00V7K62T_Month_11      -1.0   -1.0                      0.0   \n",
       "...                     ...       ...    ...                      ...   \n",
       "12241   ID_ZZQK0LU6_Month_1      -1.0   -1.0                      0.0   \n",
       "12242   ID_ZZT2KLLN_Month_3      -1.0   -1.0                      0.0   \n",
       "12243   ID_ZZVUJ45W_Month_2      -1.0   -1.0                      0.0   \n",
       "12244  ID_ZZXZVCJ8_Month_11      -1.0   -1.0                      0.0   \n",
       "12245  ID_ZZXZVCJ8_Month_12      -1.0   -1.0                      0.0   \n",
       "\n",
       "       comment day of month  Participant Type  Successful Submission Count  \\\n",
       "0                       0.0               1.0                            0   \n",
       "1                       0.0               1.0                           10   \n",
       "2                       0.0               0.0                            0   \n",
       "3                       0.0               0.0                            0   \n",
       "4                       0.0               0.0                            0   \n",
       "...                     ...               ...                          ...   \n",
       "12241                   0.0               0.0                            0   \n",
       "12242                   0.0               0.0                            0   \n",
       "12243                   0.0               1.0                            0   \n",
       "12244                   0.0               1.0                            0   \n",
       "12245                   0.0               0.0                            0   \n",
       "\n",
       "       competition enrollment day FeatureA FeatureB  ...  \\\n",
       "0                            15.0      [7]      [2]  ...   \n",
       "1                            12.0      [1]      [9]  ...   \n",
       "2                             0.0       -1       -1  ...   \n",
       "3                             0.0       -1       -1  ...   \n",
       "4                             0.0       -1       -1  ...   \n",
       "...                           ...      ...      ...  ...   \n",
       "12241                         0.0       -1       -1  ...   \n",
       "12242                         0.0       -1       -1  ...   \n",
       "12243                        15.0      [1]       []  ...   \n",
       "12244                        22.0      [1]       []  ...   \n",
       "12245                         0.0       -1       -1  ...   \n",
       "\n",
       "       competition started minute  competition started second  \\\n",
       "0                              59                           0   \n",
       "1                               0                           0   \n",
       "2                              -1                          -1   \n",
       "3                              -1                          -1   \n",
       "4                              -1                          -1   \n",
       "...                           ...                         ...   \n",
       "12241                          -1                          -1   \n",
       "12242                          -1                          -1   \n",
       "12243                          30                           0   \n",
       "12244                           0                           0   \n",
       "12245                          -1                          -1   \n",
       "\n",
       "       Time user completed action in hour  \\\n",
       "0                                      11   \n",
       "1                                      23   \n",
       "2                                       9   \n",
       "3                                       9   \n",
       "4                                       7   \n",
       "...                                   ...   \n",
       "12241                                  11   \n",
       "12242                                   5   \n",
       "12243                                  -1   \n",
       "12244                                  14   \n",
       "12245                                  13   \n",
       "\n",
       "       Time user completed action in minute  \\\n",
       "0                                        10   \n",
       "1                                        41   \n",
       "2                                         2   \n",
       "3                                        43   \n",
       "4                                        47   \n",
       "...                                     ...   \n",
       "12241                                    38   \n",
       "12242                                    23   \n",
       "12243                                    -1   \n",
       "12244                                    53   \n",
       "12245                                    53   \n",
       "\n",
       "      Time user completed action in second Time user signed in hour  \\\n",
       "0                                       23                        8   \n",
       "1                                       28                       20   \n",
       "2                                        9                        6   \n",
       "3                                       13                       -1   \n",
       "4                                       32                        5   \n",
       "...                                    ...                      ...   \n",
       "12241                                   50                       10   \n",
       "12242                                   57                        4   \n",
       "12243                                   -1                        9   \n",
       "12244                                   44                       12   \n",
       "12245                                   53                       -1   \n",
       "\n",
       "      Time user signed in minute  Time user signed in second  Active  \\\n",
       "0                             29                   49.568521       1   \n",
       "1                             53                    4.318404       1   \n",
       "2                             51                   48.183997       1   \n",
       "3                             -1                   -1.000000       0   \n",
       "4                             47                   15.776115       0   \n",
       "...                          ...                         ...     ...   \n",
       "12241                         22                   28.618352       1   \n",
       "12242                         21                   59.028835       0   \n",
       "12243                          4                    8.881773       0   \n",
       "12244                         53                   31.956136       0   \n",
       "12245                         -1                   -1.000000       0   \n",
       "\n",
       "       Next Month Active  \n",
       "0                    0.0  \n",
       "1                    0.0  \n",
       "2                    0.0  \n",
       "3                    0.0  \n",
       "4                    0.0  \n",
       "...                  ...  \n",
       "12241                0.0  \n",
       "12242                0.0  \n",
       "12243                0.0  \n",
       "12244                0.0  \n",
       "12245                0.0  \n",
       "\n",
       "[12246 rows x 52 columns]"
      ]
     },
     "execution_count": 280,
     "metadata": {},
     "output_type": "execute_result"
    }
   ],
   "source": [
    "df_final"
   ]
  },
  {
   "cell_type": "code",
   "execution_count": 281,
   "id": "6ada1e63",
   "metadata": {},
   "outputs": [],
   "source": [
    "df_final.to_csv('final.csv')"
   ]
  },
  {
   "cell_type": "code",
   "execution_count": 3,
   "id": "3c72062b",
   "metadata": {},
   "outputs": [],
   "source": [
    "df_final = pd.read_csv(\"final.csv\")"
   ]
  },
  {
   "cell_type": "code",
   "execution_count": 6,
   "id": "b8b11289",
   "metadata": {},
   "outputs": [],
   "source": [
    "df_final.drop(\"Unnamed: 0\", axis = 1, inplace=True)"
   ]
  },
  {
   "cell_type": "markdown",
   "id": "e36cf404",
   "metadata": {},
   "source": [
    "#  Visualization"
   ]
  },
  {
   "cell_type": "code",
   "execution_count": 12,
   "id": "0499151a",
   "metadata": {},
   "outputs": [
    {
     "name": "stdout",
     "output_type": "stream",
     "text": [
      "<class 'pandas.core.frame.DataFrame'>\n",
      "RangeIndex: 12246 entries, 0 to 12245\n",
      "Data columns (total 53 columns):\n",
      " #   Column                                Non-Null Count  Dtype  \n",
      "---  ------                                --------------  -----  \n",
      " 0   User_ID                               12246 non-null  object \n",
      " 1   Personal                              12246 non-null  float64\n",
      " 2   Theme                                 12246 non-null  float64\n",
      " 3   Discussion day of month               12246 non-null  float64\n",
      " 4   comment day of month                  12246 non-null  float64\n",
      " 5   Participant Type                      12246 non-null  float64\n",
      " 6   Successful Submission Count           12246 non-null  int64  \n",
      " 7   competition enrollment day            12246 non-null  float64\n",
      " 8   FeatureA                              12246 non-null  object \n",
      " 9   FeatureB                              12246 non-null  object \n",
      " 10  FeatureC                              12246 non-null  float64\n",
      " 11  FeatureD                              12246 non-null  float64\n",
      " 12  FeatureE                              12246 non-null  float64\n",
      " 13  SecretCode                            12246 non-null  float64\n",
      " 14  FeatureF                              4012 non-null   object \n",
      " 15  FeatureG                              4012 non-null   object \n",
      " 16  FeatureH                              12246 non-null  object \n",
      " 17  FeatureI                              12246 non-null  float64\n",
      " 18  competition ended year                12246 non-null  float64\n",
      " 19  competition ended month               12246 non-null  float64\n",
      " 20  competition ended day                 12246 non-null  float64\n",
      " 21  competition started year              12246 non-null  float64\n",
      " 22  competition started month             12246 non-null  float64\n",
      " 23  competition started day               12246 non-null  float64\n",
      " 24  month user completed action           10876 non-null  float64\n",
      " 25  count_UA                              12246 non-null  float64\n",
      " 26  FeatureY                              8936 non-null   float64\n",
      " 27  FeatureX                              8936 non-null   float64\n",
      " 28  day user signed in                    12246 non-null  float64\n",
      " 29  Discussion Hour                       12246 non-null  int64  \n",
      " 30  Discussion Minute                     12246 non-null  int64  \n",
      " 31  Discussion Second                     12246 non-null  float64\n",
      " 32  Comment Hour                          12246 non-null  int64  \n",
      " 33  Comment Minute                        12246 non-null  int64  \n",
      " 34  Comment Second                        12246 non-null  float64\n",
      " 35  competition enrollment hour           12246 non-null  int64  \n",
      " 36  competition enrollment minute         12246 non-null  int64  \n",
      " 37  competition enrollment second         12246 non-null  float64\n",
      " 38  competition ended hour                12246 non-null  int64  \n",
      " 39  competition ended minute              12246 non-null  int64  \n",
      " 40  competition ended second              12246 non-null  int64  \n",
      " 41  competition started hour              12246 non-null  int64  \n",
      " 42  competition started minute            12246 non-null  int64  \n",
      " 43  competition started second            12246 non-null  int64  \n",
      " 44  Time user completed action in hour    12246 non-null  int64  \n",
      " 45  Time user completed action in minute  12246 non-null  int64  \n",
      " 46  Time user completed action in second  12246 non-null  int64  \n",
      " 47  Time user signed in hour              12246 non-null  int64  \n",
      " 48  Time user signed in minute            12246 non-null  int64  \n",
      " 49  Time user signed in second            12246 non-null  float64\n",
      " 50  Active                                12246 non-null  int64  \n",
      " 51  Next Month Active                     12246 non-null  float64\n",
      " 52  Month                                 12246 non-null  object \n",
      "dtypes: float64(27), int64(19), object(7)\n",
      "memory usage: 5.0+ MB\n"
     ]
    }
   ],
   "source": [
    "df_final.info()"
   ]
  },
  {
   "cell_type": "code",
   "execution_count": 7,
   "id": "b7c55cfa",
   "metadata": {},
   "outputs": [
    {
     "data": {
      "text/html": [
       "<div>\n",
       "<style scoped>\n",
       "    .dataframe tbody tr th:only-of-type {\n",
       "        vertical-align: middle;\n",
       "    }\n",
       "\n",
       "    .dataframe tbody tr th {\n",
       "        vertical-align: top;\n",
       "    }\n",
       "\n",
       "    .dataframe thead th {\n",
       "        text-align: right;\n",
       "    }\n",
       "</style>\n",
       "<table border=\"1\" class=\"dataframe\">\n",
       "  <thead>\n",
       "    <tr style=\"text-align: right;\">\n",
       "      <th></th>\n",
       "      <th>User_ID</th>\n",
       "      <th>Personal</th>\n",
       "      <th>Theme</th>\n",
       "      <th>Discussion day of month</th>\n",
       "      <th>comment day of month</th>\n",
       "      <th>Participant Type</th>\n",
       "      <th>Successful Submission Count</th>\n",
       "      <th>competition enrollment day</th>\n",
       "      <th>FeatureA</th>\n",
       "      <th>FeatureB</th>\n",
       "      <th>...</th>\n",
       "      <th>competition started minute</th>\n",
       "      <th>competition started second</th>\n",
       "      <th>Time user completed action in hour</th>\n",
       "      <th>Time user completed action in minute</th>\n",
       "      <th>Time user completed action in second</th>\n",
       "      <th>Time user signed in hour</th>\n",
       "      <th>Time user signed in minute</th>\n",
       "      <th>Time user signed in second</th>\n",
       "      <th>Active</th>\n",
       "      <th>Next Month Active</th>\n",
       "    </tr>\n",
       "  </thead>\n",
       "  <tbody>\n",
       "    <tr>\n",
       "      <th>0</th>\n",
       "      <td>ID_00E5OHGR_Month_3</td>\n",
       "      <td>-1.0</td>\n",
       "      <td>-1.0</td>\n",
       "      <td>0.0</td>\n",
       "      <td>0.0</td>\n",
       "      <td>1.0</td>\n",
       "      <td>0</td>\n",
       "      <td>15.0</td>\n",
       "      <td>[7]</td>\n",
       "      <td>[2]</td>\n",
       "      <td>...</td>\n",
       "      <td>59</td>\n",
       "      <td>0</td>\n",
       "      <td>11</td>\n",
       "      <td>10</td>\n",
       "      <td>23</td>\n",
       "      <td>8</td>\n",
       "      <td>29</td>\n",
       "      <td>49.568521</td>\n",
       "      <td>1</td>\n",
       "      <td>0.0</td>\n",
       "    </tr>\n",
       "    <tr>\n",
       "      <th>1</th>\n",
       "      <td>ID_00ETFE7J_Month_3</td>\n",
       "      <td>-1.0</td>\n",
       "      <td>-1.0</td>\n",
       "      <td>0.0</td>\n",
       "      <td>0.0</td>\n",
       "      <td>1.0</td>\n",
       "      <td>10</td>\n",
       "      <td>12.0</td>\n",
       "      <td>[1]</td>\n",
       "      <td>[9]</td>\n",
       "      <td>...</td>\n",
       "      <td>0</td>\n",
       "      <td>0</td>\n",
       "      <td>23</td>\n",
       "      <td>41</td>\n",
       "      <td>28</td>\n",
       "      <td>20</td>\n",
       "      <td>53</td>\n",
       "      <td>4.318404</td>\n",
       "      <td>1</td>\n",
       "      <td>0.0</td>\n",
       "    </tr>\n",
       "    <tr>\n",
       "      <th>2</th>\n",
       "      <td>ID_00HJDB09_Month_2</td>\n",
       "      <td>-1.0</td>\n",
       "      <td>-1.0</td>\n",
       "      <td>0.0</td>\n",
       "      <td>0.0</td>\n",
       "      <td>0.0</td>\n",
       "      <td>0</td>\n",
       "      <td>0.0</td>\n",
       "      <td>-1</td>\n",
       "      <td>-1</td>\n",
       "      <td>...</td>\n",
       "      <td>-1</td>\n",
       "      <td>-1</td>\n",
       "      <td>9</td>\n",
       "      <td>2</td>\n",
       "      <td>9</td>\n",
       "      <td>6</td>\n",
       "      <td>51</td>\n",
       "      <td>48.183997</td>\n",
       "      <td>1</td>\n",
       "      <td>0.0</td>\n",
       "    </tr>\n",
       "    <tr>\n",
       "      <th>3</th>\n",
       "      <td>ID_00V7K62T_Month_1</td>\n",
       "      <td>-1.0</td>\n",
       "      <td>-1.0</td>\n",
       "      <td>0.0</td>\n",
       "      <td>0.0</td>\n",
       "      <td>0.0</td>\n",
       "      <td>0</td>\n",
       "      <td>0.0</td>\n",
       "      <td>-1</td>\n",
       "      <td>-1</td>\n",
       "      <td>...</td>\n",
       "      <td>-1</td>\n",
       "      <td>-1</td>\n",
       "      <td>9</td>\n",
       "      <td>43</td>\n",
       "      <td>13</td>\n",
       "      <td>-1</td>\n",
       "      <td>-1</td>\n",
       "      <td>-1.000000</td>\n",
       "      <td>0</td>\n",
       "      <td>0.0</td>\n",
       "    </tr>\n",
       "    <tr>\n",
       "      <th>4</th>\n",
       "      <td>ID_00V7K62T_Month_11</td>\n",
       "      <td>-1.0</td>\n",
       "      <td>-1.0</td>\n",
       "      <td>0.0</td>\n",
       "      <td>0.0</td>\n",
       "      <td>0.0</td>\n",
       "      <td>0</td>\n",
       "      <td>0.0</td>\n",
       "      <td>-1</td>\n",
       "      <td>-1</td>\n",
       "      <td>...</td>\n",
       "      <td>-1</td>\n",
       "      <td>-1</td>\n",
       "      <td>7</td>\n",
       "      <td>47</td>\n",
       "      <td>32</td>\n",
       "      <td>5</td>\n",
       "      <td>47</td>\n",
       "      <td>15.776115</td>\n",
       "      <td>0</td>\n",
       "      <td>0.0</td>\n",
       "    </tr>\n",
       "    <tr>\n",
       "      <th>...</th>\n",
       "      <td>...</td>\n",
       "      <td>...</td>\n",
       "      <td>...</td>\n",
       "      <td>...</td>\n",
       "      <td>...</td>\n",
       "      <td>...</td>\n",
       "      <td>...</td>\n",
       "      <td>...</td>\n",
       "      <td>...</td>\n",
       "      <td>...</td>\n",
       "      <td>...</td>\n",
       "      <td>...</td>\n",
       "      <td>...</td>\n",
       "      <td>...</td>\n",
       "      <td>...</td>\n",
       "      <td>...</td>\n",
       "      <td>...</td>\n",
       "      <td>...</td>\n",
       "      <td>...</td>\n",
       "      <td>...</td>\n",
       "      <td>...</td>\n",
       "    </tr>\n",
       "    <tr>\n",
       "      <th>12241</th>\n",
       "      <td>ID_ZZQK0LU6_Month_1</td>\n",
       "      <td>-1.0</td>\n",
       "      <td>-1.0</td>\n",
       "      <td>0.0</td>\n",
       "      <td>0.0</td>\n",
       "      <td>0.0</td>\n",
       "      <td>0</td>\n",
       "      <td>0.0</td>\n",
       "      <td>-1</td>\n",
       "      <td>-1</td>\n",
       "      <td>...</td>\n",
       "      <td>-1</td>\n",
       "      <td>-1</td>\n",
       "      <td>11</td>\n",
       "      <td>38</td>\n",
       "      <td>50</td>\n",
       "      <td>10</td>\n",
       "      <td>22</td>\n",
       "      <td>28.618352</td>\n",
       "      <td>1</td>\n",
       "      <td>0.0</td>\n",
       "    </tr>\n",
       "    <tr>\n",
       "      <th>12242</th>\n",
       "      <td>ID_ZZT2KLLN_Month_3</td>\n",
       "      <td>-1.0</td>\n",
       "      <td>-1.0</td>\n",
       "      <td>0.0</td>\n",
       "      <td>0.0</td>\n",
       "      <td>0.0</td>\n",
       "      <td>0</td>\n",
       "      <td>0.0</td>\n",
       "      <td>-1</td>\n",
       "      <td>-1</td>\n",
       "      <td>...</td>\n",
       "      <td>-1</td>\n",
       "      <td>-1</td>\n",
       "      <td>5</td>\n",
       "      <td>23</td>\n",
       "      <td>57</td>\n",
       "      <td>4</td>\n",
       "      <td>21</td>\n",
       "      <td>59.028835</td>\n",
       "      <td>0</td>\n",
       "      <td>0.0</td>\n",
       "    </tr>\n",
       "    <tr>\n",
       "      <th>12243</th>\n",
       "      <td>ID_ZZVUJ45W_Month_2</td>\n",
       "      <td>-1.0</td>\n",
       "      <td>-1.0</td>\n",
       "      <td>0.0</td>\n",
       "      <td>0.0</td>\n",
       "      <td>1.0</td>\n",
       "      <td>0</td>\n",
       "      <td>15.0</td>\n",
       "      <td>[1]</td>\n",
       "      <td>[]</td>\n",
       "      <td>...</td>\n",
       "      <td>30</td>\n",
       "      <td>0</td>\n",
       "      <td>-1</td>\n",
       "      <td>-1</td>\n",
       "      <td>-1</td>\n",
       "      <td>9</td>\n",
       "      <td>4</td>\n",
       "      <td>8.881773</td>\n",
       "      <td>0</td>\n",
       "      <td>0.0</td>\n",
       "    </tr>\n",
       "    <tr>\n",
       "      <th>12244</th>\n",
       "      <td>ID_ZZXZVCJ8_Month_11</td>\n",
       "      <td>-1.0</td>\n",
       "      <td>-1.0</td>\n",
       "      <td>0.0</td>\n",
       "      <td>0.0</td>\n",
       "      <td>1.0</td>\n",
       "      <td>0</td>\n",
       "      <td>22.0</td>\n",
       "      <td>[1]</td>\n",
       "      <td>[]</td>\n",
       "      <td>...</td>\n",
       "      <td>0</td>\n",
       "      <td>0</td>\n",
       "      <td>14</td>\n",
       "      <td>53</td>\n",
       "      <td>44</td>\n",
       "      <td>12</td>\n",
       "      <td>53</td>\n",
       "      <td>31.956136</td>\n",
       "      <td>0</td>\n",
       "      <td>0.0</td>\n",
       "    </tr>\n",
       "    <tr>\n",
       "      <th>12245</th>\n",
       "      <td>ID_ZZXZVCJ8_Month_12</td>\n",
       "      <td>-1.0</td>\n",
       "      <td>-1.0</td>\n",
       "      <td>0.0</td>\n",
       "      <td>0.0</td>\n",
       "      <td>0.0</td>\n",
       "      <td>0</td>\n",
       "      <td>0.0</td>\n",
       "      <td>-1</td>\n",
       "      <td>-1</td>\n",
       "      <td>...</td>\n",
       "      <td>-1</td>\n",
       "      <td>-1</td>\n",
       "      <td>13</td>\n",
       "      <td>53</td>\n",
       "      <td>53</td>\n",
       "      <td>-1</td>\n",
       "      <td>-1</td>\n",
       "      <td>-1.000000</td>\n",
       "      <td>0</td>\n",
       "      <td>0.0</td>\n",
       "    </tr>\n",
       "  </tbody>\n",
       "</table>\n",
       "<p>12246 rows × 52 columns</p>\n",
       "</div>"
      ],
      "text/plain": [
       "                    User_ID  Personal  Theme  Discussion day of month  \\\n",
       "0       ID_00E5OHGR_Month_3      -1.0   -1.0                      0.0   \n",
       "1       ID_00ETFE7J_Month_3      -1.0   -1.0                      0.0   \n",
       "2       ID_00HJDB09_Month_2      -1.0   -1.0                      0.0   \n",
       "3       ID_00V7K62T_Month_1      -1.0   -1.0                      0.0   \n",
       "4      ID_00V7K62T_Month_11      -1.0   -1.0                      0.0   \n",
       "...                     ...       ...    ...                      ...   \n",
       "12241   ID_ZZQK0LU6_Month_1      -1.0   -1.0                      0.0   \n",
       "12242   ID_ZZT2KLLN_Month_3      -1.0   -1.0                      0.0   \n",
       "12243   ID_ZZVUJ45W_Month_2      -1.0   -1.0                      0.0   \n",
       "12244  ID_ZZXZVCJ8_Month_11      -1.0   -1.0                      0.0   \n",
       "12245  ID_ZZXZVCJ8_Month_12      -1.0   -1.0                      0.0   \n",
       "\n",
       "       comment day of month  Participant Type  Successful Submission Count  \\\n",
       "0                       0.0               1.0                            0   \n",
       "1                       0.0               1.0                           10   \n",
       "2                       0.0               0.0                            0   \n",
       "3                       0.0               0.0                            0   \n",
       "4                       0.0               0.0                            0   \n",
       "...                     ...               ...                          ...   \n",
       "12241                   0.0               0.0                            0   \n",
       "12242                   0.0               0.0                            0   \n",
       "12243                   0.0               1.0                            0   \n",
       "12244                   0.0               1.0                            0   \n",
       "12245                   0.0               0.0                            0   \n",
       "\n",
       "       competition enrollment day FeatureA FeatureB  ...  \\\n",
       "0                            15.0      [7]      [2]  ...   \n",
       "1                            12.0      [1]      [9]  ...   \n",
       "2                             0.0       -1       -1  ...   \n",
       "3                             0.0       -1       -1  ...   \n",
       "4                             0.0       -1       -1  ...   \n",
       "...                           ...      ...      ...  ...   \n",
       "12241                         0.0       -1       -1  ...   \n",
       "12242                         0.0       -1       -1  ...   \n",
       "12243                        15.0      [1]       []  ...   \n",
       "12244                        22.0      [1]       []  ...   \n",
       "12245                         0.0       -1       -1  ...   \n",
       "\n",
       "       competition started minute  competition started second  \\\n",
       "0                              59                           0   \n",
       "1                               0                           0   \n",
       "2                              -1                          -1   \n",
       "3                              -1                          -1   \n",
       "4                              -1                          -1   \n",
       "...                           ...                         ...   \n",
       "12241                          -1                          -1   \n",
       "12242                          -1                          -1   \n",
       "12243                          30                           0   \n",
       "12244                           0                           0   \n",
       "12245                          -1                          -1   \n",
       "\n",
       "       Time user completed action in hour  \\\n",
       "0                                      11   \n",
       "1                                      23   \n",
       "2                                       9   \n",
       "3                                       9   \n",
       "4                                       7   \n",
       "...                                   ...   \n",
       "12241                                  11   \n",
       "12242                                   5   \n",
       "12243                                  -1   \n",
       "12244                                  14   \n",
       "12245                                  13   \n",
       "\n",
       "       Time user completed action in minute  \\\n",
       "0                                        10   \n",
       "1                                        41   \n",
       "2                                         2   \n",
       "3                                        43   \n",
       "4                                        47   \n",
       "...                                     ...   \n",
       "12241                                    38   \n",
       "12242                                    23   \n",
       "12243                                    -1   \n",
       "12244                                    53   \n",
       "12245                                    53   \n",
       "\n",
       "      Time user completed action in second Time user signed in hour  \\\n",
       "0                                       23                        8   \n",
       "1                                       28                       20   \n",
       "2                                        9                        6   \n",
       "3                                       13                       -1   \n",
       "4                                       32                        5   \n",
       "...                                    ...                      ...   \n",
       "12241                                   50                       10   \n",
       "12242                                   57                        4   \n",
       "12243                                   -1                        9   \n",
       "12244                                   44                       12   \n",
       "12245                                   53                       -1   \n",
       "\n",
       "      Time user signed in minute  Time user signed in second  Active  \\\n",
       "0                             29                   49.568521       1   \n",
       "1                             53                    4.318404       1   \n",
       "2                             51                   48.183997       1   \n",
       "3                             -1                   -1.000000       0   \n",
       "4                             47                   15.776115       0   \n",
       "...                          ...                         ...     ...   \n",
       "12241                         22                   28.618352       1   \n",
       "12242                         21                   59.028835       0   \n",
       "12243                          4                    8.881773       0   \n",
       "12244                         53                   31.956136       0   \n",
       "12245                         -1                   -1.000000       0   \n",
       "\n",
       "       Next Month Active  \n",
       "0                    0.0  \n",
       "1                    0.0  \n",
       "2                    0.0  \n",
       "3                    0.0  \n",
       "4                    0.0  \n",
       "...                  ...  \n",
       "12241                0.0  \n",
       "12242                0.0  \n",
       "12243                0.0  \n",
       "12244                0.0  \n",
       "12245                0.0  \n",
       "\n",
       "[12246 rows x 52 columns]"
      ]
     },
     "execution_count": 7,
     "metadata": {},
     "output_type": "execute_result"
    }
   ],
   "source": [
    "df_final"
   ]
  },
  {
   "cell_type": "code",
   "execution_count": 21,
   "id": "3fecac73",
   "metadata": {},
   "outputs": [],
   "source": [
    "df_final[\"Month\"] = df_final[\"User_ID\"].str[18:]\n",
    "df_final[\"Month\"] = pd.to_numeric(df_final[\"Month\"])"
   ]
  },
  {
   "cell_type": "code",
   "execution_count": 22,
   "id": "af6b01fb",
   "metadata": {},
   "outputs": [],
   "source": [
    "df_month_sum = df_final.groupby(\"Month\").sum()"
   ]
  },
  {
   "cell_type": "code",
   "execution_count": 29,
   "id": "7843cd43",
   "metadata": {},
   "outputs": [
    {
     "data": {
      "text/plain": [
       "Month\n",
       "1     592333.0\n",
       "2     375613.0\n",
       "3     269825.0\n",
       "4      45473.0\n",
       "10         0.0\n",
       "11     18584.0\n",
       "12    130766.0\n",
       "Name: count_UA, dtype: float64"
      ]
     },
     "execution_count": 29,
     "metadata": {},
     "output_type": "execute_result"
    }
   ],
   "source": [
    "df_month_sum[\"count_UA\"]"
   ]
  },
  {
   "cell_type": "code",
   "execution_count": 59,
   "id": "3b760d27",
   "metadata": {},
   "outputs": [
    {
     "data": {
      "image/png": "[encoded data removed]",
      "text/plain": [
       "<Figure size 432x288 with 1 Axes>"
      ]
     },
     "metadata": {
      "needs_background": "light"
     },
     "output_type": "display_data"
    }
   ],
   "source": [
    "plt.bar([1,2,3,4,10,11,12], df_month_sum[\"count_UA\"], color ='maroon', width = 0.8)\n",
    " \n",
    "plt.xlabel(\"Month Number\")\n",
    "plt.ylabel(\"Sum of count_UA\")\n",
    "plt.title(\"Month vs Count\")\n",
    "plt.show()"
   ]
  },
  {
   "cell_type": "code",
   "execution_count": 57,
   "id": "7e727126",
   "metadata": {},
   "outputs": [
    {
     "data": {
      "image/png": "[encoded data removed]",
      "text/plain": [
       "<Figure size 432x288 with 1 Axes>"
      ]
     },
     "metadata": {
      "needs_background": "light"
     },
     "output_type": "display_data"
    }
   ],
   "source": [
    "x = np.arange(1, 10877, 1, dtype=int)\n",
    "y = df_userAct[\"count_UA\"]\n",
    "plt.scatter(x, y)\n",
    "plt.xlabel(\"Data Points of users on a particular month\")\n",
    "plt.ylabel(\"Count of User Activity\")\n",
    "plt.title(\"Data Point vs Count of User Activity\")\n",
    "plt.show()"
   ]
  },
  {
   "cell_type": "code",
   "execution_count": 56,
   "id": "65e453b2",
   "metadata": {},
   "outputs": [
    {
     "data": {
      "text/plain": [
       "21.575487311511583"
      ]
     },
     "execution_count": 56,
     "metadata": {},
     "output_type": "execute_result"
    }
   ],
   "source": [
    "df_userAct[\"count_UA\"].mean()"
   ]
  },
  {
   "cell_type": "code",
   "execution_count": 64,
   "id": "82dfae46",
   "metadata": {},
   "outputs": [
    {
     "data": {
      "image/png": "[encoded data removed]",
      "text/plain": [
       "<Figure size 432x288 with 1 Axes>"
      ]
     },
     "metadata": {
      "needs_background": "light"
     },
     "output_type": "display_data"
    }
   ],
   "source": [
    "plt.bar([1,2,3,4,10,11,12], df_month_sum[\"Successful Submission Count\"], color ='maroon', width = 0.8)\n",
    " \n",
    "plt.xlabel(\"Month Number\")\n",
    "plt.ylabel(\"Sum of Successful Competition Submission Count\")\n",
    "plt.title(\"Month vs Successful Competition Submission Count\")\n",
    "plt.show()"
   ]
  },
  {
   "cell_type": "code",
   "execution_count": 65,
   "id": "f8219765",
   "metadata": {},
   "outputs": [
    {
     "data": {
      "image/png": "[encoded data removed]",
      "text/plain": [
       "<Figure size 432x288 with 1 Axes>"
      ]
     },
     "metadata": {
      "needs_background": "light"
     },
     "output_type": "display_data"
    }
   ],
   "source": [
    "x = np.arange(1, 12247, 1, dtype=int)\n",
    "y = df_final[\"Successful Submission Count\"]\n",
    "plt.scatter(x, y)\n",
    "plt.xlabel(\"Data Points of users on a particular month\")\n",
    "plt.ylabel(\"Successful Competition Submission Count\")\n",
    "plt.title(\"Data Point vs Successful Competition Submission Count\")\n",
    "plt.show()"
   ]
  },
  {
   "cell_type": "code",
   "execution_count": 66,
   "id": "a17e5bb0",
   "metadata": {},
   "outputs": [
    {
     "data": {
      "text/plain": [
       "1.717213784092765"
      ]
     },
     "execution_count": 66,
     "metadata": {},
     "output_type": "execute_result"
    }
   ],
   "source": [
    "df_final[\"Successful Submission Count\"].mean()"
   ]
  },
  {
   "cell_type": "code",
   "execution_count": 88,
   "id": "160cbbe6",
   "metadata": {},
   "outputs": [
    {
     "data": {
      "text/plain": [
       "array([15., 13., 11., 16., 19., 31.,  6.,  3., 29., nan, 23., 25.,  2.,\n",
       "       26., 20., 30., 12., 22., 28.,  8.,  5., 17., 24., 18.,  9., 21.,\n",
       "        4., 14., 10., 27.,  1.,  7.])"
      ]
     },
     "execution_count": 88,
     "metadata": {},
     "output_type": "execute_result"
    }
   ],
   "source": [
    "df_final[\"month user completed action\"].unique()"
   ]
  },
  {
   "cell_type": "code",
   "execution_count": null,
   "id": "e4b6d946",
   "metadata": {},
   "outputs": [],
   "source": [
    "# Day last active vs active scatter"
   ]
  },
  {
   "cell_type": "code",
   "execution_count": null,
   "id": "18f606e0",
   "metadata": {},
   "outputs": [],
   "source": [
    "# Heat map features"
   ]
  },
  {
   "cell_type": "code",
   "execution_count": null,
   "id": "3adf068c",
   "metadata": {},
   "outputs": [],
   "source": [
    "# Feature X, Y, A, ... with list(By topppppppppperrrrrrrrrrrrrrrrrrrrr)"
   ]
  },
  {
   "cell_type": "code",
   "execution_count": null,
   "id": "e9d53578",
   "metadata": {},
   "outputs": [],
   "source": [
    "# Heat map with active"
   ]
  },
  {
   "cell_type": "code",
   "execution_count": null,
   "id": "82d9ad60",
   "metadata": {},
   "outputs": [],
   "source": [
    "# Count vs Active"
   ]
  },
  {
   "cell_type": "code",
   "execution_count": null,
   "id": "dfd33327",
   "metadata": {},
   "outputs": [],
   "source": [
    "# Active vs Next Month"
   ]
  },
  {
   "cell_type": "code",
   "execution_count": 94,
   "id": "f7a5ee4e",
   "metadata": {},
   "outputs": [],
   "source": [
    "df_final = pd.read_csv(\"final.csv\")"
   ]
  },
  {
   "cell_type": "code",
   "execution_count": 96,
   "id": "46a42f5c",
   "metadata": {},
   "outputs": [],
   "source": [
    "df_final.drop(\"Unnamed: 0\", axis = 1, inplace=True)"
   ]
  },
  {
   "cell_type": "code",
   "execution_count": 97,
   "id": "a2594a7f",
   "metadata": {},
   "outputs": [
    {
     "data": {
      "text/html": [
       "<div>\n",
       "<style scoped>\n",
       "    .dataframe tbody tr th:only-of-type {\n",
       "        vertical-align: middle;\n",
       "    }\n",
       "\n",
       "    .dataframe tbody tr th {\n",
       "        vertical-align: top;\n",
       "    }\n",
       "\n",
       "    .dataframe thead th {\n",
       "        text-align: right;\n",
       "    }\n",
       "</style>\n",
       "<table border=\"1\" class=\"dataframe\">\n",
       "  <thead>\n",
       "    <tr style=\"text-align: right;\">\n",
       "      <th></th>\n",
       "      <th>User_ID</th>\n",
       "      <th>Personal</th>\n",
       "      <th>Theme</th>\n",
       "      <th>comment_day</th>\n",
       "      <th>Participant Type</th>\n",
       "      <th>Successful Submission Count</th>\n",
       "      <th>competition_enrollment_day</th>\n",
       "      <th>FeatureA</th>\n",
       "      <th>FeatureB</th>\n",
       "      <th>FeatureC</th>\n",
       "      <th>...</th>\n",
       "      <th>competition started second</th>\n",
       "      <th>User sign-in hour</th>\n",
       "      <th>User sign-in minute</th>\n",
       "      <th>User sign-in second</th>\n",
       "      <th>Discussion Day</th>\n",
       "      <th>Time user completed action in hour</th>\n",
       "      <th>Time user completed action in minute</th>\n",
       "      <th>Time user completed action in second</th>\n",
       "      <th>Active</th>\n",
       "      <th>Next Month Active</th>\n",
       "    </tr>\n",
       "  </thead>\n",
       "  <tbody>\n",
       "    <tr>\n",
       "      <th>0</th>\n",
       "      <td>ID_00E5OHGR_Month_3</td>\n",
       "      <td>-1.0</td>\n",
       "      <td>-1.0</td>\n",
       "      <td>0.0</td>\n",
       "      <td>1.0</td>\n",
       "      <td>0</td>\n",
       "      <td>15.0</td>\n",
       "      <td>[7]</td>\n",
       "      <td>[2]</td>\n",
       "      <td>29.0</td>\n",
       "      <td>...</td>\n",
       "      <td>0</td>\n",
       "      <td>8</td>\n",
       "      <td>29</td>\n",
       "      <td>49.568521</td>\n",
       "      <td>-1</td>\n",
       "      <td>11.0</td>\n",
       "      <td>10.0</td>\n",
       "      <td>23.0</td>\n",
       "      <td>1</td>\n",
       "      <td>0.0</td>\n",
       "    </tr>\n",
       "    <tr>\n",
       "      <th>1</th>\n",
       "      <td>ID_00ETFE7J_Month_3</td>\n",
       "      <td>-1.0</td>\n",
       "      <td>-1.0</td>\n",
       "      <td>0.0</td>\n",
       "      <td>1.0</td>\n",
       "      <td>10</td>\n",
       "      <td>12.0</td>\n",
       "      <td>[1]</td>\n",
       "      <td>[9]</td>\n",
       "      <td>2.0</td>\n",
       "      <td>...</td>\n",
       "      <td>0</td>\n",
       "      <td>20</td>\n",
       "      <td>53</td>\n",
       "      <td>4.318404</td>\n",
       "      <td>-1</td>\n",
       "      <td>23.0</td>\n",
       "      <td>41.0</td>\n",
       "      <td>28.0</td>\n",
       "      <td>1</td>\n",
       "      <td>0.0</td>\n",
       "    </tr>\n",
       "    <tr>\n",
       "      <th>2</th>\n",
       "      <td>ID_00HJDB09_Month_2</td>\n",
       "      <td>-1.0</td>\n",
       "      <td>-1.0</td>\n",
       "      <td>0.0</td>\n",
       "      <td>0.0</td>\n",
       "      <td>0</td>\n",
       "      <td>0.0</td>\n",
       "      <td>-1</td>\n",
       "      <td>-1</td>\n",
       "      <td>-1.0</td>\n",
       "      <td>...</td>\n",
       "      <td>-1</td>\n",
       "      <td>6</td>\n",
       "      <td>51</td>\n",
       "      <td>48.183997</td>\n",
       "      <td>-1</td>\n",
       "      <td>9.0</td>\n",
       "      <td>2.0</td>\n",
       "      <td>9.0</td>\n",
       "      <td>1</td>\n",
       "      <td>0.0</td>\n",
       "    </tr>\n",
       "    <tr>\n",
       "      <th>3</th>\n",
       "      <td>ID_00V7K62T_Month_1</td>\n",
       "      <td>-1.0</td>\n",
       "      <td>-1.0</td>\n",
       "      <td>0.0</td>\n",
       "      <td>0.0</td>\n",
       "      <td>0</td>\n",
       "      <td>0.0</td>\n",
       "      <td>-1</td>\n",
       "      <td>-1</td>\n",
       "      <td>-1.0</td>\n",
       "      <td>...</td>\n",
       "      <td>-1</td>\n",
       "      <td>-1</td>\n",
       "      <td>-1</td>\n",
       "      <td>-1.000000</td>\n",
       "      <td>-1</td>\n",
       "      <td>9.0</td>\n",
       "      <td>43.0</td>\n",
       "      <td>13.0</td>\n",
       "      <td>0</td>\n",
       "      <td>0.0</td>\n",
       "    </tr>\n",
       "    <tr>\n",
       "      <th>4</th>\n",
       "      <td>ID_00V7K62T_Month_11</td>\n",
       "      <td>-1.0</td>\n",
       "      <td>-1.0</td>\n",
       "      <td>0.0</td>\n",
       "      <td>0.0</td>\n",
       "      <td>0</td>\n",
       "      <td>0.0</td>\n",
       "      <td>-1</td>\n",
       "      <td>-1</td>\n",
       "      <td>-1.0</td>\n",
       "      <td>...</td>\n",
       "      <td>-1</td>\n",
       "      <td>5</td>\n",
       "      <td>47</td>\n",
       "      <td>15.776115</td>\n",
       "      <td>-1</td>\n",
       "      <td>7.0</td>\n",
       "      <td>47.0</td>\n",
       "      <td>32.0</td>\n",
       "      <td>0</td>\n",
       "      <td>0.0</td>\n",
       "    </tr>\n",
       "    <tr>\n",
       "      <th>...</th>\n",
       "      <td>...</td>\n",
       "      <td>...</td>\n",
       "      <td>...</td>\n",
       "      <td>...</td>\n",
       "      <td>...</td>\n",
       "      <td>...</td>\n",
       "      <td>...</td>\n",
       "      <td>...</td>\n",
       "      <td>...</td>\n",
       "      <td>...</td>\n",
       "      <td>...</td>\n",
       "      <td>...</td>\n",
       "      <td>...</td>\n",
       "      <td>...</td>\n",
       "      <td>...</td>\n",
       "      <td>...</td>\n",
       "      <td>...</td>\n",
       "      <td>...</td>\n",
       "      <td>...</td>\n",
       "      <td>...</td>\n",
       "      <td>...</td>\n",
       "    </tr>\n",
       "    <tr>\n",
       "      <th>12241</th>\n",
       "      <td>ID_ZZQK0LU6_Month_1</td>\n",
       "      <td>-1.0</td>\n",
       "      <td>-1.0</td>\n",
       "      <td>0.0</td>\n",
       "      <td>0.0</td>\n",
       "      <td>0</td>\n",
       "      <td>0.0</td>\n",
       "      <td>-1</td>\n",
       "      <td>-1</td>\n",
       "      <td>-1.0</td>\n",
       "      <td>...</td>\n",
       "      <td>-1</td>\n",
       "      <td>10</td>\n",
       "      <td>22</td>\n",
       "      <td>28.618352</td>\n",
       "      <td>-1</td>\n",
       "      <td>11.0</td>\n",
       "      <td>38.0</td>\n",
       "      <td>50.0</td>\n",
       "      <td>1</td>\n",
       "      <td>0.0</td>\n",
       "    </tr>\n",
       "    <tr>\n",
       "      <th>12242</th>\n",
       "      <td>ID_ZZT2KLLN_Month_3</td>\n",
       "      <td>-1.0</td>\n",
       "      <td>-1.0</td>\n",
       "      <td>0.0</td>\n",
       "      <td>0.0</td>\n",
       "      <td>0</td>\n",
       "      <td>0.0</td>\n",
       "      <td>-1</td>\n",
       "      <td>-1</td>\n",
       "      <td>-1.0</td>\n",
       "      <td>...</td>\n",
       "      <td>-1</td>\n",
       "      <td>4</td>\n",
       "      <td>21</td>\n",
       "      <td>59.028835</td>\n",
       "      <td>-1</td>\n",
       "      <td>5.0</td>\n",
       "      <td>23.0</td>\n",
       "      <td>57.0</td>\n",
       "      <td>0</td>\n",
       "      <td>0.0</td>\n",
       "    </tr>\n",
       "    <tr>\n",
       "      <th>12243</th>\n",
       "      <td>ID_ZZVUJ45W_Month_2</td>\n",
       "      <td>-1.0</td>\n",
       "      <td>-1.0</td>\n",
       "      <td>0.0</td>\n",
       "      <td>1.0</td>\n",
       "      <td>0</td>\n",
       "      <td>15.0</td>\n",
       "      <td>[1]</td>\n",
       "      <td>[]</td>\n",
       "      <td>3.0</td>\n",
       "      <td>...</td>\n",
       "      <td>0</td>\n",
       "      <td>9</td>\n",
       "      <td>4</td>\n",
       "      <td>8.881773</td>\n",
       "      <td>-1</td>\n",
       "      <td>NaN</td>\n",
       "      <td>NaN</td>\n",
       "      <td>NaN</td>\n",
       "      <td>0</td>\n",
       "      <td>0.0</td>\n",
       "    </tr>\n",
       "    <tr>\n",
       "      <th>12244</th>\n",
       "      <td>ID_ZZXZVCJ8_Month_11</td>\n",
       "      <td>-1.0</td>\n",
       "      <td>-1.0</td>\n",
       "      <td>0.0</td>\n",
       "      <td>1.0</td>\n",
       "      <td>0</td>\n",
       "      <td>22.0</td>\n",
       "      <td>[1]</td>\n",
       "      <td>[]</td>\n",
       "      <td>35.0</td>\n",
       "      <td>...</td>\n",
       "      <td>0</td>\n",
       "      <td>12</td>\n",
       "      <td>53</td>\n",
       "      <td>31.956136</td>\n",
       "      <td>-1</td>\n",
       "      <td>14.0</td>\n",
       "      <td>53.0</td>\n",
       "      <td>44.0</td>\n",
       "      <td>0</td>\n",
       "      <td>0.0</td>\n",
       "    </tr>\n",
       "    <tr>\n",
       "      <th>12245</th>\n",
       "      <td>ID_ZZXZVCJ8_Month_12</td>\n",
       "      <td>-1.0</td>\n",
       "      <td>-1.0</td>\n",
       "      <td>0.0</td>\n",
       "      <td>0.0</td>\n",
       "      <td>0</td>\n",
       "      <td>0.0</td>\n",
       "      <td>-1</td>\n",
       "      <td>-1</td>\n",
       "      <td>-1.0</td>\n",
       "      <td>...</td>\n",
       "      <td>-1</td>\n",
       "      <td>-1</td>\n",
       "      <td>-1</td>\n",
       "      <td>-1.000000</td>\n",
       "      <td>-1</td>\n",
       "      <td>13.0</td>\n",
       "      <td>53.0</td>\n",
       "      <td>53.0</td>\n",
       "      <td>0</td>\n",
       "      <td>0.0</td>\n",
       "    </tr>\n",
       "  </tbody>\n",
       "</table>\n",
       "<p>12246 rows × 54 columns</p>\n",
       "</div>"
      ],
      "text/plain": [
       "                    User_ID  Personal  Theme  comment_day  Participant Type  \\\n",
       "0       ID_00E5OHGR_Month_3      -1.0   -1.0          0.0               1.0   \n",
       "1       ID_00ETFE7J_Month_3      -1.0   -1.0          0.0               1.0   \n",
       "2       ID_00HJDB09_Month_2      -1.0   -1.0          0.0               0.0   \n",
       "3       ID_00V7K62T_Month_1      -1.0   -1.0          0.0               0.0   \n",
       "4      ID_00V7K62T_Month_11      -1.0   -1.0          0.0               0.0   \n",
       "...                     ...       ...    ...          ...               ...   \n",
       "12241   ID_ZZQK0LU6_Month_1      -1.0   -1.0          0.0               0.0   \n",
       "12242   ID_ZZT2KLLN_Month_3      -1.0   -1.0          0.0               0.0   \n",
       "12243   ID_ZZVUJ45W_Month_2      -1.0   -1.0          0.0               1.0   \n",
       "12244  ID_ZZXZVCJ8_Month_11      -1.0   -1.0          0.0               1.0   \n",
       "12245  ID_ZZXZVCJ8_Month_12      -1.0   -1.0          0.0               0.0   \n",
       "\n",
       "       Successful Submission Count  competition_enrollment_day FeatureA  \\\n",
       "0                                0                        15.0      [7]   \n",
       "1                               10                        12.0      [1]   \n",
       "2                                0                         0.0       -1   \n",
       "3                                0                         0.0       -1   \n",
       "4                                0                         0.0       -1   \n",
       "...                            ...                         ...      ...   \n",
       "12241                            0                         0.0       -1   \n",
       "12242                            0                         0.0       -1   \n",
       "12243                            0                        15.0      [1]   \n",
       "12244                            0                        22.0      [1]   \n",
       "12245                            0                         0.0       -1   \n",
       "\n",
       "      FeatureB  FeatureC  ...  competition started second  User sign-in hour  \\\n",
       "0          [2]      29.0  ...                           0                  8   \n",
       "1          [9]       2.0  ...                           0                 20   \n",
       "2           -1      -1.0  ...                          -1                  6   \n",
       "3           -1      -1.0  ...                          -1                 -1   \n",
       "4           -1      -1.0  ...                          -1                  5   \n",
       "...        ...       ...  ...                         ...                ...   \n",
       "12241       -1      -1.0  ...                          -1                 10   \n",
       "12242       -1      -1.0  ...                          -1                  4   \n",
       "12243       []       3.0  ...                           0                  9   \n",
       "12244       []      35.0  ...                           0                 12   \n",
       "12245       -1      -1.0  ...                          -1                 -1   \n",
       "\n",
       "       User sign-in minute User sign-in second Discussion Day  \\\n",
       "0                       29           49.568521             -1   \n",
       "1                       53            4.318404             -1   \n",
       "2                       51           48.183997             -1   \n",
       "3                       -1           -1.000000             -1   \n",
       "4                       47           15.776115             -1   \n",
       "...                    ...                 ...            ...   \n",
       "12241                   22           28.618352             -1   \n",
       "12242                   21           59.028835             -1   \n",
       "12243                    4            8.881773             -1   \n",
       "12244                   53           31.956136             -1   \n",
       "12245                   -1           -1.000000             -1   \n",
       "\n",
       "      Time user completed action in hour  \\\n",
       "0                                   11.0   \n",
       "1                                   23.0   \n",
       "2                                    9.0   \n",
       "3                                    9.0   \n",
       "4                                    7.0   \n",
       "...                                  ...   \n",
       "12241                               11.0   \n",
       "12242                                5.0   \n",
       "12243                                NaN   \n",
       "12244                               14.0   \n",
       "12245                               13.0   \n",
       "\n",
       "       Time user completed action in minute  \\\n",
       "0                                      10.0   \n",
       "1                                      41.0   \n",
       "2                                       2.0   \n",
       "3                                      43.0   \n",
       "4                                      47.0   \n",
       "...                                     ...   \n",
       "12241                                  38.0   \n",
       "12242                                  23.0   \n",
       "12243                                   NaN   \n",
       "12244                                  53.0   \n",
       "12245                                  53.0   \n",
       "\n",
       "       Time user completed action in second  Active  Next Month Active  \n",
       "0                                      23.0       1                0.0  \n",
       "1                                      28.0       1                0.0  \n",
       "2                                       9.0       1                0.0  \n",
       "3                                      13.0       0                0.0  \n",
       "4                                      32.0       0                0.0  \n",
       "...                                     ...     ...                ...  \n",
       "12241                                  50.0       1                0.0  \n",
       "12242                                  57.0       0                0.0  \n",
       "12243                                   NaN       0                0.0  \n",
       "12244                                  44.0       0                0.0  \n",
       "12245                                  53.0       0                0.0  \n",
       "\n",
       "[12246 rows x 54 columns]"
      ]
     },
     "execution_count": 97,
     "metadata": {},
     "output_type": "execute_result"
    }
   ],
   "source": [
    "df_final"
   ]
  },
  {
   "cell_type": "code",
   "execution_count": 98,
   "id": "7381d1ca",
   "metadata": {},
   "outputs": [
    {
     "name": "stdout",
     "output_type": "stream",
     "text": [
      "<class 'pandas.core.frame.DataFrame'>\n",
      "RangeIndex: 12246 entries, 0 to 12245\n",
      "Data columns (total 54 columns):\n",
      " #   Column                                Non-Null Count  Dtype  \n",
      "---  ------                                --------------  -----  \n",
      " 0   User_ID                               12246 non-null  object \n",
      " 1   Personal                              12246 non-null  float64\n",
      " 2   Theme                                 12246 non-null  float64\n",
      " 3   comment_day                           12246 non-null  float64\n",
      " 4   Participant Type                      12246 non-null  float64\n",
      " 5   Successful Submission Count           12246 non-null  int64  \n",
      " 6   competition_enrollment_day            12246 non-null  float64\n",
      " 7   FeatureA                              12246 non-null  object \n",
      " 8   FeatureB                              12246 non-null  object \n",
      " 9   FeatureC                              12246 non-null  float64\n",
      " 10  FeatureD                              12246 non-null  float64\n",
      " 11  FeatureE                              12246 non-null  float64\n",
      " 12  SecretCode                            12246 non-null  float64\n",
      " 13  FeatureF                              4012 non-null   object \n",
      " 14  FeatureG                              4012 non-null   object \n",
      " 15  FeatureH                              12246 non-null  object \n",
      " 16  FeatureI                              12246 non-null  float64\n",
      " 17  competition_ended_year                12246 non-null  float64\n",
      " 18  competition_ended_month               12246 non-null  float64\n",
      " 19  competition_ended_day                 12246 non-null  float64\n",
      " 20  competition_started_year              12246 non-null  float64\n",
      " 21  competition_started_month             12246 non-null  float64\n",
      " 22  competition_started_day               12246 non-null  float64\n",
      " 23  Time user completed action            10876 non-null  object \n",
      " 24  Day last active                       10876 non-null  float64\n",
      " 25  count_UA                              12246 non-null  float64\n",
      " 26  FeatureY                              12246 non-null  float64\n",
      " 27  FeatureX                              12246 non-null  float64\n",
      " 28  User sign-in month                    8936 non-null   float64\n",
      " 29  User sign-in day                      12246 non-null  float64\n",
      " 30  Discussion Hour                       12246 non-null  int64  \n",
      " 31  Discussion Minute                     12246 non-null  int64  \n",
      " 32  Discussion Second                     12246 non-null  int64  \n",
      " 33  Comment Hour                          12246 non-null  int64  \n",
      " 34  Comment Minute                        12246 non-null  int64  \n",
      " 35  Comment Second                        12246 non-null  float64\n",
      " 36  competition enrollment hour           12246 non-null  int64  \n",
      " 37  competition enrollment minute         12246 non-null  int64  \n",
      " 38  competition enrollment second         12246 non-null  int64  \n",
      " 39  competition ended hour                12246 non-null  int64  \n",
      " 40  competition ended minute              12246 non-null  int64  \n",
      " 41  competition ended second              12246 non-null  int64  \n",
      " 42  competition started hour              12246 non-null  int64  \n",
      " 43  competition started minute            12246 non-null  int64  \n",
      " 44  competition started second            12246 non-null  int64  \n",
      " 45  User sign-in hour                     12246 non-null  int64  \n",
      " 46  User sign-in minute                   12246 non-null  int64  \n",
      " 47  User sign-in second                   12246 non-null  float64\n",
      " 48  Discussion Day                        12246 non-null  int64  \n",
      " 49  Time user completed action in hour    10876 non-null  float64\n",
      " 50  Time user completed action in minute  10876 non-null  float64\n",
      " 51  Time user completed action in second  10876 non-null  float64\n",
      " 52  Active                                12246 non-null  int64  \n",
      " 53  Next Month Active                     12246 non-null  float64\n",
      "dtypes: float64(28), int64(19), object(7)\n",
      "memory usage: 5.0+ MB\n"
     ]
    }
   ],
   "source": [
    "df_final.info()"
   ]
  },
  {
   "cell_type": "code",
   "execution_count": 122,
   "id": "39ddef00",
   "metadata": {},
   "outputs": [
    {
     "data": {
      "text/html": [
       "<div>\n",
       "<style scoped>\n",
       "    .dataframe tbody tr th:only-of-type {\n",
       "        vertical-align: middle;\n",
       "    }\n",
       "\n",
       "    .dataframe tbody tr th {\n",
       "        vertical-align: top;\n",
       "    }\n",
       "\n",
       "    .dataframe thead th {\n",
       "        text-align: right;\n",
       "    }\n",
       "</style>\n",
       "<table border=\"1\" class=\"dataframe\">\n",
       "  <thead>\n",
       "    <tr style=\"text-align: right;\">\n",
       "      <th></th>\n",
       "      <th>User_ID</th>\n",
       "      <th>Personal</th>\n",
       "      <th>Theme</th>\n",
       "      <th>comment_day</th>\n",
       "      <th>Participant Type</th>\n",
       "      <th>Successful Submission Count</th>\n",
       "      <th>competition_enrollment_day</th>\n",
       "      <th>FeatureA</th>\n",
       "      <th>FeatureB</th>\n",
       "      <th>FeatureC</th>\n",
       "      <th>...</th>\n",
       "      <th>competition started second</th>\n",
       "      <th>User sign-in hour</th>\n",
       "      <th>User sign-in minute</th>\n",
       "      <th>User sign-in second</th>\n",
       "      <th>Discussion Day</th>\n",
       "      <th>Time user completed action in hour</th>\n",
       "      <th>Time user completed action in minute</th>\n",
       "      <th>Time user completed action in second</th>\n",
       "      <th>Active</th>\n",
       "      <th>Next Month Active</th>\n",
       "    </tr>\n",
       "  </thead>\n",
       "  <tbody>\n",
       "    <tr>\n",
       "      <th>0</th>\n",
       "      <td>ID_00E5OHGR_Month_3</td>\n",
       "      <td>-1.0</td>\n",
       "      <td>-1.0</td>\n",
       "      <td>0.0</td>\n",
       "      <td>1.0</td>\n",
       "      <td>0</td>\n",
       "      <td>15.0</td>\n",
       "      <td>[7]</td>\n",
       "      <td>[2]</td>\n",
       "      <td>29.0</td>\n",
       "      <td>...</td>\n",
       "      <td>0</td>\n",
       "      <td>8</td>\n",
       "      <td>29</td>\n",
       "      <td>49.568521</td>\n",
       "      <td>-1</td>\n",
       "      <td>11.0</td>\n",
       "      <td>10.0</td>\n",
       "      <td>23.0</td>\n",
       "      <td>1</td>\n",
       "      <td>0.0</td>\n",
       "    </tr>\n",
       "    <tr>\n",
       "      <th>1</th>\n",
       "      <td>ID_00ETFE7J_Month_3</td>\n",
       "      <td>-1.0</td>\n",
       "      <td>-1.0</td>\n",
       "      <td>0.0</td>\n",
       "      <td>1.0</td>\n",
       "      <td>10</td>\n",
       "      <td>12.0</td>\n",
       "      <td>[1]</td>\n",
       "      <td>[9]</td>\n",
       "      <td>2.0</td>\n",
       "      <td>...</td>\n",
       "      <td>0</td>\n",
       "      <td>20</td>\n",
       "      <td>53</td>\n",
       "      <td>4.318404</td>\n",
       "      <td>-1</td>\n",
       "      <td>23.0</td>\n",
       "      <td>41.0</td>\n",
       "      <td>28.0</td>\n",
       "      <td>1</td>\n",
       "      <td>0.0</td>\n",
       "    </tr>\n",
       "    <tr>\n",
       "      <th>2</th>\n",
       "      <td>ID_00HJDB09_Month_2</td>\n",
       "      <td>-1.0</td>\n",
       "      <td>-1.0</td>\n",
       "      <td>0.0</td>\n",
       "      <td>0.0</td>\n",
       "      <td>0</td>\n",
       "      <td>0.0</td>\n",
       "      <td>-1</td>\n",
       "      <td>-1</td>\n",
       "      <td>-1.0</td>\n",
       "      <td>...</td>\n",
       "      <td>-1</td>\n",
       "      <td>6</td>\n",
       "      <td>51</td>\n",
       "      <td>48.183997</td>\n",
       "      <td>-1</td>\n",
       "      <td>9.0</td>\n",
       "      <td>2.0</td>\n",
       "      <td>9.0</td>\n",
       "      <td>1</td>\n",
       "      <td>0.0</td>\n",
       "    </tr>\n",
       "    <tr>\n",
       "      <th>5</th>\n",
       "      <td>ID_00XHYSFF_Month_1</td>\n",
       "      <td>-1.0</td>\n",
       "      <td>-1.0</td>\n",
       "      <td>0.0</td>\n",
       "      <td>1.0</td>\n",
       "      <td>10</td>\n",
       "      <td>2.0</td>\n",
       "      <td>[]</td>\n",
       "      <td>[]</td>\n",
       "      <td>-1.0</td>\n",
       "      <td>...</td>\n",
       "      <td>0</td>\n",
       "      <td>-1</td>\n",
       "      <td>-1</td>\n",
       "      <td>-1.000000</td>\n",
       "      <td>-1</td>\n",
       "      <td>23.0</td>\n",
       "      <td>56.0</td>\n",
       "      <td>29.0</td>\n",
       "      <td>1</td>\n",
       "      <td>0.0</td>\n",
       "    </tr>\n",
       "    <tr>\n",
       "      <th>7</th>\n",
       "      <td>ID_00XHYSFF_Month_3</td>\n",
       "      <td>-1.0</td>\n",
       "      <td>-1.0</td>\n",
       "      <td>0.0</td>\n",
       "      <td>0.0</td>\n",
       "      <td>0</td>\n",
       "      <td>0.0</td>\n",
       "      <td>-1</td>\n",
       "      <td>-1</td>\n",
       "      <td>-1.0</td>\n",
       "      <td>...</td>\n",
       "      <td>-1</td>\n",
       "      <td>-1</td>\n",
       "      <td>-1</td>\n",
       "      <td>-1.000000</td>\n",
       "      <td>-1</td>\n",
       "      <td>17.0</td>\n",
       "      <td>49.0</td>\n",
       "      <td>38.0</td>\n",
       "      <td>1</td>\n",
       "      <td>0.0</td>\n",
       "    </tr>\n",
       "    <tr>\n",
       "      <th>...</th>\n",
       "      <td>...</td>\n",
       "      <td>...</td>\n",
       "      <td>...</td>\n",
       "      <td>...</td>\n",
       "      <td>...</td>\n",
       "      <td>...</td>\n",
       "      <td>...</td>\n",
       "      <td>...</td>\n",
       "      <td>...</td>\n",
       "      <td>...</td>\n",
       "      <td>...</td>\n",
       "      <td>...</td>\n",
       "      <td>...</td>\n",
       "      <td>...</td>\n",
       "      <td>...</td>\n",
       "      <td>...</td>\n",
       "      <td>...</td>\n",
       "      <td>...</td>\n",
       "      <td>...</td>\n",
       "      <td>...</td>\n",
       "      <td>...</td>\n",
       "    </tr>\n",
       "    <tr>\n",
       "      <th>12223</th>\n",
       "      <td>ID_ZXJMSN81_Month_12</td>\n",
       "      <td>-1.0</td>\n",
       "      <td>-1.0</td>\n",
       "      <td>0.0</td>\n",
       "      <td>1.0</td>\n",
       "      <td>0</td>\n",
       "      <td>7.0</td>\n",
       "      <td>[1]</td>\n",
       "      <td>[]</td>\n",
       "      <td>35.0</td>\n",
       "      <td>...</td>\n",
       "      <td>0</td>\n",
       "      <td>13</td>\n",
       "      <td>17</td>\n",
       "      <td>54.696108</td>\n",
       "      <td>-1</td>\n",
       "      <td>15.0</td>\n",
       "      <td>35.0</td>\n",
       "      <td>1.0</td>\n",
       "      <td>1</td>\n",
       "      <td>0.0</td>\n",
       "    </tr>\n",
       "    <tr>\n",
       "      <th>12224</th>\n",
       "      <td>ID_ZXLXP8AS_Month_1</td>\n",
       "      <td>-1.0</td>\n",
       "      <td>-1.0</td>\n",
       "      <td>0.0</td>\n",
       "      <td>1.0</td>\n",
       "      <td>9</td>\n",
       "      <td>5.0</td>\n",
       "      <td>[1]</td>\n",
       "      <td>[9]</td>\n",
       "      <td>8.0</td>\n",
       "      <td>...</td>\n",
       "      <td>0</td>\n",
       "      <td>-1</td>\n",
       "      <td>-1</td>\n",
       "      <td>-1.000000</td>\n",
       "      <td>-1</td>\n",
       "      <td>NaN</td>\n",
       "      <td>NaN</td>\n",
       "      <td>NaN</td>\n",
       "      <td>1</td>\n",
       "      <td>0.0</td>\n",
       "    </tr>\n",
       "    <tr>\n",
       "      <th>12233</th>\n",
       "      <td>ID_ZYH5TA02_Month_12</td>\n",
       "      <td>-1.0</td>\n",
       "      <td>-1.0</td>\n",
       "      <td>0.0</td>\n",
       "      <td>0.0</td>\n",
       "      <td>0</td>\n",
       "      <td>0.0</td>\n",
       "      <td>-1</td>\n",
       "      <td>-1</td>\n",
       "      <td>-1.0</td>\n",
       "      <td>...</td>\n",
       "      <td>-1</td>\n",
       "      <td>8</td>\n",
       "      <td>59</td>\n",
       "      <td>11.937322</td>\n",
       "      <td>-1</td>\n",
       "      <td>16.0</td>\n",
       "      <td>9.0</td>\n",
       "      <td>29.0</td>\n",
       "      <td>1</td>\n",
       "      <td>0.0</td>\n",
       "    </tr>\n",
       "    <tr>\n",
       "      <th>12240</th>\n",
       "      <td>ID_ZZDBLYS5_Month_2</td>\n",
       "      <td>-1.0</td>\n",
       "      <td>-1.0</td>\n",
       "      <td>0.0</td>\n",
       "      <td>1.0</td>\n",
       "      <td>0</td>\n",
       "      <td>12.0</td>\n",
       "      <td>[1]</td>\n",
       "      <td>[9]</td>\n",
       "      <td>2.0</td>\n",
       "      <td>...</td>\n",
       "      <td>0</td>\n",
       "      <td>13</td>\n",
       "      <td>58</td>\n",
       "      <td>31.617677</td>\n",
       "      <td>-1</td>\n",
       "      <td>15.0</td>\n",
       "      <td>13.0</td>\n",
       "      <td>55.0</td>\n",
       "      <td>1</td>\n",
       "      <td>0.0</td>\n",
       "    </tr>\n",
       "    <tr>\n",
       "      <th>12241</th>\n",
       "      <td>ID_ZZQK0LU6_Month_1</td>\n",
       "      <td>-1.0</td>\n",
       "      <td>-1.0</td>\n",
       "      <td>0.0</td>\n",
       "      <td>0.0</td>\n",
       "      <td>0</td>\n",
       "      <td>0.0</td>\n",
       "      <td>-1</td>\n",
       "      <td>-1</td>\n",
       "      <td>-1.0</td>\n",
       "      <td>...</td>\n",
       "      <td>-1</td>\n",
       "      <td>10</td>\n",
       "      <td>22</td>\n",
       "      <td>28.618352</td>\n",
       "      <td>-1</td>\n",
       "      <td>11.0</td>\n",
       "      <td>38.0</td>\n",
       "      <td>50.0</td>\n",
       "      <td>1</td>\n",
       "      <td>0.0</td>\n",
       "    </tr>\n",
       "  </tbody>\n",
       "</table>\n",
       "<p>4450 rows × 54 columns</p>\n",
       "</div>"
      ],
      "text/plain": [
       "                    User_ID  Personal  Theme  comment_day  Participant Type  \\\n",
       "0       ID_00E5OHGR_Month_3      -1.0   -1.0          0.0               1.0   \n",
       "1       ID_00ETFE7J_Month_3      -1.0   -1.0          0.0               1.0   \n",
       "2       ID_00HJDB09_Month_2      -1.0   -1.0          0.0               0.0   \n",
       "5       ID_00XHYSFF_Month_1      -1.0   -1.0          0.0               1.0   \n",
       "7       ID_00XHYSFF_Month_3      -1.0   -1.0          0.0               0.0   \n",
       "...                     ...       ...    ...          ...               ...   \n",
       "12223  ID_ZXJMSN81_Month_12      -1.0   -1.0          0.0               1.0   \n",
       "12224   ID_ZXLXP8AS_Month_1      -1.0   -1.0          0.0               1.0   \n",
       "12233  ID_ZYH5TA02_Month_12      -1.0   -1.0          0.0               0.0   \n",
       "12240   ID_ZZDBLYS5_Month_2      -1.0   -1.0          0.0               1.0   \n",
       "12241   ID_ZZQK0LU6_Month_1      -1.0   -1.0          0.0               0.0   \n",
       "\n",
       "       Successful Submission Count  competition_enrollment_day FeatureA  \\\n",
       "0                                0                        15.0      [7]   \n",
       "1                               10                        12.0      [1]   \n",
       "2                                0                         0.0       -1   \n",
       "5                               10                         2.0       []   \n",
       "7                                0                         0.0       -1   \n",
       "...                            ...                         ...      ...   \n",
       "12223                            0                         7.0      [1]   \n",
       "12224                            9                         5.0      [1]   \n",
       "12233                            0                         0.0       -1   \n",
       "12240                            0                        12.0      [1]   \n",
       "12241                            0                         0.0       -1   \n",
       "\n",
       "      FeatureB  FeatureC  ...  competition started second  User sign-in hour  \\\n",
       "0          [2]      29.0  ...                           0                  8   \n",
       "1          [9]       2.0  ...                           0                 20   \n",
       "2           -1      -1.0  ...                          -1                  6   \n",
       "5           []      -1.0  ...                           0                 -1   \n",
       "7           -1      -1.0  ...                          -1                 -1   \n",
       "...        ...       ...  ...                         ...                ...   \n",
       "12223       []      35.0  ...                           0                 13   \n",
       "12224      [9]       8.0  ...                           0                 -1   \n",
       "12233       -1      -1.0  ...                          -1                  8   \n",
       "12240      [9]       2.0  ...                           0                 13   \n",
       "12241       -1      -1.0  ...                          -1                 10   \n",
       "\n",
       "       User sign-in minute User sign-in second Discussion Day  \\\n",
       "0                       29           49.568521             -1   \n",
       "1                       53            4.318404             -1   \n",
       "2                       51           48.183997             -1   \n",
       "5                       -1           -1.000000             -1   \n",
       "7                       -1           -1.000000             -1   \n",
       "...                    ...                 ...            ...   \n",
       "12223                   17           54.696108             -1   \n",
       "12224                   -1           -1.000000             -1   \n",
       "12233                   59           11.937322             -1   \n",
       "12240                   58           31.617677             -1   \n",
       "12241                   22           28.618352             -1   \n",
       "\n",
       "      Time user completed action in hour  \\\n",
       "0                                   11.0   \n",
       "1                                   23.0   \n",
       "2                                    9.0   \n",
       "5                                   23.0   \n",
       "7                                   17.0   \n",
       "...                                  ...   \n",
       "12223                               15.0   \n",
       "12224                                NaN   \n",
       "12233                               16.0   \n",
       "12240                               15.0   \n",
       "12241                               11.0   \n",
       "\n",
       "       Time user completed action in minute  \\\n",
       "0                                      10.0   \n",
       "1                                      41.0   \n",
       "2                                       2.0   \n",
       "5                                      56.0   \n",
       "7                                      49.0   \n",
       "...                                     ...   \n",
       "12223                                  35.0   \n",
       "12224                                   NaN   \n",
       "12233                                   9.0   \n",
       "12240                                  13.0   \n",
       "12241                                  38.0   \n",
       "\n",
       "       Time user completed action in second  Active  Next Month Active  \n",
       "0                                      23.0       1                0.0  \n",
       "1                                      28.0       1                0.0  \n",
       "2                                       9.0       1                0.0  \n",
       "5                                      29.0       1                0.0  \n",
       "7                                      38.0       1                0.0  \n",
       "...                                     ...     ...                ...  \n",
       "12223                                   1.0       1                0.0  \n",
       "12224                                   NaN       1                0.0  \n",
       "12233                                  29.0       1                0.0  \n",
       "12240                                  55.0       1                0.0  \n",
       "12241                                  50.0       1                0.0  \n",
       "\n",
       "[4450 rows x 54 columns]"
      ]
     },
     "execution_count": 122,
     "metadata": {},
     "output_type": "execute_result"
    }
   ],
   "source": [
    "df_final[df_final[\"Active\"]==1]"
   ]
  },
  {
   "cell_type": "code",
   "execution_count": 110,
   "id": "3bf07683",
   "metadata": {},
   "outputs": [
    {
     "data": {
      "text/plain": [
       "array([  0,  10,  20,  40,  28, 304,  90,  30,   8, 180,  27,  29,   6,\n",
       "       720,   7,  78,   9,  60,   5,  70,  19, 160,  63,  15,   3,  12,\n",
       "        80,  24, 144, 162, 130, 170,  36,  18,  13,  50,  26,  49,  16,\n",
       "       190, 100,  72, 260,  92,  96,  54, 210,  17, 140,  35,  52, 320,\n",
       "        48, 217, 272, 120,  32,  56, 846, 231, 240,   4, 176, 108,  64,\n",
       "        66, 110,  14], dtype=int64)"
      ]
     },
     "execution_count": 110,
     "metadata": {},
     "output_type": "execute_result"
    }
   ],
   "source": [
    "df_final[\"Successful Submission Count\"].unique()"
   ]
  },
  {
   "cell_type": "code",
   "execution_count": 117,
   "id": "f5152b8d",
   "metadata": {},
   "outputs": [
    {
     "data": {
      "image/png": "[encoded data removed]",
      "text/plain": [
       "<Figure size 432x288 with 1 Axes>"
      ]
     },
     "metadata": {
      "needs_background": "light"
     },
     "output_type": "display_data"
    }
   ],
   "source": [
    "y = df_final[\"Active\"]\n",
    "x1 = df_final[\"count_UA\"]\n",
    "x2 = df_final[\"Successful Submission Count\"]\n",
    "plt.scatter(x1, y, c=\"blue\", label=\"Count_UA\")\n",
    "plt.scatter(x2, y, c=\"red\", label=\"Successful Submission Count\")\n",
    "plt.xlabel(\"Number\")\n",
    "plt.yticks([-0.5, 0, 0.5, 1, 1.5])\n",
    "plt.ylabel(\"Active\")\n",
    "plt.legend()\n",
    "plt.title(\"Count_UA and Successful Competition Submission Count vs Active\")\n",
    "plt.show()"
   ]
  },
  {
   "cell_type": "code",
   "execution_count": 118,
   "id": "9462b335",
   "metadata": {},
   "outputs": [
    {
     "data": {
      "image/png": "[encoded data removed]",
      "text/plain": [
       "<Figure size 432x288 with 1 Axes>"
      ]
     },
     "metadata": {
      "needs_background": "light"
     },
     "output_type": "display_data"
    }
   ],
   "source": [
    "plt.bar([1,0], [4450, 7795], color ='maroon', width = 0.2)\n",
    " \n",
    "plt.xlabel(\"Active\")\n",
    "plt.ylabel(\"Number of data points\")\n",
    "plt.title(\"Number of data points vs Active\")\n",
    "plt.show()"
   ]
  },
  {
   "cell_type": "code",
   "execution_count": null,
   "id": "9dd799dc",
   "metadata": {},
   "outputs": [],
   "source": []
  }
 ],
 "metadata": {
  "kernelspec": {
   "display_name": "Python 3 (ipykernel)",
   "language": "python",
   "name": "python3"
  },
  "language_info": {
   "codemirror_mode": {
    "name": "ipython",
    "version": 3
   },
   "file_extension": ".py",
   "mimetype": "text/x-python",
   "name": "python",
   "nbconvert_exporter": "python",
   "pygments_lexer": "ipython3",
   "version": "3.9.7"
  }
 },
 "nbformat": 4,
 "nbformat_minor": 5
}
