{
 "cells": [
  {
   "cell_type": "code",
   "execution_count": 1,
   "id": "886b932c",
   "metadata": {},
   "outputs": [],
   "source": [
    "import pandas as pd\n",
    "import numpy as np\n",
    "import ast\n",
    "import matplotlib.pyplot as plt\n",
    "import warnings\n",
    "warnings.filterwarnings(action = 'ignore')"
   ]
  },
  {
   "cell_type": "markdown",
   "id": "8856b840",
   "metadata": {},
   "source": [
    "# USER ACTIVITY"
   ]
  },
  {
   "cell_type": "code",
   "execution_count": 2,
   "id": "f8ba1079",
   "metadata": {},
   "outputs": [
    {
     "data": {
      "text/html": [
       "<div>\n",
       "<style scoped>\n",
       "    .dataframe tbody tr th:only-of-type {\n",
       "        vertical-align: middle;\n",
       "    }\n",
       "\n",
       "    .dataframe tbody tr th {\n",
       "        vertical-align: top;\n",
       "    }\n",
       "\n",
       "    .dataframe thead th {\n",
       "        text-align: right;\n",
       "    }\n",
       "</style>\n",
       "<table border=\"1\" class=\"dataframe\">\n",
       "  <thead>\n",
       "    <tr style=\"text-align: right;\">\n",
       "      <th></th>\n",
       "      <th>User_ID</th>\n",
       "      <th>Title</th>\n",
       "      <th>datetime time</th>\n",
       "      <th>datetime Year</th>\n",
       "      <th>datetime Month</th>\n",
       "      <th>datetime Day_of_month</th>\n",
       "    </tr>\n",
       "  </thead>\n",
       "  <tbody>\n",
       "    <tr>\n",
       "      <th>0</th>\n",
       "      <td>ID_RT43AK77</td>\n",
       "      <td>comp_ID_IV5D</td>\n",
       "      <td>22:00:38</td>\n",
       "      <td>1</td>\n",
       "      <td>11</td>\n",
       "      <td>22</td>\n",
       "    </tr>\n",
       "    <tr>\n",
       "      <th>1</th>\n",
       "      <td>ID_RT43AK77</td>\n",
       "      <td>comp_ID_IV5D</td>\n",
       "      <td>00:41:02</td>\n",
       "      <td>1</td>\n",
       "      <td>11</td>\n",
       "      <td>23</td>\n",
       "    </tr>\n",
       "    <tr>\n",
       "      <th>2</th>\n",
       "      <td>ID_RT43AK77</td>\n",
       "      <td>comp_ID_IV5D</td>\n",
       "      <td>00:53:15</td>\n",
       "      <td>1</td>\n",
       "      <td>11</td>\n",
       "      <td>23</td>\n",
       "    </tr>\n",
       "    <tr>\n",
       "      <th>3</th>\n",
       "      <td>ID_RT43AK77</td>\n",
       "      <td>comp_ID_IV5D</td>\n",
       "      <td>01:23:05</td>\n",
       "      <td>1</td>\n",
       "      <td>11</td>\n",
       "      <td>23</td>\n",
       "    </tr>\n",
       "    <tr>\n",
       "      <th>4</th>\n",
       "      <td>ID_RT43AK77</td>\n",
       "      <td>comp_ID_IV5D</td>\n",
       "      <td>01:27:38</td>\n",
       "      <td>1</td>\n",
       "      <td>11</td>\n",
       "      <td>23</td>\n",
       "    </tr>\n",
       "    <tr>\n",
       "      <th>...</th>\n",
       "      <td>...</td>\n",
       "      <td>...</td>\n",
       "      <td>...</td>\n",
       "      <td>...</td>\n",
       "      <td>...</td>\n",
       "      <td>...</td>\n",
       "    </tr>\n",
       "    <tr>\n",
       "      <th>317287</th>\n",
       "      <td>ID_Z759BCS3</td>\n",
       "      <td>job_ID_5ONI</td>\n",
       "      <td>07:14:47</td>\n",
       "      <td>1</td>\n",
       "      <td>11</td>\n",
       "      <td>14</td>\n",
       "    </tr>\n",
       "    <tr>\n",
       "      <th>317288</th>\n",
       "      <td>ID_WNJMADF8</td>\n",
       "      <td>job_ID_5ONI</td>\n",
       "      <td>06:24:46</td>\n",
       "      <td>1</td>\n",
       "      <td>11</td>\n",
       "      <td>14</td>\n",
       "    </tr>\n",
       "    <tr>\n",
       "      <th>317289</th>\n",
       "      <td>ID_7NBY9MV2</td>\n",
       "      <td>job_ID_5ONI</td>\n",
       "      <td>11:56:35</td>\n",
       "      <td>1</td>\n",
       "      <td>11</td>\n",
       "      <td>20</td>\n",
       "    </tr>\n",
       "    <tr>\n",
       "      <th>317290</th>\n",
       "      <td>ID_LHPJJSOK</td>\n",
       "      <td>job_ID_5ONI</td>\n",
       "      <td>01:27:13</td>\n",
       "      <td>1</td>\n",
       "      <td>11</td>\n",
       "      <td>14</td>\n",
       "    </tr>\n",
       "    <tr>\n",
       "      <th>317291</th>\n",
       "      <td>ID_LCFNGARD</td>\n",
       "      <td>job_ID_5ONI</td>\n",
       "      <td>08:40:29</td>\n",
       "      <td>1</td>\n",
       "      <td>11</td>\n",
       "      <td>17</td>\n",
       "    </tr>\n",
       "  </tbody>\n",
       "</table>\n",
       "<p>317292 rows × 6 columns</p>\n",
       "</div>"
      ],
      "text/plain": [
       "            User_ID         Title datetime time  datetime Year  \\\n",
       "0       ID_RT43AK77  comp_ID_IV5D      22:00:38              1   \n",
       "1       ID_RT43AK77  comp_ID_IV5D      00:41:02              1   \n",
       "2       ID_RT43AK77  comp_ID_IV5D      00:53:15              1   \n",
       "3       ID_RT43AK77  comp_ID_IV5D      01:23:05              1   \n",
       "4       ID_RT43AK77  comp_ID_IV5D      01:27:38              1   \n",
       "...             ...           ...           ...            ...   \n",
       "317287  ID_Z759BCS3   job_ID_5ONI      07:14:47              1   \n",
       "317288  ID_WNJMADF8   job_ID_5ONI      06:24:46              1   \n",
       "317289  ID_7NBY9MV2   job_ID_5ONI      11:56:35              1   \n",
       "317290  ID_LHPJJSOK   job_ID_5ONI      01:27:13              1   \n",
       "317291  ID_LCFNGARD   job_ID_5ONI      08:40:29              1   \n",
       "\n",
       "        datetime Month  datetime Day_of_month  \n",
       "0                   11                     22  \n",
       "1                   11                     23  \n",
       "2                   11                     23  \n",
       "3                   11                     23  \n",
       "4                   11                     23  \n",
       "...                ...                    ...  \n",
       "317287              11                     14  \n",
       "317288              11                     14  \n",
       "317289              11                     20  \n",
       "317290              11                     14  \n",
       "317291              11                     17  \n",
       "\n",
       "[317292 rows x 6 columns]"
      ]
     },
     "execution_count": 2,
     "metadata": {},
     "output_type": "execute_result"
    }
   ],
   "source": [
    "df_userAct = pd.read_csv(\"UserActivity.csv\")\n",
    "df_userAct"
   ]
  },
  {
   "cell_type": "code",
   "execution_count": 3,
   "id": "2f5d483e",
   "metadata": {},
   "outputs": [
    {
     "name": "stdout",
     "output_type": "stream",
     "text": [
      "<class 'pandas.core.frame.DataFrame'>\n",
      "RangeIndex: 317292 entries, 0 to 317291\n",
      "Data columns (total 6 columns):\n",
      " #   Column                 Non-Null Count   Dtype \n",
      "---  ------                 --------------   ----- \n",
      " 0   User_ID                317292 non-null  object\n",
      " 1   Title                  317292 non-null  object\n",
      " 2   datetime time          317292 non-null  object\n",
      " 3   datetime Year          317292 non-null  int64 \n",
      " 4   datetime Month         317292 non-null  int64 \n",
      " 5   datetime Day_of_month  317292 non-null  int64 \n",
      "dtypes: int64(3), object(3)\n",
      "memory usage: 14.5+ MB\n"
     ]
    }
   ],
   "source": [
    "df_userAct.info()"
   ]
  },
  {
   "cell_type": "code",
   "execution_count": 4,
   "id": "a118b129",
   "metadata": {},
   "outputs": [
    {
     "data": {
      "text/plain": [
       "10400"
      ]
     },
     "execution_count": 4,
     "metadata": {},
     "output_type": "execute_result"
    }
   ],
   "source": [
    "len(pd.unique(df_userAct['User_ID']))"
   ]
  },
  {
   "cell_type": "code",
   "execution_count": 5,
   "id": "b097fae4",
   "metadata": {},
   "outputs": [
    {
     "data": {
      "text/plain": [
       "1"
      ]
     },
     "execution_count": 5,
     "metadata": {},
     "output_type": "execute_result"
    }
   ],
   "source": [
    "len(pd.unique(df_userAct['datetime Year']))"
   ]
  },
  {
   "cell_type": "code",
   "execution_count": 6,
   "id": "c4f72dab",
   "metadata": {},
   "outputs": [],
   "source": [
    "df_userAct.drop('datetime Year', inplace=True, axis=1)"
   ]
  },
  {
   "cell_type": "code",
   "execution_count": 7,
   "id": "53ef3337",
   "metadata": {},
   "outputs": [],
   "source": [
    "df_userAct[\"User_ID\"] = df_userAct[\"User_ID\"].astype(\"string\")\n",
    "df_userAct[\"datetime Month\"] = df_userAct[\"datetime Month\"].astype(\"string\")"
   ]
  },
  {
   "cell_type": "code",
   "execution_count": 8,
   "id": "09ee6f73",
   "metadata": {},
   "outputs": [],
   "source": [
    "new = df_userAct[\"datetime Month\"].copy()\n",
    "df_userAct[\"User_ID\"] = df_userAct[\"User_ID\"].str.cat(new, sep =\"_Month_\")"
   ]
  },
  {
   "cell_type": "code",
   "execution_count": 9,
   "id": "6cf63d8c",
   "metadata": {},
   "outputs": [],
   "source": [
    "df_userAct.drop('datetime Month', inplace=True, axis=1)"
   ]
  },
  {
   "cell_type": "code",
   "execution_count": 10,
   "id": "ee896afa",
   "metadata": {},
   "outputs": [],
   "source": [
    "df_temp1 = df_userAct.groupby('User_ID').max() "
   ]
  },
  {
   "cell_type": "code",
   "execution_count": 11,
   "id": "f89f49fd",
   "metadata": {},
   "outputs": [],
   "source": [
    "df_temp2 = df_userAct.groupby('User_ID').sum() "
   ]
  },
  {
   "cell_type": "code",
   "execution_count": 12,
   "id": "78b0c80e",
   "metadata": {},
   "outputs": [],
   "source": [
    "df_temp3 = df_userAct.groupby('User_ID').count() "
   ]
  },
  {
   "cell_type": "code",
   "execution_count": 13,
   "id": "b7596df2",
   "metadata": {},
   "outputs": [],
   "source": [
    "df_temp = df_temp1"
   ]
  },
  {
   "cell_type": "code",
   "execution_count": 14,
   "id": "458de006",
   "metadata": {},
   "outputs": [],
   "source": [
    "df_temp[\"datetime Day_of_month\"] = df_temp1[\"datetime Day_of_month\"]"
   ]
  },
  {
   "cell_type": "code",
   "execution_count": 15,
   "id": "2f036e73",
   "metadata": {},
   "outputs": [],
   "source": [
    "df_temp[\"count_UA\"] = df_temp3[\"datetime time\"]"
   ]
  },
  {
   "cell_type": "code",
   "execution_count": 16,
   "id": "3e1a9f4b",
   "metadata": {},
   "outputs": [],
   "source": [
    "df_userAct = df_temp "
   ]
  },
  {
   "cell_type": "code",
   "execution_count": 17,
   "id": "97929aad",
   "metadata": {},
   "outputs": [],
   "source": [
    "df_userAct.drop('Title', inplace=True, axis=1)"
   ]
  },
  {
   "cell_type": "raw",
   "id": "de727517",
   "metadata": {},
   "source": [
    "df_userAct.sort_values('User_ID')"
   ]
  },
  {
   "cell_type": "code",
   "execution_count": 18,
   "id": "b14e9f1b",
   "metadata": {},
   "outputs": [
    {
     "data": {
      "text/html": [
       "<div>\n",
       "<style scoped>\n",
       "    .dataframe tbody tr th:only-of-type {\n",
       "        vertical-align: middle;\n",
       "    }\n",
       "\n",
       "    .dataframe tbody tr th {\n",
       "        vertical-align: top;\n",
       "    }\n",
       "\n",
       "    .dataframe thead th {\n",
       "        text-align: right;\n",
       "    }\n",
       "</style>\n",
       "<table border=\"1\" class=\"dataframe\">\n",
       "  <thead>\n",
       "    <tr style=\"text-align: right;\">\n",
       "      <th></th>\n",
       "      <th>datetime time</th>\n",
       "      <th>datetime Day_of_month</th>\n",
       "      <th>count_UA</th>\n",
       "    </tr>\n",
       "    <tr>\n",
       "      <th>User_ID</th>\n",
       "      <th></th>\n",
       "      <th></th>\n",
       "      <th></th>\n",
       "    </tr>\n",
       "  </thead>\n",
       "  <tbody>\n",
       "    <tr>\n",
       "      <th>ID_000H9XOP_Month_5</th>\n",
       "      <td>16:18:22</td>\n",
       "      <td>26</td>\n",
       "      <td>6</td>\n",
       "    </tr>\n",
       "    <tr>\n",
       "      <th>ID_003YJHQA_Month_4</th>\n",
       "      <td>11:31:30</td>\n",
       "      <td>12</td>\n",
       "      <td>11</td>\n",
       "    </tr>\n",
       "    <tr>\n",
       "      <th>ID_004UKSJV_Month_1</th>\n",
       "      <td>09:17:09</td>\n",
       "      <td>15</td>\n",
       "      <td>1</td>\n",
       "    </tr>\n",
       "    <tr>\n",
       "      <th>ID_004UKSJV_Month_12</th>\n",
       "      <td>10:51:58</td>\n",
       "      <td>29</td>\n",
       "      <td>11</td>\n",
       "    </tr>\n",
       "    <tr>\n",
       "      <th>ID_008D2J6C_Month_1</th>\n",
       "      <td>10:44:55</td>\n",
       "      <td>15</td>\n",
       "      <td>10</td>\n",
       "    </tr>\n",
       "    <tr>\n",
       "      <th>...</th>\n",
       "      <td>...</td>\n",
       "      <td>...</td>\n",
       "      <td>...</td>\n",
       "    </tr>\n",
       "    <tr>\n",
       "      <th>ID_ZZJKFBR5_Month_2</th>\n",
       "      <td>19:19:21</td>\n",
       "      <td>20</td>\n",
       "      <td>2</td>\n",
       "    </tr>\n",
       "    <tr>\n",
       "      <th>ID_ZZMHNLNT_Month_4</th>\n",
       "      <td>11:57:10</td>\n",
       "      <td>1</td>\n",
       "      <td>8</td>\n",
       "    </tr>\n",
       "    <tr>\n",
       "      <th>ID_ZZQK0LU6_Month_3</th>\n",
       "      <td>23:41:18</td>\n",
       "      <td>30</td>\n",
       "      <td>67</td>\n",
       "    </tr>\n",
       "    <tr>\n",
       "      <th>ID_ZZUNZJ2U_Month_2</th>\n",
       "      <td>23:16:34</td>\n",
       "      <td>30</td>\n",
       "      <td>12</td>\n",
       "    </tr>\n",
       "    <tr>\n",
       "      <th>ID_ZZVUJ45W_Month_3</th>\n",
       "      <td>09:32:57</td>\n",
       "      <td>5</td>\n",
       "      <td>13</td>\n",
       "    </tr>\n",
       "  </tbody>\n",
       "</table>\n",
       "<p>15143 rows × 3 columns</p>\n",
       "</div>"
      ],
      "text/plain": [
       "                     datetime time  datetime Day_of_month  count_UA\n",
       "User_ID                                                            \n",
       "ID_000H9XOP_Month_5       16:18:22                     26         6\n",
       "ID_003YJHQA_Month_4       11:31:30                     12        11\n",
       "ID_004UKSJV_Month_1       09:17:09                     15         1\n",
       "ID_004UKSJV_Month_12      10:51:58                     29        11\n",
       "ID_008D2J6C_Month_1       10:44:55                     15        10\n",
       "...                            ...                    ...       ...\n",
       "ID_ZZJKFBR5_Month_2       19:19:21                     20         2\n",
       "ID_ZZMHNLNT_Month_4       11:57:10                      1         8\n",
       "ID_ZZQK0LU6_Month_3       23:41:18                     30        67\n",
       "ID_ZZUNZJ2U_Month_2       23:16:34                     30        12\n",
       "ID_ZZVUJ45W_Month_3       09:32:57                      5        13\n",
       "\n",
       "[15143 rows x 3 columns]"
      ]
     },
     "execution_count": 18,
     "metadata": {},
     "output_type": "execute_result"
    }
   ],
   "source": [
    "df_userAct"
   ]
  },
  {
   "cell_type": "markdown",
   "id": "0eb20903",
   "metadata": {},
   "source": [
    "# DISCUSSIONS"
   ]
  },
  {
   "cell_type": "code",
   "execution_count": 19,
   "id": "f291591c",
   "metadata": {},
   "outputs": [],
   "source": [
    "df_disc = pd.read_csv(\"Discussion.csv\")"
   ]
  },
  {
   "cell_type": "code",
   "execution_count": 20,
   "id": "1a3bebda",
   "metadata": {},
   "outputs": [
    {
     "name": "stdout",
     "output_type": "stream",
     "text": [
      "<class 'pandas.core.frame.DataFrame'>\n",
      "RangeIndex: 1439 entries, 0 to 1438\n",
      "Data columns (total 9 columns):\n",
      " #   Column                   Non-Null Count  Dtype  \n",
      "---  ------                   --------------  -----  \n",
      " 0   Competition ID           1439 non-null   object \n",
      " 1   Personal                 1439 non-null   int64  \n",
      " 2   Theme                    159 non-null    float64\n",
      " 3   Disc_ID                  1439 non-null   object \n",
      " 4   User_ID                  1439 non-null   object \n",
      " 5   Created At time          1439 non-null   object \n",
      " 6   Created At Year          1439 non-null   int64  \n",
      " 7   Created At Month         1439 non-null   int64  \n",
      " 8   Created At Day_of_month  1439 non-null   int64  \n",
      "dtypes: float64(1), int64(4), object(4)\n",
      "memory usage: 101.3+ KB\n"
     ]
    }
   ],
   "source": [
    "df_disc.info()"
   ]
  },
  {
   "cell_type": "code",
   "execution_count": 21,
   "id": "1bd34152",
   "metadata": {},
   "outputs": [
    {
     "data": {
      "text/html": [
       "<div>\n",
       "<style scoped>\n",
       "    .dataframe tbody tr th:only-of-type {\n",
       "        vertical-align: middle;\n",
       "    }\n",
       "\n",
       "    .dataframe tbody tr th {\n",
       "        vertical-align: top;\n",
       "    }\n",
       "\n",
       "    .dataframe thead th {\n",
       "        text-align: right;\n",
       "    }\n",
       "</style>\n",
       "<table border=\"1\" class=\"dataframe\">\n",
       "  <thead>\n",
       "    <tr style=\"text-align: right;\">\n",
       "      <th></th>\n",
       "      <th>Competition ID</th>\n",
       "      <th>Personal</th>\n",
       "      <th>Theme</th>\n",
       "      <th>Disc_ID</th>\n",
       "      <th>User_ID</th>\n",
       "      <th>Created At time</th>\n",
       "      <th>Created At Year</th>\n",
       "      <th>Created At Month</th>\n",
       "      <th>Created At Day_of_month</th>\n",
       "    </tr>\n",
       "  </thead>\n",
       "  <tbody>\n",
       "    <tr>\n",
       "      <th>0</th>\n",
       "      <td>GeneralDiscussion</td>\n",
       "      <td>1</td>\n",
       "      <td>NaN</td>\n",
       "      <td>ID_0BK7TH</td>\n",
       "      <td>ID_AAGFVLHH</td>\n",
       "      <td>19:48:26.862175</td>\n",
       "      <td>1</td>\n",
       "      <td>12</td>\n",
       "      <td>27</td>\n",
       "    </tr>\n",
       "    <tr>\n",
       "      <th>1</th>\n",
       "      <td>GeneralDiscussion</td>\n",
       "      <td>1</td>\n",
       "      <td>NaN</td>\n",
       "      <td>ID_ZFJ9J7</td>\n",
       "      <td>ID_0AJGQILU</td>\n",
       "      <td>09:37:52.039526</td>\n",
       "      <td>1</td>\n",
       "      <td>12</td>\n",
       "      <td>20</td>\n",
       "    </tr>\n",
       "    <tr>\n",
       "      <th>2</th>\n",
       "      <td>GeneralDiscussion</td>\n",
       "      <td>1</td>\n",
       "      <td>NaN</td>\n",
       "      <td>ID_ME45XX</td>\n",
       "      <td>ID_U90KK6KL</td>\n",
       "      <td>17:50:33.894800</td>\n",
       "      <td>1</td>\n",
       "      <td>2</td>\n",
       "      <td>9</td>\n",
       "    </tr>\n",
       "    <tr>\n",
       "      <th>3</th>\n",
       "      <td>ID_45W9</td>\n",
       "      <td>1</td>\n",
       "      <td>NaN</td>\n",
       "      <td>ID_2BG9IX</td>\n",
       "      <td>ID_U90KK6KL</td>\n",
       "      <td>07:57:55.178845</td>\n",
       "      <td>1</td>\n",
       "      <td>2</td>\n",
       "      <td>10</td>\n",
       "    </tr>\n",
       "    <tr>\n",
       "      <th>4</th>\n",
       "      <td>GeneralDiscussion</td>\n",
       "      <td>1</td>\n",
       "      <td>NaN</td>\n",
       "      <td>ID_251XVV</td>\n",
       "      <td>ID_F7HIGFHQ</td>\n",
       "      <td>19:56:13.041893</td>\n",
       "      <td>1</td>\n",
       "      <td>12</td>\n",
       "      <td>27</td>\n",
       "    </tr>\n",
       "    <tr>\n",
       "      <th>...</th>\n",
       "      <td>...</td>\n",
       "      <td>...</td>\n",
       "      <td>...</td>\n",
       "      <td>...</td>\n",
       "      <td>...</td>\n",
       "      <td>...</td>\n",
       "      <td>...</td>\n",
       "      <td>...</td>\n",
       "      <td>...</td>\n",
       "    </tr>\n",
       "    <tr>\n",
       "      <th>1434</th>\n",
       "      <td>GeneralDiscussion</td>\n",
       "      <td>1</td>\n",
       "      <td>NaN</td>\n",
       "      <td>ID_09W0TZ</td>\n",
       "      <td>ID_AAJKI0P3</td>\n",
       "      <td>14:15:31.081484</td>\n",
       "      <td>1</td>\n",
       "      <td>5</td>\n",
       "      <td>23</td>\n",
       "    </tr>\n",
       "    <tr>\n",
       "      <th>1435</th>\n",
       "      <td>GeneralDiscussion</td>\n",
       "      <td>1</td>\n",
       "      <td>NaN</td>\n",
       "      <td>ID_613AUJ</td>\n",
       "      <td>ID_8A3X5IWU</td>\n",
       "      <td>11:06:11.201934</td>\n",
       "      <td>1</td>\n",
       "      <td>5</td>\n",
       "      <td>14</td>\n",
       "    </tr>\n",
       "    <tr>\n",
       "      <th>1436</th>\n",
       "      <td>GeneralDiscussion</td>\n",
       "      <td>1</td>\n",
       "      <td>NaN</td>\n",
       "      <td>ID_TCN8TB</td>\n",
       "      <td>ID_3NL0QLE6</td>\n",
       "      <td>04:57:31.578153</td>\n",
       "      <td>1</td>\n",
       "      <td>5</td>\n",
       "      <td>12</td>\n",
       "    </tr>\n",
       "    <tr>\n",
       "      <th>1437</th>\n",
       "      <td>GeneralDiscussion</td>\n",
       "      <td>1</td>\n",
       "      <td>NaN</td>\n",
       "      <td>ID_FTJ37Z</td>\n",
       "      <td>ID_3PL1LQQX</td>\n",
       "      <td>05:11:59.313759</td>\n",
       "      <td>1</td>\n",
       "      <td>5</td>\n",
       "      <td>9</td>\n",
       "    </tr>\n",
       "    <tr>\n",
       "      <th>1438</th>\n",
       "      <td>GeneralDiscussion</td>\n",
       "      <td>0</td>\n",
       "      <td>1.0</td>\n",
       "      <td>ID_ZOC5GY</td>\n",
       "      <td>ID_S4XIIL0Z</td>\n",
       "      <td>07:13:04.296241</td>\n",
       "      <td>1</td>\n",
       "      <td>3</td>\n",
       "      <td>19</td>\n",
       "    </tr>\n",
       "  </tbody>\n",
       "</table>\n",
       "<p>1439 rows × 9 columns</p>\n",
       "</div>"
      ],
      "text/plain": [
       "         Competition ID  Personal  Theme    Disc_ID      User_ID  \\\n",
       "0     GeneralDiscussion         1    NaN  ID_0BK7TH  ID_AAGFVLHH   \n",
       "1     GeneralDiscussion         1    NaN  ID_ZFJ9J7  ID_0AJGQILU   \n",
       "2     GeneralDiscussion         1    NaN  ID_ME45XX  ID_U90KK6KL   \n",
       "3               ID_45W9         1    NaN  ID_2BG9IX  ID_U90KK6KL   \n",
       "4     GeneralDiscussion         1    NaN  ID_251XVV  ID_F7HIGFHQ   \n",
       "...                 ...       ...    ...        ...          ...   \n",
       "1434  GeneralDiscussion         1    NaN  ID_09W0TZ  ID_AAJKI0P3   \n",
       "1435  GeneralDiscussion         1    NaN  ID_613AUJ  ID_8A3X5IWU   \n",
       "1436  GeneralDiscussion         1    NaN  ID_TCN8TB  ID_3NL0QLE6   \n",
       "1437  GeneralDiscussion         1    NaN  ID_FTJ37Z  ID_3PL1LQQX   \n",
       "1438  GeneralDiscussion         0    1.0  ID_ZOC5GY  ID_S4XIIL0Z   \n",
       "\n",
       "      Created At time  Created At Year  Created At Month  \\\n",
       "0     19:48:26.862175                1                12   \n",
       "1     09:37:52.039526                1                12   \n",
       "2     17:50:33.894800                1                 2   \n",
       "3     07:57:55.178845                1                 2   \n",
       "4     19:56:13.041893                1                12   \n",
       "...               ...              ...               ...   \n",
       "1434  14:15:31.081484                1                 5   \n",
       "1435  11:06:11.201934                1                 5   \n",
       "1436  04:57:31.578153                1                 5   \n",
       "1437  05:11:59.313759                1                 5   \n",
       "1438  07:13:04.296241                1                 3   \n",
       "\n",
       "      Created At Day_of_month  \n",
       "0                          27  \n",
       "1                          20  \n",
       "2                           9  \n",
       "3                          10  \n",
       "4                          27  \n",
       "...                       ...  \n",
       "1434                       23  \n",
       "1435                       14  \n",
       "1436                       12  \n",
       "1437                        9  \n",
       "1438                       19  \n",
       "\n",
       "[1439 rows x 9 columns]"
      ]
     },
     "execution_count": 21,
     "metadata": {},
     "output_type": "execute_result"
    }
   ],
   "source": [
    "df_disc"
   ]
  },
  {
   "cell_type": "code",
   "execution_count": 22,
   "id": "db27b848",
   "metadata": {},
   "outputs": [
    {
     "data": {
      "text/plain": [
       "1017"
      ]
     },
     "execution_count": 22,
     "metadata": {},
     "output_type": "execute_result"
    }
   ],
   "source": [
    "len(pd.unique(df_disc['User_ID']))"
   ]
  },
  {
   "cell_type": "code",
   "execution_count": 23,
   "id": "dfd7452c",
   "metadata": {},
   "outputs": [
    {
     "data": {
      "text/plain": [
       "1"
      ]
     },
     "execution_count": 23,
     "metadata": {},
     "output_type": "execute_result"
    }
   ],
   "source": [
    "len(pd.unique(df_disc['Created At Year']))"
   ]
  },
  {
   "cell_type": "code",
   "execution_count": 24,
   "id": "301938a4",
   "metadata": {},
   "outputs": [],
   "source": [
    "df_disc[\"User_ID\"] = df_disc[\"User_ID\"].astype(\"string\")\n",
    "df_disc[\"Created At Month\"] = df_disc[\"Created At Month\"].astype(\"string\")"
   ]
  },
  {
   "cell_type": "code",
   "execution_count": 25,
   "id": "82a2059d",
   "metadata": {},
   "outputs": [],
   "source": [
    "new = df_disc[\"Created At Month\"].copy()\n",
    "df_disc[\"User_ID\"] = df_disc[\"User_ID\"].str.cat(new, sep =\"_Month_\")"
   ]
  },
  {
   "cell_type": "code",
   "execution_count": 26,
   "id": "c9c8e0e0",
   "metadata": {},
   "outputs": [
    {
     "data": {
      "text/plain": [
       "array([nan,  3.,  1.,  4.,  5.,  2.])"
      ]
     },
     "execution_count": 26,
     "metadata": {},
     "output_type": "execute_result"
    }
   ],
   "source": [
    "pd.unique(df_disc['Theme'])"
   ]
  },
  {
   "cell_type": "code",
   "execution_count": 27,
   "id": "a796de29",
   "metadata": {},
   "outputs": [],
   "source": [
    "df_disc.rename(columns={'Created At time': 'Discussion_time'},  inplace = True)"
   ]
  },
  {
   "cell_type": "code",
   "execution_count": 28,
   "id": "1e419882",
   "metadata": {},
   "outputs": [],
   "source": [
    "df_disc.rename(columns={'Created At Year': 'Discussion_year'},  inplace = True)"
   ]
  },
  {
   "cell_type": "code",
   "execution_count": 29,
   "id": "c689da5d",
   "metadata": {},
   "outputs": [],
   "source": [
    "df_disc.rename(columns={'Created At Month': 'Discussion_month'},  inplace = True)"
   ]
  },
  {
   "cell_type": "code",
   "execution_count": 30,
   "id": "1be8674a",
   "metadata": {},
   "outputs": [],
   "source": [
    "df_disc.rename(columns={'Created At Day_of_month': 'Discussion_day'},  inplace = True)"
   ]
  },
  {
   "cell_type": "code",
   "execution_count": 31,
   "id": "fb9c1994",
   "metadata": {},
   "outputs": [
    {
     "name": "stdout",
     "output_type": "stream",
     "text": [
      "<class 'pandas.core.frame.DataFrame'>\n",
      "RangeIndex: 1439 entries, 0 to 1438\n",
      "Data columns (total 9 columns):\n",
      " #   Column            Non-Null Count  Dtype  \n",
      "---  ------            --------------  -----  \n",
      " 0   Competition ID    1439 non-null   object \n",
      " 1   Personal          1439 non-null   int64  \n",
      " 2   Theme             159 non-null    float64\n",
      " 3   Disc_ID           1439 non-null   object \n",
      " 4   User_ID           1439 non-null   string \n",
      " 5   Discussion_time   1439 non-null   object \n",
      " 6   Discussion_year   1439 non-null   int64  \n",
      " 7   Discussion_month  1439 non-null   string \n",
      " 8   Discussion_day    1439 non-null   int64  \n",
      "dtypes: float64(1), int64(3), object(3), string(2)\n",
      "memory usage: 101.3+ KB\n"
     ]
    }
   ],
   "source": [
    "df_disc.info()"
   ]
  },
  {
   "cell_type": "markdown",
   "id": "4df67006",
   "metadata": {},
   "source": [
    "# COMMENTS"
   ]
  },
  {
   "cell_type": "code",
   "execution_count": 32,
   "id": "3760bc57",
   "metadata": {},
   "outputs": [],
   "source": [
    "df_com = pd.read_csv(\"Comments.csv\")"
   ]
  },
  {
   "cell_type": "code",
   "execution_count": 33,
   "id": "930c46a1",
   "metadata": {},
   "outputs": [
    {
     "name": "stdout",
     "output_type": "stream",
     "text": [
      "<class 'pandas.core.frame.DataFrame'>\n",
      "RangeIndex: 467 entries, 0 to 466\n",
      "Data columns (total 6 columns):\n",
      " #   Column                   Non-Null Count  Dtype \n",
      "---  ------                   --------------  ----- \n",
      " 0   Disc_ID                  467 non-null    object\n",
      " 1   User_ID                  467 non-null    object\n",
      " 2   Created At time          467 non-null    object\n",
      " 3   Created At Year          467 non-null    int64 \n",
      " 4   Created At Month         467 non-null    int64 \n",
      " 5   Created At Day_of_month  467 non-null    int64 \n",
      "dtypes: int64(3), object(3)\n",
      "memory usage: 22.0+ KB\n"
     ]
    }
   ],
   "source": [
    "df_com.info()"
   ]
  },
  {
   "cell_type": "code",
   "execution_count": 34,
   "id": "af159fb1",
   "metadata": {},
   "outputs": [
    {
     "data": {
      "text/html": [
       "<div>\n",
       "<style scoped>\n",
       "    .dataframe tbody tr th:only-of-type {\n",
       "        vertical-align: middle;\n",
       "    }\n",
       "\n",
       "    .dataframe tbody tr th {\n",
       "        vertical-align: top;\n",
       "    }\n",
       "\n",
       "    .dataframe thead th {\n",
       "        text-align: right;\n",
       "    }\n",
       "</style>\n",
       "<table border=\"1\" class=\"dataframe\">\n",
       "  <thead>\n",
       "    <tr style=\"text-align: right;\">\n",
       "      <th></th>\n",
       "      <th>Disc_ID</th>\n",
       "      <th>User_ID</th>\n",
       "      <th>Created At time</th>\n",
       "      <th>Created At Year</th>\n",
       "      <th>Created At Month</th>\n",
       "      <th>Created At Day_of_month</th>\n",
       "    </tr>\n",
       "  </thead>\n",
       "  <tbody>\n",
       "    <tr>\n",
       "      <th>0</th>\n",
       "      <td>ID_ONQEAR</td>\n",
       "      <td>ID_CEDNKSVV</td>\n",
       "      <td>16:18:44.841697</td>\n",
       "      <td>1</td>\n",
       "      <td>5</td>\n",
       "      <td>11</td>\n",
       "    </tr>\n",
       "    <tr>\n",
       "      <th>1</th>\n",
       "      <td>ID_E0NHSS</td>\n",
       "      <td>ID_CEDNKSVV</td>\n",
       "      <td>17:30:40.566763</td>\n",
       "      <td>1</td>\n",
       "      <td>12</td>\n",
       "      <td>23</td>\n",
       "    </tr>\n",
       "    <tr>\n",
       "      <th>2</th>\n",
       "      <td>ID_3XKIOF</td>\n",
       "      <td>ID_CEDNKSVV</td>\n",
       "      <td>13:28:47.950841</td>\n",
       "      <td>1</td>\n",
       "      <td>1</td>\n",
       "      <td>3</td>\n",
       "    </tr>\n",
       "    <tr>\n",
       "      <th>3</th>\n",
       "      <td>ID_XCC6W4</td>\n",
       "      <td>ID_CEDNKSVV</td>\n",
       "      <td>18:42:17.362333</td>\n",
       "      <td>1</td>\n",
       "      <td>1</td>\n",
       "      <td>5</td>\n",
       "    </tr>\n",
       "    <tr>\n",
       "      <th>4</th>\n",
       "      <td>ID_OIGXGK</td>\n",
       "      <td>ID_CEDNKSVV</td>\n",
       "      <td>18:57:54.540062</td>\n",
       "      <td>1</td>\n",
       "      <td>12</td>\n",
       "      <td>19</td>\n",
       "    </tr>\n",
       "    <tr>\n",
       "      <th>...</th>\n",
       "      <td>...</td>\n",
       "      <td>...</td>\n",
       "      <td>...</td>\n",
       "      <td>...</td>\n",
       "      <td>...</td>\n",
       "      <td>...</td>\n",
       "    </tr>\n",
       "    <tr>\n",
       "      <th>462</th>\n",
       "      <td>ID_DK2VV3</td>\n",
       "      <td>ID_GPXBD1BG</td>\n",
       "      <td>06:11:25.314720</td>\n",
       "      <td>1</td>\n",
       "      <td>1</td>\n",
       "      <td>14</td>\n",
       "    </tr>\n",
       "    <tr>\n",
       "      <th>463</th>\n",
       "      <td>ID_5MJRT0</td>\n",
       "      <td>ID_2F218EUV</td>\n",
       "      <td>21:53:36.148890</td>\n",
       "      <td>1</td>\n",
       "      <td>1</td>\n",
       "      <td>15</td>\n",
       "    </tr>\n",
       "    <tr>\n",
       "      <th>464</th>\n",
       "      <td>ID_RMQMJA</td>\n",
       "      <td>ID_9W2RXCMI</td>\n",
       "      <td>14:06:35.178439</td>\n",
       "      <td>1</td>\n",
       "      <td>1</td>\n",
       "      <td>23</td>\n",
       "    </tr>\n",
       "    <tr>\n",
       "      <th>465</th>\n",
       "      <td>ID_V5431U</td>\n",
       "      <td>ID_RQEQ74SK</td>\n",
       "      <td>13:03:58.602412</td>\n",
       "      <td>1</td>\n",
       "      <td>12</td>\n",
       "      <td>29</td>\n",
       "    </tr>\n",
       "    <tr>\n",
       "      <th>466</th>\n",
       "      <td>ID_V5431U</td>\n",
       "      <td>ID_7ICXZH0P</td>\n",
       "      <td>13:04:38.747046</td>\n",
       "      <td>1</td>\n",
       "      <td>12</td>\n",
       "      <td>29</td>\n",
       "    </tr>\n",
       "  </tbody>\n",
       "</table>\n",
       "<p>467 rows × 6 columns</p>\n",
       "</div>"
      ],
      "text/plain": [
       "       Disc_ID      User_ID  Created At time  Created At Year  \\\n",
       "0    ID_ONQEAR  ID_CEDNKSVV  16:18:44.841697                1   \n",
       "1    ID_E0NHSS  ID_CEDNKSVV  17:30:40.566763                1   \n",
       "2    ID_3XKIOF  ID_CEDNKSVV  13:28:47.950841                1   \n",
       "3    ID_XCC6W4  ID_CEDNKSVV  18:42:17.362333                1   \n",
       "4    ID_OIGXGK  ID_CEDNKSVV  18:57:54.540062                1   \n",
       "..         ...          ...              ...              ...   \n",
       "462  ID_DK2VV3  ID_GPXBD1BG  06:11:25.314720                1   \n",
       "463  ID_5MJRT0  ID_2F218EUV  21:53:36.148890                1   \n",
       "464  ID_RMQMJA  ID_9W2RXCMI  14:06:35.178439                1   \n",
       "465  ID_V5431U  ID_RQEQ74SK  13:03:58.602412                1   \n",
       "466  ID_V5431U  ID_7ICXZH0P  13:04:38.747046                1   \n",
       "\n",
       "     Created At Month  Created At Day_of_month  \n",
       "0                   5                       11  \n",
       "1                  12                       23  \n",
       "2                   1                        3  \n",
       "3                   1                        5  \n",
       "4                  12                       19  \n",
       "..                ...                      ...  \n",
       "462                 1                       14  \n",
       "463                 1                       15  \n",
       "464                 1                       23  \n",
       "465                12                       29  \n",
       "466                12                       29  \n",
       "\n",
       "[467 rows x 6 columns]"
      ]
     },
     "execution_count": 34,
     "metadata": {},
     "output_type": "execute_result"
    }
   ],
   "source": [
    "df_com"
   ]
  },
  {
   "cell_type": "code",
   "execution_count": 35,
   "id": "fc4d3538",
   "metadata": {},
   "outputs": [
    {
     "data": {
      "text/plain": [
       "192"
      ]
     },
     "execution_count": 35,
     "metadata": {},
     "output_type": "execute_result"
    }
   ],
   "source": [
    "len(pd.unique(df_com['User_ID']))"
   ]
  },
  {
   "cell_type": "code",
   "execution_count": 36,
   "id": "83317ab3",
   "metadata": {},
   "outputs": [
    {
     "data": {
      "text/plain": [
       "1"
      ]
     },
     "execution_count": 36,
     "metadata": {},
     "output_type": "execute_result"
    }
   ],
   "source": [
    "len(pd.unique(df_com['Created At Year']))"
   ]
  },
  {
   "cell_type": "code",
   "execution_count": 37,
   "id": "d29bf202",
   "metadata": {},
   "outputs": [],
   "source": [
    "df_com.drop('Created At Year', inplace=True, axis=1)"
   ]
  },
  {
   "cell_type": "code",
   "execution_count": 38,
   "id": "9d065f8f",
   "metadata": {},
   "outputs": [],
   "source": [
    "df_com[\"User_ID\"] = df_com[\"User_ID\"].astype(\"string\")\n",
    "df_com[\"Created At Month\"] = df_com[\"Created At Month\"].astype(\"string\")"
   ]
  },
  {
   "cell_type": "code",
   "execution_count": 39,
   "id": "32c775b5",
   "metadata": {},
   "outputs": [],
   "source": [
    "new = df_com[\"Created At Month\"].copy()\n",
    "df_com[\"User_ID\"] = df_com[\"User_ID\"].str.cat(new, sep =\"_Month_\")"
   ]
  },
  {
   "cell_type": "code",
   "execution_count": 40,
   "id": "485d1c24",
   "metadata": {},
   "outputs": [],
   "source": [
    "df_com.drop('Created At Month', inplace=True, axis=1)"
   ]
  },
  {
   "cell_type": "code",
   "execution_count": 41,
   "id": "390929cb",
   "metadata": {},
   "outputs": [],
   "source": [
    "df_com.rename(columns={'Created At time': 'comment_time'},  inplace = True)"
   ]
  },
  {
   "cell_type": "code",
   "execution_count": 42,
   "id": "0ebb3294",
   "metadata": {},
   "outputs": [],
   "source": [
    "df_com.rename(columns={'Created At Month': 'comment_month'},  inplace = True)"
   ]
  },
  {
   "cell_type": "code",
   "execution_count": 43,
   "id": "197302f4",
   "metadata": {},
   "outputs": [],
   "source": [
    "df_com.rename(columns={'Created At Day_of_month': 'comment_day'},  inplace = True)"
   ]
  },
  {
   "cell_type": "code",
   "execution_count": 44,
   "id": "dfb7af8f",
   "metadata": {},
   "outputs": [
    {
     "name": "stdout",
     "output_type": "stream",
     "text": [
      "<class 'pandas.core.frame.DataFrame'>\n",
      "RangeIndex: 467 entries, 0 to 466\n",
      "Data columns (total 4 columns):\n",
      " #   Column        Non-Null Count  Dtype \n",
      "---  ------        --------------  ----- \n",
      " 0   Disc_ID       467 non-null    object\n",
      " 1   User_ID       467 non-null    string\n",
      " 2   comment_time  467 non-null    object\n",
      " 3   comment_day   467 non-null    int64 \n",
      "dtypes: int64(1), object(2), string(1)\n",
      "memory usage: 14.7+ KB\n"
     ]
    }
   ],
   "source": [
    "df_com.info()"
   ]
  },
  {
   "cell_type": "markdown",
   "id": "aa2ee7ac",
   "metadata": {},
   "source": [
    "# MERGE 1"
   ]
  },
  {
   "cell_type": "code",
   "execution_count": 45,
   "id": "10f6ce45",
   "metadata": {},
   "outputs": [],
   "source": [
    "result1 = pd.merge(df_disc, df_com, how=\"outer\", on=['User_ID', 'Disc_ID'])"
   ]
  },
  {
   "cell_type": "code",
   "execution_count": 46,
   "id": "e46c312d",
   "metadata": {},
   "outputs": [
    {
     "data": {
      "text/html": [
       "<div>\n",
       "<style scoped>\n",
       "    .dataframe tbody tr th:only-of-type {\n",
       "        vertical-align: middle;\n",
       "    }\n",
       "\n",
       "    .dataframe tbody tr th {\n",
       "        vertical-align: top;\n",
       "    }\n",
       "\n",
       "    .dataframe thead th {\n",
       "        text-align: right;\n",
       "    }\n",
       "</style>\n",
       "<table border=\"1\" class=\"dataframe\">\n",
       "  <thead>\n",
       "    <tr style=\"text-align: right;\">\n",
       "      <th></th>\n",
       "      <th>Competition ID</th>\n",
       "      <th>Personal</th>\n",
       "      <th>Theme</th>\n",
       "      <th>Disc_ID</th>\n",
       "      <th>User_ID</th>\n",
       "      <th>Discussion_time</th>\n",
       "      <th>Discussion_year</th>\n",
       "      <th>Discussion_month</th>\n",
       "      <th>Discussion_day</th>\n",
       "      <th>comment_time</th>\n",
       "      <th>comment_day</th>\n",
       "    </tr>\n",
       "  </thead>\n",
       "  <tbody>\n",
       "    <tr>\n",
       "      <th>0</th>\n",
       "      <td>GeneralDiscussion</td>\n",
       "      <td>1.0</td>\n",
       "      <td>NaN</td>\n",
       "      <td>ID_0BK7TH</td>\n",
       "      <td>ID_AAGFVLHH_Month_12</td>\n",
       "      <td>19:48:26.862175</td>\n",
       "      <td>1.0</td>\n",
       "      <td>12</td>\n",
       "      <td>27.0</td>\n",
       "      <td>NaN</td>\n",
       "      <td>NaN</td>\n",
       "    </tr>\n",
       "    <tr>\n",
       "      <th>1</th>\n",
       "      <td>GeneralDiscussion</td>\n",
       "      <td>1.0</td>\n",
       "      <td>NaN</td>\n",
       "      <td>ID_ZFJ9J7</td>\n",
       "      <td>ID_0AJGQILU_Month_12</td>\n",
       "      <td>09:37:52.039526</td>\n",
       "      <td>1.0</td>\n",
       "      <td>12</td>\n",
       "      <td>20.0</td>\n",
       "      <td>NaN</td>\n",
       "      <td>NaN</td>\n",
       "    </tr>\n",
       "    <tr>\n",
       "      <th>2</th>\n",
       "      <td>GeneralDiscussion</td>\n",
       "      <td>1.0</td>\n",
       "      <td>NaN</td>\n",
       "      <td>ID_ME45XX</td>\n",
       "      <td>ID_U90KK6KL_Month_2</td>\n",
       "      <td>17:50:33.894800</td>\n",
       "      <td>1.0</td>\n",
       "      <td>2</td>\n",
       "      <td>9.0</td>\n",
       "      <td>NaN</td>\n",
       "      <td>NaN</td>\n",
       "    </tr>\n",
       "    <tr>\n",
       "      <th>3</th>\n",
       "      <td>ID_45W9</td>\n",
       "      <td>1.0</td>\n",
       "      <td>NaN</td>\n",
       "      <td>ID_2BG9IX</td>\n",
       "      <td>ID_U90KK6KL_Month_2</td>\n",
       "      <td>07:57:55.178845</td>\n",
       "      <td>1.0</td>\n",
       "      <td>2</td>\n",
       "      <td>10.0</td>\n",
       "      <td>NaN</td>\n",
       "      <td>NaN</td>\n",
       "    </tr>\n",
       "    <tr>\n",
       "      <th>4</th>\n",
       "      <td>GeneralDiscussion</td>\n",
       "      <td>1.0</td>\n",
       "      <td>NaN</td>\n",
       "      <td>ID_251XVV</td>\n",
       "      <td>ID_F7HIGFHQ_Month_12</td>\n",
       "      <td>19:56:13.041893</td>\n",
       "      <td>1.0</td>\n",
       "      <td>12</td>\n",
       "      <td>27.0</td>\n",
       "      <td>NaN</td>\n",
       "      <td>NaN</td>\n",
       "    </tr>\n",
       "    <tr>\n",
       "      <th>...</th>\n",
       "      <td>...</td>\n",
       "      <td>...</td>\n",
       "      <td>...</td>\n",
       "      <td>...</td>\n",
       "      <td>...</td>\n",
       "      <td>...</td>\n",
       "      <td>...</td>\n",
       "      <td>...</td>\n",
       "      <td>...</td>\n",
       "      <td>...</td>\n",
       "      <td>...</td>\n",
       "    </tr>\n",
       "    <tr>\n",
       "      <th>1848</th>\n",
       "      <td>NaN</td>\n",
       "      <td>NaN</td>\n",
       "      <td>NaN</td>\n",
       "      <td>ID_4R4V7V</td>\n",
       "      <td>ID_JKCAR4CP_Month_1</td>\n",
       "      <td>NaN</td>\n",
       "      <td>NaN</td>\n",
       "      <td>&lt;NA&gt;</td>\n",
       "      <td>NaN</td>\n",
       "      <td>13:40:41.651137</td>\n",
       "      <td>25.0</td>\n",
       "    </tr>\n",
       "    <tr>\n",
       "      <th>1849</th>\n",
       "      <td>NaN</td>\n",
       "      <td>NaN</td>\n",
       "      <td>NaN</td>\n",
       "      <td>ID_ZGEWPJ</td>\n",
       "      <td>ID_LNXTXN3P_Month_1</td>\n",
       "      <td>NaN</td>\n",
       "      <td>NaN</td>\n",
       "      <td>&lt;NA&gt;</td>\n",
       "      <td>NaN</td>\n",
       "      <td>22:32:47.360368</td>\n",
       "      <td>5.0</td>\n",
       "    </tr>\n",
       "    <tr>\n",
       "      <th>1850</th>\n",
       "      <td>NaN</td>\n",
       "      <td>NaN</td>\n",
       "      <td>NaN</td>\n",
       "      <td>ID_DK2VV3</td>\n",
       "      <td>ID_GPXBD1BG_Month_1</td>\n",
       "      <td>NaN</td>\n",
       "      <td>NaN</td>\n",
       "      <td>&lt;NA&gt;</td>\n",
       "      <td>NaN</td>\n",
       "      <td>06:11:25.314720</td>\n",
       "      <td>14.0</td>\n",
       "    </tr>\n",
       "    <tr>\n",
       "      <th>1851</th>\n",
       "      <td>NaN</td>\n",
       "      <td>NaN</td>\n",
       "      <td>NaN</td>\n",
       "      <td>ID_RMQMJA</td>\n",
       "      <td>ID_9W2RXCMI_Month_1</td>\n",
       "      <td>NaN</td>\n",
       "      <td>NaN</td>\n",
       "      <td>&lt;NA&gt;</td>\n",
       "      <td>NaN</td>\n",
       "      <td>14:06:35.178439</td>\n",
       "      <td>23.0</td>\n",
       "    </tr>\n",
       "    <tr>\n",
       "      <th>1852</th>\n",
       "      <td>NaN</td>\n",
       "      <td>NaN</td>\n",
       "      <td>NaN</td>\n",
       "      <td>ID_V5431U</td>\n",
       "      <td>ID_7ICXZH0P_Month_12</td>\n",
       "      <td>NaN</td>\n",
       "      <td>NaN</td>\n",
       "      <td>&lt;NA&gt;</td>\n",
       "      <td>NaN</td>\n",
       "      <td>13:04:38.747046</td>\n",
       "      <td>29.0</td>\n",
       "    </tr>\n",
       "  </tbody>\n",
       "</table>\n",
       "<p>1853 rows × 11 columns</p>\n",
       "</div>"
      ],
      "text/plain": [
       "         Competition ID  Personal  Theme    Disc_ID               User_ID  \\\n",
       "0     GeneralDiscussion       1.0    NaN  ID_0BK7TH  ID_AAGFVLHH_Month_12   \n",
       "1     GeneralDiscussion       1.0    NaN  ID_ZFJ9J7  ID_0AJGQILU_Month_12   \n",
       "2     GeneralDiscussion       1.0    NaN  ID_ME45XX   ID_U90KK6KL_Month_2   \n",
       "3               ID_45W9       1.0    NaN  ID_2BG9IX   ID_U90KK6KL_Month_2   \n",
       "4     GeneralDiscussion       1.0    NaN  ID_251XVV  ID_F7HIGFHQ_Month_12   \n",
       "...                 ...       ...    ...        ...                   ...   \n",
       "1848                NaN       NaN    NaN  ID_4R4V7V   ID_JKCAR4CP_Month_1   \n",
       "1849                NaN       NaN    NaN  ID_ZGEWPJ   ID_LNXTXN3P_Month_1   \n",
       "1850                NaN       NaN    NaN  ID_DK2VV3   ID_GPXBD1BG_Month_1   \n",
       "1851                NaN       NaN    NaN  ID_RMQMJA   ID_9W2RXCMI_Month_1   \n",
       "1852                NaN       NaN    NaN  ID_V5431U  ID_7ICXZH0P_Month_12   \n",
       "\n",
       "      Discussion_time  Discussion_year Discussion_month  Discussion_day  \\\n",
       "0     19:48:26.862175              1.0               12            27.0   \n",
       "1     09:37:52.039526              1.0               12            20.0   \n",
       "2     17:50:33.894800              1.0                2             9.0   \n",
       "3     07:57:55.178845              1.0                2            10.0   \n",
       "4     19:56:13.041893              1.0               12            27.0   \n",
       "...               ...              ...              ...             ...   \n",
       "1848              NaN              NaN             <NA>             NaN   \n",
       "1849              NaN              NaN             <NA>             NaN   \n",
       "1850              NaN              NaN             <NA>             NaN   \n",
       "1851              NaN              NaN             <NA>             NaN   \n",
       "1852              NaN              NaN             <NA>             NaN   \n",
       "\n",
       "         comment_time  comment_day  \n",
       "0                 NaN          NaN  \n",
       "1                 NaN          NaN  \n",
       "2                 NaN          NaN  \n",
       "3                 NaN          NaN  \n",
       "4                 NaN          NaN  \n",
       "...               ...          ...  \n",
       "1848  13:40:41.651137         25.0  \n",
       "1849  22:32:47.360368          5.0  \n",
       "1850  06:11:25.314720         14.0  \n",
       "1851  14:06:35.178439         23.0  \n",
       "1852  13:04:38.747046         29.0  \n",
       "\n",
       "[1853 rows x 11 columns]"
      ]
     },
     "execution_count": 46,
     "metadata": {},
     "output_type": "execute_result"
    }
   ],
   "source": [
    "result1"
   ]
  },
  {
   "cell_type": "code",
   "execution_count": 47,
   "id": "252fe48c",
   "metadata": {},
   "outputs": [
    {
     "name": "stdout",
     "output_type": "stream",
     "text": [
      "<class 'pandas.core.frame.DataFrame'>\n",
      "Int64Index: 1853 entries, 0 to 1852\n",
      "Data columns (total 11 columns):\n",
      " #   Column            Non-Null Count  Dtype  \n",
      "---  ------            --------------  -----  \n",
      " 0   Competition ID    1462 non-null   object \n",
      " 1   Personal          1462 non-null   float64\n",
      " 2   Theme             178 non-null    float64\n",
      " 3   Disc_ID           1853 non-null   object \n",
      " 4   User_ID           1853 non-null   string \n",
      " 5   Discussion_time   1462 non-null   object \n",
      " 6   Discussion_year   1462 non-null   float64\n",
      " 7   Discussion_month  1462 non-null   string \n",
      " 8   Discussion_day    1462 non-null   float64\n",
      " 9   comment_time      467 non-null    object \n",
      " 10  comment_day       467 non-null    float64\n",
      "dtypes: float64(5), object(4), string(2)\n",
      "memory usage: 173.7+ KB\n"
     ]
    }
   ],
   "source": [
    "result1.info()"
   ]
  },
  {
   "cell_type": "markdown",
   "id": "b1583267",
   "metadata": {},
   "source": [
    "# COMPETITIONS"
   ]
  },
  {
   "cell_type": "code",
   "execution_count": 48,
   "id": "5a8227ce",
   "metadata": {},
   "outputs": [],
   "source": [
    "df_comp = pd.read_csv(\"Competition.csv\")"
   ]
  },
  {
   "cell_type": "code",
   "execution_count": 49,
   "id": "d1a71db1",
   "metadata": {},
   "outputs": [
    {
     "name": "stdout",
     "output_type": "stream",
     "text": [
      "<class 'pandas.core.frame.DataFrame'>\n",
      "RangeIndex: 247 entries, 0 to 246\n",
      "Data columns (total 20 columns):\n",
      " #   Column                   Non-Null Count  Dtype  \n",
      "---  ------                   --------------  -----  \n",
      " 0   FeatureA                 247 non-null    object \n",
      " 1   FeatureB                 247 non-null    object \n",
      " 2   FeatureC                 196 non-null    float64\n",
      " 3   FeatureD                 247 non-null    int64  \n",
      " 4   FeatureE                 247 non-null    int64  \n",
      " 5   SecretCode               247 non-null    int64  \n",
      " 6   FeatureF                 247 non-null    object \n",
      " 7   FeatureG                 247 non-null    object \n",
      " 8   FeatureH                 247 non-null    object \n",
      " 9   FeatureI                 186 non-null    float64\n",
      " 10  Country_ID               121 non-null    object \n",
      " 11  Comp_ID                  247 non-null    object \n",
      " 12  End Time time            224 non-null    object \n",
      " 13  End Time Year            224 non-null    float64\n",
      " 14  End Time Month           224 non-null    float64\n",
      " 15  End Time Day_of_month    224 non-null    float64\n",
      " 16  Start Time time          247 non-null    object \n",
      " 17  Start Time Year          247 non-null    int64  \n",
      " 18  Start Time Month         247 non-null    int64  \n",
      " 19  Start Time Day_of_month  247 non-null    int64  \n",
      "dtypes: float64(5), int64(6), object(9)\n",
      "memory usage: 38.7+ KB\n"
     ]
    }
   ],
   "source": [
    "df_comp.info()"
   ]
  },
  {
   "cell_type": "code",
   "execution_count": 50,
   "id": "bc6e19e5",
   "metadata": {},
   "outputs": [
    {
     "data": {
      "text/html": [
       "<div>\n",
       "<style scoped>\n",
       "    .dataframe tbody tr th:only-of-type {\n",
       "        vertical-align: middle;\n",
       "    }\n",
       "\n",
       "    .dataframe tbody tr th {\n",
       "        vertical-align: top;\n",
       "    }\n",
       "\n",
       "    .dataframe thead th {\n",
       "        text-align: right;\n",
       "    }\n",
       "</style>\n",
       "<table border=\"1\" class=\"dataframe\">\n",
       "  <thead>\n",
       "    <tr style=\"text-align: right;\">\n",
       "      <th></th>\n",
       "      <th>FeatureA</th>\n",
       "      <th>FeatureB</th>\n",
       "      <th>FeatureC</th>\n",
       "      <th>FeatureD</th>\n",
       "      <th>FeatureE</th>\n",
       "      <th>SecretCode</th>\n",
       "      <th>FeatureF</th>\n",
       "      <th>FeatureG</th>\n",
       "      <th>FeatureH</th>\n",
       "      <th>FeatureI</th>\n",
       "      <th>Country_ID</th>\n",
       "      <th>Comp_ID</th>\n",
       "      <th>End Time time</th>\n",
       "      <th>End Time Year</th>\n",
       "      <th>End Time Month</th>\n",
       "      <th>End Time Day_of_month</th>\n",
       "      <th>Start Time time</th>\n",
       "      <th>Start Time Year</th>\n",
       "      <th>Start Time Month</th>\n",
       "      <th>Start Time Day_of_month</th>\n",
       "    </tr>\n",
       "  </thead>\n",
       "  <tbody>\n",
       "    <tr>\n",
       "      <th>0</th>\n",
       "      <td>[2, 4]</td>\n",
       "      <td>[14]</td>\n",
       "      <td>15.0</td>\n",
       "      <td>0</td>\n",
       "      <td>2</td>\n",
       "      <td>1</td>\n",
       "      <td>[3]</td>\n",
       "      <td>[]</td>\n",
       "      <td>[]</td>\n",
       "      <td>NaN</td>\n",
       "      <td>G3F0</td>\n",
       "      <td>ID_AU0T</td>\n",
       "      <td>21:05:00</td>\n",
       "      <td>2.0</td>\n",
       "      <td>6.0</td>\n",
       "      <td>19.0</td>\n",
       "      <td>07:00:00</td>\n",
       "      <td>2</td>\n",
       "      <td>6</td>\n",
       "      <td>19</td>\n",
       "    </tr>\n",
       "    <tr>\n",
       "      <th>1</th>\n",
       "      <td>[1]</td>\n",
       "      <td>[]</td>\n",
       "      <td>3.0</td>\n",
       "      <td>0</td>\n",
       "      <td>3</td>\n",
       "      <td>1</td>\n",
       "      <td>[1]</td>\n",
       "      <td>[]</td>\n",
       "      <td>[1]</td>\n",
       "      <td>3.0</td>\n",
       "      <td>0Q35</td>\n",
       "      <td>ID_O21T</td>\n",
       "      <td>15:30:00</td>\n",
       "      <td>2.0</td>\n",
       "      <td>2.0</td>\n",
       "      <td>15.0</td>\n",
       "      <td>12:00:00</td>\n",
       "      <td>2</td>\n",
       "      <td>2</td>\n",
       "      <td>1</td>\n",
       "    </tr>\n",
       "    <tr>\n",
       "      <th>2</th>\n",
       "      <td>[1]</td>\n",
       "      <td>[9]</td>\n",
       "      <td>2.0</td>\n",
       "      <td>0</td>\n",
       "      <td>2</td>\n",
       "      <td>1</td>\n",
       "      <td>[1, 5]</td>\n",
       "      <td>[5]</td>\n",
       "      <td>[1]</td>\n",
       "      <td>2.0</td>\n",
       "      <td>EGI9</td>\n",
       "      <td>ID_W6XE</td>\n",
       "      <td>21:59:00</td>\n",
       "      <td>2.0</td>\n",
       "      <td>5.0</td>\n",
       "      <td>9.0</td>\n",
       "      <td>08:00:00</td>\n",
       "      <td>2</td>\n",
       "      <td>3</td>\n",
       "      <td>28</td>\n",
       "    </tr>\n",
       "    <tr>\n",
       "      <th>3</th>\n",
       "      <td>[]</td>\n",
       "      <td>[]</td>\n",
       "      <td>1.0</td>\n",
       "      <td>0</td>\n",
       "      <td>2</td>\n",
       "      <td>1</td>\n",
       "      <td>[1]</td>\n",
       "      <td>[4]</td>\n",
       "      <td>[]</td>\n",
       "      <td>NaN</td>\n",
       "      <td>NaN</td>\n",
       "      <td>ID_A2FN</td>\n",
       "      <td>12:00:00</td>\n",
       "      <td>2.0</td>\n",
       "      <td>6.0</td>\n",
       "      <td>22.0</td>\n",
       "      <td>12:00:00</td>\n",
       "      <td>2</td>\n",
       "      <td>6</td>\n",
       "      <td>12</td>\n",
       "    </tr>\n",
       "    <tr>\n",
       "      <th>4</th>\n",
       "      <td>[]</td>\n",
       "      <td>[6]</td>\n",
       "      <td>NaN</td>\n",
       "      <td>0</td>\n",
       "      <td>2</td>\n",
       "      <td>0</td>\n",
       "      <td>[]</td>\n",
       "      <td>[4]</td>\n",
       "      <td>[2]</td>\n",
       "      <td>9.0</td>\n",
       "      <td>NaN</td>\n",
       "      <td>ID_X0PD</td>\n",
       "      <td>23:59:00</td>\n",
       "      <td>2.0</td>\n",
       "      <td>5.0</td>\n",
       "      <td>31.0</td>\n",
       "      <td>09:00:00</td>\n",
       "      <td>2</td>\n",
       "      <td>5</td>\n",
       "      <td>27</td>\n",
       "    </tr>\n",
       "    <tr>\n",
       "      <th>...</th>\n",
       "      <td>...</td>\n",
       "      <td>...</td>\n",
       "      <td>...</td>\n",
       "      <td>...</td>\n",
       "      <td>...</td>\n",
       "      <td>...</td>\n",
       "      <td>...</td>\n",
       "      <td>...</td>\n",
       "      <td>...</td>\n",
       "      <td>...</td>\n",
       "      <td>...</td>\n",
       "      <td>...</td>\n",
       "      <td>...</td>\n",
       "      <td>...</td>\n",
       "      <td>...</td>\n",
       "      <td>...</td>\n",
       "      <td>...</td>\n",
       "      <td>...</td>\n",
       "      <td>...</td>\n",
       "      <td>...</td>\n",
       "    </tr>\n",
       "    <tr>\n",
       "      <th>242</th>\n",
       "      <td>[]</td>\n",
       "      <td>[]</td>\n",
       "      <td>NaN</td>\n",
       "      <td>1</td>\n",
       "      <td>2</td>\n",
       "      <td>0</td>\n",
       "      <td>[2]</td>\n",
       "      <td>[5]</td>\n",
       "      <td>[2]</td>\n",
       "      <td>NaN</td>\n",
       "      <td>NaN</td>\n",
       "      <td>ID_GR92</td>\n",
       "      <td>15:00:00</td>\n",
       "      <td>1.0</td>\n",
       "      <td>2.0</td>\n",
       "      <td>1.0</td>\n",
       "      <td>05:00:00</td>\n",
       "      <td>1</td>\n",
       "      <td>1</td>\n",
       "      <td>1</td>\n",
       "    </tr>\n",
       "    <tr>\n",
       "      <th>243</th>\n",
       "      <td>[1]</td>\n",
       "      <td>[]</td>\n",
       "      <td>2.0</td>\n",
       "      <td>1</td>\n",
       "      <td>2</td>\n",
       "      <td>0</td>\n",
       "      <td>[1]</td>\n",
       "      <td>[5]</td>\n",
       "      <td>[1]</td>\n",
       "      <td>2.0</td>\n",
       "      <td>NaN</td>\n",
       "      <td>ID_8BH9</td>\n",
       "      <td>23:59:00</td>\n",
       "      <td>1.0</td>\n",
       "      <td>6.0</td>\n",
       "      <td>27.0</td>\n",
       "      <td>15:00:00</td>\n",
       "      <td>1</td>\n",
       "      <td>6</td>\n",
       "      <td>1</td>\n",
       "    </tr>\n",
       "    <tr>\n",
       "      <th>244</th>\n",
       "      <td>[1]</td>\n",
       "      <td>[]</td>\n",
       "      <td>NaN</td>\n",
       "      <td>0</td>\n",
       "      <td>2</td>\n",
       "      <td>1</td>\n",
       "      <td>[1]</td>\n",
       "      <td>[3]</td>\n",
       "      <td>[]</td>\n",
       "      <td>NaN</td>\n",
       "      <td>H03V</td>\n",
       "      <td>ID_IHRZ</td>\n",
       "      <td>17:00:00</td>\n",
       "      <td>1.0</td>\n",
       "      <td>10.0</td>\n",
       "      <td>20.0</td>\n",
       "      <td>08:57:00</td>\n",
       "      <td>1</td>\n",
       "      <td>10</td>\n",
       "      <td>19</td>\n",
       "    </tr>\n",
       "    <tr>\n",
       "      <th>245</th>\n",
       "      <td>[1]</td>\n",
       "      <td>[]</td>\n",
       "      <td>25.0</td>\n",
       "      <td>0</td>\n",
       "      <td>2</td>\n",
       "      <td>1</td>\n",
       "      <td>[1]</td>\n",
       "      <td>[5]</td>\n",
       "      <td>[2]</td>\n",
       "      <td>NaN</td>\n",
       "      <td>EGI9</td>\n",
       "      <td>ID_CMWO</td>\n",
       "      <td>12:00:00</td>\n",
       "      <td>1.0</td>\n",
       "      <td>5.0</td>\n",
       "      <td>31.0</td>\n",
       "      <td>12:00:00</td>\n",
       "      <td>1</td>\n",
       "      <td>5</td>\n",
       "      <td>1</td>\n",
       "    </tr>\n",
       "    <tr>\n",
       "      <th>246</th>\n",
       "      <td>[1]</td>\n",
       "      <td>[]</td>\n",
       "      <td>2.0</td>\n",
       "      <td>0</td>\n",
       "      <td>2</td>\n",
       "      <td>0</td>\n",
       "      <td>[3]</td>\n",
       "      <td>[3]</td>\n",
       "      <td>[2]</td>\n",
       "      <td>2.0</td>\n",
       "      <td>ZEWU</td>\n",
       "      <td>ID_OAR6</td>\n",
       "      <td>23:59:00</td>\n",
       "      <td>1.0</td>\n",
       "      <td>4.0</td>\n",
       "      <td>4.0</td>\n",
       "      <td>11:00:00</td>\n",
       "      <td>1</td>\n",
       "      <td>4</td>\n",
       "      <td>2</td>\n",
       "    </tr>\n",
       "  </tbody>\n",
       "</table>\n",
       "<p>247 rows × 20 columns</p>\n",
       "</div>"
      ],
      "text/plain": [
       "    FeatureA FeatureB  FeatureC  FeatureD  FeatureE  SecretCode FeatureF  \\\n",
       "0     [2, 4]     [14]      15.0         0         2           1      [3]   \n",
       "1        [1]       []       3.0         0         3           1      [1]   \n",
       "2        [1]      [9]       2.0         0         2           1   [1, 5]   \n",
       "3         []       []       1.0         0         2           1      [1]   \n",
       "4         []      [6]       NaN         0         2           0       []   \n",
       "..       ...      ...       ...       ...       ...         ...      ...   \n",
       "242       []       []       NaN         1         2           0      [2]   \n",
       "243      [1]       []       2.0         1         2           0      [1]   \n",
       "244      [1]       []       NaN         0         2           1      [1]   \n",
       "245      [1]       []      25.0         0         2           1      [1]   \n",
       "246      [1]       []       2.0         0         2           0      [3]   \n",
       "\n",
       "    FeatureG FeatureH  FeatureI Country_ID  Comp_ID End Time time  \\\n",
       "0         []       []       NaN       G3F0  ID_AU0T      21:05:00   \n",
       "1         []      [1]       3.0       0Q35  ID_O21T      15:30:00   \n",
       "2        [5]      [1]       2.0       EGI9  ID_W6XE      21:59:00   \n",
       "3        [4]       []       NaN        NaN  ID_A2FN      12:00:00   \n",
       "4        [4]      [2]       9.0        NaN  ID_X0PD      23:59:00   \n",
       "..       ...      ...       ...        ...      ...           ...   \n",
       "242      [5]      [2]       NaN        NaN  ID_GR92      15:00:00   \n",
       "243      [5]      [1]       2.0        NaN  ID_8BH9      23:59:00   \n",
       "244      [3]       []       NaN       H03V  ID_IHRZ      17:00:00   \n",
       "245      [5]      [2]       NaN       EGI9  ID_CMWO      12:00:00   \n",
       "246      [3]      [2]       2.0       ZEWU  ID_OAR6      23:59:00   \n",
       "\n",
       "     End Time Year  End Time Month  End Time Day_of_month Start Time time  \\\n",
       "0              2.0             6.0                   19.0        07:00:00   \n",
       "1              2.0             2.0                   15.0        12:00:00   \n",
       "2              2.0             5.0                    9.0        08:00:00   \n",
       "3              2.0             6.0                   22.0        12:00:00   \n",
       "4              2.0             5.0                   31.0        09:00:00   \n",
       "..             ...             ...                    ...             ...   \n",
       "242            1.0             2.0                    1.0        05:00:00   \n",
       "243            1.0             6.0                   27.0        15:00:00   \n",
       "244            1.0            10.0                   20.0        08:57:00   \n",
       "245            1.0             5.0                   31.0        12:00:00   \n",
       "246            1.0             4.0                    4.0        11:00:00   \n",
       "\n",
       "     Start Time Year  Start Time Month  Start Time Day_of_month  \n",
       "0                  2                 6                       19  \n",
       "1                  2                 2                        1  \n",
       "2                  2                 3                       28  \n",
       "3                  2                 6                       12  \n",
       "4                  2                 5                       27  \n",
       "..               ...               ...                      ...  \n",
       "242                1                 1                        1  \n",
       "243                1                 6                        1  \n",
       "244                1                10                       19  \n",
       "245                1                 5                        1  \n",
       "246                1                 4                        2  \n",
       "\n",
       "[247 rows x 20 columns]"
      ]
     },
     "execution_count": 50,
     "metadata": {},
     "output_type": "execute_result"
    }
   ],
   "source": [
    "df_comp"
   ]
  },
  {
   "cell_type": "code",
   "execution_count": 51,
   "id": "de6978c9",
   "metadata": {},
   "outputs": [
    {
     "data": {
      "text/plain": [
       "247"
      ]
     },
     "execution_count": 51,
     "metadata": {},
     "output_type": "execute_result"
    }
   ],
   "source": [
    "len(pd.unique(df_comp['Comp_ID']))"
   ]
  },
  {
   "cell_type": "code",
   "execution_count": 52,
   "id": "f676d874",
   "metadata": {},
   "outputs": [
    {
     "data": {
      "text/plain": [
       "5"
      ]
     },
     "execution_count": 52,
     "metadata": {},
     "output_type": "execute_result"
    }
   ],
   "source": [
    "len(pd.unique(df_comp['Start Time Year']))"
   ]
  },
  {
   "cell_type": "markdown",
   "id": "cd89891d",
   "metadata": {},
   "source": [
    "# COMPETITION PARTICIPATION"
   ]
  },
  {
   "cell_type": "code",
   "execution_count": 53,
   "id": "901743eb",
   "metadata": {},
   "outputs": [],
   "source": [
    "df_compP = pd.read_csv(\"CompetitionPartipation.csv\")"
   ]
  },
  {
   "cell_type": "code",
   "execution_count": 54,
   "id": "1d6b3db1",
   "metadata": {},
   "outputs": [
    {
     "name": "stdout",
     "output_type": "stream",
     "text": [
      "<class 'pandas.core.frame.DataFrame'>\n",
      "RangeIndex: 8385 entries, 0 to 8384\n",
      "Data columns (total 8 columns):\n",
      " #   Column                       Non-Null Count  Dtype \n",
      "---  ------                       --------------  ----- \n",
      " 0   Competition ID               8385 non-null   object\n",
      " 1   Participant Type             8385 non-null   int64 \n",
      " 2   Successful Submission Count  1449 non-null   object\n",
      " 3   User_ID                      8385 non-null   object\n",
      " 4   Created At time              8385 non-null   object\n",
      " 5   Created At Year              8385 non-null   int64 \n",
      " 6   Created At Month             8385 non-null   int64 \n",
      " 7   Created At Day_of_month      8385 non-null   int64 \n",
      "dtypes: int64(4), object(4)\n",
      "memory usage: 524.2+ KB\n"
     ]
    }
   ],
   "source": [
    "df_compP.info()"
   ]
  },
  {
   "cell_type": "code",
   "execution_count": 55,
   "id": "86de401c",
   "metadata": {},
   "outputs": [
    {
     "data": {
      "text/html": [
       "<div>\n",
       "<style scoped>\n",
       "    .dataframe tbody tr th:only-of-type {\n",
       "        vertical-align: middle;\n",
       "    }\n",
       "\n",
       "    .dataframe tbody tr th {\n",
       "        vertical-align: top;\n",
       "    }\n",
       "\n",
       "    .dataframe thead th {\n",
       "        text-align: right;\n",
       "    }\n",
       "</style>\n",
       "<table border=\"1\" class=\"dataframe\">\n",
       "  <thead>\n",
       "    <tr style=\"text-align: right;\">\n",
       "      <th></th>\n",
       "      <th>Competition ID</th>\n",
       "      <th>Participant Type</th>\n",
       "      <th>Successful Submission Count</th>\n",
       "      <th>User_ID</th>\n",
       "      <th>Created At time</th>\n",
       "      <th>Created At Year</th>\n",
       "      <th>Created At Month</th>\n",
       "      <th>Created At Day_of_month</th>\n",
       "    </tr>\n",
       "  </thead>\n",
       "  <tbody>\n",
       "    <tr>\n",
       "      <th>0</th>\n",
       "      <td>ID_WPP3</td>\n",
       "      <td>1</td>\n",
       "      <td>NaN</td>\n",
       "      <td>ID_40G01FGV</td>\n",
       "      <td>19:38:04.689865</td>\n",
       "      <td>1</td>\n",
       "      <td>11</td>\n",
       "      <td>20</td>\n",
       "    </tr>\n",
       "    <tr>\n",
       "      <th>1</th>\n",
       "      <td>ID_ZN92</td>\n",
       "      <td>1</td>\n",
       "      <td>NaN</td>\n",
       "      <td>ID_40G01FGV</td>\n",
       "      <td>19:38:04.670583</td>\n",
       "      <td>1</td>\n",
       "      <td>11</td>\n",
       "      <td>20</td>\n",
       "    </tr>\n",
       "    <tr>\n",
       "      <th>2</th>\n",
       "      <td>ID_I9BN</td>\n",
       "      <td>1</td>\n",
       "      <td>NaN</td>\n",
       "      <td>ID_40G01FGV</td>\n",
       "      <td>12:06:55.884320</td>\n",
       "      <td>1</td>\n",
       "      <td>12</td>\n",
       "      <td>17</td>\n",
       "    </tr>\n",
       "    <tr>\n",
       "      <th>3</th>\n",
       "      <td>ID_PDKH</td>\n",
       "      <td>1</td>\n",
       "      <td>count 10</td>\n",
       "      <td>ID_40G01FGV</td>\n",
       "      <td>11:24:04.239058</td>\n",
       "      <td>1</td>\n",
       "      <td>12</td>\n",
       "      <td>6</td>\n",
       "    </tr>\n",
       "    <tr>\n",
       "      <th>4</th>\n",
       "      <td>ID_CFN7</td>\n",
       "      <td>1</td>\n",
       "      <td>NaN</td>\n",
       "      <td>ID_P33ABQX5</td>\n",
       "      <td>05:16:09.052129</td>\n",
       "      <td>1</td>\n",
       "      <td>5</td>\n",
       "      <td>26</td>\n",
       "    </tr>\n",
       "    <tr>\n",
       "      <th>...</th>\n",
       "      <td>...</td>\n",
       "      <td>...</td>\n",
       "      <td>...</td>\n",
       "      <td>...</td>\n",
       "      <td>...</td>\n",
       "      <td>...</td>\n",
       "      <td>...</td>\n",
       "      <td>...</td>\n",
       "    </tr>\n",
       "    <tr>\n",
       "      <th>8380</th>\n",
       "      <td>ID_F7QD</td>\n",
       "      <td>1</td>\n",
       "      <td>NaN</td>\n",
       "      <td>ID_QR2HEY6L</td>\n",
       "      <td>22:10:28.532519</td>\n",
       "      <td>1</td>\n",
       "      <td>1</td>\n",
       "      <td>15</td>\n",
       "    </tr>\n",
       "    <tr>\n",
       "      <th>8381</th>\n",
       "      <td>ID_F7QD</td>\n",
       "      <td>1</td>\n",
       "      <td>NaN</td>\n",
       "      <td>ID_K1MDGNKE</td>\n",
       "      <td>20:54:47.902303</td>\n",
       "      <td>1</td>\n",
       "      <td>3</td>\n",
       "      <td>1</td>\n",
       "    </tr>\n",
       "    <tr>\n",
       "      <th>8382</th>\n",
       "      <td>ID_F7QD</td>\n",
       "      <td>1</td>\n",
       "      <td>NaN</td>\n",
       "      <td>ID_M8FQBYIH</td>\n",
       "      <td>18:57:10.479540</td>\n",
       "      <td>1</td>\n",
       "      <td>12</td>\n",
       "      <td>27</td>\n",
       "    </tr>\n",
       "    <tr>\n",
       "      <th>8383</th>\n",
       "      <td>ID_F7QD</td>\n",
       "      <td>1</td>\n",
       "      <td>NaN</td>\n",
       "      <td>ID_9IP2OICN</td>\n",
       "      <td>21:03:14.798218</td>\n",
       "      <td>1</td>\n",
       "      <td>12</td>\n",
       "      <td>13</td>\n",
       "    </tr>\n",
       "    <tr>\n",
       "      <th>8384</th>\n",
       "      <td>ID_F7QD</td>\n",
       "      <td>1</td>\n",
       "      <td>NaN</td>\n",
       "      <td>ID_JUE09Z86</td>\n",
       "      <td>11:02:22.739630</td>\n",
       "      <td>1</td>\n",
       "      <td>5</td>\n",
       "      <td>5</td>\n",
       "    </tr>\n",
       "  </tbody>\n",
       "</table>\n",
       "<p>8385 rows × 8 columns</p>\n",
       "</div>"
      ],
      "text/plain": [
       "     Competition ID  Participant Type Successful Submission Count  \\\n",
       "0           ID_WPP3                 1                         NaN   \n",
       "1           ID_ZN92                 1                         NaN   \n",
       "2           ID_I9BN                 1                         NaN   \n",
       "3           ID_PDKH                 1                    count 10   \n",
       "4           ID_CFN7                 1                         NaN   \n",
       "...             ...               ...                         ...   \n",
       "8380        ID_F7QD                 1                         NaN   \n",
       "8381        ID_F7QD                 1                         NaN   \n",
       "8382        ID_F7QD                 1                         NaN   \n",
       "8383        ID_F7QD                 1                         NaN   \n",
       "8384        ID_F7QD                 1                         NaN   \n",
       "\n",
       "          User_ID  Created At time  Created At Year  Created At Month  \\\n",
       "0     ID_40G01FGV  19:38:04.689865                1                11   \n",
       "1     ID_40G01FGV  19:38:04.670583                1                11   \n",
       "2     ID_40G01FGV  12:06:55.884320                1                12   \n",
       "3     ID_40G01FGV  11:24:04.239058                1                12   \n",
       "4     ID_P33ABQX5  05:16:09.052129                1                 5   \n",
       "...           ...              ...              ...               ...   \n",
       "8380  ID_QR2HEY6L  22:10:28.532519                1                 1   \n",
       "8381  ID_K1MDGNKE  20:54:47.902303                1                 3   \n",
       "8382  ID_M8FQBYIH  18:57:10.479540                1                12   \n",
       "8383  ID_9IP2OICN  21:03:14.798218                1                12   \n",
       "8384  ID_JUE09Z86  11:02:22.739630                1                 5   \n",
       "\n",
       "      Created At Day_of_month  \n",
       "0                          20  \n",
       "1                          20  \n",
       "2                          17  \n",
       "3                           6  \n",
       "4                          26  \n",
       "...                       ...  \n",
       "8380                       15  \n",
       "8381                        1  \n",
       "8382                       27  \n",
       "8383                       13  \n",
       "8384                        5  \n",
       "\n",
       "[8385 rows x 8 columns]"
      ]
     },
     "execution_count": 55,
     "metadata": {},
     "output_type": "execute_result"
    }
   ],
   "source": [
    "df_compP"
   ]
  },
  {
   "cell_type": "code",
   "execution_count": 56,
   "id": "81bf4f33",
   "metadata": {},
   "outputs": [
    {
     "data": {
      "text/plain": [
       "5245"
      ]
     },
     "execution_count": 56,
     "metadata": {},
     "output_type": "execute_result"
    }
   ],
   "source": [
    "len(pd.unique(df_compP['User_ID']))"
   ]
  },
  {
   "cell_type": "code",
   "execution_count": 57,
   "id": "26c84ab7",
   "metadata": {},
   "outputs": [
    {
     "data": {
      "text/plain": [
       "1"
      ]
     },
     "execution_count": 57,
     "metadata": {},
     "output_type": "execute_result"
    }
   ],
   "source": [
    "len(pd.unique(df_compP['Created At Year']))"
   ]
  },
  {
   "cell_type": "code",
   "execution_count": 58,
   "id": "6084626a",
   "metadata": {},
   "outputs": [],
   "source": [
    "df_compP.drop('Created At Year', inplace=True, axis=1)"
   ]
  },
  {
   "cell_type": "code",
   "execution_count": 59,
   "id": "35437760",
   "metadata": {},
   "outputs": [],
   "source": [
    "df_compP.rename(columns={'Competition ID': 'Comp_ID'},  inplace = True)"
   ]
  },
  {
   "cell_type": "code",
   "execution_count": 60,
   "id": "6df35171",
   "metadata": {},
   "outputs": [],
   "source": [
    "df_compP[\"User_ID\"] = df_compP[\"User_ID\"].astype(\"string\")\n",
    "df_compP[\"Created At Month\"] = df_compP[\"Created At Month\"].astype(\"string\")"
   ]
  },
  {
   "cell_type": "code",
   "execution_count": 61,
   "id": "0591ca7e",
   "metadata": {},
   "outputs": [],
   "source": [
    "new = df_compP[\"Created At Month\"].copy()\n",
    "df_compP[\"User_ID\"] = df_compP[\"User_ID\"].str.cat(new, sep =\"_Month_\")"
   ]
  },
  {
   "cell_type": "code",
   "execution_count": 62,
   "id": "4be9aab2",
   "metadata": {},
   "outputs": [],
   "source": [
    "df_compP.drop('Created At Month', inplace=True, axis=1)"
   ]
  },
  {
   "cell_type": "markdown",
   "id": "19b75814",
   "metadata": {},
   "source": [
    "# MERGE 2"
   ]
  },
  {
   "cell_type": "code",
   "execution_count": 63,
   "id": "f46842f9",
   "metadata": {},
   "outputs": [],
   "source": [
    "result2 = pd.merge(df_compP, df_comp, how=\"outer\", on= 'Comp_ID')"
   ]
  },
  {
   "cell_type": "code",
   "execution_count": 64,
   "id": "421d0c7d",
   "metadata": {},
   "outputs": [],
   "source": [
    "result2 = result2[result2['User_ID'].notna()]"
   ]
  },
  {
   "cell_type": "code",
   "execution_count": 65,
   "id": "5b4488e5",
   "metadata": {},
   "outputs": [
    {
     "name": "stdout",
     "output_type": "stream",
     "text": [
      "<class 'pandas.core.frame.DataFrame'>\n",
      "Int64Index: 8385 entries, 0 to 8384\n",
      "Data columns (total 25 columns):\n",
      " #   Column                       Non-Null Count  Dtype  \n",
      "---  ------                       --------------  -----  \n",
      " 0   Comp_ID                      8385 non-null   object \n",
      " 1   Participant Type             8385 non-null   float64\n",
      " 2   Successful Submission Count  1449 non-null   object \n",
      " 3   User_ID                      8385 non-null   string \n",
      " 4   Created At time              8385 non-null   object \n",
      " 5   Created At Day_of_month      8385 non-null   float64\n",
      " 6   FeatureA                     8385 non-null   object \n",
      " 7   FeatureB                     8385 non-null   object \n",
      " 8   FeatureC                     5655 non-null   float64\n",
      " 9   FeatureD                     8385 non-null   int64  \n",
      " 10  FeatureE                     8385 non-null   int64  \n",
      " 11  SecretCode                   8385 non-null   int64  \n",
      " 12  FeatureF                     8385 non-null   object \n",
      " 13  FeatureG                     8385 non-null   object \n",
      " 14  FeatureH                     8385 non-null   object \n",
      " 15  FeatureI                     7206 non-null   float64\n",
      " 16  Country_ID                   4073 non-null   object \n",
      " 17  End Time time                6340 non-null   object \n",
      " 18  End Time Year                6340 non-null   float64\n",
      " 19  End Time Month               6340 non-null   float64\n",
      " 20  End Time Day_of_month        6340 non-null   float64\n",
      " 21  Start Time time              8385 non-null   object \n",
      " 22  Start Time Year              8385 non-null   int64  \n",
      " 23  Start Time Month             8385 non-null   int64  \n",
      " 24  Start Time Day_of_month      8385 non-null   int64  \n",
      "dtypes: float64(7), int64(6), object(11), string(1)\n",
      "memory usage: 1.7+ MB\n"
     ]
    }
   ],
   "source": [
    "result2.info()"
   ]
  },
  {
   "cell_type": "code",
   "execution_count": 66,
   "id": "cdd809f8",
   "metadata": {
    "scrolled": true
   },
   "outputs": [
    {
     "data": {
      "text/html": [
       "<div>\n",
       "<style scoped>\n",
       "    .dataframe tbody tr th:only-of-type {\n",
       "        vertical-align: middle;\n",
       "    }\n",
       "\n",
       "    .dataframe tbody tr th {\n",
       "        vertical-align: top;\n",
       "    }\n",
       "\n",
       "    .dataframe thead th {\n",
       "        text-align: right;\n",
       "    }\n",
       "</style>\n",
       "<table border=\"1\" class=\"dataframe\">\n",
       "  <thead>\n",
       "    <tr style=\"text-align: right;\">\n",
       "      <th></th>\n",
       "      <th>Comp_ID</th>\n",
       "      <th>Participant Type</th>\n",
       "      <th>Successful Submission Count</th>\n",
       "      <th>User_ID</th>\n",
       "      <th>Created At time</th>\n",
       "      <th>Created At Day_of_month</th>\n",
       "      <th>FeatureA</th>\n",
       "      <th>FeatureB</th>\n",
       "      <th>FeatureC</th>\n",
       "      <th>FeatureD</th>\n",
       "      <th>...</th>\n",
       "      <th>FeatureI</th>\n",
       "      <th>Country_ID</th>\n",
       "      <th>End Time time</th>\n",
       "      <th>End Time Year</th>\n",
       "      <th>End Time Month</th>\n",
       "      <th>End Time Day_of_month</th>\n",
       "      <th>Start Time time</th>\n",
       "      <th>Start Time Year</th>\n",
       "      <th>Start Time Month</th>\n",
       "      <th>Start Time Day_of_month</th>\n",
       "    </tr>\n",
       "  </thead>\n",
       "  <tbody>\n",
       "    <tr>\n",
       "      <th>0</th>\n",
       "      <td>ID_WPP3</td>\n",
       "      <td>1.0</td>\n",
       "      <td>NaN</td>\n",
       "      <td>ID_40G01FGV_Month_11</td>\n",
       "      <td>19:38:04.689865</td>\n",
       "      <td>20.0</td>\n",
       "      <td>[1]</td>\n",
       "      <td>[12, 16]</td>\n",
       "      <td>NaN</td>\n",
       "      <td>1</td>\n",
       "      <td>...</td>\n",
       "      <td>NaN</td>\n",
       "      <td>NaN</td>\n",
       "      <td>00:00:00</td>\n",
       "      <td>3.0</td>\n",
       "      <td>9.0</td>\n",
       "      <td>24.0</td>\n",
       "      <td>00:00:00</td>\n",
       "      <td>4</td>\n",
       "      <td>6</td>\n",
       "      <td>25</td>\n",
       "    </tr>\n",
       "    <tr>\n",
       "      <th>1</th>\n",
       "      <td>ID_WPP3</td>\n",
       "      <td>1.0</td>\n",
       "      <td>NaN</td>\n",
       "      <td>ID_D5I1M68U_Month_4</td>\n",
       "      <td>21:15:54.617702</td>\n",
       "      <td>7.0</td>\n",
       "      <td>[1]</td>\n",
       "      <td>[12, 16]</td>\n",
       "      <td>NaN</td>\n",
       "      <td>1</td>\n",
       "      <td>...</td>\n",
       "      <td>NaN</td>\n",
       "      <td>NaN</td>\n",
       "      <td>00:00:00</td>\n",
       "      <td>3.0</td>\n",
       "      <td>9.0</td>\n",
       "      <td>24.0</td>\n",
       "      <td>00:00:00</td>\n",
       "      <td>4</td>\n",
       "      <td>6</td>\n",
       "      <td>25</td>\n",
       "    </tr>\n",
       "    <tr>\n",
       "      <th>2</th>\n",
       "      <td>ID_WPP3</td>\n",
       "      <td>1.0</td>\n",
       "      <td>NaN</td>\n",
       "      <td>ID_G23UREIF_Month_11</td>\n",
       "      <td>16:43:35.871761</td>\n",
       "      <td>30.0</td>\n",
       "      <td>[1]</td>\n",
       "      <td>[12, 16]</td>\n",
       "      <td>NaN</td>\n",
       "      <td>1</td>\n",
       "      <td>...</td>\n",
       "      <td>NaN</td>\n",
       "      <td>NaN</td>\n",
       "      <td>00:00:00</td>\n",
       "      <td>3.0</td>\n",
       "      <td>9.0</td>\n",
       "      <td>24.0</td>\n",
       "      <td>00:00:00</td>\n",
       "      <td>4</td>\n",
       "      <td>6</td>\n",
       "      <td>25</td>\n",
       "    </tr>\n",
       "    <tr>\n",
       "      <th>3</th>\n",
       "      <td>ID_WPP3</td>\n",
       "      <td>1.0</td>\n",
       "      <td>NaN</td>\n",
       "      <td>ID_H4DF1YA9_Month_11</td>\n",
       "      <td>17:55:40.888019</td>\n",
       "      <td>23.0</td>\n",
       "      <td>[1]</td>\n",
       "      <td>[12, 16]</td>\n",
       "      <td>NaN</td>\n",
       "      <td>1</td>\n",
       "      <td>...</td>\n",
       "      <td>NaN</td>\n",
       "      <td>NaN</td>\n",
       "      <td>00:00:00</td>\n",
       "      <td>3.0</td>\n",
       "      <td>9.0</td>\n",
       "      <td>24.0</td>\n",
       "      <td>00:00:00</td>\n",
       "      <td>4</td>\n",
       "      <td>6</td>\n",
       "      <td>25</td>\n",
       "    </tr>\n",
       "    <tr>\n",
       "      <th>4</th>\n",
       "      <td>ID_WPP3</td>\n",
       "      <td>1.0</td>\n",
       "      <td>NaN</td>\n",
       "      <td>ID_F840O4ZH_Month_5</td>\n",
       "      <td>09:42:13.812496</td>\n",
       "      <td>16.0</td>\n",
       "      <td>[1]</td>\n",
       "      <td>[12, 16]</td>\n",
       "      <td>NaN</td>\n",
       "      <td>1</td>\n",
       "      <td>...</td>\n",
       "      <td>NaN</td>\n",
       "      <td>NaN</td>\n",
       "      <td>00:00:00</td>\n",
       "      <td>3.0</td>\n",
       "      <td>9.0</td>\n",
       "      <td>24.0</td>\n",
       "      <td>00:00:00</td>\n",
       "      <td>4</td>\n",
       "      <td>6</td>\n",
       "      <td>25</td>\n",
       "    </tr>\n",
       "    <tr>\n",
       "      <th>...</th>\n",
       "      <td>...</td>\n",
       "      <td>...</td>\n",
       "      <td>...</td>\n",
       "      <td>...</td>\n",
       "      <td>...</td>\n",
       "      <td>...</td>\n",
       "      <td>...</td>\n",
       "      <td>...</td>\n",
       "      <td>...</td>\n",
       "      <td>...</td>\n",
       "      <td>...</td>\n",
       "      <td>...</td>\n",
       "      <td>...</td>\n",
       "      <td>...</td>\n",
       "      <td>...</td>\n",
       "      <td>...</td>\n",
       "      <td>...</td>\n",
       "      <td>...</td>\n",
       "      <td>...</td>\n",
       "      <td>...</td>\n",
       "      <td>...</td>\n",
       "    </tr>\n",
       "    <tr>\n",
       "      <th>8380</th>\n",
       "      <td>ID_CNBR</td>\n",
       "      <td>1.0</td>\n",
       "      <td>NaN</td>\n",
       "      <td>ID_6RPFZR7I_Month_11</td>\n",
       "      <td>06:38:13.766016</td>\n",
       "      <td>17.0</td>\n",
       "      <td>[2, 7]</td>\n",
       "      <td>[]</td>\n",
       "      <td>9.0</td>\n",
       "      <td>1</td>\n",
       "      <td>...</td>\n",
       "      <td>9.0</td>\n",
       "      <td>NaN</td>\n",
       "      <td>00:00:00</td>\n",
       "      <td>3.0</td>\n",
       "      <td>11.0</td>\n",
       "      <td>20.0</td>\n",
       "      <td>00:00:00</td>\n",
       "      <td>3</td>\n",
       "      <td>8</td>\n",
       "      <td>16</td>\n",
       "    </tr>\n",
       "    <tr>\n",
       "      <th>8381</th>\n",
       "      <td>ID_208Z</td>\n",
       "      <td>1.0</td>\n",
       "      <td>NaN</td>\n",
       "      <td>ID_YEZY3ABB_Month_1</td>\n",
       "      <td>14:26:36.511271</td>\n",
       "      <td>6.0</td>\n",
       "      <td>[1, 5, 4]</td>\n",
       "      <td>[5, 7]</td>\n",
       "      <td>NaN</td>\n",
       "      <td>1</td>\n",
       "      <td>...</td>\n",
       "      <td>NaN</td>\n",
       "      <td>N6EN</td>\n",
       "      <td>23:59:00</td>\n",
       "      <td>3.0</td>\n",
       "      <td>12.0</td>\n",
       "      <td>17.0</td>\n",
       "      <td>00:00:00</td>\n",
       "      <td>4</td>\n",
       "      <td>7</td>\n",
       "      <td>2</td>\n",
       "    </tr>\n",
       "    <tr>\n",
       "      <th>8382</th>\n",
       "      <td>ID_H3QQ</td>\n",
       "      <td>1.0</td>\n",
       "      <td>NaN</td>\n",
       "      <td>ID_GS03UEEX_Month_4</td>\n",
       "      <td>10:40:22.978880</td>\n",
       "      <td>22.0</td>\n",
       "      <td>[2]</td>\n",
       "      <td>[]</td>\n",
       "      <td>17.0</td>\n",
       "      <td>1</td>\n",
       "      <td>...</td>\n",
       "      <td>17.0</td>\n",
       "      <td>4PRY</td>\n",
       "      <td>00:00:00</td>\n",
       "      <td>3.0</td>\n",
       "      <td>9.0</td>\n",
       "      <td>17.0</td>\n",
       "      <td>00:00:00</td>\n",
       "      <td>4</td>\n",
       "      <td>5</td>\n",
       "      <td>18</td>\n",
       "    </tr>\n",
       "    <tr>\n",
       "      <th>8383</th>\n",
       "      <td>ID_7079</td>\n",
       "      <td>1.0</td>\n",
       "      <td>NaN</td>\n",
       "      <td>ID_1CY5JAGU_Month_4</td>\n",
       "      <td>04:23:17.682554</td>\n",
       "      <td>11.0</td>\n",
       "      <td>[7, 3, 2]</td>\n",
       "      <td>[15]</td>\n",
       "      <td>10.0</td>\n",
       "      <td>1</td>\n",
       "      <td>...</td>\n",
       "      <td>10.0</td>\n",
       "      <td>G3F0</td>\n",
       "      <td>23:59:00</td>\n",
       "      <td>3.0</td>\n",
       "      <td>6.0</td>\n",
       "      <td>29.0</td>\n",
       "      <td>06:00:00</td>\n",
       "      <td>3</td>\n",
       "      <td>4</td>\n",
       "      <td>11</td>\n",
       "    </tr>\n",
       "    <tr>\n",
       "      <th>8384</th>\n",
       "      <td>ID_DFKK</td>\n",
       "      <td>1.0</td>\n",
       "      <td>NaN</td>\n",
       "      <td>ID_2YXKSD1Q_Month_4</td>\n",
       "      <td>15:34:15.045823</td>\n",
       "      <td>7.0</td>\n",
       "      <td>[5]</td>\n",
       "      <td>[15]</td>\n",
       "      <td>10.0</td>\n",
       "      <td>1</td>\n",
       "      <td>...</td>\n",
       "      <td>10.0</td>\n",
       "      <td>NaN</td>\n",
       "      <td>23:59:00</td>\n",
       "      <td>2.0</td>\n",
       "      <td>2.0</td>\n",
       "      <td>4.0</td>\n",
       "      <td>06:00:00</td>\n",
       "      <td>2</td>\n",
       "      <td>10</td>\n",
       "      <td>26</td>\n",
       "    </tr>\n",
       "  </tbody>\n",
       "</table>\n",
       "<p>8385 rows × 25 columns</p>\n",
       "</div>"
      ],
      "text/plain": [
       "      Comp_ID  Participant Type Successful Submission Count  \\\n",
       "0     ID_WPP3               1.0                         NaN   \n",
       "1     ID_WPP3               1.0                         NaN   \n",
       "2     ID_WPP3               1.0                         NaN   \n",
       "3     ID_WPP3               1.0                         NaN   \n",
       "4     ID_WPP3               1.0                         NaN   \n",
       "...       ...               ...                         ...   \n",
       "8380  ID_CNBR               1.0                         NaN   \n",
       "8381  ID_208Z               1.0                         NaN   \n",
       "8382  ID_H3QQ               1.0                         NaN   \n",
       "8383  ID_7079               1.0                         NaN   \n",
       "8384  ID_DFKK               1.0                         NaN   \n",
       "\n",
       "                   User_ID  Created At time  Created At Day_of_month  \\\n",
       "0     ID_40G01FGV_Month_11  19:38:04.689865                     20.0   \n",
       "1      ID_D5I1M68U_Month_4  21:15:54.617702                      7.0   \n",
       "2     ID_G23UREIF_Month_11  16:43:35.871761                     30.0   \n",
       "3     ID_H4DF1YA9_Month_11  17:55:40.888019                     23.0   \n",
       "4      ID_F840O4ZH_Month_5  09:42:13.812496                     16.0   \n",
       "...                    ...              ...                      ...   \n",
       "8380  ID_6RPFZR7I_Month_11  06:38:13.766016                     17.0   \n",
       "8381   ID_YEZY3ABB_Month_1  14:26:36.511271                      6.0   \n",
       "8382   ID_GS03UEEX_Month_4  10:40:22.978880                     22.0   \n",
       "8383   ID_1CY5JAGU_Month_4  04:23:17.682554                     11.0   \n",
       "8384   ID_2YXKSD1Q_Month_4  15:34:15.045823                      7.0   \n",
       "\n",
       "       FeatureA  FeatureB  FeatureC  FeatureD  ...  FeatureI  Country_ID  \\\n",
       "0           [1]  [12, 16]       NaN         1  ...       NaN         NaN   \n",
       "1           [1]  [12, 16]       NaN         1  ...       NaN         NaN   \n",
       "2           [1]  [12, 16]       NaN         1  ...       NaN         NaN   \n",
       "3           [1]  [12, 16]       NaN         1  ...       NaN         NaN   \n",
       "4           [1]  [12, 16]       NaN         1  ...       NaN         NaN   \n",
       "...         ...       ...       ...       ...  ...       ...         ...   \n",
       "8380     [2, 7]        []       9.0         1  ...       9.0         NaN   \n",
       "8381  [1, 5, 4]    [5, 7]       NaN         1  ...       NaN        N6EN   \n",
       "8382        [2]        []      17.0         1  ...      17.0        4PRY   \n",
       "8383  [7, 3, 2]      [15]      10.0         1  ...      10.0        G3F0   \n",
       "8384        [5]      [15]      10.0         1  ...      10.0         NaN   \n",
       "\n",
       "     End Time time End Time Year End Time Month  End Time Day_of_month  \\\n",
       "0         00:00:00           3.0            9.0                   24.0   \n",
       "1         00:00:00           3.0            9.0                   24.0   \n",
       "2         00:00:00           3.0            9.0                   24.0   \n",
       "3         00:00:00           3.0            9.0                   24.0   \n",
       "4         00:00:00           3.0            9.0                   24.0   \n",
       "...            ...           ...            ...                    ...   \n",
       "8380      00:00:00           3.0           11.0                   20.0   \n",
       "8381      23:59:00           3.0           12.0                   17.0   \n",
       "8382      00:00:00           3.0            9.0                   17.0   \n",
       "8383      23:59:00           3.0            6.0                   29.0   \n",
       "8384      23:59:00           2.0            2.0                    4.0   \n",
       "\n",
       "     Start Time time Start Time Year  Start Time Month  \\\n",
       "0           00:00:00               4                 6   \n",
       "1           00:00:00               4                 6   \n",
       "2           00:00:00               4                 6   \n",
       "3           00:00:00               4                 6   \n",
       "4           00:00:00               4                 6   \n",
       "...              ...             ...               ...   \n",
       "8380        00:00:00               3                 8   \n",
       "8381        00:00:00               4                 7   \n",
       "8382        00:00:00               4                 5   \n",
       "8383        06:00:00               3                 4   \n",
       "8384        06:00:00               2                10   \n",
       "\n",
       "      Start Time Day_of_month  \n",
       "0                          25  \n",
       "1                          25  \n",
       "2                          25  \n",
       "3                          25  \n",
       "4                          25  \n",
       "...                       ...  \n",
       "8380                       16  \n",
       "8381                        2  \n",
       "8382                       18  \n",
       "8383                       11  \n",
       "8384                       26  \n",
       "\n",
       "[8385 rows x 25 columns]"
      ]
     },
     "execution_count": 66,
     "metadata": {},
     "output_type": "execute_result"
    }
   ],
   "source": [
    "result2"
   ]
  },
  {
   "cell_type": "code",
   "execution_count": 67,
   "id": "024fcd28",
   "metadata": {},
   "outputs": [],
   "source": [
    "df_compP.rename(columns={'Created At time': 'Comp_participation_time'},  inplace = True)"
   ]
  },
  {
   "cell_type": "code",
   "execution_count": 68,
   "id": "9f49fe64",
   "metadata": {},
   "outputs": [],
   "source": [
    "df_compP.rename(columns={'Created At Day_of_month': 'Comp_participation_day'},  inplace = True)"
   ]
  },
  {
   "cell_type": "code",
   "execution_count": 69,
   "id": "8a0325bb",
   "metadata": {},
   "outputs": [
    {
     "name": "stdout",
     "output_type": "stream",
     "text": [
      "<class 'pandas.core.frame.DataFrame'>\n",
      "RangeIndex: 8385 entries, 0 to 8384\n",
      "Data columns (total 6 columns):\n",
      " #   Column                       Non-Null Count  Dtype \n",
      "---  ------                       --------------  ----- \n",
      " 0   Comp_ID                      8385 non-null   object\n",
      " 1   Participant Type             8385 non-null   int64 \n",
      " 2   Successful Submission Count  1449 non-null   object\n",
      " 3   User_ID                      8385 non-null   string\n",
      " 4   Comp_participation_time      8385 non-null   object\n",
      " 5   Comp_participation_day       8385 non-null   int64 \n",
      "dtypes: int64(2), object(3), string(1)\n",
      "memory usage: 393.2+ KB\n"
     ]
    }
   ],
   "source": [
    "df_compP.info()"
   ]
  },
  {
   "cell_type": "code",
   "execution_count": 70,
   "id": "61a0cd08",
   "metadata": {},
   "outputs": [
    {
     "name": "stdout",
     "output_type": "stream",
     "text": [
      "<class 'pandas.core.frame.DataFrame'>\n",
      "Int64Index: 8385 entries, 0 to 8384\n",
      "Data columns (total 25 columns):\n",
      " #   Column                       Non-Null Count  Dtype  \n",
      "---  ------                       --------------  -----  \n",
      " 0   Comp_ID                      8385 non-null   object \n",
      " 1   Participant Type             8385 non-null   float64\n",
      " 2   Successful Submission Count  1449 non-null   object \n",
      " 3   User_ID                      8385 non-null   string \n",
      " 4   Created At time              8385 non-null   object \n",
      " 5   Created At Day_of_month      8385 non-null   float64\n",
      " 6   FeatureA                     8385 non-null   object \n",
      " 7   FeatureB                     8385 non-null   object \n",
      " 8   FeatureC                     5655 non-null   float64\n",
      " 9   FeatureD                     8385 non-null   int64  \n",
      " 10  FeatureE                     8385 non-null   int64  \n",
      " 11  SecretCode                   8385 non-null   int64  \n",
      " 12  FeatureF                     8385 non-null   object \n",
      " 13  FeatureG                     8385 non-null   object \n",
      " 14  FeatureH                     8385 non-null   object \n",
      " 15  FeatureI                     7206 non-null   float64\n",
      " 16  Country_ID                   4073 non-null   object \n",
      " 17  End Time time                6340 non-null   object \n",
      " 18  End Time Year                6340 non-null   float64\n",
      " 19  End Time Month               6340 non-null   float64\n",
      " 20  End Time Day_of_month        6340 non-null   float64\n",
      " 21  Start Time time              8385 non-null   object \n",
      " 22  Start Time Year              8385 non-null   int64  \n",
      " 23  Start Time Month             8385 non-null   int64  \n",
      " 24  Start Time Day_of_month      8385 non-null   int64  \n",
      "dtypes: float64(7), int64(6), object(11), string(1)\n",
      "memory usage: 1.7+ MB\n"
     ]
    }
   ],
   "source": [
    "result2.info()"
   ]
  },
  {
   "cell_type": "markdown",
   "id": "9bb36659",
   "metadata": {},
   "source": [
    "# USERS"
   ]
  },
  {
   "cell_type": "code",
   "execution_count": 71,
   "id": "c7178f32",
   "metadata": {},
   "outputs": [],
   "source": [
    "df_user = pd.read_csv('Users.csv')"
   ]
  },
  {
   "cell_type": "code",
   "execution_count": 72,
   "id": "3b2e8c30",
   "metadata": {},
   "outputs": [
    {
     "name": "stdout",
     "output_type": "stream",
     "text": [
      "<class 'pandas.core.frame.DataFrame'>\n",
      "RangeIndex: 12413 entries, 0 to 12412\n",
      "Data columns (total 8 columns):\n",
      " #   Column                   Non-Null Count  Dtype \n",
      "---  ------                   --------------  ----- \n",
      " 0   FeatureX                 12413 non-null  int64 \n",
      " 1   FeatureY                 12413 non-null  int64 \n",
      " 2   User_ID                  12413 non-null  object\n",
      " 3   Countries_ID             6531 non-null   object\n",
      " 4   Created At time          12413 non-null  object\n",
      " 5   Created At Year          12413 non-null  int64 \n",
      " 6   Created At Month         12413 non-null  int64 \n",
      " 7   Created At Day_of_month  12413 non-null  int64 \n",
      "dtypes: int64(5), object(3)\n",
      "memory usage: 775.9+ KB\n"
     ]
    }
   ],
   "source": [
    "df_user.info()"
   ]
  },
  {
   "cell_type": "code",
   "execution_count": 73,
   "id": "81843e49",
   "metadata": {
    "scrolled": true
   },
   "outputs": [
    {
     "data": {
      "text/html": [
       "<div>\n",
       "<style scoped>\n",
       "    .dataframe tbody tr th:only-of-type {\n",
       "        vertical-align: middle;\n",
       "    }\n",
       "\n",
       "    .dataframe tbody tr th {\n",
       "        vertical-align: top;\n",
       "    }\n",
       "\n",
       "    .dataframe thead th {\n",
       "        text-align: right;\n",
       "    }\n",
       "</style>\n",
       "<table border=\"1\" class=\"dataframe\">\n",
       "  <thead>\n",
       "    <tr style=\"text-align: right;\">\n",
       "      <th></th>\n",
       "      <th>FeatureX</th>\n",
       "      <th>FeatureY</th>\n",
       "      <th>User_ID</th>\n",
       "      <th>Countries_ID</th>\n",
       "      <th>Created At time</th>\n",
       "      <th>Created At Year</th>\n",
       "      <th>Created At Month</th>\n",
       "      <th>Created At Day_of_month</th>\n",
       "    </tr>\n",
       "  </thead>\n",
       "  <tbody>\n",
       "    <tr>\n",
       "      <th>0</th>\n",
       "      <td>0</td>\n",
       "      <td>0</td>\n",
       "      <td>ID_DC6S4E9O</td>\n",
       "      <td>X9GR</td>\n",
       "      <td>19:33:13.663391</td>\n",
       "      <td>1</td>\n",
       "      <td>1</td>\n",
       "      <td>16</td>\n",
       "    </tr>\n",
       "    <tr>\n",
       "      <th>1</th>\n",
       "      <td>1</td>\n",
       "      <td>0</td>\n",
       "      <td>ID_E8S97OUT</td>\n",
       "      <td>X9GR</td>\n",
       "      <td>22:18:18.228921</td>\n",
       "      <td>1</td>\n",
       "      <td>12</td>\n",
       "      <td>27</td>\n",
       "    </tr>\n",
       "    <tr>\n",
       "      <th>2</th>\n",
       "      <td>0</td>\n",
       "      <td>0</td>\n",
       "      <td>ID_QZ1HASL3</td>\n",
       "      <td>X9GR</td>\n",
       "      <td>23:13:03.266635</td>\n",
       "      <td>1</td>\n",
       "      <td>1</td>\n",
       "      <td>1</td>\n",
       "    </tr>\n",
       "    <tr>\n",
       "      <th>3</th>\n",
       "      <td>1</td>\n",
       "      <td>0</td>\n",
       "      <td>ID_SDV9Q3E9</td>\n",
       "      <td>X9GR</td>\n",
       "      <td>09:50:09.697573</td>\n",
       "      <td>1</td>\n",
       "      <td>12</td>\n",
       "      <td>27</td>\n",
       "    </tr>\n",
       "    <tr>\n",
       "      <th>4</th>\n",
       "      <td>1</td>\n",
       "      <td>0</td>\n",
       "      <td>ID_W942LN7F</td>\n",
       "      <td>X9GR</td>\n",
       "      <td>13:33:06.531662</td>\n",
       "      <td>1</td>\n",
       "      <td>1</td>\n",
       "      <td>16</td>\n",
       "    </tr>\n",
       "    <tr>\n",
       "      <th>...</th>\n",
       "      <td>...</td>\n",
       "      <td>...</td>\n",
       "      <td>...</td>\n",
       "      <td>...</td>\n",
       "      <td>...</td>\n",
       "      <td>...</td>\n",
       "      <td>...</td>\n",
       "      <td>...</td>\n",
       "    </tr>\n",
       "    <tr>\n",
       "      <th>12408</th>\n",
       "      <td>0</td>\n",
       "      <td>1</td>\n",
       "      <td>ID_C5393PD0</td>\n",
       "      <td>7DKX</td>\n",
       "      <td>05:02:39.352427</td>\n",
       "      <td>1</td>\n",
       "      <td>11</td>\n",
       "      <td>6</td>\n",
       "    </tr>\n",
       "    <tr>\n",
       "      <th>12409</th>\n",
       "      <td>0</td>\n",
       "      <td>1</td>\n",
       "      <td>ID_QX7XRT0C</td>\n",
       "      <td>K4DG</td>\n",
       "      <td>02:50:19.027320</td>\n",
       "      <td>1</td>\n",
       "      <td>3</td>\n",
       "      <td>25</td>\n",
       "    </tr>\n",
       "    <tr>\n",
       "      <th>12410</th>\n",
       "      <td>0</td>\n",
       "      <td>1</td>\n",
       "      <td>ID_RGN2RK66</td>\n",
       "      <td>ONON</td>\n",
       "      <td>22:06:33.713692</td>\n",
       "      <td>1</td>\n",
       "      <td>12</td>\n",
       "      <td>7</td>\n",
       "    </tr>\n",
       "    <tr>\n",
       "      <th>12411</th>\n",
       "      <td>0</td>\n",
       "      <td>0</td>\n",
       "      <td>ID_XZS1QE0W</td>\n",
       "      <td>3YQR</td>\n",
       "      <td>06:56:02.570173</td>\n",
       "      <td>1</td>\n",
       "      <td>5</td>\n",
       "      <td>27</td>\n",
       "    </tr>\n",
       "    <tr>\n",
       "      <th>12412</th>\n",
       "      <td>0</td>\n",
       "      <td>1</td>\n",
       "      <td>ID_8K4FGJYO</td>\n",
       "      <td>G4PG</td>\n",
       "      <td>10:22:54.369939</td>\n",
       "      <td>1</td>\n",
       "      <td>12</td>\n",
       "      <td>5</td>\n",
       "    </tr>\n",
       "  </tbody>\n",
       "</table>\n",
       "<p>12413 rows × 8 columns</p>\n",
       "</div>"
      ],
      "text/plain": [
       "       FeatureX  FeatureY      User_ID Countries_ID  Created At time  \\\n",
       "0             0         0  ID_DC6S4E9O         X9GR  19:33:13.663391   \n",
       "1             1         0  ID_E8S97OUT         X9GR  22:18:18.228921   \n",
       "2             0         0  ID_QZ1HASL3         X9GR  23:13:03.266635   \n",
       "3             1         0  ID_SDV9Q3E9         X9GR  09:50:09.697573   \n",
       "4             1         0  ID_W942LN7F         X9GR  13:33:06.531662   \n",
       "...         ...       ...          ...          ...              ...   \n",
       "12408         0         1  ID_C5393PD0         7DKX  05:02:39.352427   \n",
       "12409         0         1  ID_QX7XRT0C         K4DG  02:50:19.027320   \n",
       "12410         0         1  ID_RGN2RK66         ONON  22:06:33.713692   \n",
       "12411         0         0  ID_XZS1QE0W         3YQR  06:56:02.570173   \n",
       "12412         0         1  ID_8K4FGJYO         G4PG  10:22:54.369939   \n",
       "\n",
       "       Created At Year  Created At Month  Created At Day_of_month  \n",
       "0                    1                 1                       16  \n",
       "1                    1                12                       27  \n",
       "2                    1                 1                        1  \n",
       "3                    1                12                       27  \n",
       "4                    1                 1                       16  \n",
       "...                ...               ...                      ...  \n",
       "12408                1                11                        6  \n",
       "12409                1                 3                       25  \n",
       "12410                1                12                        7  \n",
       "12411                1                 5                       27  \n",
       "12412                1                12                        5  \n",
       "\n",
       "[12413 rows x 8 columns]"
      ]
     },
     "execution_count": 73,
     "metadata": {},
     "output_type": "execute_result"
    }
   ],
   "source": [
    "df_user"
   ]
  },
  {
   "cell_type": "code",
   "execution_count": 74,
   "id": "135d278c",
   "metadata": {},
   "outputs": [
    {
     "data": {
      "text/plain": [
       "12413"
      ]
     },
     "execution_count": 74,
     "metadata": {},
     "output_type": "execute_result"
    }
   ],
   "source": [
    "len(pd.unique(df_user['User_ID']))"
   ]
  },
  {
   "cell_type": "code",
   "execution_count": 75,
   "id": "a6536600",
   "metadata": {},
   "outputs": [
    {
     "data": {
      "text/plain": [
       "1"
      ]
     },
     "execution_count": 75,
     "metadata": {},
     "output_type": "execute_result"
    }
   ],
   "source": [
    "len(pd.unique(df_user['Created At Year']))"
   ]
  },
  {
   "cell_type": "code",
   "execution_count": 76,
   "id": "3f8fabc6",
   "metadata": {},
   "outputs": [],
   "source": [
    "df_user.drop('Created At Year', inplace=True, axis=1)"
   ]
  },
  {
   "cell_type": "code",
   "execution_count": 77,
   "id": "9651893b",
   "metadata": {},
   "outputs": [],
   "source": [
    "df_user[\"User_ID\"] = df_user[\"User_ID\"].astype(\"string\")\n",
    "df_user[\"Created At Month\"] = df_user[\"Created At Month\"].astype(\"string\")"
   ]
  },
  {
   "cell_type": "code",
   "execution_count": 78,
   "id": "60f3d1ea",
   "metadata": {},
   "outputs": [],
   "source": [
    "new = df_user[\"Created At Month\"].copy()\n",
    "df_user[\"User_ID\"] = df_user[\"User_ID\"].str.cat(new, sep =\"_Month_\")"
   ]
  },
  {
   "cell_type": "code",
   "execution_count": 79,
   "id": "b5662e4a",
   "metadata": {},
   "outputs": [],
   "source": [
    "df_user.rename(columns={'Created At Month': 'User sign-in month'},  inplace = True)"
   ]
  },
  {
   "cell_type": "code",
   "execution_count": 80,
   "id": "07c053b3",
   "metadata": {},
   "outputs": [],
   "source": [
    "df_user.rename(columns={'Created At time': 'User sign-in time'},  inplace = True)"
   ]
  },
  {
   "cell_type": "code",
   "execution_count": 81,
   "id": "e8b05b00",
   "metadata": {},
   "outputs": [],
   "source": [
    "df_user.rename(columns={'Created At Day_of_month': 'User sign-in day'},  inplace = True)"
   ]
  },
  {
   "cell_type": "code",
   "execution_count": 82,
   "id": "97d057bd",
   "metadata": {},
   "outputs": [
    {
     "data": {
      "text/html": [
       "<div>\n",
       "<style scoped>\n",
       "    .dataframe tbody tr th:only-of-type {\n",
       "        vertical-align: middle;\n",
       "    }\n",
       "\n",
       "    .dataframe tbody tr th {\n",
       "        vertical-align: top;\n",
       "    }\n",
       "\n",
       "    .dataframe thead th {\n",
       "        text-align: right;\n",
       "    }\n",
       "</style>\n",
       "<table border=\"1\" class=\"dataframe\">\n",
       "  <thead>\n",
       "    <tr style=\"text-align: right;\">\n",
       "      <th></th>\n",
       "      <th>FeatureX</th>\n",
       "      <th>FeatureY</th>\n",
       "      <th>User_ID</th>\n",
       "      <th>Countries_ID</th>\n",
       "      <th>User sign-in time</th>\n",
       "      <th>User sign-in month</th>\n",
       "      <th>User sign-in day</th>\n",
       "    </tr>\n",
       "  </thead>\n",
       "  <tbody>\n",
       "    <tr>\n",
       "      <th>0</th>\n",
       "      <td>0</td>\n",
       "      <td>0</td>\n",
       "      <td>ID_DC6S4E9O_Month_1</td>\n",
       "      <td>X9GR</td>\n",
       "      <td>19:33:13.663391</td>\n",
       "      <td>1</td>\n",
       "      <td>16</td>\n",
       "    </tr>\n",
       "    <tr>\n",
       "      <th>1</th>\n",
       "      <td>1</td>\n",
       "      <td>0</td>\n",
       "      <td>ID_E8S97OUT_Month_12</td>\n",
       "      <td>X9GR</td>\n",
       "      <td>22:18:18.228921</td>\n",
       "      <td>12</td>\n",
       "      <td>27</td>\n",
       "    </tr>\n",
       "    <tr>\n",
       "      <th>2</th>\n",
       "      <td>0</td>\n",
       "      <td>0</td>\n",
       "      <td>ID_QZ1HASL3_Month_1</td>\n",
       "      <td>X9GR</td>\n",
       "      <td>23:13:03.266635</td>\n",
       "      <td>1</td>\n",
       "      <td>1</td>\n",
       "    </tr>\n",
       "    <tr>\n",
       "      <th>3</th>\n",
       "      <td>1</td>\n",
       "      <td>0</td>\n",
       "      <td>ID_SDV9Q3E9_Month_12</td>\n",
       "      <td>X9GR</td>\n",
       "      <td>09:50:09.697573</td>\n",
       "      <td>12</td>\n",
       "      <td>27</td>\n",
       "    </tr>\n",
       "    <tr>\n",
       "      <th>4</th>\n",
       "      <td>1</td>\n",
       "      <td>0</td>\n",
       "      <td>ID_W942LN7F_Month_1</td>\n",
       "      <td>X9GR</td>\n",
       "      <td>13:33:06.531662</td>\n",
       "      <td>1</td>\n",
       "      <td>16</td>\n",
       "    </tr>\n",
       "    <tr>\n",
       "      <th>...</th>\n",
       "      <td>...</td>\n",
       "      <td>...</td>\n",
       "      <td>...</td>\n",
       "      <td>...</td>\n",
       "      <td>...</td>\n",
       "      <td>...</td>\n",
       "      <td>...</td>\n",
       "    </tr>\n",
       "    <tr>\n",
       "      <th>12408</th>\n",
       "      <td>0</td>\n",
       "      <td>1</td>\n",
       "      <td>ID_C5393PD0_Month_11</td>\n",
       "      <td>7DKX</td>\n",
       "      <td>05:02:39.352427</td>\n",
       "      <td>11</td>\n",
       "      <td>6</td>\n",
       "    </tr>\n",
       "    <tr>\n",
       "      <th>12409</th>\n",
       "      <td>0</td>\n",
       "      <td>1</td>\n",
       "      <td>ID_QX7XRT0C_Month_3</td>\n",
       "      <td>K4DG</td>\n",
       "      <td>02:50:19.027320</td>\n",
       "      <td>3</td>\n",
       "      <td>25</td>\n",
       "    </tr>\n",
       "    <tr>\n",
       "      <th>12410</th>\n",
       "      <td>0</td>\n",
       "      <td>1</td>\n",
       "      <td>ID_RGN2RK66_Month_12</td>\n",
       "      <td>ONON</td>\n",
       "      <td>22:06:33.713692</td>\n",
       "      <td>12</td>\n",
       "      <td>7</td>\n",
       "    </tr>\n",
       "    <tr>\n",
       "      <th>12411</th>\n",
       "      <td>0</td>\n",
       "      <td>0</td>\n",
       "      <td>ID_XZS1QE0W_Month_5</td>\n",
       "      <td>3YQR</td>\n",
       "      <td>06:56:02.570173</td>\n",
       "      <td>5</td>\n",
       "      <td>27</td>\n",
       "    </tr>\n",
       "    <tr>\n",
       "      <th>12412</th>\n",
       "      <td>0</td>\n",
       "      <td>1</td>\n",
       "      <td>ID_8K4FGJYO_Month_12</td>\n",
       "      <td>G4PG</td>\n",
       "      <td>10:22:54.369939</td>\n",
       "      <td>12</td>\n",
       "      <td>5</td>\n",
       "    </tr>\n",
       "  </tbody>\n",
       "</table>\n",
       "<p>12413 rows × 7 columns</p>\n",
       "</div>"
      ],
      "text/plain": [
       "       FeatureX  FeatureY               User_ID Countries_ID  \\\n",
       "0             0         0   ID_DC6S4E9O_Month_1         X9GR   \n",
       "1             1         0  ID_E8S97OUT_Month_12         X9GR   \n",
       "2             0         0   ID_QZ1HASL3_Month_1         X9GR   \n",
       "3             1         0  ID_SDV9Q3E9_Month_12         X9GR   \n",
       "4             1         0   ID_W942LN7F_Month_1         X9GR   \n",
       "...         ...       ...                   ...          ...   \n",
       "12408         0         1  ID_C5393PD0_Month_11         7DKX   \n",
       "12409         0         1   ID_QX7XRT0C_Month_3         K4DG   \n",
       "12410         0         1  ID_RGN2RK66_Month_12         ONON   \n",
       "12411         0         0   ID_XZS1QE0W_Month_5         3YQR   \n",
       "12412         0         1  ID_8K4FGJYO_Month_12         G4PG   \n",
       "\n",
       "      User sign-in time User sign-in month  User sign-in day  \n",
       "0       19:33:13.663391                  1                16  \n",
       "1       22:18:18.228921                 12                27  \n",
       "2       23:13:03.266635                  1                 1  \n",
       "3       09:50:09.697573                 12                27  \n",
       "4       13:33:06.531662                  1                16  \n",
       "...                 ...                ...               ...  \n",
       "12408   05:02:39.352427                 11                 6  \n",
       "12409   02:50:19.027320                  3                25  \n",
       "12410   22:06:33.713692                 12                 7  \n",
       "12411   06:56:02.570173                  5                27  \n",
       "12412   10:22:54.369939                 12                 5  \n",
       "\n",
       "[12413 rows x 7 columns]"
      ]
     },
     "execution_count": 82,
     "metadata": {},
     "output_type": "execute_result"
    }
   ],
   "source": [
    "df_user"
   ]
  },
  {
   "cell_type": "markdown",
   "id": "a171fc36",
   "metadata": {},
   "source": [
    "# MERGE 3"
   ]
  },
  {
   "cell_type": "code",
   "execution_count": 83,
   "id": "f4391e48",
   "metadata": {},
   "outputs": [],
   "source": [
    "result3 = pd.merge(df_userAct, df_user, how=\"outer\", on= 'User_ID')"
   ]
  },
  {
   "cell_type": "code",
   "execution_count": 84,
   "id": "19c94b43",
   "metadata": {},
   "outputs": [
    {
     "data": {
      "text/html": [
       "<div>\n",
       "<style scoped>\n",
       "    .dataframe tbody tr th:only-of-type {\n",
       "        vertical-align: middle;\n",
       "    }\n",
       "\n",
       "    .dataframe tbody tr th {\n",
       "        vertical-align: top;\n",
       "    }\n",
       "\n",
       "    .dataframe thead th {\n",
       "        text-align: right;\n",
       "    }\n",
       "</style>\n",
       "<table border=\"1\" class=\"dataframe\">\n",
       "  <thead>\n",
       "    <tr style=\"text-align: right;\">\n",
       "      <th></th>\n",
       "      <th>User_ID</th>\n",
       "      <th>datetime time</th>\n",
       "      <th>datetime Day_of_month</th>\n",
       "      <th>count_UA</th>\n",
       "      <th>FeatureX</th>\n",
       "      <th>FeatureY</th>\n",
       "      <th>Countries_ID</th>\n",
       "      <th>User sign-in time</th>\n",
       "      <th>User sign-in month</th>\n",
       "      <th>User sign-in day</th>\n",
       "    </tr>\n",
       "  </thead>\n",
       "  <tbody>\n",
       "    <tr>\n",
       "      <th>0</th>\n",
       "      <td>ID_000H9XOP_Month_5</td>\n",
       "      <td>16:18:22</td>\n",
       "      <td>26.0</td>\n",
       "      <td>6.0</td>\n",
       "      <td>0.0</td>\n",
       "      <td>1.0</td>\n",
       "      <td>NaN</td>\n",
       "      <td>15:18:11.439200</td>\n",
       "      <td>5</td>\n",
       "      <td>22.0</td>\n",
       "    </tr>\n",
       "    <tr>\n",
       "      <th>1</th>\n",
       "      <td>ID_003YJHQA_Month_4</td>\n",
       "      <td>11:31:30</td>\n",
       "      <td>12.0</td>\n",
       "      <td>11.0</td>\n",
       "      <td>0.0</td>\n",
       "      <td>1.0</td>\n",
       "      <td>GYYX</td>\n",
       "      <td>10:30:32.261855</td>\n",
       "      <td>4</td>\n",
       "      <td>12.0</td>\n",
       "    </tr>\n",
       "    <tr>\n",
       "      <th>2</th>\n",
       "      <td>ID_004UKSJV_Month_1</td>\n",
       "      <td>09:17:09</td>\n",
       "      <td>15.0</td>\n",
       "      <td>1.0</td>\n",
       "      <td>NaN</td>\n",
       "      <td>NaN</td>\n",
       "      <td>NaN</td>\n",
       "      <td>NaN</td>\n",
       "      <td>&lt;NA&gt;</td>\n",
       "      <td>NaN</td>\n",
       "    </tr>\n",
       "    <tr>\n",
       "      <th>3</th>\n",
       "      <td>ID_004UKSJV_Month_12</td>\n",
       "      <td>10:51:58</td>\n",
       "      <td>29.0</td>\n",
       "      <td>11.0</td>\n",
       "      <td>0.0</td>\n",
       "      <td>0.0</td>\n",
       "      <td>IFO5</td>\n",
       "      <td>08:32:14.997443</td>\n",
       "      <td>12</td>\n",
       "      <td>28.0</td>\n",
       "    </tr>\n",
       "    <tr>\n",
       "      <th>4</th>\n",
       "      <td>ID_008D2J6C_Month_1</td>\n",
       "      <td>10:44:55</td>\n",
       "      <td>15.0</td>\n",
       "      <td>10.0</td>\n",
       "      <td>0.0</td>\n",
       "      <td>0.0</td>\n",
       "      <td>GYYX</td>\n",
       "      <td>09:42:39.695313</td>\n",
       "      <td>1</td>\n",
       "      <td>7.0</td>\n",
       "    </tr>\n",
       "    <tr>\n",
       "      <th>...</th>\n",
       "      <td>...</td>\n",
       "      <td>...</td>\n",
       "      <td>...</td>\n",
       "      <td>...</td>\n",
       "      <td>...</td>\n",
       "      <td>...</td>\n",
       "      <td>...</td>\n",
       "      <td>...</td>\n",
       "      <td>...</td>\n",
       "      <td>...</td>\n",
       "    </tr>\n",
       "    <tr>\n",
       "      <th>17186</th>\n",
       "      <td>ID_Y02FKZWI_Month_3</td>\n",
       "      <td>NaN</td>\n",
       "      <td>NaN</td>\n",
       "      <td>NaN</td>\n",
       "      <td>0.0</td>\n",
       "      <td>0.0</td>\n",
       "      <td>7JT1</td>\n",
       "      <td>04:04:35.100180</td>\n",
       "      <td>3</td>\n",
       "      <td>26.0</td>\n",
       "    </tr>\n",
       "    <tr>\n",
       "      <th>17187</th>\n",
       "      <td>ID_FDOGWALS_Month_11</td>\n",
       "      <td>NaN</td>\n",
       "      <td>NaN</td>\n",
       "      <td>NaN</td>\n",
       "      <td>0.0</td>\n",
       "      <td>0.0</td>\n",
       "      <td>UKC2</td>\n",
       "      <td>13:30:49.814791</td>\n",
       "      <td>11</td>\n",
       "      <td>5.0</td>\n",
       "    </tr>\n",
       "    <tr>\n",
       "      <th>17188</th>\n",
       "      <td>ID_YJCY8FF5_Month_5</td>\n",
       "      <td>NaN</td>\n",
       "      <td>NaN</td>\n",
       "      <td>NaN</td>\n",
       "      <td>0.0</td>\n",
       "      <td>0.0</td>\n",
       "      <td>H801</td>\n",
       "      <td>15:54:12.676400</td>\n",
       "      <td>5</td>\n",
       "      <td>11.0</td>\n",
       "    </tr>\n",
       "    <tr>\n",
       "      <th>17189</th>\n",
       "      <td>ID_QDL8A9FQ_Month_4</td>\n",
       "      <td>NaN</td>\n",
       "      <td>NaN</td>\n",
       "      <td>NaN</td>\n",
       "      <td>0.0</td>\n",
       "      <td>0.0</td>\n",
       "      <td>NRDP</td>\n",
       "      <td>09:49:35.535847</td>\n",
       "      <td>4</td>\n",
       "      <td>28.0</td>\n",
       "    </tr>\n",
       "    <tr>\n",
       "      <th>17190</th>\n",
       "      <td>ID_C5393PD0_Month_11</td>\n",
       "      <td>NaN</td>\n",
       "      <td>NaN</td>\n",
       "      <td>NaN</td>\n",
       "      <td>0.0</td>\n",
       "      <td>1.0</td>\n",
       "      <td>7DKX</td>\n",
       "      <td>05:02:39.352427</td>\n",
       "      <td>11</td>\n",
       "      <td>6.0</td>\n",
       "    </tr>\n",
       "  </tbody>\n",
       "</table>\n",
       "<p>17191 rows × 10 columns</p>\n",
       "</div>"
      ],
      "text/plain": [
       "                    User_ID datetime time  datetime Day_of_month  count_UA  \\\n",
       "0       ID_000H9XOP_Month_5      16:18:22                   26.0       6.0   \n",
       "1       ID_003YJHQA_Month_4      11:31:30                   12.0      11.0   \n",
       "2       ID_004UKSJV_Month_1      09:17:09                   15.0       1.0   \n",
       "3      ID_004UKSJV_Month_12      10:51:58                   29.0      11.0   \n",
       "4       ID_008D2J6C_Month_1      10:44:55                   15.0      10.0   \n",
       "...                     ...           ...                    ...       ...   \n",
       "17186   ID_Y02FKZWI_Month_3           NaN                    NaN       NaN   \n",
       "17187  ID_FDOGWALS_Month_11           NaN                    NaN       NaN   \n",
       "17188   ID_YJCY8FF5_Month_5           NaN                    NaN       NaN   \n",
       "17189   ID_QDL8A9FQ_Month_4           NaN                    NaN       NaN   \n",
       "17190  ID_C5393PD0_Month_11           NaN                    NaN       NaN   \n",
       "\n",
       "       FeatureX  FeatureY Countries_ID User sign-in time User sign-in month  \\\n",
       "0           0.0       1.0          NaN   15:18:11.439200                  5   \n",
       "1           0.0       1.0         GYYX   10:30:32.261855                  4   \n",
       "2           NaN       NaN          NaN               NaN               <NA>   \n",
       "3           0.0       0.0         IFO5   08:32:14.997443                 12   \n",
       "4           0.0       0.0         GYYX   09:42:39.695313                  1   \n",
       "...         ...       ...          ...               ...                ...   \n",
       "17186       0.0       0.0         7JT1   04:04:35.100180                  3   \n",
       "17187       0.0       0.0         UKC2   13:30:49.814791                 11   \n",
       "17188       0.0       0.0         H801   15:54:12.676400                  5   \n",
       "17189       0.0       0.0         NRDP   09:49:35.535847                  4   \n",
       "17190       0.0       1.0         7DKX   05:02:39.352427                 11   \n",
       "\n",
       "       User sign-in day  \n",
       "0                  22.0  \n",
       "1                  12.0  \n",
       "2                   NaN  \n",
       "3                  28.0  \n",
       "4                   7.0  \n",
       "...                 ...  \n",
       "17186              26.0  \n",
       "17187               5.0  \n",
       "17188              11.0  \n",
       "17189              28.0  \n",
       "17190               6.0  \n",
       "\n",
       "[17191 rows x 10 columns]"
      ]
     },
     "execution_count": 84,
     "metadata": {},
     "output_type": "execute_result"
    }
   ],
   "source": [
    "result3"
   ]
  },
  {
   "cell_type": "markdown",
   "id": "40dcd973",
   "metadata": {},
   "source": [
    "# MERGE 4"
   ]
  },
  {
   "cell_type": "code",
   "execution_count": 85,
   "id": "23ad4c6f",
   "metadata": {},
   "outputs": [],
   "source": [
    "result4 = pd.merge(result1, result2, how=\"outer\", on= 'User_ID')"
   ]
  },
  {
   "cell_type": "code",
   "execution_count": 86,
   "id": "cb30280a",
   "metadata": {},
   "outputs": [
    {
     "data": {
      "text/html": [
       "<div>\n",
       "<style scoped>\n",
       "    .dataframe tbody tr th:only-of-type {\n",
       "        vertical-align: middle;\n",
       "    }\n",
       "\n",
       "    .dataframe tbody tr th {\n",
       "        vertical-align: top;\n",
       "    }\n",
       "\n",
       "    .dataframe thead th {\n",
       "        text-align: right;\n",
       "    }\n",
       "</style>\n",
       "<table border=\"1\" class=\"dataframe\">\n",
       "  <thead>\n",
       "    <tr style=\"text-align: right;\">\n",
       "      <th></th>\n",
       "      <th>Competition ID</th>\n",
       "      <th>Personal</th>\n",
       "      <th>Theme</th>\n",
       "      <th>Disc_ID</th>\n",
       "      <th>User_ID</th>\n",
       "      <th>Discussion_time</th>\n",
       "      <th>Discussion_year</th>\n",
       "      <th>Discussion_month</th>\n",
       "      <th>Discussion_day</th>\n",
       "      <th>comment_time</th>\n",
       "      <th>...</th>\n",
       "      <th>FeatureI</th>\n",
       "      <th>Country_ID</th>\n",
       "      <th>End Time time</th>\n",
       "      <th>End Time Year</th>\n",
       "      <th>End Time Month</th>\n",
       "      <th>End Time Day_of_month</th>\n",
       "      <th>Start Time time</th>\n",
       "      <th>Start Time Year</th>\n",
       "      <th>Start Time Month</th>\n",
       "      <th>Start Time Day_of_month</th>\n",
       "    </tr>\n",
       "  </thead>\n",
       "  <tbody>\n",
       "    <tr>\n",
       "      <th>0</th>\n",
       "      <td>GeneralDiscussion</td>\n",
       "      <td>1.0</td>\n",
       "      <td>NaN</td>\n",
       "      <td>ID_0BK7TH</td>\n",
       "      <td>ID_AAGFVLHH_Month_12</td>\n",
       "      <td>19:48:26.862175</td>\n",
       "      <td>1.0</td>\n",
       "      <td>12</td>\n",
       "      <td>27.0</td>\n",
       "      <td>NaN</td>\n",
       "      <td>...</td>\n",
       "      <td>31.0</td>\n",
       "      <td>X9GR</td>\n",
       "      <td>22:59:00</td>\n",
       "      <td>1.0</td>\n",
       "      <td>2.0</td>\n",
       "      <td>3.0</td>\n",
       "      <td>22:59:00</td>\n",
       "      <td>1.0</td>\n",
       "      <td>12.0</td>\n",
       "      <td>28.0</td>\n",
       "    </tr>\n",
       "    <tr>\n",
       "      <th>1</th>\n",
       "      <td>GeneralDiscussion</td>\n",
       "      <td>1.0</td>\n",
       "      <td>NaN</td>\n",
       "      <td>ID_ZFJ9J7</td>\n",
       "      <td>ID_0AJGQILU_Month_12</td>\n",
       "      <td>09:37:52.039526</td>\n",
       "      <td>1.0</td>\n",
       "      <td>12</td>\n",
       "      <td>20.0</td>\n",
       "      <td>NaN</td>\n",
       "      <td>...</td>\n",
       "      <td>NaN</td>\n",
       "      <td>NaN</td>\n",
       "      <td>NaN</td>\n",
       "      <td>NaN</td>\n",
       "      <td>NaN</td>\n",
       "      <td>NaN</td>\n",
       "      <td>NaN</td>\n",
       "      <td>NaN</td>\n",
       "      <td>NaN</td>\n",
       "      <td>NaN</td>\n",
       "    </tr>\n",
       "    <tr>\n",
       "      <th>2</th>\n",
       "      <td>GeneralDiscussion</td>\n",
       "      <td>1.0</td>\n",
       "      <td>NaN</td>\n",
       "      <td>ID_ME45XX</td>\n",
       "      <td>ID_U90KK6KL_Month_2</td>\n",
       "      <td>17:50:33.894800</td>\n",
       "      <td>1.0</td>\n",
       "      <td>2</td>\n",
       "      <td>9.0</td>\n",
       "      <td>NaN</td>\n",
       "      <td>...</td>\n",
       "      <td>29.0</td>\n",
       "      <td>NaN</td>\n",
       "      <td>23:59:00</td>\n",
       "      <td>1.0</td>\n",
       "      <td>3.0</td>\n",
       "      <td>28.0</td>\n",
       "      <td>06:00:00</td>\n",
       "      <td>1.0</td>\n",
       "      <td>12.0</td>\n",
       "      <td>24.0</td>\n",
       "    </tr>\n",
       "    <tr>\n",
       "      <th>3</th>\n",
       "      <td>GeneralDiscussion</td>\n",
       "      <td>1.0</td>\n",
       "      <td>NaN</td>\n",
       "      <td>ID_ME45XX</td>\n",
       "      <td>ID_U90KK6KL_Month_2</td>\n",
       "      <td>17:50:33.894800</td>\n",
       "      <td>1.0</td>\n",
       "      <td>2</td>\n",
       "      <td>9.0</td>\n",
       "      <td>NaN</td>\n",
       "      <td>...</td>\n",
       "      <td>28.0</td>\n",
       "      <td>YSLJ</td>\n",
       "      <td>23:59:00</td>\n",
       "      <td>1.0</td>\n",
       "      <td>3.0</td>\n",
       "      <td>7.0</td>\n",
       "      <td>08:00:00</td>\n",
       "      <td>1.0</td>\n",
       "      <td>2.0</td>\n",
       "      <td>7.0</td>\n",
       "    </tr>\n",
       "    <tr>\n",
       "      <th>4</th>\n",
       "      <td>GeneralDiscussion</td>\n",
       "      <td>1.0</td>\n",
       "      <td>NaN</td>\n",
       "      <td>ID_ME45XX</td>\n",
       "      <td>ID_U90KK6KL_Month_2</td>\n",
       "      <td>17:50:33.894800</td>\n",
       "      <td>1.0</td>\n",
       "      <td>2</td>\n",
       "      <td>9.0</td>\n",
       "      <td>NaN</td>\n",
       "      <td>...</td>\n",
       "      <td>28.0</td>\n",
       "      <td>YSLJ</td>\n",
       "      <td>12:00:00</td>\n",
       "      <td>1.0</td>\n",
       "      <td>2.0</td>\n",
       "      <td>10.0</td>\n",
       "      <td>09:10:00</td>\n",
       "      <td>1.0</td>\n",
       "      <td>2.0</td>\n",
       "      <td>9.0</td>\n",
       "    </tr>\n",
       "    <tr>\n",
       "      <th>...</th>\n",
       "      <td>...</td>\n",
       "      <td>...</td>\n",
       "      <td>...</td>\n",
       "      <td>...</td>\n",
       "      <td>...</td>\n",
       "      <td>...</td>\n",
       "      <td>...</td>\n",
       "      <td>...</td>\n",
       "      <td>...</td>\n",
       "      <td>...</td>\n",
       "      <td>...</td>\n",
       "      <td>...</td>\n",
       "      <td>...</td>\n",
       "      <td>...</td>\n",
       "      <td>...</td>\n",
       "      <td>...</td>\n",
       "      <td>...</td>\n",
       "      <td>...</td>\n",
       "      <td>...</td>\n",
       "      <td>...</td>\n",
       "      <td>...</td>\n",
       "    </tr>\n",
       "    <tr>\n",
       "      <th>9922</th>\n",
       "      <td>NaN</td>\n",
       "      <td>NaN</td>\n",
       "      <td>NaN</td>\n",
       "      <td>NaN</td>\n",
       "      <td>ID_B3CQS9BQ_Month_3</td>\n",
       "      <td>NaN</td>\n",
       "      <td>NaN</td>\n",
       "      <td>&lt;NA&gt;</td>\n",
       "      <td>NaN</td>\n",
       "      <td>NaN</td>\n",
       "      <td>...</td>\n",
       "      <td>15.0</td>\n",
       "      <td>NaN</td>\n",
       "      <td>23:59:00</td>\n",
       "      <td>2.0</td>\n",
       "      <td>3.0</td>\n",
       "      <td>29.0</td>\n",
       "      <td>06:00:00</td>\n",
       "      <td>2.0</td>\n",
       "      <td>12.0</td>\n",
       "      <td>28.0</td>\n",
       "    </tr>\n",
       "    <tr>\n",
       "      <th>9923</th>\n",
       "      <td>NaN</td>\n",
       "      <td>NaN</td>\n",
       "      <td>NaN</td>\n",
       "      <td>NaN</td>\n",
       "      <td>ID_6RPFZR7I_Month_11</td>\n",
       "      <td>NaN</td>\n",
       "      <td>NaN</td>\n",
       "      <td>&lt;NA&gt;</td>\n",
       "      <td>NaN</td>\n",
       "      <td>NaN</td>\n",
       "      <td>...</td>\n",
       "      <td>9.0</td>\n",
       "      <td>NaN</td>\n",
       "      <td>00:00:00</td>\n",
       "      <td>3.0</td>\n",
       "      <td>11.0</td>\n",
       "      <td>20.0</td>\n",
       "      <td>00:00:00</td>\n",
       "      <td>3.0</td>\n",
       "      <td>8.0</td>\n",
       "      <td>16.0</td>\n",
       "    </tr>\n",
       "    <tr>\n",
       "      <th>9924</th>\n",
       "      <td>NaN</td>\n",
       "      <td>NaN</td>\n",
       "      <td>NaN</td>\n",
       "      <td>NaN</td>\n",
       "      <td>ID_YEZY3ABB_Month_1</td>\n",
       "      <td>NaN</td>\n",
       "      <td>NaN</td>\n",
       "      <td>&lt;NA&gt;</td>\n",
       "      <td>NaN</td>\n",
       "      <td>NaN</td>\n",
       "      <td>...</td>\n",
       "      <td>NaN</td>\n",
       "      <td>N6EN</td>\n",
       "      <td>23:59:00</td>\n",
       "      <td>3.0</td>\n",
       "      <td>12.0</td>\n",
       "      <td>17.0</td>\n",
       "      <td>00:00:00</td>\n",
       "      <td>4.0</td>\n",
       "      <td>7.0</td>\n",
       "      <td>2.0</td>\n",
       "    </tr>\n",
       "    <tr>\n",
       "      <th>9925</th>\n",
       "      <td>NaN</td>\n",
       "      <td>NaN</td>\n",
       "      <td>NaN</td>\n",
       "      <td>NaN</td>\n",
       "      <td>ID_GS03UEEX_Month_4</td>\n",
       "      <td>NaN</td>\n",
       "      <td>NaN</td>\n",
       "      <td>&lt;NA&gt;</td>\n",
       "      <td>NaN</td>\n",
       "      <td>NaN</td>\n",
       "      <td>...</td>\n",
       "      <td>17.0</td>\n",
       "      <td>4PRY</td>\n",
       "      <td>00:00:00</td>\n",
       "      <td>3.0</td>\n",
       "      <td>9.0</td>\n",
       "      <td>17.0</td>\n",
       "      <td>00:00:00</td>\n",
       "      <td>4.0</td>\n",
       "      <td>5.0</td>\n",
       "      <td>18.0</td>\n",
       "    </tr>\n",
       "    <tr>\n",
       "      <th>9926</th>\n",
       "      <td>NaN</td>\n",
       "      <td>NaN</td>\n",
       "      <td>NaN</td>\n",
       "      <td>NaN</td>\n",
       "      <td>ID_1CY5JAGU_Month_4</td>\n",
       "      <td>NaN</td>\n",
       "      <td>NaN</td>\n",
       "      <td>&lt;NA&gt;</td>\n",
       "      <td>NaN</td>\n",
       "      <td>NaN</td>\n",
       "      <td>...</td>\n",
       "      <td>10.0</td>\n",
       "      <td>G3F0</td>\n",
       "      <td>23:59:00</td>\n",
       "      <td>3.0</td>\n",
       "      <td>6.0</td>\n",
       "      <td>29.0</td>\n",
       "      <td>06:00:00</td>\n",
       "      <td>3.0</td>\n",
       "      <td>4.0</td>\n",
       "      <td>11.0</td>\n",
       "    </tr>\n",
       "  </tbody>\n",
       "</table>\n",
       "<p>9927 rows × 35 columns</p>\n",
       "</div>"
      ],
      "text/plain": [
       "         Competition ID  Personal  Theme    Disc_ID               User_ID  \\\n",
       "0     GeneralDiscussion       1.0    NaN  ID_0BK7TH  ID_AAGFVLHH_Month_12   \n",
       "1     GeneralDiscussion       1.0    NaN  ID_ZFJ9J7  ID_0AJGQILU_Month_12   \n",
       "2     GeneralDiscussion       1.0    NaN  ID_ME45XX   ID_U90KK6KL_Month_2   \n",
       "3     GeneralDiscussion       1.0    NaN  ID_ME45XX   ID_U90KK6KL_Month_2   \n",
       "4     GeneralDiscussion       1.0    NaN  ID_ME45XX   ID_U90KK6KL_Month_2   \n",
       "...                 ...       ...    ...        ...                   ...   \n",
       "9922                NaN       NaN    NaN        NaN   ID_B3CQS9BQ_Month_3   \n",
       "9923                NaN       NaN    NaN        NaN  ID_6RPFZR7I_Month_11   \n",
       "9924                NaN       NaN    NaN        NaN   ID_YEZY3ABB_Month_1   \n",
       "9925                NaN       NaN    NaN        NaN   ID_GS03UEEX_Month_4   \n",
       "9926                NaN       NaN    NaN        NaN   ID_1CY5JAGU_Month_4   \n",
       "\n",
       "      Discussion_time  Discussion_year Discussion_month  Discussion_day  \\\n",
       "0     19:48:26.862175              1.0               12            27.0   \n",
       "1     09:37:52.039526              1.0               12            20.0   \n",
       "2     17:50:33.894800              1.0                2             9.0   \n",
       "3     17:50:33.894800              1.0                2             9.0   \n",
       "4     17:50:33.894800              1.0                2             9.0   \n",
       "...               ...              ...              ...             ...   \n",
       "9922              NaN              NaN             <NA>             NaN   \n",
       "9923              NaN              NaN             <NA>             NaN   \n",
       "9924              NaN              NaN             <NA>             NaN   \n",
       "9925              NaN              NaN             <NA>             NaN   \n",
       "9926              NaN              NaN             <NA>             NaN   \n",
       "\n",
       "     comment_time  ...  FeatureI Country_ID  End Time time End Time Year  \\\n",
       "0             NaN  ...      31.0       X9GR       22:59:00           1.0   \n",
       "1             NaN  ...       NaN        NaN            NaN           NaN   \n",
       "2             NaN  ...      29.0        NaN       23:59:00           1.0   \n",
       "3             NaN  ...      28.0       YSLJ       23:59:00           1.0   \n",
       "4             NaN  ...      28.0       YSLJ       12:00:00           1.0   \n",
       "...           ...  ...       ...        ...            ...           ...   \n",
       "9922          NaN  ...      15.0        NaN       23:59:00           2.0   \n",
       "9923          NaN  ...       9.0        NaN       00:00:00           3.0   \n",
       "9924          NaN  ...       NaN       N6EN       23:59:00           3.0   \n",
       "9925          NaN  ...      17.0       4PRY       00:00:00           3.0   \n",
       "9926          NaN  ...      10.0       G3F0       23:59:00           3.0   \n",
       "\n",
       "     End Time Month  End Time Day_of_month Start Time time Start Time Year  \\\n",
       "0               2.0                    3.0        22:59:00             1.0   \n",
       "1               NaN                    NaN             NaN             NaN   \n",
       "2               3.0                   28.0        06:00:00             1.0   \n",
       "3               3.0                    7.0        08:00:00             1.0   \n",
       "4               2.0                   10.0        09:10:00             1.0   \n",
       "...             ...                    ...             ...             ...   \n",
       "9922            3.0                   29.0        06:00:00             2.0   \n",
       "9923           11.0                   20.0        00:00:00             3.0   \n",
       "9924           12.0                   17.0        00:00:00             4.0   \n",
       "9925            9.0                   17.0        00:00:00             4.0   \n",
       "9926            6.0                   29.0        06:00:00             3.0   \n",
       "\n",
       "      Start Time Month  Start Time Day_of_month  \n",
       "0                 12.0                     28.0  \n",
       "1                  NaN                      NaN  \n",
       "2                 12.0                     24.0  \n",
       "3                  2.0                      7.0  \n",
       "4                  2.0                      9.0  \n",
       "...                ...                      ...  \n",
       "9922              12.0                     28.0  \n",
       "9923               8.0                     16.0  \n",
       "9924               7.0                      2.0  \n",
       "9925               5.0                     18.0  \n",
       "9926               4.0                     11.0  \n",
       "\n",
       "[9927 rows x 35 columns]"
      ]
     },
     "execution_count": 86,
     "metadata": {},
     "output_type": "execute_result"
    }
   ],
   "source": [
    "result4"
   ]
  },
  {
   "cell_type": "code",
   "execution_count": 87,
   "id": "27b744f1",
   "metadata": {},
   "outputs": [],
   "source": [
    "result4.rename(columns={'Created At time_y': 'comment_time'},  inplace = True)"
   ]
  },
  {
   "cell_type": "code",
   "execution_count": 88,
   "id": "be81c450",
   "metadata": {},
   "outputs": [],
   "source": [
    "result4.rename(columns={'Created At Day_of_month_y': 'comment_month'},  inplace = True)"
   ]
  },
  {
   "cell_type": "code",
   "execution_count": 89,
   "id": "6d97d41b",
   "metadata": {},
   "outputs": [],
   "source": [
    "result4.rename(columns={'End Time time': 'competition_ended_time'},  inplace = True)"
   ]
  },
  {
   "cell_type": "code",
   "execution_count": 90,
   "id": "144c2644",
   "metadata": {},
   "outputs": [],
   "source": [
    "result4.rename(columns={'End Time Year': 'competition_ended_year'},  inplace = True)"
   ]
  },
  {
   "cell_type": "code",
   "execution_count": 91,
   "id": "a4f6df9d",
   "metadata": {},
   "outputs": [],
   "source": [
    "result4.rename(columns={'End Time Month': 'competition_ended_month'},  inplace = True)"
   ]
  },
  {
   "cell_type": "code",
   "execution_count": 92,
   "id": "8613dfa6",
   "metadata": {},
   "outputs": [],
   "source": [
    "result4.rename(columns={'End Time Day_of_month': 'competition_ended_day'},  inplace = True)"
   ]
  },
  {
   "cell_type": "code",
   "execution_count": 93,
   "id": "5bb8beb7",
   "metadata": {},
   "outputs": [],
   "source": [
    "result4.rename(columns={'Start Time time': 'competition_started_time'},  inplace = True)"
   ]
  },
  {
   "cell_type": "code",
   "execution_count": 94,
   "id": "f1a5cce5",
   "metadata": {},
   "outputs": [],
   "source": [
    "result4.rename(columns={'Start Time Year': 'competition_started_year'},  inplace = True)"
   ]
  },
  {
   "cell_type": "code",
   "execution_count": 95,
   "id": "42e88248",
   "metadata": {},
   "outputs": [],
   "source": [
    "result4.rename(columns={'Start Time Month': 'competition_started_month'},  inplace = True)"
   ]
  },
  {
   "cell_type": "code",
   "execution_count": 96,
   "id": "39d441ea",
   "metadata": {},
   "outputs": [],
   "source": [
    "result4.rename(columns={'Start Time Day_of_month': 'competition_started_day'},  inplace = True)"
   ]
  },
  {
   "cell_type": "code",
   "execution_count": 97,
   "id": "de25db44",
   "metadata": {},
   "outputs": [],
   "source": [
    "result4.rename(columns={'Created At Day_of_month': 'competition_enrollment_day'},  inplace = True)"
   ]
  },
  {
   "cell_type": "code",
   "execution_count": 98,
   "id": "ed284bc3",
   "metadata": {},
   "outputs": [],
   "source": [
    "result4.rename(columns={'Created At time': 'competition_enrollment_time'},  inplace = True)"
   ]
  },
  {
   "cell_type": "code",
   "execution_count": 99,
   "id": "fc7579ff",
   "metadata": {},
   "outputs": [],
   "source": [
    "result4.drop('Discussion_year', inplace=True, axis=1)"
   ]
  },
  {
   "cell_type": "code",
   "execution_count": 100,
   "id": "41abac90",
   "metadata": {},
   "outputs": [],
   "source": [
    "result4.drop('Discussion_month', inplace=True, axis=1)"
   ]
  },
  {
   "cell_type": "code",
   "execution_count": 101,
   "id": "1a03d171",
   "metadata": {},
   "outputs": [
    {
     "name": "stdout",
     "output_type": "stream",
     "text": [
      "<class 'pandas.core.frame.DataFrame'>\n",
      "Int64Index: 9927 entries, 0 to 9926\n",
      "Data columns (total 33 columns):\n",
      " #   Column                       Non-Null Count  Dtype  \n",
      "---  ------                       --------------  -----  \n",
      " 0   Competition ID               2305 non-null   object \n",
      " 1   Personal                     2305 non-null   float64\n",
      " 2   Theme                        272 non-null    float64\n",
      " 3   Disc_ID                      2891 non-null   object \n",
      " 4   User_ID                      9927 non-null   string \n",
      " 5   Discussion_time              2305 non-null   object \n",
      " 6   Discussion_day               2305 non-null   float64\n",
      " 7   comment_time                 708 non-null    object \n",
      " 8   comment_day                  708 non-null    float64\n",
      " 9   Comp_ID                      9300 non-null   object \n",
      " 10  Participant Type             9300 non-null   float64\n",
      " 11  Successful Submission Count  1813 non-null   object \n",
      " 12  competition_enrollment_time  9300 non-null   object \n",
      " 13  competition_enrollment_day   9300 non-null   float64\n",
      " 14  FeatureA                     9300 non-null   object \n",
      " 15  FeatureB                     9300 non-null   object \n",
      " 16  FeatureC                     6155 non-null   float64\n",
      " 17  FeatureD                     9300 non-null   float64\n",
      " 18  FeatureE                     9300 non-null   float64\n",
      " 19  SecretCode                   9300 non-null   float64\n",
      " 20  FeatureF                     9300 non-null   object \n",
      " 21  FeatureG                     9300 non-null   object \n",
      " 22  FeatureH                     9300 non-null   object \n",
      " 23  FeatureI                     7964 non-null   float64\n",
      " 24  Country_ID                   4565 non-null   object \n",
      " 25  competition_ended_time       7086 non-null   object \n",
      " 26  competition_ended_year       7086 non-null   float64\n",
      " 27  competition_ended_month      7086 non-null   float64\n",
      " 28  competition_ended_day        7086 non-null   float64\n",
      " 29  competition_started_time     9300 non-null   object \n",
      " 30  competition_started_year     9300 non-null   float64\n",
      " 31  competition_started_month    9300 non-null   float64\n",
      " 32  competition_started_day      9300 non-null   float64\n",
      "dtypes: float64(17), object(15), string(1)\n",
      "memory usage: 2.6+ MB\n"
     ]
    }
   ],
   "source": [
    "result4.info()"
   ]
  },
  {
   "cell_type": "code",
   "execution_count": 102,
   "id": "4935f6c1",
   "metadata": {},
   "outputs": [
    {
     "data": {
      "text/html": [
       "<div>\n",
       "<style scoped>\n",
       "    .dataframe tbody tr th:only-of-type {\n",
       "        vertical-align: middle;\n",
       "    }\n",
       "\n",
       "    .dataframe tbody tr th {\n",
       "        vertical-align: top;\n",
       "    }\n",
       "\n",
       "    .dataframe thead th {\n",
       "        text-align: right;\n",
       "    }\n",
       "</style>\n",
       "<table border=\"1\" class=\"dataframe\">\n",
       "  <thead>\n",
       "    <tr style=\"text-align: right;\">\n",
       "      <th></th>\n",
       "      <th>Competition ID</th>\n",
       "      <th>Personal</th>\n",
       "      <th>Theme</th>\n",
       "      <th>Disc_ID</th>\n",
       "      <th>User_ID</th>\n",
       "      <th>Discussion_time</th>\n",
       "      <th>Discussion_day</th>\n",
       "      <th>comment_time</th>\n",
       "      <th>comment_day</th>\n",
       "      <th>Comp_ID</th>\n",
       "      <th>...</th>\n",
       "      <th>FeatureI</th>\n",
       "      <th>Country_ID</th>\n",
       "      <th>competition_ended_time</th>\n",
       "      <th>competition_ended_year</th>\n",
       "      <th>competition_ended_month</th>\n",
       "      <th>competition_ended_day</th>\n",
       "      <th>competition_started_time</th>\n",
       "      <th>competition_started_year</th>\n",
       "      <th>competition_started_month</th>\n",
       "      <th>competition_started_day</th>\n",
       "    </tr>\n",
       "  </thead>\n",
       "  <tbody>\n",
       "    <tr>\n",
       "      <th>0</th>\n",
       "      <td>GeneralDiscussion</td>\n",
       "      <td>1.0</td>\n",
       "      <td>NaN</td>\n",
       "      <td>ID_0BK7TH</td>\n",
       "      <td>ID_AAGFVLHH_Month_12</td>\n",
       "      <td>19:48:26.862175</td>\n",
       "      <td>27.0</td>\n",
       "      <td>NaN</td>\n",
       "      <td>NaN</td>\n",
       "      <td>ID_528W</td>\n",
       "      <td>...</td>\n",
       "      <td>31.0</td>\n",
       "      <td>X9GR</td>\n",
       "      <td>22:59:00</td>\n",
       "      <td>1.0</td>\n",
       "      <td>2.0</td>\n",
       "      <td>3.0</td>\n",
       "      <td>22:59:00</td>\n",
       "      <td>1.0</td>\n",
       "      <td>12.0</td>\n",
       "      <td>28.0</td>\n",
       "    </tr>\n",
       "    <tr>\n",
       "      <th>1</th>\n",
       "      <td>GeneralDiscussion</td>\n",
       "      <td>1.0</td>\n",
       "      <td>NaN</td>\n",
       "      <td>ID_ZFJ9J7</td>\n",
       "      <td>ID_0AJGQILU_Month_12</td>\n",
       "      <td>09:37:52.039526</td>\n",
       "      <td>20.0</td>\n",
       "      <td>NaN</td>\n",
       "      <td>NaN</td>\n",
       "      <td>NaN</td>\n",
       "      <td>...</td>\n",
       "      <td>NaN</td>\n",
       "      <td>NaN</td>\n",
       "      <td>NaN</td>\n",
       "      <td>NaN</td>\n",
       "      <td>NaN</td>\n",
       "      <td>NaN</td>\n",
       "      <td>NaN</td>\n",
       "      <td>NaN</td>\n",
       "      <td>NaN</td>\n",
       "      <td>NaN</td>\n",
       "    </tr>\n",
       "    <tr>\n",
       "      <th>2</th>\n",
       "      <td>GeneralDiscussion</td>\n",
       "      <td>1.0</td>\n",
       "      <td>NaN</td>\n",
       "      <td>ID_ME45XX</td>\n",
       "      <td>ID_U90KK6KL_Month_2</td>\n",
       "      <td>17:50:33.894800</td>\n",
       "      <td>9.0</td>\n",
       "      <td>NaN</td>\n",
       "      <td>NaN</td>\n",
       "      <td>ID_JRC2</td>\n",
       "      <td>...</td>\n",
       "      <td>29.0</td>\n",
       "      <td>NaN</td>\n",
       "      <td>23:59:00</td>\n",
       "      <td>1.0</td>\n",
       "      <td>3.0</td>\n",
       "      <td>28.0</td>\n",
       "      <td>06:00:00</td>\n",
       "      <td>1.0</td>\n",
       "      <td>12.0</td>\n",
       "      <td>24.0</td>\n",
       "    </tr>\n",
       "    <tr>\n",
       "      <th>3</th>\n",
       "      <td>GeneralDiscussion</td>\n",
       "      <td>1.0</td>\n",
       "      <td>NaN</td>\n",
       "      <td>ID_ME45XX</td>\n",
       "      <td>ID_U90KK6KL_Month_2</td>\n",
       "      <td>17:50:33.894800</td>\n",
       "      <td>9.0</td>\n",
       "      <td>NaN</td>\n",
       "      <td>NaN</td>\n",
       "      <td>ID_7CF2</td>\n",
       "      <td>...</td>\n",
       "      <td>28.0</td>\n",
       "      <td>YSLJ</td>\n",
       "      <td>23:59:00</td>\n",
       "      <td>1.0</td>\n",
       "      <td>3.0</td>\n",
       "      <td>7.0</td>\n",
       "      <td>08:00:00</td>\n",
       "      <td>1.0</td>\n",
       "      <td>2.0</td>\n",
       "      <td>7.0</td>\n",
       "    </tr>\n",
       "    <tr>\n",
       "      <th>4</th>\n",
       "      <td>GeneralDiscussion</td>\n",
       "      <td>1.0</td>\n",
       "      <td>NaN</td>\n",
       "      <td>ID_ME45XX</td>\n",
       "      <td>ID_U90KK6KL_Month_2</td>\n",
       "      <td>17:50:33.894800</td>\n",
       "      <td>9.0</td>\n",
       "      <td>NaN</td>\n",
       "      <td>NaN</td>\n",
       "      <td>ID_45W9</td>\n",
       "      <td>...</td>\n",
       "      <td>28.0</td>\n",
       "      <td>YSLJ</td>\n",
       "      <td>12:00:00</td>\n",
       "      <td>1.0</td>\n",
       "      <td>2.0</td>\n",
       "      <td>10.0</td>\n",
       "      <td>09:10:00</td>\n",
       "      <td>1.0</td>\n",
       "      <td>2.0</td>\n",
       "      <td>9.0</td>\n",
       "    </tr>\n",
       "    <tr>\n",
       "      <th>...</th>\n",
       "      <td>...</td>\n",
       "      <td>...</td>\n",
       "      <td>...</td>\n",
       "      <td>...</td>\n",
       "      <td>...</td>\n",
       "      <td>...</td>\n",
       "      <td>...</td>\n",
       "      <td>...</td>\n",
       "      <td>...</td>\n",
       "      <td>...</td>\n",
       "      <td>...</td>\n",
       "      <td>...</td>\n",
       "      <td>...</td>\n",
       "      <td>...</td>\n",
       "      <td>...</td>\n",
       "      <td>...</td>\n",
       "      <td>...</td>\n",
       "      <td>...</td>\n",
       "      <td>...</td>\n",
       "      <td>...</td>\n",
       "      <td>...</td>\n",
       "    </tr>\n",
       "    <tr>\n",
       "      <th>9922</th>\n",
       "      <td>NaN</td>\n",
       "      <td>NaN</td>\n",
       "      <td>NaN</td>\n",
       "      <td>NaN</td>\n",
       "      <td>ID_B3CQS9BQ_Month_3</td>\n",
       "      <td>NaN</td>\n",
       "      <td>NaN</td>\n",
       "      <td>NaN</td>\n",
       "      <td>NaN</td>\n",
       "      <td>ID_UCC7</td>\n",
       "      <td>...</td>\n",
       "      <td>15.0</td>\n",
       "      <td>NaN</td>\n",
       "      <td>23:59:00</td>\n",
       "      <td>2.0</td>\n",
       "      <td>3.0</td>\n",
       "      <td>29.0</td>\n",
       "      <td>06:00:00</td>\n",
       "      <td>2.0</td>\n",
       "      <td>12.0</td>\n",
       "      <td>28.0</td>\n",
       "    </tr>\n",
       "    <tr>\n",
       "      <th>9923</th>\n",
       "      <td>NaN</td>\n",
       "      <td>NaN</td>\n",
       "      <td>NaN</td>\n",
       "      <td>NaN</td>\n",
       "      <td>ID_6RPFZR7I_Month_11</td>\n",
       "      <td>NaN</td>\n",
       "      <td>NaN</td>\n",
       "      <td>NaN</td>\n",
       "      <td>NaN</td>\n",
       "      <td>ID_CNBR</td>\n",
       "      <td>...</td>\n",
       "      <td>9.0</td>\n",
       "      <td>NaN</td>\n",
       "      <td>00:00:00</td>\n",
       "      <td>3.0</td>\n",
       "      <td>11.0</td>\n",
       "      <td>20.0</td>\n",
       "      <td>00:00:00</td>\n",
       "      <td>3.0</td>\n",
       "      <td>8.0</td>\n",
       "      <td>16.0</td>\n",
       "    </tr>\n",
       "    <tr>\n",
       "      <th>9924</th>\n",
       "      <td>NaN</td>\n",
       "      <td>NaN</td>\n",
       "      <td>NaN</td>\n",
       "      <td>NaN</td>\n",
       "      <td>ID_YEZY3ABB_Month_1</td>\n",
       "      <td>NaN</td>\n",
       "      <td>NaN</td>\n",
       "      <td>NaN</td>\n",
       "      <td>NaN</td>\n",
       "      <td>ID_208Z</td>\n",
       "      <td>...</td>\n",
       "      <td>NaN</td>\n",
       "      <td>N6EN</td>\n",
       "      <td>23:59:00</td>\n",
       "      <td>3.0</td>\n",
       "      <td>12.0</td>\n",
       "      <td>17.0</td>\n",
       "      <td>00:00:00</td>\n",
       "      <td>4.0</td>\n",
       "      <td>7.0</td>\n",
       "      <td>2.0</td>\n",
       "    </tr>\n",
       "    <tr>\n",
       "      <th>9925</th>\n",
       "      <td>NaN</td>\n",
       "      <td>NaN</td>\n",
       "      <td>NaN</td>\n",
       "      <td>NaN</td>\n",
       "      <td>ID_GS03UEEX_Month_4</td>\n",
       "      <td>NaN</td>\n",
       "      <td>NaN</td>\n",
       "      <td>NaN</td>\n",
       "      <td>NaN</td>\n",
       "      <td>ID_H3QQ</td>\n",
       "      <td>...</td>\n",
       "      <td>17.0</td>\n",
       "      <td>4PRY</td>\n",
       "      <td>00:00:00</td>\n",
       "      <td>3.0</td>\n",
       "      <td>9.0</td>\n",
       "      <td>17.0</td>\n",
       "      <td>00:00:00</td>\n",
       "      <td>4.0</td>\n",
       "      <td>5.0</td>\n",
       "      <td>18.0</td>\n",
       "    </tr>\n",
       "    <tr>\n",
       "      <th>9926</th>\n",
       "      <td>NaN</td>\n",
       "      <td>NaN</td>\n",
       "      <td>NaN</td>\n",
       "      <td>NaN</td>\n",
       "      <td>ID_1CY5JAGU_Month_4</td>\n",
       "      <td>NaN</td>\n",
       "      <td>NaN</td>\n",
       "      <td>NaN</td>\n",
       "      <td>NaN</td>\n",
       "      <td>ID_7079</td>\n",
       "      <td>...</td>\n",
       "      <td>10.0</td>\n",
       "      <td>G3F0</td>\n",
       "      <td>23:59:00</td>\n",
       "      <td>3.0</td>\n",
       "      <td>6.0</td>\n",
       "      <td>29.0</td>\n",
       "      <td>06:00:00</td>\n",
       "      <td>3.0</td>\n",
       "      <td>4.0</td>\n",
       "      <td>11.0</td>\n",
       "    </tr>\n",
       "  </tbody>\n",
       "</table>\n",
       "<p>9927 rows × 33 columns</p>\n",
       "</div>"
      ],
      "text/plain": [
       "         Competition ID  Personal  Theme    Disc_ID               User_ID  \\\n",
       "0     GeneralDiscussion       1.0    NaN  ID_0BK7TH  ID_AAGFVLHH_Month_12   \n",
       "1     GeneralDiscussion       1.0    NaN  ID_ZFJ9J7  ID_0AJGQILU_Month_12   \n",
       "2     GeneralDiscussion       1.0    NaN  ID_ME45XX   ID_U90KK6KL_Month_2   \n",
       "3     GeneralDiscussion       1.0    NaN  ID_ME45XX   ID_U90KK6KL_Month_2   \n",
       "4     GeneralDiscussion       1.0    NaN  ID_ME45XX   ID_U90KK6KL_Month_2   \n",
       "...                 ...       ...    ...        ...                   ...   \n",
       "9922                NaN       NaN    NaN        NaN   ID_B3CQS9BQ_Month_3   \n",
       "9923                NaN       NaN    NaN        NaN  ID_6RPFZR7I_Month_11   \n",
       "9924                NaN       NaN    NaN        NaN   ID_YEZY3ABB_Month_1   \n",
       "9925                NaN       NaN    NaN        NaN   ID_GS03UEEX_Month_4   \n",
       "9926                NaN       NaN    NaN        NaN   ID_1CY5JAGU_Month_4   \n",
       "\n",
       "      Discussion_time  Discussion_day comment_time  comment_day  Comp_ID  ...  \\\n",
       "0     19:48:26.862175            27.0          NaN          NaN  ID_528W  ...   \n",
       "1     09:37:52.039526            20.0          NaN          NaN      NaN  ...   \n",
       "2     17:50:33.894800             9.0          NaN          NaN  ID_JRC2  ...   \n",
       "3     17:50:33.894800             9.0          NaN          NaN  ID_7CF2  ...   \n",
       "4     17:50:33.894800             9.0          NaN          NaN  ID_45W9  ...   \n",
       "...               ...             ...          ...          ...      ...  ...   \n",
       "9922              NaN             NaN          NaN          NaN  ID_UCC7  ...   \n",
       "9923              NaN             NaN          NaN          NaN  ID_CNBR  ...   \n",
       "9924              NaN             NaN          NaN          NaN  ID_208Z  ...   \n",
       "9925              NaN             NaN          NaN          NaN  ID_H3QQ  ...   \n",
       "9926              NaN             NaN          NaN          NaN  ID_7079  ...   \n",
       "\n",
       "      FeatureI Country_ID competition_ended_time  competition_ended_year  \\\n",
       "0         31.0       X9GR               22:59:00                     1.0   \n",
       "1          NaN        NaN                    NaN                     NaN   \n",
       "2         29.0        NaN               23:59:00                     1.0   \n",
       "3         28.0       YSLJ               23:59:00                     1.0   \n",
       "4         28.0       YSLJ               12:00:00                     1.0   \n",
       "...        ...        ...                    ...                     ...   \n",
       "9922      15.0        NaN               23:59:00                     2.0   \n",
       "9923       9.0        NaN               00:00:00                     3.0   \n",
       "9924       NaN       N6EN               23:59:00                     3.0   \n",
       "9925      17.0       4PRY               00:00:00                     3.0   \n",
       "9926      10.0       G3F0               23:59:00                     3.0   \n",
       "\n",
       "     competition_ended_month competition_ended_day  competition_started_time  \\\n",
       "0                        2.0                   3.0                  22:59:00   \n",
       "1                        NaN                   NaN                       NaN   \n",
       "2                        3.0                  28.0                  06:00:00   \n",
       "3                        3.0                   7.0                  08:00:00   \n",
       "4                        2.0                  10.0                  09:10:00   \n",
       "...                      ...                   ...                       ...   \n",
       "9922                     3.0                  29.0                  06:00:00   \n",
       "9923                    11.0                  20.0                  00:00:00   \n",
       "9924                    12.0                  17.0                  00:00:00   \n",
       "9925                     9.0                  17.0                  00:00:00   \n",
       "9926                     6.0                  29.0                  06:00:00   \n",
       "\n",
       "      competition_started_year  competition_started_month  \\\n",
       "0                          1.0                       12.0   \n",
       "1                          NaN                        NaN   \n",
       "2                          1.0                       12.0   \n",
       "3                          1.0                        2.0   \n",
       "4                          1.0                        2.0   \n",
       "...                        ...                        ...   \n",
       "9922                       2.0                       12.0   \n",
       "9923                       3.0                        8.0   \n",
       "9924                       4.0                        7.0   \n",
       "9925                       4.0                        5.0   \n",
       "9926                       3.0                        4.0   \n",
       "\n",
       "      competition_started_day  \n",
       "0                        28.0  \n",
       "1                         NaN  \n",
       "2                        24.0  \n",
       "3                         7.0  \n",
       "4                         9.0  \n",
       "...                       ...  \n",
       "9922                     28.0  \n",
       "9923                     16.0  \n",
       "9924                      2.0  \n",
       "9925                     18.0  \n",
       "9926                     11.0  \n",
       "\n",
       "[9927 rows x 33 columns]"
      ]
     },
     "execution_count": 102,
     "metadata": {},
     "output_type": "execute_result"
    }
   ],
   "source": [
    "result4"
   ]
  },
  {
   "cell_type": "markdown",
   "id": "9fce6837",
   "metadata": {},
   "source": [
    "# MERGE 5"
   ]
  },
  {
   "cell_type": "code",
   "execution_count": 103,
   "id": "96c1ecbc",
   "metadata": {},
   "outputs": [],
   "source": [
    "df_final = pd.merge(result4, result3, how=\"outer\", on= 'User_ID')"
   ]
  },
  {
   "cell_type": "code",
   "execution_count": 104,
   "id": "00f20228",
   "metadata": {},
   "outputs": [],
   "source": [
    "df_final.drop('Competition ID', inplace=True, axis=1)"
   ]
  },
  {
   "cell_type": "code",
   "execution_count": 105,
   "id": "9c523d52",
   "metadata": {},
   "outputs": [],
   "source": [
    "df_final.drop('Disc_ID', inplace=True, axis=1)"
   ]
  },
  {
   "cell_type": "code",
   "execution_count": 106,
   "id": "73eeae88",
   "metadata": {},
   "outputs": [],
   "source": [
    "df_final.drop('Comp_ID', inplace=True, axis=1)"
   ]
  },
  {
   "cell_type": "code",
   "execution_count": 107,
   "id": "dc2bab79",
   "metadata": {},
   "outputs": [
    {
     "data": {
      "text/plain": [
       "array(['X9GR', nan, 'YSLJ', 'G3F0', 'GYYX', '03GB', 'ZEWU', 'DYYF',\n",
       "       'KYT4', 'ISIQ', 'N6EN', 'EGI9', 'H03V', 'SE4K', '4PRY'],\n",
       "      dtype=object)"
      ]
     },
     "execution_count": 107,
     "metadata": {},
     "output_type": "execute_result"
    }
   ],
   "source": [
    "df_final[\"Country_ID\"].unique()"
   ]
  },
  {
   "cell_type": "code",
   "execution_count": 108,
   "id": "701af5b7",
   "metadata": {},
   "outputs": [],
   "source": [
    "df_final.drop('Countries_ID', inplace=True, axis=1)"
   ]
  },
  {
   "cell_type": "code",
   "execution_count": 109,
   "id": "a9fba33d",
   "metadata": {},
   "outputs": [],
   "source": [
    "first_column = df_final.pop('User_ID')"
   ]
  },
  {
   "cell_type": "code",
   "execution_count": 110,
   "id": "5bbeaa82",
   "metadata": {},
   "outputs": [],
   "source": [
    "df_final.insert(0, 'User_ID', first_column)"
   ]
  },
  {
   "cell_type": "code",
   "execution_count": 111,
   "id": "06cbe88c",
   "metadata": {},
   "outputs": [
    {
     "name": "stdout",
     "output_type": "stream",
     "text": [
      "<class 'pandas.core.frame.DataFrame'>\n",
      "Int64Index: 21002 entries, 0 to 21001\n",
      "Data columns (total 38 columns):\n",
      " #   Column                       Non-Null Count  Dtype  \n",
      "---  ------                       --------------  -----  \n",
      " 0   User_ID                      21002 non-null  object \n",
      " 1   Personal                     2305 non-null   float64\n",
      " 2   Theme                        272 non-null    float64\n",
      " 3   Discussion_time              2305 non-null   object \n",
      " 4   Discussion_day               2305 non-null   float64\n",
      " 5   comment_time                 708 non-null    object \n",
      " 6   comment_day                  708 non-null    float64\n",
      " 7   Participant Type             9300 non-null   float64\n",
      " 8   Successful Submission Count  1813 non-null   object \n",
      " 9   competition_enrollment_time  9300 non-null   object \n",
      " 10  competition_enrollment_day   9300 non-null   float64\n",
      " 11  FeatureA                     9300 non-null   object \n",
      " 12  FeatureB                     9300 non-null   object \n",
      " 13  FeatureC                     6155 non-null   float64\n",
      " 14  FeatureD                     9300 non-null   float64\n",
      " 15  FeatureE                     9300 non-null   float64\n",
      " 16  SecretCode                   9300 non-null   float64\n",
      " 17  FeatureF                     9300 non-null   object \n",
      " 18  FeatureG                     9300 non-null   object \n",
      " 19  FeatureH                     9300 non-null   object \n",
      " 20  FeatureI                     7964 non-null   float64\n",
      " 21  Country_ID                   4565 non-null   object \n",
      " 22  competition_ended_time       7086 non-null   object \n",
      " 23  competition_ended_year       7086 non-null   float64\n",
      " 24  competition_ended_month      7086 non-null   float64\n",
      " 25  competition_ended_day        7086 non-null   float64\n",
      " 26  competition_started_time     9300 non-null   object \n",
      " 27  competition_started_year     9300 non-null   float64\n",
      " 28  competition_started_month    9300 non-null   float64\n",
      " 29  competition_started_day      9300 non-null   float64\n",
      " 30  datetime time                18018 non-null  object \n",
      " 31  datetime Day_of_month        18018 non-null  float64\n",
      " 32  count_UA                     18018 non-null  float64\n",
      " 33  FeatureX                     14729 non-null  float64\n",
      " 34  FeatureY                     14729 non-null  float64\n",
      " 35  User sign-in time            14729 non-null  object \n",
      " 36  User sign-in month           14729 non-null  string \n",
      " 37  User sign-in day             14729 non-null  float64\n",
      "dtypes: float64(22), object(15), string(1)\n",
      "memory usage: 6.2+ MB\n"
     ]
    }
   ],
   "source": [
    "df_final.info()"
   ]
  },
  {
   "cell_type": "code",
   "execution_count": 112,
   "id": "217f2886",
   "metadata": {},
   "outputs": [
    {
     "data": {
      "text/html": [
       "<div>\n",
       "<style scoped>\n",
       "    .dataframe tbody tr th:only-of-type {\n",
       "        vertical-align: middle;\n",
       "    }\n",
       "\n",
       "    .dataframe tbody tr th {\n",
       "        vertical-align: top;\n",
       "    }\n",
       "\n",
       "    .dataframe thead th {\n",
       "        text-align: right;\n",
       "    }\n",
       "</style>\n",
       "<table border=\"1\" class=\"dataframe\">\n",
       "  <thead>\n",
       "    <tr style=\"text-align: right;\">\n",
       "      <th></th>\n",
       "      <th>User_ID</th>\n",
       "      <th>Personal</th>\n",
       "      <th>Theme</th>\n",
       "      <th>Discussion_time</th>\n",
       "      <th>Discussion_day</th>\n",
       "      <th>comment_time</th>\n",
       "      <th>comment_day</th>\n",
       "      <th>Participant Type</th>\n",
       "      <th>Successful Submission Count</th>\n",
       "      <th>competition_enrollment_time</th>\n",
       "      <th>...</th>\n",
       "      <th>competition_started_month</th>\n",
       "      <th>competition_started_day</th>\n",
       "      <th>datetime time</th>\n",
       "      <th>datetime Day_of_month</th>\n",
       "      <th>count_UA</th>\n",
       "      <th>FeatureX</th>\n",
       "      <th>FeatureY</th>\n",
       "      <th>User sign-in time</th>\n",
       "      <th>User sign-in month</th>\n",
       "      <th>User sign-in day</th>\n",
       "    </tr>\n",
       "  </thead>\n",
       "  <tbody>\n",
       "    <tr>\n",
       "      <th>0</th>\n",
       "      <td>ID_AAGFVLHH_Month_12</td>\n",
       "      <td>1.0</td>\n",
       "      <td>NaN</td>\n",
       "      <td>19:48:26.862175</td>\n",
       "      <td>27.0</td>\n",
       "      <td>NaN</td>\n",
       "      <td>NaN</td>\n",
       "      <td>1.0</td>\n",
       "      <td>NaN</td>\n",
       "      <td>10:53:52.558030</td>\n",
       "      <td>...</td>\n",
       "      <td>12.0</td>\n",
       "      <td>28.0</td>\n",
       "      <td>20:52:03</td>\n",
       "      <td>28.0</td>\n",
       "      <td>35.0</td>\n",
       "      <td>0.0</td>\n",
       "      <td>0.0</td>\n",
       "      <td>08:26:28.847530</td>\n",
       "      <td>12</td>\n",
       "      <td>20.0</td>\n",
       "    </tr>\n",
       "    <tr>\n",
       "      <th>1</th>\n",
       "      <td>ID_0AJGQILU_Month_12</td>\n",
       "      <td>1.0</td>\n",
       "      <td>NaN</td>\n",
       "      <td>09:37:52.039526</td>\n",
       "      <td>20.0</td>\n",
       "      <td>NaN</td>\n",
       "      <td>NaN</td>\n",
       "      <td>NaN</td>\n",
       "      <td>NaN</td>\n",
       "      <td>NaN</td>\n",
       "      <td>...</td>\n",
       "      <td>NaN</td>\n",
       "      <td>NaN</td>\n",
       "      <td>10:38:23</td>\n",
       "      <td>20.0</td>\n",
       "      <td>14.0</td>\n",
       "      <td>0.0</td>\n",
       "      <td>0.0</td>\n",
       "      <td>09:28:59.699371</td>\n",
       "      <td>12</td>\n",
       "      <td>20.0</td>\n",
       "    </tr>\n",
       "    <tr>\n",
       "      <th>2</th>\n",
       "      <td>ID_U90KK6KL_Month_2</td>\n",
       "      <td>1.0</td>\n",
       "      <td>NaN</td>\n",
       "      <td>17:50:33.894800</td>\n",
       "      <td>9.0</td>\n",
       "      <td>NaN</td>\n",
       "      <td>NaN</td>\n",
       "      <td>1.0</td>\n",
       "      <td>NaN</td>\n",
       "      <td>18:57:59.998938</td>\n",
       "      <td>...</td>\n",
       "      <td>12.0</td>\n",
       "      <td>24.0</td>\n",
       "      <td>21:37:16</td>\n",
       "      <td>24.0</td>\n",
       "      <td>96.0</td>\n",
       "      <td>1.0</td>\n",
       "      <td>1.0</td>\n",
       "      <td>15:29:09.389920</td>\n",
       "      <td>2</td>\n",
       "      <td>8.0</td>\n",
       "    </tr>\n",
       "    <tr>\n",
       "      <th>3</th>\n",
       "      <td>ID_U90KK6KL_Month_2</td>\n",
       "      <td>1.0</td>\n",
       "      <td>NaN</td>\n",
       "      <td>17:50:33.894800</td>\n",
       "      <td>9.0</td>\n",
       "      <td>NaN</td>\n",
       "      <td>NaN</td>\n",
       "      <td>1.0</td>\n",
       "      <td>NaN</td>\n",
       "      <td>18:49:47.531900</td>\n",
       "      <td>...</td>\n",
       "      <td>2.0</td>\n",
       "      <td>7.0</td>\n",
       "      <td>21:37:16</td>\n",
       "      <td>24.0</td>\n",
       "      <td>96.0</td>\n",
       "      <td>1.0</td>\n",
       "      <td>1.0</td>\n",
       "      <td>15:29:09.389920</td>\n",
       "      <td>2</td>\n",
       "      <td>8.0</td>\n",
       "    </tr>\n",
       "    <tr>\n",
       "      <th>4</th>\n",
       "      <td>ID_U90KK6KL_Month_2</td>\n",
       "      <td>1.0</td>\n",
       "      <td>NaN</td>\n",
       "      <td>17:50:33.894800</td>\n",
       "      <td>9.0</td>\n",
       "      <td>NaN</td>\n",
       "      <td>NaN</td>\n",
       "      <td>1.0</td>\n",
       "      <td>NaN</td>\n",
       "      <td>15:34:35.872471</td>\n",
       "      <td>...</td>\n",
       "      <td>2.0</td>\n",
       "      <td>9.0</td>\n",
       "      <td>21:37:16</td>\n",
       "      <td>24.0</td>\n",
       "      <td>96.0</td>\n",
       "      <td>1.0</td>\n",
       "      <td>1.0</td>\n",
       "      <td>15:29:09.389920</td>\n",
       "      <td>2</td>\n",
       "      <td>8.0</td>\n",
       "    </tr>\n",
       "    <tr>\n",
       "      <th>...</th>\n",
       "      <td>...</td>\n",
       "      <td>...</td>\n",
       "      <td>...</td>\n",
       "      <td>...</td>\n",
       "      <td>...</td>\n",
       "      <td>...</td>\n",
       "      <td>...</td>\n",
       "      <td>...</td>\n",
       "      <td>...</td>\n",
       "      <td>...</td>\n",
       "      <td>...</td>\n",
       "      <td>...</td>\n",
       "      <td>...</td>\n",
       "      <td>...</td>\n",
       "      <td>...</td>\n",
       "      <td>...</td>\n",
       "      <td>...</td>\n",
       "      <td>...</td>\n",
       "      <td>...</td>\n",
       "      <td>...</td>\n",
       "      <td>...</td>\n",
       "    </tr>\n",
       "    <tr>\n",
       "      <th>20997</th>\n",
       "      <td>ID_Y02FKZWI_Month_3</td>\n",
       "      <td>NaN</td>\n",
       "      <td>NaN</td>\n",
       "      <td>NaN</td>\n",
       "      <td>NaN</td>\n",
       "      <td>NaN</td>\n",
       "      <td>NaN</td>\n",
       "      <td>NaN</td>\n",
       "      <td>NaN</td>\n",
       "      <td>NaN</td>\n",
       "      <td>...</td>\n",
       "      <td>NaN</td>\n",
       "      <td>NaN</td>\n",
       "      <td>NaN</td>\n",
       "      <td>NaN</td>\n",
       "      <td>NaN</td>\n",
       "      <td>0.0</td>\n",
       "      <td>0.0</td>\n",
       "      <td>04:04:35.100180</td>\n",
       "      <td>3</td>\n",
       "      <td>26.0</td>\n",
       "    </tr>\n",
       "    <tr>\n",
       "      <th>20998</th>\n",
       "      <td>ID_FDOGWALS_Month_11</td>\n",
       "      <td>NaN</td>\n",
       "      <td>NaN</td>\n",
       "      <td>NaN</td>\n",
       "      <td>NaN</td>\n",
       "      <td>NaN</td>\n",
       "      <td>NaN</td>\n",
       "      <td>NaN</td>\n",
       "      <td>NaN</td>\n",
       "      <td>NaN</td>\n",
       "      <td>...</td>\n",
       "      <td>NaN</td>\n",
       "      <td>NaN</td>\n",
       "      <td>NaN</td>\n",
       "      <td>NaN</td>\n",
       "      <td>NaN</td>\n",
       "      <td>0.0</td>\n",
       "      <td>0.0</td>\n",
       "      <td>13:30:49.814791</td>\n",
       "      <td>11</td>\n",
       "      <td>5.0</td>\n",
       "    </tr>\n",
       "    <tr>\n",
       "      <th>20999</th>\n",
       "      <td>ID_YJCY8FF5_Month_5</td>\n",
       "      <td>NaN</td>\n",
       "      <td>NaN</td>\n",
       "      <td>NaN</td>\n",
       "      <td>NaN</td>\n",
       "      <td>NaN</td>\n",
       "      <td>NaN</td>\n",
       "      <td>NaN</td>\n",
       "      <td>NaN</td>\n",
       "      <td>NaN</td>\n",
       "      <td>...</td>\n",
       "      <td>NaN</td>\n",
       "      <td>NaN</td>\n",
       "      <td>NaN</td>\n",
       "      <td>NaN</td>\n",
       "      <td>NaN</td>\n",
       "      <td>0.0</td>\n",
       "      <td>0.0</td>\n",
       "      <td>15:54:12.676400</td>\n",
       "      <td>5</td>\n",
       "      <td>11.0</td>\n",
       "    </tr>\n",
       "    <tr>\n",
       "      <th>21000</th>\n",
       "      <td>ID_QDL8A9FQ_Month_4</td>\n",
       "      <td>NaN</td>\n",
       "      <td>NaN</td>\n",
       "      <td>NaN</td>\n",
       "      <td>NaN</td>\n",
       "      <td>NaN</td>\n",
       "      <td>NaN</td>\n",
       "      <td>NaN</td>\n",
       "      <td>NaN</td>\n",
       "      <td>NaN</td>\n",
       "      <td>...</td>\n",
       "      <td>NaN</td>\n",
       "      <td>NaN</td>\n",
       "      <td>NaN</td>\n",
       "      <td>NaN</td>\n",
       "      <td>NaN</td>\n",
       "      <td>0.0</td>\n",
       "      <td>0.0</td>\n",
       "      <td>09:49:35.535847</td>\n",
       "      <td>4</td>\n",
       "      <td>28.0</td>\n",
       "    </tr>\n",
       "    <tr>\n",
       "      <th>21001</th>\n",
       "      <td>ID_C5393PD0_Month_11</td>\n",
       "      <td>NaN</td>\n",
       "      <td>NaN</td>\n",
       "      <td>NaN</td>\n",
       "      <td>NaN</td>\n",
       "      <td>NaN</td>\n",
       "      <td>NaN</td>\n",
       "      <td>NaN</td>\n",
       "      <td>NaN</td>\n",
       "      <td>NaN</td>\n",
       "      <td>...</td>\n",
       "      <td>NaN</td>\n",
       "      <td>NaN</td>\n",
       "      <td>NaN</td>\n",
       "      <td>NaN</td>\n",
       "      <td>NaN</td>\n",
       "      <td>0.0</td>\n",
       "      <td>1.0</td>\n",
       "      <td>05:02:39.352427</td>\n",
       "      <td>11</td>\n",
       "      <td>6.0</td>\n",
       "    </tr>\n",
       "  </tbody>\n",
       "</table>\n",
       "<p>21002 rows × 38 columns</p>\n",
       "</div>"
      ],
      "text/plain": [
       "                    User_ID  Personal  Theme  Discussion_time  Discussion_day  \\\n",
       "0      ID_AAGFVLHH_Month_12       1.0    NaN  19:48:26.862175            27.0   \n",
       "1      ID_0AJGQILU_Month_12       1.0    NaN  09:37:52.039526            20.0   \n",
       "2       ID_U90KK6KL_Month_2       1.0    NaN  17:50:33.894800             9.0   \n",
       "3       ID_U90KK6KL_Month_2       1.0    NaN  17:50:33.894800             9.0   \n",
       "4       ID_U90KK6KL_Month_2       1.0    NaN  17:50:33.894800             9.0   \n",
       "...                     ...       ...    ...              ...             ...   \n",
       "20997   ID_Y02FKZWI_Month_3       NaN    NaN              NaN             NaN   \n",
       "20998  ID_FDOGWALS_Month_11       NaN    NaN              NaN             NaN   \n",
       "20999   ID_YJCY8FF5_Month_5       NaN    NaN              NaN             NaN   \n",
       "21000   ID_QDL8A9FQ_Month_4       NaN    NaN              NaN             NaN   \n",
       "21001  ID_C5393PD0_Month_11       NaN    NaN              NaN             NaN   \n",
       "\n",
       "      comment_time  comment_day  Participant Type Successful Submission Count  \\\n",
       "0              NaN          NaN               1.0                         NaN   \n",
       "1              NaN          NaN               NaN                         NaN   \n",
       "2              NaN          NaN               1.0                         NaN   \n",
       "3              NaN          NaN               1.0                         NaN   \n",
       "4              NaN          NaN               1.0                         NaN   \n",
       "...            ...          ...               ...                         ...   \n",
       "20997          NaN          NaN               NaN                         NaN   \n",
       "20998          NaN          NaN               NaN                         NaN   \n",
       "20999          NaN          NaN               NaN                         NaN   \n",
       "21000          NaN          NaN               NaN                         NaN   \n",
       "21001          NaN          NaN               NaN                         NaN   \n",
       "\n",
       "      competition_enrollment_time  ...  competition_started_month  \\\n",
       "0                 10:53:52.558030  ...                       12.0   \n",
       "1                             NaN  ...                        NaN   \n",
       "2                 18:57:59.998938  ...                       12.0   \n",
       "3                 18:49:47.531900  ...                        2.0   \n",
       "4                 15:34:35.872471  ...                        2.0   \n",
       "...                           ...  ...                        ...   \n",
       "20997                         NaN  ...                        NaN   \n",
       "20998                         NaN  ...                        NaN   \n",
       "20999                         NaN  ...                        NaN   \n",
       "21000                         NaN  ...                        NaN   \n",
       "21001                         NaN  ...                        NaN   \n",
       "\n",
       "      competition_started_day datetime time  datetime Day_of_month  count_UA  \\\n",
       "0                        28.0      20:52:03                   28.0      35.0   \n",
       "1                         NaN      10:38:23                   20.0      14.0   \n",
       "2                        24.0      21:37:16                   24.0      96.0   \n",
       "3                         7.0      21:37:16                   24.0      96.0   \n",
       "4                         9.0      21:37:16                   24.0      96.0   \n",
       "...                       ...           ...                    ...       ...   \n",
       "20997                     NaN           NaN                    NaN       NaN   \n",
       "20998                     NaN           NaN                    NaN       NaN   \n",
       "20999                     NaN           NaN                    NaN       NaN   \n",
       "21000                     NaN           NaN                    NaN       NaN   \n",
       "21001                     NaN           NaN                    NaN       NaN   \n",
       "\n",
       "       FeatureX  FeatureY User sign-in time User sign-in month  \\\n",
       "0           0.0       0.0   08:26:28.847530                 12   \n",
       "1           0.0       0.0   09:28:59.699371                 12   \n",
       "2           1.0       1.0   15:29:09.389920                  2   \n",
       "3           1.0       1.0   15:29:09.389920                  2   \n",
       "4           1.0       1.0   15:29:09.389920                  2   \n",
       "...         ...       ...               ...                ...   \n",
       "20997       0.0       0.0   04:04:35.100180                  3   \n",
       "20998       0.0       0.0   13:30:49.814791                 11   \n",
       "20999       0.0       0.0   15:54:12.676400                  5   \n",
       "21000       0.0       0.0   09:49:35.535847                  4   \n",
       "21001       0.0       1.0   05:02:39.352427                 11   \n",
       "\n",
       "      User sign-in day  \n",
       "0                 20.0  \n",
       "1                 20.0  \n",
       "2                  8.0  \n",
       "3                  8.0  \n",
       "4                  8.0  \n",
       "...                ...  \n",
       "20997             26.0  \n",
       "20998              5.0  \n",
       "20999             11.0  \n",
       "21000             28.0  \n",
       "21001              6.0  \n",
       "\n",
       "[21002 rows x 38 columns]"
      ]
     },
     "execution_count": 112,
     "metadata": {},
     "output_type": "execute_result"
    }
   ],
   "source": [
    "df_final"
   ]
  },
  {
   "cell_type": "markdown",
   "id": "d7dd7b76",
   "metadata": {},
   "source": [
    "# DATA CLEANING AND TRANSFORMATION"
   ]
  },
  {
   "cell_type": "code",
   "execution_count": 113,
   "id": "b96c09ef",
   "metadata": {},
   "outputs": [
    {
     "name": "stdout",
     "output_type": "stream",
     "text": [
      "<class 'pandas.core.frame.DataFrame'>\n",
      "Int64Index: 21002 entries, 0 to 21001\n",
      "Data columns (total 38 columns):\n",
      " #   Column                       Non-Null Count  Dtype  \n",
      "---  ------                       --------------  -----  \n",
      " 0   User_ID                      21002 non-null  object \n",
      " 1   Personal                     2305 non-null   float64\n",
      " 2   Theme                        272 non-null    float64\n",
      " 3   Discussion_time              2305 non-null   object \n",
      " 4   Discussion_day               2305 non-null   float64\n",
      " 5   comment_time                 708 non-null    object \n",
      " 6   comment_day                  708 non-null    float64\n",
      " 7   Participant Type             9300 non-null   float64\n",
      " 8   Successful Submission Count  1813 non-null   object \n",
      " 9   competition_enrollment_time  9300 non-null   object \n",
      " 10  competition_enrollment_day   9300 non-null   float64\n",
      " 11  FeatureA                     9300 non-null   object \n",
      " 12  FeatureB                     9300 non-null   object \n",
      " 13  FeatureC                     6155 non-null   float64\n",
      " 14  FeatureD                     9300 non-null   float64\n",
      " 15  FeatureE                     9300 non-null   float64\n",
      " 16  SecretCode                   9300 non-null   float64\n",
      " 17  FeatureF                     9300 non-null   object \n",
      " 18  FeatureG                     9300 non-null   object \n",
      " 19  FeatureH                     9300 non-null   object \n",
      " 20  FeatureI                     7964 non-null   float64\n",
      " 21  Country_ID                   4565 non-null   object \n",
      " 22  competition_ended_time       7086 non-null   object \n",
      " 23  competition_ended_year       7086 non-null   float64\n",
      " 24  competition_ended_month      7086 non-null   float64\n",
      " 25  competition_ended_day        7086 non-null   float64\n",
      " 26  competition_started_time     9300 non-null   object \n",
      " 27  competition_started_year     9300 non-null   float64\n",
      " 28  competition_started_month    9300 non-null   float64\n",
      " 29  competition_started_day      9300 non-null   float64\n",
      " 30  datetime time                18018 non-null  object \n",
      " 31  datetime Day_of_month        18018 non-null  float64\n",
      " 32  count_UA                     18018 non-null  float64\n",
      " 33  FeatureX                     14729 non-null  float64\n",
      " 34  FeatureY                     14729 non-null  float64\n",
      " 35  User sign-in time            14729 non-null  object \n",
      " 36  User sign-in month           14729 non-null  string \n",
      " 37  User sign-in day             14729 non-null  float64\n",
      "dtypes: float64(22), object(15), string(1)\n",
      "memory usage: 6.2+ MB\n"
     ]
    }
   ],
   "source": [
    "df_final.info()"
   ]
  },
  {
   "cell_type": "code",
   "execution_count": 114,
   "id": "a33e7af5",
   "metadata": {},
   "outputs": [
    {
     "data": {
      "text/html": [
       "<div>\n",
       "<style scoped>\n",
       "    .dataframe tbody tr th:only-of-type {\n",
       "        vertical-align: middle;\n",
       "    }\n",
       "\n",
       "    .dataframe tbody tr th {\n",
       "        vertical-align: top;\n",
       "    }\n",
       "\n",
       "    .dataframe thead th {\n",
       "        text-align: right;\n",
       "    }\n",
       "</style>\n",
       "<table border=\"1\" class=\"dataframe\">\n",
       "  <thead>\n",
       "    <tr style=\"text-align: right;\">\n",
       "      <th></th>\n",
       "      <th>User_ID</th>\n",
       "      <th>Personal</th>\n",
       "      <th>Theme</th>\n",
       "      <th>Discussion_time</th>\n",
       "      <th>Discussion_day</th>\n",
       "      <th>comment_time</th>\n",
       "      <th>comment_day</th>\n",
       "      <th>Participant Type</th>\n",
       "      <th>Successful Submission Count</th>\n",
       "      <th>competition_enrollment_time</th>\n",
       "      <th>...</th>\n",
       "      <th>competition_started_month</th>\n",
       "      <th>competition_started_day</th>\n",
       "      <th>datetime time</th>\n",
       "      <th>datetime Day_of_month</th>\n",
       "      <th>count_UA</th>\n",
       "      <th>FeatureX</th>\n",
       "      <th>FeatureY</th>\n",
       "      <th>User sign-in time</th>\n",
       "      <th>User sign-in month</th>\n",
       "      <th>User sign-in day</th>\n",
       "    </tr>\n",
       "  </thead>\n",
       "  <tbody>\n",
       "    <tr>\n",
       "      <th>0</th>\n",
       "      <td>ID_AAGFVLHH_Month_12</td>\n",
       "      <td>1.0</td>\n",
       "      <td>NaN</td>\n",
       "      <td>19:48:26.862175</td>\n",
       "      <td>27.0</td>\n",
       "      <td>NaN</td>\n",
       "      <td>NaN</td>\n",
       "      <td>1.0</td>\n",
       "      <td>NaN</td>\n",
       "      <td>10:53:52.558030</td>\n",
       "      <td>...</td>\n",
       "      <td>12.0</td>\n",
       "      <td>28.0</td>\n",
       "      <td>20:52:03</td>\n",
       "      <td>28.0</td>\n",
       "      <td>35.0</td>\n",
       "      <td>0.0</td>\n",
       "      <td>0.0</td>\n",
       "      <td>08:26:28.847530</td>\n",
       "      <td>12</td>\n",
       "      <td>20.0</td>\n",
       "    </tr>\n",
       "    <tr>\n",
       "      <th>1</th>\n",
       "      <td>ID_0AJGQILU_Month_12</td>\n",
       "      <td>1.0</td>\n",
       "      <td>NaN</td>\n",
       "      <td>09:37:52.039526</td>\n",
       "      <td>20.0</td>\n",
       "      <td>NaN</td>\n",
       "      <td>NaN</td>\n",
       "      <td>NaN</td>\n",
       "      <td>NaN</td>\n",
       "      <td>NaN</td>\n",
       "      <td>...</td>\n",
       "      <td>NaN</td>\n",
       "      <td>NaN</td>\n",
       "      <td>10:38:23</td>\n",
       "      <td>20.0</td>\n",
       "      <td>14.0</td>\n",
       "      <td>0.0</td>\n",
       "      <td>0.0</td>\n",
       "      <td>09:28:59.699371</td>\n",
       "      <td>12</td>\n",
       "      <td>20.0</td>\n",
       "    </tr>\n",
       "    <tr>\n",
       "      <th>2</th>\n",
       "      <td>ID_U90KK6KL_Month_2</td>\n",
       "      <td>1.0</td>\n",
       "      <td>NaN</td>\n",
       "      <td>17:50:33.894800</td>\n",
       "      <td>9.0</td>\n",
       "      <td>NaN</td>\n",
       "      <td>NaN</td>\n",
       "      <td>1.0</td>\n",
       "      <td>NaN</td>\n",
       "      <td>18:57:59.998938</td>\n",
       "      <td>...</td>\n",
       "      <td>12.0</td>\n",
       "      <td>24.0</td>\n",
       "      <td>21:37:16</td>\n",
       "      <td>24.0</td>\n",
       "      <td>96.0</td>\n",
       "      <td>1.0</td>\n",
       "      <td>1.0</td>\n",
       "      <td>15:29:09.389920</td>\n",
       "      <td>2</td>\n",
       "      <td>8.0</td>\n",
       "    </tr>\n",
       "    <tr>\n",
       "      <th>3</th>\n",
       "      <td>ID_U90KK6KL_Month_2</td>\n",
       "      <td>1.0</td>\n",
       "      <td>NaN</td>\n",
       "      <td>17:50:33.894800</td>\n",
       "      <td>9.0</td>\n",
       "      <td>NaN</td>\n",
       "      <td>NaN</td>\n",
       "      <td>1.0</td>\n",
       "      <td>NaN</td>\n",
       "      <td>18:49:47.531900</td>\n",
       "      <td>...</td>\n",
       "      <td>2.0</td>\n",
       "      <td>7.0</td>\n",
       "      <td>21:37:16</td>\n",
       "      <td>24.0</td>\n",
       "      <td>96.0</td>\n",
       "      <td>1.0</td>\n",
       "      <td>1.0</td>\n",
       "      <td>15:29:09.389920</td>\n",
       "      <td>2</td>\n",
       "      <td>8.0</td>\n",
       "    </tr>\n",
       "    <tr>\n",
       "      <th>4</th>\n",
       "      <td>ID_U90KK6KL_Month_2</td>\n",
       "      <td>1.0</td>\n",
       "      <td>NaN</td>\n",
       "      <td>17:50:33.894800</td>\n",
       "      <td>9.0</td>\n",
       "      <td>NaN</td>\n",
       "      <td>NaN</td>\n",
       "      <td>1.0</td>\n",
       "      <td>NaN</td>\n",
       "      <td>15:34:35.872471</td>\n",
       "      <td>...</td>\n",
       "      <td>2.0</td>\n",
       "      <td>9.0</td>\n",
       "      <td>21:37:16</td>\n",
       "      <td>24.0</td>\n",
       "      <td>96.0</td>\n",
       "      <td>1.0</td>\n",
       "      <td>1.0</td>\n",
       "      <td>15:29:09.389920</td>\n",
       "      <td>2</td>\n",
       "      <td>8.0</td>\n",
       "    </tr>\n",
       "    <tr>\n",
       "      <th>...</th>\n",
       "      <td>...</td>\n",
       "      <td>...</td>\n",
       "      <td>...</td>\n",
       "      <td>...</td>\n",
       "      <td>...</td>\n",
       "      <td>...</td>\n",
       "      <td>...</td>\n",
       "      <td>...</td>\n",
       "      <td>...</td>\n",
       "      <td>...</td>\n",
       "      <td>...</td>\n",
       "      <td>...</td>\n",
       "      <td>...</td>\n",
       "      <td>...</td>\n",
       "      <td>...</td>\n",
       "      <td>...</td>\n",
       "      <td>...</td>\n",
       "      <td>...</td>\n",
       "      <td>...</td>\n",
       "      <td>...</td>\n",
       "      <td>...</td>\n",
       "    </tr>\n",
       "    <tr>\n",
       "      <th>20997</th>\n",
       "      <td>ID_Y02FKZWI_Month_3</td>\n",
       "      <td>NaN</td>\n",
       "      <td>NaN</td>\n",
       "      <td>NaN</td>\n",
       "      <td>NaN</td>\n",
       "      <td>NaN</td>\n",
       "      <td>NaN</td>\n",
       "      <td>NaN</td>\n",
       "      <td>NaN</td>\n",
       "      <td>NaN</td>\n",
       "      <td>...</td>\n",
       "      <td>NaN</td>\n",
       "      <td>NaN</td>\n",
       "      <td>NaN</td>\n",
       "      <td>NaN</td>\n",
       "      <td>NaN</td>\n",
       "      <td>0.0</td>\n",
       "      <td>0.0</td>\n",
       "      <td>04:04:35.100180</td>\n",
       "      <td>3</td>\n",
       "      <td>26.0</td>\n",
       "    </tr>\n",
       "    <tr>\n",
       "      <th>20998</th>\n",
       "      <td>ID_FDOGWALS_Month_11</td>\n",
       "      <td>NaN</td>\n",
       "      <td>NaN</td>\n",
       "      <td>NaN</td>\n",
       "      <td>NaN</td>\n",
       "      <td>NaN</td>\n",
       "      <td>NaN</td>\n",
       "      <td>NaN</td>\n",
       "      <td>NaN</td>\n",
       "      <td>NaN</td>\n",
       "      <td>...</td>\n",
       "      <td>NaN</td>\n",
       "      <td>NaN</td>\n",
       "      <td>NaN</td>\n",
       "      <td>NaN</td>\n",
       "      <td>NaN</td>\n",
       "      <td>0.0</td>\n",
       "      <td>0.0</td>\n",
       "      <td>13:30:49.814791</td>\n",
       "      <td>11</td>\n",
       "      <td>5.0</td>\n",
       "    </tr>\n",
       "    <tr>\n",
       "      <th>20999</th>\n",
       "      <td>ID_YJCY8FF5_Month_5</td>\n",
       "      <td>NaN</td>\n",
       "      <td>NaN</td>\n",
       "      <td>NaN</td>\n",
       "      <td>NaN</td>\n",
       "      <td>NaN</td>\n",
       "      <td>NaN</td>\n",
       "      <td>NaN</td>\n",
       "      <td>NaN</td>\n",
       "      <td>NaN</td>\n",
       "      <td>...</td>\n",
       "      <td>NaN</td>\n",
       "      <td>NaN</td>\n",
       "      <td>NaN</td>\n",
       "      <td>NaN</td>\n",
       "      <td>NaN</td>\n",
       "      <td>0.0</td>\n",
       "      <td>0.0</td>\n",
       "      <td>15:54:12.676400</td>\n",
       "      <td>5</td>\n",
       "      <td>11.0</td>\n",
       "    </tr>\n",
       "    <tr>\n",
       "      <th>21000</th>\n",
       "      <td>ID_QDL8A9FQ_Month_4</td>\n",
       "      <td>NaN</td>\n",
       "      <td>NaN</td>\n",
       "      <td>NaN</td>\n",
       "      <td>NaN</td>\n",
       "      <td>NaN</td>\n",
       "      <td>NaN</td>\n",
       "      <td>NaN</td>\n",
       "      <td>NaN</td>\n",
       "      <td>NaN</td>\n",
       "      <td>...</td>\n",
       "      <td>NaN</td>\n",
       "      <td>NaN</td>\n",
       "      <td>NaN</td>\n",
       "      <td>NaN</td>\n",
       "      <td>NaN</td>\n",
       "      <td>0.0</td>\n",
       "      <td>0.0</td>\n",
       "      <td>09:49:35.535847</td>\n",
       "      <td>4</td>\n",
       "      <td>28.0</td>\n",
       "    </tr>\n",
       "    <tr>\n",
       "      <th>21001</th>\n",
       "      <td>ID_C5393PD0_Month_11</td>\n",
       "      <td>NaN</td>\n",
       "      <td>NaN</td>\n",
       "      <td>NaN</td>\n",
       "      <td>NaN</td>\n",
       "      <td>NaN</td>\n",
       "      <td>NaN</td>\n",
       "      <td>NaN</td>\n",
       "      <td>NaN</td>\n",
       "      <td>NaN</td>\n",
       "      <td>...</td>\n",
       "      <td>NaN</td>\n",
       "      <td>NaN</td>\n",
       "      <td>NaN</td>\n",
       "      <td>NaN</td>\n",
       "      <td>NaN</td>\n",
       "      <td>0.0</td>\n",
       "      <td>1.0</td>\n",
       "      <td>05:02:39.352427</td>\n",
       "      <td>11</td>\n",
       "      <td>6.0</td>\n",
       "    </tr>\n",
       "  </tbody>\n",
       "</table>\n",
       "<p>21002 rows × 38 columns</p>\n",
       "</div>"
      ],
      "text/plain": [
       "                    User_ID  Personal  Theme  Discussion_time  Discussion_day  \\\n",
       "0      ID_AAGFVLHH_Month_12       1.0    NaN  19:48:26.862175            27.0   \n",
       "1      ID_0AJGQILU_Month_12       1.0    NaN  09:37:52.039526            20.0   \n",
       "2       ID_U90KK6KL_Month_2       1.0    NaN  17:50:33.894800             9.0   \n",
       "3       ID_U90KK6KL_Month_2       1.0    NaN  17:50:33.894800             9.0   \n",
       "4       ID_U90KK6KL_Month_2       1.0    NaN  17:50:33.894800             9.0   \n",
       "...                     ...       ...    ...              ...             ...   \n",
       "20997   ID_Y02FKZWI_Month_3       NaN    NaN              NaN             NaN   \n",
       "20998  ID_FDOGWALS_Month_11       NaN    NaN              NaN             NaN   \n",
       "20999   ID_YJCY8FF5_Month_5       NaN    NaN              NaN             NaN   \n",
       "21000   ID_QDL8A9FQ_Month_4       NaN    NaN              NaN             NaN   \n",
       "21001  ID_C5393PD0_Month_11       NaN    NaN              NaN             NaN   \n",
       "\n",
       "      comment_time  comment_day  Participant Type Successful Submission Count  \\\n",
       "0              NaN          NaN               1.0                         NaN   \n",
       "1              NaN          NaN               NaN                         NaN   \n",
       "2              NaN          NaN               1.0                         NaN   \n",
       "3              NaN          NaN               1.0                         NaN   \n",
       "4              NaN          NaN               1.0                         NaN   \n",
       "...            ...          ...               ...                         ...   \n",
       "20997          NaN          NaN               NaN                         NaN   \n",
       "20998          NaN          NaN               NaN                         NaN   \n",
       "20999          NaN          NaN               NaN                         NaN   \n",
       "21000          NaN          NaN               NaN                         NaN   \n",
       "21001          NaN          NaN               NaN                         NaN   \n",
       "\n",
       "      competition_enrollment_time  ...  competition_started_month  \\\n",
       "0                 10:53:52.558030  ...                       12.0   \n",
       "1                             NaN  ...                        NaN   \n",
       "2                 18:57:59.998938  ...                       12.0   \n",
       "3                 18:49:47.531900  ...                        2.0   \n",
       "4                 15:34:35.872471  ...                        2.0   \n",
       "...                           ...  ...                        ...   \n",
       "20997                         NaN  ...                        NaN   \n",
       "20998                         NaN  ...                        NaN   \n",
       "20999                         NaN  ...                        NaN   \n",
       "21000                         NaN  ...                        NaN   \n",
       "21001                         NaN  ...                        NaN   \n",
       "\n",
       "      competition_started_day datetime time  datetime Day_of_month  count_UA  \\\n",
       "0                        28.0      20:52:03                   28.0      35.0   \n",
       "1                         NaN      10:38:23                   20.0      14.0   \n",
       "2                        24.0      21:37:16                   24.0      96.0   \n",
       "3                         7.0      21:37:16                   24.0      96.0   \n",
       "4                         9.0      21:37:16                   24.0      96.0   \n",
       "...                       ...           ...                    ...       ...   \n",
       "20997                     NaN           NaN                    NaN       NaN   \n",
       "20998                     NaN           NaN                    NaN       NaN   \n",
       "20999                     NaN           NaN                    NaN       NaN   \n",
       "21000                     NaN           NaN                    NaN       NaN   \n",
       "21001                     NaN           NaN                    NaN       NaN   \n",
       "\n",
       "       FeatureX  FeatureY User sign-in time User sign-in month  \\\n",
       "0           0.0       0.0   08:26:28.847530                 12   \n",
       "1           0.0       0.0   09:28:59.699371                 12   \n",
       "2           1.0       1.0   15:29:09.389920                  2   \n",
       "3           1.0       1.0   15:29:09.389920                  2   \n",
       "4           1.0       1.0   15:29:09.389920                  2   \n",
       "...         ...       ...               ...                ...   \n",
       "20997       0.0       0.0   04:04:35.100180                  3   \n",
       "20998       0.0       0.0   13:30:49.814791                 11   \n",
       "20999       0.0       0.0   15:54:12.676400                  5   \n",
       "21000       0.0       0.0   09:49:35.535847                  4   \n",
       "21001       0.0       1.0   05:02:39.352427                 11   \n",
       "\n",
       "      User sign-in day  \n",
       "0                 20.0  \n",
       "1                 20.0  \n",
       "2                  8.0  \n",
       "3                  8.0  \n",
       "4                  8.0  \n",
       "...                ...  \n",
       "20997             26.0  \n",
       "20998              5.0  \n",
       "20999             11.0  \n",
       "21000             28.0  \n",
       "21001              6.0  \n",
       "\n",
       "[21002 rows x 38 columns]"
      ]
     },
     "execution_count": 114,
     "metadata": {},
     "output_type": "execute_result"
    }
   ],
   "source": [
    "df_final"
   ]
  },
  {
   "cell_type": "code",
   "execution_count": 115,
   "id": "edcc2b9b",
   "metadata": {},
   "outputs": [
    {
     "data": {
      "text/plain": [
       "(21002, 38)"
      ]
     },
     "execution_count": 115,
     "metadata": {},
     "output_type": "execute_result"
    }
   ],
   "source": [
    "df_final.shape"
   ]
  },
  {
   "cell_type": "code",
   "execution_count": 116,
   "id": "d336d32d",
   "metadata": {},
   "outputs": [
    {
     "data": {
      "text/plain": [
       "array([ 1.,  0., nan])"
      ]
     },
     "execution_count": 116,
     "metadata": {},
     "output_type": "execute_result"
    }
   ],
   "source": [
    "df_final[\"Personal\"].unique()"
   ]
  },
  {
   "cell_type": "code",
   "execution_count": 117,
   "id": "243dfe8e",
   "metadata": {},
   "outputs": [
    {
     "data": {
      "text/plain": [
       "array([ 1.,  0., -1.])"
      ]
     },
     "execution_count": 117,
     "metadata": {},
     "output_type": "execute_result"
    }
   ],
   "source": [
    "df_final['Personal'].fillna(-1, inplace = True)\n",
    "df_final[\"Personal\"].unique()"
   ]
  },
  {
   "cell_type": "code",
   "execution_count": 118,
   "id": "709fae56",
   "metadata": {},
   "outputs": [
    {
     "data": {
      "text/plain": [
       "array([nan,  3.,  1.,  4.,  5.,  2.])"
      ]
     },
     "execution_count": 118,
     "metadata": {},
     "output_type": "execute_result"
    }
   ],
   "source": [
    "df_final[\"Theme\"].unique()"
   ]
  },
  {
   "cell_type": "code",
   "execution_count": 119,
   "id": "a2fc4bd7",
   "metadata": {},
   "outputs": [
    {
     "data": {
      "text/plain": [
       "array([-1.,  3.,  1.,  4.,  5.,  2.])"
      ]
     },
     "execution_count": 119,
     "metadata": {},
     "output_type": "execute_result"
    }
   ],
   "source": [
    "df_final['Theme'].fillna(-1, inplace = True)\n",
    "df_final[\"Theme\"].unique()"
   ]
  },
  {
   "cell_type": "code",
   "execution_count": 120,
   "id": "36482b89",
   "metadata": {},
   "outputs": [],
   "source": [
    "df_final[\"Discussion_time\"]= df_final[\"Discussion_time\"].astype(\"string\")\n",
    "#df_user[\"Created At Month\"] = df_user[\"Created At Month\"].astype(\"string\")"
   ]
  },
  {
   "cell_type": "code",
   "execution_count": 121,
   "id": "80811acb",
   "metadata": {
    "scrolled": true
   },
   "outputs": [],
   "source": [
    "df_final['Discussion Hour'] = df_final['Discussion_time'].str[0:2]"
   ]
  },
  {
   "cell_type": "code",
   "execution_count": 122,
   "id": "f56fabc0",
   "metadata": {},
   "outputs": [],
   "source": [
    "df_final['Discussion Minute'] = df_final['Discussion_time'].str[3:5]"
   ]
  },
  {
   "cell_type": "code",
   "execution_count": 123,
   "id": "606cea4f",
   "metadata": {},
   "outputs": [],
   "source": [
    "df_final['Discussion Second'] = df_final['Discussion_time'].str[6:]"
   ]
  },
  {
   "cell_type": "code",
   "execution_count": 124,
   "id": "e237b32e",
   "metadata": {},
   "outputs": [
    {
     "data": {
      "text/plain": [
       "18697"
      ]
     },
     "execution_count": 124,
     "metadata": {},
     "output_type": "execute_result"
    }
   ],
   "source": [
    "df_final['Discussion Hour'].isna().sum()"
   ]
  },
  {
   "cell_type": "code",
   "execution_count": 125,
   "id": "257a7da1",
   "metadata": {},
   "outputs": [
    {
     "data": {
      "text/plain": [
       "<StringArray>\n",
       "['19', '09', '17', '07', '18', '00', '01', '05', '23', '04', '22', '14', '15',\n",
       " '16', '11', '13', <NA>, '20', '06', '03', '10', '08', '21', '12', '02']\n",
       "Length: 25, dtype: string"
      ]
     },
     "execution_count": 125,
     "metadata": {},
     "output_type": "execute_result"
    }
   ],
   "source": [
    "df_final['Discussion Hour'].unique()"
   ]
  },
  {
   "cell_type": "code",
   "execution_count": 126,
   "id": "75b18b7e",
   "metadata": {},
   "outputs": [],
   "source": [
    "df_final['Discussion Hour'].fillna('-1', inplace = True)"
   ]
  },
  {
   "cell_type": "code",
   "execution_count": 127,
   "id": "bef171b5",
   "metadata": {},
   "outputs": [
    {
     "data": {
      "text/plain": [
       "18697"
      ]
     },
     "execution_count": 127,
     "metadata": {},
     "output_type": "execute_result"
    }
   ],
   "source": [
    "df_final['Discussion Minute'].isna().sum()"
   ]
  },
  {
   "cell_type": "code",
   "execution_count": 128,
   "id": "5528f0eb",
   "metadata": {},
   "outputs": [
    {
     "data": {
      "text/plain": [
       "<StringArray>\n",
       "['48', '37', '50', '57', '56', '20', '30', '46', '40', '08', '06', '38', '33',\n",
       " '23', '24', '43', '29', '16', '15', '55', '17', '36', '12', <NA>, '54', '02',\n",
       " '51', '09', '25', '49', '01', '04', '53', '11', '45', '31', '22', '26', '18',\n",
       " '35', '03', '27', '47', '39', '14', '42', '59', '52', '32', '00', '34', '41',\n",
       " '21', '28', '10', '13', '19', '07', '44', '58', '05']\n",
       "Length: 61, dtype: string"
      ]
     },
     "execution_count": 128,
     "metadata": {},
     "output_type": "execute_result"
    }
   ],
   "source": [
    "df_final['Discussion Minute'].unique()"
   ]
  },
  {
   "cell_type": "code",
   "execution_count": 129,
   "id": "3cc49b72",
   "metadata": {},
   "outputs": [],
   "source": [
    "df_final['Discussion Minute'].fillna('-1', inplace = True)"
   ]
  },
  {
   "cell_type": "code",
   "execution_count": 130,
   "id": "3a6d67af",
   "metadata": {},
   "outputs": [
    {
     "data": {
      "text/plain": [
       "18697"
      ]
     },
     "execution_count": 130,
     "metadata": {},
     "output_type": "execute_result"
    }
   ],
   "source": [
    "df_final['Discussion Second'].isna().sum()"
   ]
  },
  {
   "cell_type": "code",
   "execution_count": 131,
   "id": "49956586",
   "metadata": {},
   "outputs": [
    {
     "data": {
      "text/plain": [
       "<StringArray>\n",
       "['26.862175', '52.039526', '33.894800', '55.178845', '13.041893', '26.568254',\n",
       " '29.783050', '27.612805', '35.086345', '28.053523',\n",
       " ...\n",
       " '45.333845', '35.875145', '42.357376', '57.964075', '32.417637', '31.081484',\n",
       " '11.201934', '31.578153', '59.313759', '04.296241']\n",
       "Length: 1440, dtype: string"
      ]
     },
     "execution_count": 131,
     "metadata": {},
     "output_type": "execute_result"
    }
   ],
   "source": [
    "df_final['Discussion Second'].unique()"
   ]
  },
  {
   "cell_type": "code",
   "execution_count": 132,
   "id": "0339be7e",
   "metadata": {},
   "outputs": [],
   "source": [
    "df_final['Discussion Second'].fillna('-1', inplace = True)"
   ]
  },
  {
   "cell_type": "code",
   "execution_count": 133,
   "id": "14034432",
   "metadata": {},
   "outputs": [],
   "source": [
    "df_final['Discussion_day'].fillna('-1', inplace = True)"
   ]
  },
  {
   "cell_type": "code",
   "execution_count": 134,
   "id": "c843ed68",
   "metadata": {},
   "outputs": [],
   "source": [
    "df_final.drop('Discussion_time', axis=1, inplace=True)"
   ]
  },
  {
   "cell_type": "code",
   "execution_count": 135,
   "id": "0e85b2c5",
   "metadata": {},
   "outputs": [
    {
     "data": {
      "text/plain": [
       "array([nan, '16:18:44.841697', '13:28:47.950841', '18:42:17.362333',\n",
       "       '17:30:40.566763', '18:57:54.540062', '00:30:14.803404',\n",
       "       '06:11:25.314720', '15:55:00.421045', '06:06:14.246596',\n",
       "       '05:36:20.487510', '06:12:27.399835', '13:16:21.738170',\n",
       "       '20:01:15.324733', '05:31:23.850937', '07:04:23.607974',\n",
       "       '07:52:06.787861', '07:51:36.568373', '16:54:57.277821',\n",
       "       '04:11:08.952569', '04:10:31.876264', '10:51:58.057413',\n",
       "       '04:10:39.639913', '04:12:08.642788', '04:10:06.110932',\n",
       "       '14:17:12.801487', '14:02:51.545438', '10:55:22.419127',\n",
       "       '17:08:30.010734', '10:30:24.835888', '12:52:45.129685',\n",
       "       '13:47:11.086669', '13:56:55.287683', '10:29:21.336571',\n",
       "       '12:57:35.809671', '16:32:19.323816', '12:53:45.851203',\n",
       "       '07:40:52.210103', '22:49:39.579835', '18:16:38.436559',\n",
       "       '21:53:36.148890', '10:50:42.816479', '13:05:39.826050',\n",
       "       '13:03:29.318252', '10:44:00.954715', '10:44:59.922062',\n",
       "       '10:33:57.026183', '13:08:16.641999', '15:27:29.436142',\n",
       "       '16:54:30.888350', '19:38:54.620654', '08:18:15.801995',\n",
       "       '12:59:18.173805', '07:03:10.991962', '07:12:48.364815',\n",
       "       '13:42:30.305110', '14:04:12.616747', '14:03:28.299566',\n",
       "       '07:10:50.084484', '11:04:39.055834', '11:04:20.448348',\n",
       "       '11:54:41.962152', '18:08:35.234312', '16:37:33.090172',\n",
       "       '11:07:11.017713', '11:08:11.040784', '11:06:52.068486',\n",
       "       '19:35:28.808367', '20:15:14.135013', '13:53:47.479774',\n",
       "       '17:04:42.161055', '23:07:16.300729', '12:35:35.821598',\n",
       "       '12:41:06.964410', '22:57:57.998142', '12:03:49.793666',\n",
       "       '12:03:16.533074', '12:01:12.258256', '23:00:36.593509',\n",
       "       '07:05:39.609226', '11:37:18.479293', '17:51:50.583076',\n",
       "       '17:09:59.115587', '11:14:42.816791', '11:16:09.657202',\n",
       "       '17:08:05.775181', '11:13:11.057528', '07:27:12.931678',\n",
       "       '08:58:21.636178', '22:40:53.205806', '20:33:17.237284',\n",
       "       '20:36:29.011888', '13:02:26.723449', '13:09:41.954861',\n",
       "       '08:28:10.064130', '08:29:11.069614', '10:28:28.066001',\n",
       "       '11:38:56.007856', '10:19:02.068795', '13:06:38.522913',\n",
       "       '19:33:41.020703', '15:12:31.094417', '10:13:25.320650',\n",
       "       '14:30:14.400097', '20:22:34.966462', '21:20:57.950106',\n",
       "       '10:57:36.266657', '18:19:18.495332', '09:00:26.671915',\n",
       "       '10:11:27.521179', '18:20:24.890261', '08:59:33.938676',\n",
       "       '10:13:10.790108', '10:12:18.636210', '14:47:57.704191',\n",
       "       '21:08:39.318181', '17:01:34.495882', '17:04:53.687012',\n",
       "       '06:09:32.530473', '13:04:38.747046', '22:07:34.942994',\n",
       "       '06:29:55.223702', '11:08:28.069853', '11:09:55.476546',\n",
       "       '16:07:19.116600', '16:06:53.824530', '14:20:02.048703',\n",
       "       '12:34:46.084565', '16:22:02.624547', '11:13:27.211661',\n",
       "       '12:42:53.020128', '13:03:58.602412', '17:04:00.958430',\n",
       "       '16:25:27.462026', '12:09:22.893628', '12:10:36.933708',\n",
       "       '19:58:10.994288', '17:14:37.574965', '13:56:15.484417',\n",
       "       '14:41:52.154051', '14:42:31.071509', '14:49:44.323067',\n",
       "       '13:52:59.024526', '18:00:22.496859', '17:12:17.026672',\n",
       "       '12:13:12.816570', '12:15:47.334444', '12:17:51.135003',\n",
       "       '12:17:16.674050', '12:14:31.608805', '12:20:22.833278',\n",
       "       '12:32:29.410077', '12:31:57.219136', '12:30:39.862158',\n",
       "       '12:07:09.171667', '12:32:58.148485', '12:32:13.521295',\n",
       "       '16:39:48.668399', '21:24:22.141143', '11:12:52.010276',\n",
       "       '12:25:24.258856', '15:28:09.972588', '14:43:33.323194',\n",
       "       '15:21:47.876925', '17:24:23.789335', '07:21:09.785343',\n",
       "       '12:47:57.815832', '19:19:16.308599', '04:42:03.488527',\n",
       "       '21:38:50.891849', '21:37:47.395274', '22:20:57.765568',\n",
       "       '22:23:39.380553', '23:24:53.367161', '11:34:45.916165',\n",
       "       '20:49:27.311025', '13:52:59.356596', '15:01:36.998123',\n",
       "       '15:08:53.777528', '16:52:44.866646', '16:59:52.803101',\n",
       "       '13:40:04.284413', '17:01:58.928898', '14:18:11.757033',\n",
       "       '15:04:07.103469', '16:27:29.793375', '14:13:04.923578',\n",
       "       '13:07:31.546834', '22:32:47.360368', '17:04:17.551794',\n",
       "       '17:05:21.221884', '13:50:26.519319', '21:22:36.504694',\n",
       "       '20:08:36.947369', '07:19:03.127284', '17:24:22.746844',\n",
       "       '17:22:40.657983', '19:48:32.294268', '10:51:00.213384',\n",
       "       '14:20:49.303705', '23:32:20.904019', '23:29:05.468738',\n",
       "       '14:43:44.598924', '14:43:27.412579', '14:43:59.589201',\n",
       "       '19:49:59.966114', '13:25:51.415412', '19:35:25.147138',\n",
       "       '13:32:42.628876', '22:07:59.735726', '19:52:18.265020',\n",
       "       '18:04:30.893264', '12:39:00.893455', '21:32:28.796500',\n",
       "       '01:44:29.372020', '12:00:22.565241', '08:31:31.027846',\n",
       "       '06:29:55.154458', '17:50:15.425524', '18:47:25.127721',\n",
       "       '18:10:15.307066', '18:40:47.521552', '17:37:30.376923',\n",
       "       '17:37:15.768859', '17:37:38.912235', '18:35:33.234257',\n",
       "       '19:06:34.418505', '19:06:34.555138', '01:18:53.960347',\n",
       "       '17:58:36.218654', '10:27:12.277935', '10:36:28.611492',\n",
       "       '20:23:48.220988', '18:12:25.588963', '13:12:49.569630',\n",
       "       '05:48:31.115386', '07:50:27.078445', '09:40:33.348763',\n",
       "       '20:11:35.587692', '20:36:54.198957', '21:08:35.697858',\n",
       "       '21:09:10.643299', '19:21:21.945538', '19:21:45.723878',\n",
       "       '17:26:51.947901', '17:24:42.684900', '12:00:18.833744',\n",
       "       '12:00:08.387314', '02:43:08.664638', '05:51:07.528371',\n",
       "       '10:16:07.721902', '14:33:45.392101', '22:10:53.346653',\n",
       "       '10:00:15.948748', '10:01:19.257639', '10:02:28.088279',\n",
       "       '10:37:04.475362', '12:29:53.193433', '15:14:50.953854',\n",
       "       '15:15:17.600235', '15:14:11.255739', '16:35:26.353665',\n",
       "       '16:43:12.207026', '16:34:42.317368', '16:37:33.365556',\n",
       "       '21:37:01.893815', '16:33:29.398960', '16:33:03.509498',\n",
       "       '16:35:44.326495', '21:37:27.394494', '01:23:31.700113',\n",
       "       '01:21:10.121392', '22:55:25.956483', '01:47:28.982109',\n",
       "       '12:18:37.956139', '15:48:07.393508', '17:06:59.774921',\n",
       "       '11:15:11.781084', '17:22:56.238171', '09:13:45.259549',\n",
       "       '12:39:17.520893', '12:41:30.130430', '12:45:54.417655',\n",
       "       '12:46:11.553244', '12:54:01.760928', '13:02:12.355355',\n",
       "       '13:15:40.387684', '14:04:22.921991', '14:05:38.457749',\n",
       "       '13:24:21.276279', '13:27:14.473284', '08:44:32.030200',\n",
       "       '08:41:43.422770', '08:45:11.724669', '08:42:36.079361',\n",
       "       '08:43:46.508759', '15:17:58.828423', '15:21:21.441646',\n",
       "       '15:20:58.814069', '15:18:19.542011', '21:13:58.765493',\n",
       "       '15:14:15.416093', '13:05:14.351521', '14:14:33.247677',\n",
       "       '13:08:25.593290', '14:17:13.488213', '14:13:44.890209',\n",
       "       '13:10:04.103182', '13:11:46.415231', '13:07:04.193627',\n",
       "       '14:12:42.507750', '13:10:42.271550', '13:11:16.205271',\n",
       "       '16:43:00.098733', '16:36:25.621824', '16:37:52.214826',\n",
       "       '11:39:02.565151', '11:38:27.304854', '16:40:49.679154',\n",
       "       '08:11:41.319776', '15:24:22.631439', '17:49:49.673854',\n",
       "       '17:08:00.644414', '13:03:54.953610', '17:34:55.943886',\n",
       "       '20:28:38.237708', '20:29:04.781395', '11:41:39.998690',\n",
       "       '02:18:38.395594', '21:04:41.193983', '21:20:26.600926',\n",
       "       '00:05:56.124812', '00:06:12.234213', '11:40:10.893001',\n",
       "       '11:41:27.088444', '17:21:19.248188', '17:17:47.888737',\n",
       "       '08:19:57.400850', '08:19:38.888343', '08:21:12.757098',\n",
       "       '09:01:22.616764', '08:39:00.995187', '11:17:51.158171',\n",
       "       '08:39:32.097711', '08:38:47.961371', '17:04:27.834356',\n",
       "       '13:20:46.248797', '13:28:22.095090', '13:45:52.771504',\n",
       "       '20:00:37.485626', '07:03:07.660748', '13:45:55.139688',\n",
       "       '22:22:54.001923', '13:51:59.677713', '22:26:09.466177',\n",
       "       '19:20:42.335154', '20:50:15.415907', '16:43:18.668169',\n",
       "       '12:24:02.991277', '21:15:42.186752', '13:59:29.984685',\n",
       "       '16:31:53.302996', '16:31:47.248758', '16:32:04.726379',\n",
       "       '16:26:19.375296', '16:24:56.768270', '16:25:27.552569',\n",
       "       '11:50:28.327435', '11:26:05.136668', '11:26:21.411912',\n",
       "       '10:00:20.288243', '11:30:05.654597', '11:30:05.218309',\n",
       "       '11:21:07.104734', '11:21:28.521102', '11:31:41.006348',\n",
       "       '11:31:20.260563', '12:10:11.457846', '09:10:17.807631',\n",
       "       '12:10:01.676310', '13:07:09.027607', '13:10:29.732143',\n",
       "       '13:06:50.669703', '13:08:34.040388', '13:11:17.011857',\n",
       "       '13:10:55.330518', '13:41:13.007252', '13:40:05.205516',\n",
       "       '14:01:15.919561', '18:29:02.005722', '17:15:19.708238',\n",
       "       '12:21:59.726999', '12:26:08.759717', '03:15:52.476829',\n",
       "       '13:40:24.628450', '13:51:56.369053', '14:11:24.056885',\n",
       "       '12:19:09.677863', '12:18:42.865904', '12:18:26.222539',\n",
       "       '12:15:54.700273', '14:17:35.994176', '16:44:10.080315',\n",
       "       '12:13:25.598744', '12:16:29.828618', '21:29:32.261070',\n",
       "       '21:31:55.341893', '21:05:19.693496', '13:57:00.056863',\n",
       "       '17:28:27.243733', '20:54:02.451443', '12:32:16.584826',\n",
       "       '13:15:33.680225', '13:16:07.908911', '15:47:28.494721',\n",
       "       '15:46:05.559643', '15:45:26.429863', '15:47:50.609225',\n",
       "       '13:12:09.098130', '13:12:29.030793', '07:45:16.370457',\n",
       "       '09:50:49.452469', '06:19:19.187063', '06:32:30.856773',\n",
       "       '22:38:35.425275', '14:38:32.283676', '13:30:04.912112',\n",
       "       '05:33:28.463644', '18:54:36.055148', '18:53:22.240806',\n",
       "       '20:21:00.648852', '08:56:15.476485', '07:24:11.450111',\n",
       "       '12:39:23.083496', '12:39:20.647277', '13:40:27.244212',\n",
       "       '01:26:26.389680', '19:35:46.968570', '05:39:04.202801',\n",
       "       '05:38:23.419739', '23:28:44.858263', '21:54:55.261884',\n",
       "       '13:03:22.590898', '21:41:47.900182', '21:41:30.488620',\n",
       "       '10:37:30.731697', '13:47:17.747490', '13:27:34.087474',\n",
       "       '14:44:32.474071', '15:46:28.540721', '19:10:20.517084',\n",
       "       '11:35:05.132975', '19:33:17.724175', '14:04:07.119791',\n",
       "       '12:53:45.609107', '12:36:12.789221', '11:53:25.220503',\n",
       "       '15:52:37.106540', '12:45:28.983980', '11:00:49.069088',\n",
       "       '11:46:49.289262', '15:15:27.648920', '15:11:17.883843',\n",
       "       '13:34:02.352858', '15:22:14.841288', '16:11:32.796701',\n",
       "       '13:40:41.651137', '14:06:35.178439'], dtype=object)"
      ]
     },
     "execution_count": 135,
     "metadata": {},
     "output_type": "execute_result"
    }
   ],
   "source": [
    "df_final[\"comment_time\"].unique()"
   ]
  },
  {
   "cell_type": "code",
   "execution_count": 136,
   "id": "e3c80ff5",
   "metadata": {},
   "outputs": [],
   "source": [
    "df_final['Comment Hour'] = df_final['comment_time'].str[0:2]"
   ]
  },
  {
   "cell_type": "code",
   "execution_count": 137,
   "id": "eaa81e7f",
   "metadata": {},
   "outputs": [],
   "source": [
    "df_final['Comment Minute'] = df_final['comment_time'].str[3:5]"
   ]
  },
  {
   "cell_type": "code",
   "execution_count": 138,
   "id": "271c6a1d",
   "metadata": {},
   "outputs": [],
   "source": [
    "df_final['Comment Second'] = df_final['comment_time'].str[6:]"
   ]
  },
  {
   "cell_type": "code",
   "execution_count": 139,
   "id": "824a404e",
   "metadata": {},
   "outputs": [],
   "source": [
    "df_final.rename(columns={'competition_enrollement_day': 'competition_enrollment_day'},  inplace = True)"
   ]
  },
  {
   "cell_type": "code",
   "execution_count": 140,
   "id": "872da0d3",
   "metadata": {},
   "outputs": [
    {
     "data": {
      "text/plain": [
       "20294"
      ]
     },
     "execution_count": 140,
     "metadata": {},
     "output_type": "execute_result"
    }
   ],
   "source": [
    "df_final['Comment Hour'].isna().sum()"
   ]
  },
  {
   "cell_type": "code",
   "execution_count": 141,
   "id": "7a7ed74a",
   "metadata": {},
   "outputs": [
    {
     "data": {
      "text/plain": [
       "array([nan, '16', '13', '18', '17', '00', '06', '15', '05', '20', '07',\n",
       "       '04', '10', '14', '12', '22', '21', '19', '08', '11', '23', '09',\n",
       "       '01', '02', '03'], dtype=object)"
      ]
     },
     "execution_count": 141,
     "metadata": {},
     "output_type": "execute_result"
    }
   ],
   "source": [
    "df_final['Comment Hour'].unique()"
   ]
  },
  {
   "cell_type": "code",
   "execution_count": 142,
   "id": "90a2684d",
   "metadata": {},
   "outputs": [],
   "source": [
    "df_final['Comment Hour'].fillna(-1, inplace = True)"
   ]
  },
  {
   "cell_type": "code",
   "execution_count": 143,
   "id": "fd2d288b",
   "metadata": {},
   "outputs": [
    {
     "data": {
      "text/plain": [
       "20294"
      ]
     },
     "execution_count": 143,
     "metadata": {},
     "output_type": "execute_result"
    }
   ],
   "source": [
    "df_final['Comment Minute'].isna().sum()"
   ]
  },
  {
   "cell_type": "code",
   "execution_count": 144,
   "id": "2eaefc3a",
   "metadata": {},
   "outputs": [
    {
     "data": {
      "text/plain": [
       "array([nan, '18', '28', '42', '30', '57', '11', '55', '06', '36', '12',\n",
       "       '16', '01', '31', '04', '52', '51', '54', '10', '17', '02', '08',\n",
       "       '47', '56', '29', '32', '53', '40', '49', '50', '05', '03', '44',\n",
       "       '33', '27', '38', '59', '37', '07', '35', '15', '41', '00', '09',\n",
       "       '14', '13', '58', '19', '22', '20', '34', '25', '39', '24', '43',\n",
       "       '21', '23', '48', '26', '45', '46'], dtype=object)"
      ]
     },
     "execution_count": 144,
     "metadata": {},
     "output_type": "execute_result"
    }
   ],
   "source": [
    "df_final['Comment Minute'].unique()"
   ]
  },
  {
   "cell_type": "code",
   "execution_count": 145,
   "id": "db33e421",
   "metadata": {},
   "outputs": [],
   "source": [
    "df_final['Comment Minute'].fillna(-1, inplace = True)"
   ]
  },
  {
   "cell_type": "code",
   "execution_count": 146,
   "id": "e971265a",
   "metadata": {},
   "outputs": [
    {
     "data": {
      "text/plain": [
       "20294"
      ]
     },
     "execution_count": 146,
     "metadata": {},
     "output_type": "execute_result"
    }
   ],
   "source": [
    "df_final['Comment Second'].isna().sum()"
   ]
  },
  {
   "cell_type": "code",
   "execution_count": 147,
   "id": "050d7b26",
   "metadata": {},
   "outputs": [
    {
     "data": {
      "text/plain": [
       "array([nan, '44.841697', '47.950841', '17.362333', '40.566763',\n",
       "       '54.540062', '14.803404', '25.314720', '00.421045', '14.246596',\n",
       "       '20.487510', '27.399835', '21.738170', '15.324733', '23.850937',\n",
       "       '23.607974', '06.787861', '36.568373', '57.277821', '08.952569',\n",
       "       '31.876264', '58.057413', '39.639913', '08.642788', '06.110932',\n",
       "       '12.801487', '51.545438', '22.419127', '30.010734', '24.835888',\n",
       "       '45.129685', '11.086669', '55.287683', '21.336571', '35.809671',\n",
       "       '19.323816', '45.851203', '52.210103', '39.579835', '38.436559',\n",
       "       '36.148890', '42.816479', '39.826050', '29.318252', '00.954715',\n",
       "       '59.922062', '57.026183', '16.641999', '29.436142', '30.888350',\n",
       "       '54.620654', '15.801995', '18.173805', '10.991962', '48.364815',\n",
       "       '30.305110', '12.616747', '28.299566', '50.084484', '39.055834',\n",
       "       '20.448348', '41.962152', '35.234312', '33.090172', '11.017713',\n",
       "       '11.040784', '52.068486', '28.808367', '14.135013', '47.479774',\n",
       "       '42.161055', '16.300729', '35.821598', '06.964410', '57.998142',\n",
       "       '49.793666', '16.533074', '12.258256', '36.593509', '39.609226',\n",
       "       '18.479293', '50.583076', '59.115587', '42.816791', '09.657202',\n",
       "       '05.775181', '11.057528', '12.931678', '21.636178', '53.205806',\n",
       "       '17.237284', '29.011888', '26.723449', '41.954861', '10.064130',\n",
       "       '11.069614', '28.066001', '56.007856', '02.068795', '38.522913',\n",
       "       '41.020703', '31.094417', '25.320650', '14.400097', '34.966462',\n",
       "       '57.950106', '36.266657', '18.495332', '26.671915', '27.521179',\n",
       "       '24.890261', '33.938676', '10.790108', '18.636210', '57.704191',\n",
       "       '39.318181', '34.495882', '53.687012', '32.530473', '38.747046',\n",
       "       '34.942994', '55.223702', '28.069853', '55.476546', '19.116600',\n",
       "       '53.824530', '02.048703', '46.084565', '02.624547', '27.211661',\n",
       "       '53.020128', '58.602412', '00.958430', '27.462026', '22.893628',\n",
       "       '36.933708', '10.994288', '37.574965', '15.484417', '52.154051',\n",
       "       '31.071509', '44.323067', '59.024526', '22.496859', '17.026672',\n",
       "       '12.816570', '47.334444', '51.135003', '16.674050', '31.608805',\n",
       "       '22.833278', '29.410077', '57.219136', '39.862158', '09.171667',\n",
       "       '58.148485', '13.521295', '48.668399', '22.141143', '52.010276',\n",
       "       '24.258856', '09.972588', '33.323194', '47.876925', '23.789335',\n",
       "       '09.785343', '57.815832', '16.308599', '03.488527', '50.891849',\n",
       "       '47.395274', '57.765568', '39.380553', '53.367161', '45.916165',\n",
       "       '27.311025', '59.356596', '36.998123', '53.777528', '44.866646',\n",
       "       '52.803101', '04.284413', '58.928898', '11.757033', '07.103469',\n",
       "       '29.793375', '04.923578', '31.546834', '47.360368', '17.551794',\n",
       "       '21.221884', '26.519319', '36.504694', '36.947369', '03.127284',\n",
       "       '22.746844', '40.657983', '32.294268', '00.213384', '49.303705',\n",
       "       '20.904019', '05.468738', '44.598924', '27.412579', '59.589201',\n",
       "       '59.966114', '51.415412', '25.147138', '42.628876', '59.735726',\n",
       "       '18.265020', '30.893264', '00.893455', '28.796500', '29.372020',\n",
       "       '22.565241', '31.027846', '55.154458', '15.425524', '25.127721',\n",
       "       '15.307066', '47.521552', '30.376923', '15.768859', '38.912235',\n",
       "       '33.234257', '34.418505', '34.555138', '53.960347', '36.218654',\n",
       "       '12.277935', '28.611492', '48.220988', '25.588963', '49.569630',\n",
       "       '31.115386', '27.078445', '33.348763', '35.587692', '54.198957',\n",
       "       '35.697858', '10.643299', '21.945538', '45.723878', '51.947901',\n",
       "       '42.684900', '18.833744', '08.387314', '08.664638', '07.528371',\n",
       "       '07.721902', '45.392101', '53.346653', '15.948748', '19.257639',\n",
       "       '28.088279', '04.475362', '53.193433', '50.953854', '17.600235',\n",
       "       '11.255739', '26.353665', '12.207026', '42.317368', '33.365556',\n",
       "       '01.893815', '29.398960', '03.509498', '44.326495', '27.394494',\n",
       "       '31.700113', '10.121392', '25.956483', '28.982109', '37.956139',\n",
       "       '07.393508', '59.774921', '11.781084', '56.238171', '45.259549',\n",
       "       '17.520893', '30.130430', '54.417655', '11.553244', '01.760928',\n",
       "       '12.355355', '40.387684', '22.921991', '38.457749', '21.276279',\n",
       "       '14.473284', '32.030200', '43.422770', '11.724669', '36.079361',\n",
       "       '46.508759', '58.828423', '21.441646', '58.814069', '19.542011',\n",
       "       '58.765493', '15.416093', '14.351521', '33.247677', '25.593290',\n",
       "       '13.488213', '44.890209', '04.103182', '46.415231', '04.193627',\n",
       "       '42.507750', '42.271550', '16.205271', '00.098733', '25.621824',\n",
       "       '52.214826', '02.565151', '27.304854', '49.679154', '41.319776',\n",
       "       '22.631439', '49.673854', '00.644414', '54.953610', '55.943886',\n",
       "       '38.237708', '04.781395', '39.998690', '38.395594', '41.193983',\n",
       "       '26.600926', '56.124812', '12.234213', '10.893001', '27.088444',\n",
       "       '19.248188', '47.888737', '57.400850', '38.888343', '12.757098',\n",
       "       '22.616764', '00.995187', '51.158171', '32.097711', '47.961371',\n",
       "       '27.834356', '46.248797', '22.095090', '52.771504', '37.485626',\n",
       "       '07.660748', '55.139688', '54.001923', '59.677713', '09.466177',\n",
       "       '42.335154', '15.415907', '18.668169', '02.991277', '42.186752',\n",
       "       '29.984685', '53.302996', '47.248758', '04.726379', '19.375296',\n",
       "       '56.768270', '27.552569', '28.327435', '05.136668', '21.411912',\n",
       "       '20.288243', '05.654597', '05.218309', '07.104734', '28.521102',\n",
       "       '41.006348', '20.260563', '11.457846', '17.807631', '01.676310',\n",
       "       '09.027607', '29.732143', '50.669703', '34.040388', '17.011857',\n",
       "       '55.330518', '13.007252', '05.205516', '15.919561', '02.005722',\n",
       "       '19.708238', '59.726999', '08.759717', '52.476829', '24.628450',\n",
       "       '56.369053', '24.056885', '09.677863', '42.865904', '26.222539',\n",
       "       '54.700273', '35.994176', '10.080315', '25.598744', '29.828618',\n",
       "       '32.261070', '55.341893', '19.693496', '00.056863', '27.243733',\n",
       "       '02.451443', '16.584826', '33.680225', '07.908911', '28.494721',\n",
       "       '05.559643', '26.429863', '50.609225', '09.098130', '29.030793',\n",
       "       '16.370457', '49.452469', '19.187063', '30.856773', '35.425275',\n",
       "       '32.283676', '04.912112', '28.463644', '36.055148', '22.240806',\n",
       "       '00.648852', '15.476485', '11.450111', '23.083496', '20.647277',\n",
       "       '27.244212', '26.389680', '46.968570', '04.202801', '23.419739',\n",
       "       '44.858263', '55.261884', '22.590898', '47.900182', '30.488620',\n",
       "       '30.731697', '17.747490', '34.087474', '32.474071', '28.540721',\n",
       "       '20.517084', '05.132975', '17.724175', '07.119791', '45.609107',\n",
       "       '12.789221', '25.220503', '37.106540', '28.983980', '49.069088',\n",
       "       '49.289262', '27.648920', '17.883843', '02.352858', '14.841288',\n",
       "       '32.796701', '41.651137', '35.178439'], dtype=object)"
      ]
     },
     "execution_count": 147,
     "metadata": {},
     "output_type": "execute_result"
    }
   ],
   "source": [
    "df_final['Comment Second'].unique()"
   ]
  },
  {
   "cell_type": "code",
   "execution_count": 148,
   "id": "98dca0f5",
   "metadata": {},
   "outputs": [],
   "source": [
    "df_final['Comment Second'].fillna(-1, inplace = True)"
   ]
  },
  {
   "cell_type": "code",
   "execution_count": 149,
   "id": "bf422c98",
   "metadata": {},
   "outputs": [
    {
     "data": {
      "text/plain": [
       "array([nan, 11.,  3.,  5., 23., 19., 20., 14., 29.,  1., 16.,  9., 13.,\n",
       "       28.,  7., 24., 21., 15., 12., 17., 26., 25., 22., 18., 31.,  6.,\n",
       "        8.])"
      ]
     },
     "execution_count": 149,
     "metadata": {},
     "output_type": "execute_result"
    }
   ],
   "source": [
    "df_final['comment_day'].unique()"
   ]
  },
  {
   "cell_type": "code",
   "execution_count": 150,
   "id": "548840b5",
   "metadata": {},
   "outputs": [],
   "source": [
    "df_final['comment_day'].fillna(0, inplace = True)"
   ]
  },
  {
   "cell_type": "code",
   "execution_count": 151,
   "id": "e7f98e04",
   "metadata": {},
   "outputs": [],
   "source": [
    "df_final.drop('comment_time', axis=1, inplace=True)"
   ]
  },
  {
   "cell_type": "markdown",
   "id": "0031159c",
   "metadata": {},
   "source": [
    "In starting 6 columns, we can't use any other method to fill because majority of the columns are null and if first row is only null means we cant use interpolate or padding methods."
   ]
  },
  {
   "cell_type": "markdown",
   "id": "da599bbd",
   "metadata": {},
   "source": [
    "We are using average beacuse less rows are missing and since there are no teams participating in teams in the competation the values reamins 1."
   ]
  },
  {
   "cell_type": "code",
   "execution_count": 152,
   "id": "8e00f64b",
   "metadata": {},
   "outputs": [
    {
     "data": {
      "text/plain": [
       "11702"
      ]
     },
     "execution_count": 152,
     "metadata": {},
     "output_type": "execute_result"
    }
   ],
   "source": [
    "df_final['Participant Type'].isna().sum()"
   ]
  },
  {
   "cell_type": "code",
   "execution_count": 153,
   "id": "19c7bc29",
   "metadata": {},
   "outputs": [
    {
     "data": {
      "text/plain": [
       "array([ 1., nan])"
      ]
     },
     "execution_count": 153,
     "metadata": {},
     "output_type": "execute_result"
    }
   ],
   "source": [
    "df_final[\"Participant Type\"].unique()"
   ]
  },
  {
   "cell_type": "code",
   "execution_count": 154,
   "id": "33cf336e",
   "metadata": {},
   "outputs": [],
   "source": [
    "df_final['Participant Type'].fillna(0, inplace = True)"
   ]
  },
  {
   "cell_type": "code",
   "execution_count": 155,
   "id": "999010a6",
   "metadata": {},
   "outputs": [
    {
     "data": {
      "text/plain": [
       "array([nan, 'count 10', 'count 8', 'count 7', 'count 9', 'count 6',\n",
       "       'count 3', 'count 5', 'count 4'], dtype=object)"
      ]
     },
     "execution_count": 155,
     "metadata": {},
     "output_type": "execute_result"
    }
   ],
   "source": [
    "df_final[\"Successful Submission Count\"].unique()"
   ]
  },
  {
   "cell_type": "code",
   "execution_count": 156,
   "id": "fc5214b6",
   "metadata": {},
   "outputs": [
    {
     "data": {
      "text/plain": [
       "19189"
      ]
     },
     "execution_count": 156,
     "metadata": {},
     "output_type": "execute_result"
    }
   ],
   "source": [
    "df_final['Successful Submission Count'].isna().sum()"
   ]
  },
  {
   "cell_type": "code",
   "execution_count": 157,
   "id": "53b6a4b4",
   "metadata": {},
   "outputs": [],
   "source": [
    "df_final['Successful Submission Count'] = df_final['Successful Submission Count'].str[6:]"
   ]
  },
  {
   "cell_type": "code",
   "execution_count": 158,
   "id": "5b34c507",
   "metadata": {},
   "outputs": [],
   "source": [
    "df_final['Successful Submission Count'].fillna(0, inplace = True)"
   ]
  },
  {
   "cell_type": "code",
   "execution_count": 159,
   "id": "60a0d8cb",
   "metadata": {},
   "outputs": [],
   "source": [
    "df_final['competition enrollment hour'] = df_final['competition_enrollment_time'].str[0:2]"
   ]
  },
  {
   "cell_type": "code",
   "execution_count": 160,
   "id": "8f9c9af7",
   "metadata": {},
   "outputs": [],
   "source": [
    "df_final['competition enrollment minute'] = df_final['competition_enrollment_time'].str[3:5]"
   ]
  },
  {
   "cell_type": "code",
   "execution_count": 161,
   "id": "cb2a9f24",
   "metadata": {},
   "outputs": [],
   "source": [
    "df_final['competition enrollment second'] = df_final['competition_enrollment_time'].str[6:]"
   ]
  },
  {
   "cell_type": "code",
   "execution_count": 162,
   "id": "0cc19cda",
   "metadata": {},
   "outputs": [
    {
     "data": {
      "text/plain": [
       "11702"
      ]
     },
     "execution_count": 162,
     "metadata": {},
     "output_type": "execute_result"
    }
   ],
   "source": [
    "df_final['competition enrollment hour'].isna().sum()"
   ]
  },
  {
   "cell_type": "code",
   "execution_count": 163,
   "id": "2d3b3bd8",
   "metadata": {},
   "outputs": [
    {
     "data": {
      "text/plain": [
       "array(['10', nan, '18', '15', '01', '16', '17', '22', '13', '02', '05',\n",
       "       '07', '08', '19', '12', '09', '20', '21', '03', '23', '14', '06',\n",
       "       '11', '04', '00'], dtype=object)"
      ]
     },
     "execution_count": 163,
     "metadata": {},
     "output_type": "execute_result"
    }
   ],
   "source": [
    "df_final['competition enrollment hour'].unique()"
   ]
  },
  {
   "cell_type": "code",
   "execution_count": 164,
   "id": "eca361a8",
   "metadata": {},
   "outputs": [],
   "source": [
    "df_final['competition enrollment hour'].fillna(-1, inplace = True)"
   ]
  },
  {
   "cell_type": "code",
   "execution_count": 165,
   "id": "dcbd0e8b",
   "metadata": {},
   "outputs": [
    {
     "data": {
      "text/plain": [
       "11702"
      ]
     },
     "execution_count": 165,
     "metadata": {},
     "output_type": "execute_result"
    }
   ],
   "source": [
    "df_final['competition enrollment minute'].isna().sum()"
   ]
  },
  {
   "cell_type": "code",
   "execution_count": 166,
   "id": "d5950cbe",
   "metadata": {},
   "outputs": [
    {
     "data": {
      "text/plain": [
       "array(['53', nan, '57', '49', '34', '07', '22', '59', '18', '45', '19',\n",
       "       '55', '44', '15', '12', '29', '50', '51', '30', '38', '37', '41',\n",
       "       '42', '47', '36', '09', '01', '00', '02', '11', '39', '08', '28',\n",
       "       '23', '46', '26', '40', '25', '43', '33', '31', '16', '06', '32',\n",
       "       '13', '20', '54', '58', '24', '04', '17', '21', '35', '48', '52',\n",
       "       '05', '03', '10', '27', '56', '14'], dtype=object)"
      ]
     },
     "execution_count": 166,
     "metadata": {},
     "output_type": "execute_result"
    }
   ],
   "source": [
    "df_final['competition enrollment minute'].unique()"
   ]
  },
  {
   "cell_type": "code",
   "execution_count": 167,
   "id": "344d38be",
   "metadata": {},
   "outputs": [],
   "source": [
    "df_final['competition enrollment minute'].fillna(-1, inplace = True)"
   ]
  },
  {
   "cell_type": "code",
   "execution_count": 168,
   "id": "53c75bce",
   "metadata": {},
   "outputs": [
    {
     "data": {
      "text/plain": [
       "11702"
      ]
     },
     "execution_count": 168,
     "metadata": {},
     "output_type": "execute_result"
    }
   ],
   "source": [
    "df_final['competition enrollment second'].isna().sum()"
   ]
  },
  {
   "cell_type": "code",
   "execution_count": 169,
   "id": "31838a58",
   "metadata": {},
   "outputs": [
    {
     "data": {
      "text/plain": [
       "array(['52.558030', nan, '59.998938', ..., '36.511271', '22.978880',\n",
       "       '17.682554'], dtype=object)"
      ]
     },
     "execution_count": 169,
     "metadata": {},
     "output_type": "execute_result"
    }
   ],
   "source": [
    "df_final['competition enrollment second'].unique()"
   ]
  },
  {
   "cell_type": "code",
   "execution_count": 170,
   "id": "a3807f2b",
   "metadata": {},
   "outputs": [],
   "source": [
    "df_final['competition enrollment second'].fillna(-1, inplace = True)"
   ]
  },
  {
   "cell_type": "code",
   "execution_count": 171,
   "id": "389ec48b",
   "metadata": {},
   "outputs": [],
   "source": [
    "df_final.drop('competition_enrollment_time', axis=1, inplace=True)"
   ]
  },
  {
   "cell_type": "code",
   "execution_count": 172,
   "id": "cfb08778",
   "metadata": {},
   "outputs": [
    {
     "data": {
      "text/plain": [
       "array([28., nan, 12.,  8., 17., 19.,  9., 29., 11.,  7.,  1.,  2., 30.,\n",
       "       13., 21., 31.,  3., 10., 20., 26., 27., 16., 14., 25., 23.,  4.,\n",
       "        5., 15., 18., 24., 22.,  6.])"
      ]
     },
     "execution_count": 172,
     "metadata": {},
     "output_type": "execute_result"
    }
   ],
   "source": [
    "df_final['competition_enrollment_day'].unique()"
   ]
  },
  {
   "cell_type": "code",
   "execution_count": 173,
   "id": "2c878b97",
   "metadata": {},
   "outputs": [],
   "source": [
    "df_final['competition_enrollment_day'].fillna(0, inplace = True)"
   ]
  },
  {
   "cell_type": "code",
   "execution_count": 174,
   "id": "9d9d90d8",
   "metadata": {},
   "outputs": [
    {
     "data": {
      "text/plain": [
       "11702"
      ]
     },
     "execution_count": 174,
     "metadata": {},
     "output_type": "execute_result"
    }
   ],
   "source": [
    "df_final['FeatureA'].isna().sum()"
   ]
  },
  {
   "cell_type": "code",
   "execution_count": 175,
   "id": "fa424d3e",
   "metadata": {},
   "outputs": [
    {
     "data": {
      "text/plain": [
       "array(['[]', nan, '[1]', '[2]', '[1, 7]', '[5]', '[4]', '[1, 6]',\n",
       "       '[2, 4]', '[7]', '[3]', '[3, 2]', '[4, 2]', '[3, 7]', '[2, 3]',\n",
       "       '[4, 7, 2]', '[1, 9]', '[2, 4, 5]', '[5, 4]', '[5, 2]',\n",
       "       '[1, 4, 5]', '[8]', '[2, 7]', '[1, 5, 4]', '[7, 3, 2]'],\n",
       "      dtype=object)"
      ]
     },
     "execution_count": 175,
     "metadata": {},
     "output_type": "execute_result"
    }
   ],
   "source": [
    "df_final['FeatureA'].unique()"
   ]
  },
  {
   "cell_type": "code",
   "execution_count": 176,
   "id": "173a1668",
   "metadata": {},
   "outputs": [],
   "source": [
    "df_final['FeatureA'].fillna('[-1]', inplace = True)"
   ]
  },
  {
   "cell_type": "code",
   "execution_count": 177,
   "id": "0f61033d",
   "metadata": {},
   "outputs": [],
   "source": [
    "df_final['FeatureA'] = df_final.FeatureA.map(ast.literal_eval)"
   ]
  },
  {
   "cell_type": "code",
   "execution_count": 178,
   "id": "2aa56679",
   "metadata": {},
   "outputs": [
    {
     "data": {
      "text/plain": [
       "array(['[]', nan, '[5]', '[15]', '[9]', '[16]', '[14]', '[7, 5]', '[7]',\n",
       "       '[2]', '[1]', '[5, 6]', '[6]', '[12, 16]', '[10]', '[12]',\n",
       "       '[5, 7]', '[14, 7]', '[14, 8]'], dtype=object)"
      ]
     },
     "execution_count": 178,
     "metadata": {},
     "output_type": "execute_result"
    }
   ],
   "source": [
    "df_final['FeatureB'].unique()"
   ]
  },
  {
   "cell_type": "code",
   "execution_count": 179,
   "id": "0d2e61c4",
   "metadata": {},
   "outputs": [],
   "source": [
    "df_final['FeatureB'].fillna('[-1]', inplace = True)"
   ]
  },
  {
   "cell_type": "code",
   "execution_count": 180,
   "id": "1a28ef18",
   "metadata": {},
   "outputs": [],
   "source": [
    "df_final['FeatureB'] = df_final.FeatureB.map(ast.literal_eval)"
   ]
  },
  {
   "cell_type": "code",
   "execution_count": 181,
   "id": "7f1959ba",
   "metadata": {},
   "outputs": [
    {
     "data": {
      "text/plain": [
       "array([nan, 28.,  4.,  2., 10.,  5., 15., 29.,  1.,  6., 11., 13.,  7.,\n",
       "       24., 14., 35.,  8.,  9., 31.,  3., 16., 25., 27., 20., 26., 37.,\n",
       "       12., 18., 17.])"
      ]
     },
     "execution_count": 181,
     "metadata": {},
     "output_type": "execute_result"
    }
   ],
   "source": [
    "df_final['FeatureC'].unique()"
   ]
  },
  {
   "cell_type": "code",
   "execution_count": 182,
   "id": "95be403d",
   "metadata": {},
   "outputs": [],
   "source": [
    "df_final['FeatureC'].fillna(-1, inplace = True)"
   ]
  },
  {
   "cell_type": "code",
   "execution_count": 183,
   "id": "5bf0c2a7",
   "metadata": {},
   "outputs": [
    {
     "data": {
      "text/plain": [
       "array([ 0., nan,  1.])"
      ]
     },
     "execution_count": 183,
     "metadata": {},
     "output_type": "execute_result"
    }
   ],
   "source": [
    "df_final['FeatureD'].unique()"
   ]
  },
  {
   "cell_type": "code",
   "execution_count": 184,
   "id": "c8165638",
   "metadata": {},
   "outputs": [],
   "source": [
    "df_final['FeatureD'].fillna(-1, inplace = True)"
   ]
  },
  {
   "cell_type": "code",
   "execution_count": 185,
   "id": "bea84a69",
   "metadata": {},
   "outputs": [
    {
     "data": {
      "text/plain": [
       "array([ 3., nan,  2.,  1.])"
      ]
     },
     "execution_count": 185,
     "metadata": {},
     "output_type": "execute_result"
    }
   ],
   "source": [
    "df_final['FeatureE'].unique()"
   ]
  },
  {
   "cell_type": "code",
   "execution_count": 186,
   "id": "14e47be1",
   "metadata": {},
   "outputs": [],
   "source": [
    "df_final['FeatureE'].fillna(-1, inplace = True)"
   ]
  },
  {
   "cell_type": "code",
   "execution_count": 187,
   "id": "e86ce0a6",
   "metadata": {},
   "outputs": [
    {
     "data": {
      "text/plain": [
       "array(['[]', nan, '[7]', '[10]', '[1]', '[2]', '[2, 3]', '[3]', '[2, 8]',\n",
       "       '[15]', '[6]', '[3, 2]', '[1, 5]', '[9]', '[2, 11]', '[1, 12]',\n",
       "       '[1, 3]', '[2, 13]', '[3, 1]', '[2, 1]', '[8]', '[1, 11]'],\n",
       "      dtype=object)"
      ]
     },
     "execution_count": 187,
     "metadata": {},
     "output_type": "execute_result"
    }
   ],
   "source": [
    "df_final['FeatureF'].unique()"
   ]
  },
  {
   "cell_type": "code",
   "execution_count": 188,
   "id": "7ff2c5fe",
   "metadata": {},
   "outputs": [],
   "source": [
    "df_final['FeatureF'].fillna('[-1]', inplace = True)"
   ]
  },
  {
   "cell_type": "code",
   "execution_count": 189,
   "id": "0ee10e97",
   "metadata": {},
   "outputs": [],
   "source": [
    "df_final['FeatureF'] = df_final.FeatureF.map(ast.literal_eval)"
   ]
  },
  {
   "cell_type": "code",
   "execution_count": 190,
   "id": "06c6d03b",
   "metadata": {},
   "outputs": [
    {
     "data": {
      "text/plain": [
       "array(['[5]', nan, '[4]', '[3]', '[]', '[5, 3, 4]'], dtype=object)"
      ]
     },
     "execution_count": 190,
     "metadata": {},
     "output_type": "execute_result"
    }
   ],
   "source": [
    "df_final['FeatureG'].unique()"
   ]
  },
  {
   "cell_type": "code",
   "execution_count": 191,
   "id": "d0abe41a",
   "metadata": {},
   "outputs": [],
   "source": [
    "df_final['FeatureG'].fillna('[-1]', inplace = True)"
   ]
  },
  {
   "cell_type": "code",
   "execution_count": 192,
   "id": "854a4de3",
   "metadata": {},
   "outputs": [],
   "source": [
    "df_final['FeatureG'] = df_final.FeatureG.map(ast.literal_eval)"
   ]
  },
  {
   "cell_type": "code",
   "execution_count": 193,
   "id": "78cc5f1e",
   "metadata": {},
   "outputs": [
    {
     "data": {
      "text/plain": [
       "array(['[1]', nan, '[]', '[10]', '[2]', '[3, 2]', '[2, 3]', '[3]', '[6]',\n",
       "       '[7]', '[8, 10]', '[9]', '[1, 3]', '[2, 8]', '[3, 1]', '[2, 1]',\n",
       "       '[8]'], dtype=object)"
      ]
     },
     "execution_count": 193,
     "metadata": {},
     "output_type": "execute_result"
    }
   ],
   "source": [
    "df_final['FeatureH'].unique()"
   ]
  },
  {
   "cell_type": "code",
   "execution_count": 194,
   "id": "a9f33892",
   "metadata": {},
   "outputs": [],
   "source": [
    "df_final['FeatureH'].fillna('[-1]', inplace = True)"
   ]
  },
  {
   "cell_type": "code",
   "execution_count": 195,
   "id": "eacb0bd5",
   "metadata": {},
   "outputs": [],
   "source": [
    "df_final['FeatureH'] = df_final.FeatureH.map(ast.literal_eval)"
   ]
  },
  {
   "cell_type": "code",
   "execution_count": 196,
   "id": "c8099462",
   "metadata": {},
   "outputs": [
    {
     "data": {
      "text/plain": [
       "array([31., nan, 29., 28.,  4.,  2., 10.,  5., 15.,  1.,  6., 33., 11.,\n",
       "       13.,  7., 24., 14., 35.,  8.,  9.,  3., 16., 25., 27., 20., 26.,\n",
       "       37., 12., 18., 17.])"
      ]
     },
     "execution_count": 196,
     "metadata": {},
     "output_type": "execute_result"
    }
   ],
   "source": [
    "df_final['FeatureI'].unique()"
   ]
  },
  {
   "cell_type": "code",
   "execution_count": 197,
   "id": "452eaaa3",
   "metadata": {},
   "outputs": [],
   "source": [
    "df_final['FeatureI'].fillna(-1, inplace = True)"
   ]
  },
  {
   "cell_type": "code",
   "execution_count": 198,
   "id": "1626e422",
   "metadata": {},
   "outputs": [
    {
     "data": {
      "text/plain": [
       "array([ 0.,  1., nan])"
      ]
     },
     "execution_count": 198,
     "metadata": {},
     "output_type": "execute_result"
    }
   ],
   "source": [
    "df_final['FeatureX'].unique()"
   ]
  },
  {
   "cell_type": "code",
   "execution_count": 199,
   "id": "b1eb2904",
   "metadata": {},
   "outputs": [],
   "source": [
    "df_final['FeatureX'].fillna(-1, inplace = True)"
   ]
  },
  {
   "cell_type": "code",
   "execution_count": 200,
   "id": "78bcc98f",
   "metadata": {},
   "outputs": [
    {
     "data": {
      "text/plain": [
       "array([ 0.,  1., nan,  3.])"
      ]
     },
     "execution_count": 200,
     "metadata": {},
     "output_type": "execute_result"
    }
   ],
   "source": [
    "df_final['FeatureY'].unique()"
   ]
  },
  {
   "cell_type": "code",
   "execution_count": 201,
   "id": "f2c85e50",
   "metadata": {},
   "outputs": [],
   "source": [
    "df_final['FeatureY'].fillna(-1, inplace = True)"
   ]
  },
  {
   "cell_type": "code",
   "execution_count": null,
   "id": "8d810851",
   "metadata": {},
   "outputs": [],
   "source": [
    "for i in range(len(df_final)):\n",
    "    arr = df_final.loc[i, \"FeatureA\"]\n",
    "    mean = np.mean(arr)\n",
    "    df_final.loc[i, \"FeatureA\"] = mean\n",
    "    arr = df_final.loc[i, \"FeatureB\"]\n",
    "    mean = np.mean(arr)\n",
    "    df_final.loc[i, \"FeatureB\"] = mean\n",
    "    arr = df_final.loc[i, \"FeatureF\"]\n",
    "    mean = np.mean(arr)\n",
    "    df_final.loc[i, \"FeatureF\"] = mean\n",
    "    arr = df_final.loc[i, \"FeatureG\"]\n",
    "    mean = np.mean(arr)\n",
    "    df_final.loc[i, \"FeatureG\"] = mean\n",
    "    arr = df_final.loc[i, \"FeatureH\"]\n",
    "    mean = np.mean(arr)\n",
    "    df_final.loc[i, \"FeatureH\"] = mean"
   ]
  },
  {
   "cell_type": "code",
   "execution_count": null,
   "id": "4c6cec9c",
   "metadata": {},
   "outputs": [],
   "source": [
    "df_final['SecretCode'].isna().sum()"
   ]
  },
  {
   "cell_type": "code",
   "execution_count": 203,
   "id": "c1e26e24",
   "metadata": {},
   "outputs": [
    {
     "data": {
      "text/plain": [
       "array([ 1., nan,  0.])"
      ]
     },
     "execution_count": 203,
     "metadata": {},
     "output_type": "execute_result"
    }
   ],
   "source": [
    "df_final['SecretCode'].unique()"
   ]
  },
  {
   "cell_type": "code",
   "execution_count": 204,
   "id": "ba7de0e4",
   "metadata": {},
   "outputs": [],
   "source": [
    "df_final['SecretCode'].fillna(-1, inplace = True)"
   ]
  },
  {
   "cell_type": "code",
   "execution_count": 205,
   "id": "28d4770a",
   "metadata": {},
   "outputs": [
    {
     "data": {
      "text/plain": [
       "array(['22:59:00', nan, '23:59:00', '12:00:00', '11:59:00', '15:00:00',\n",
       "       '16:00:00', '06:00:00', '23:09:00', '00:00:00', '07:00:00',\n",
       "       '05:59:00', '14:00:00', '23:30:00', '11:00:00', '02:00:00',\n",
       "       '18:00:00', '09:30:00'], dtype=object)"
      ]
     },
     "execution_count": 205,
     "metadata": {},
     "output_type": "execute_result"
    }
   ],
   "source": [
    "df_final['competition_ended_time'].unique()"
   ]
  },
  {
   "cell_type": "code",
   "execution_count": 206,
   "id": "a5c5f5ea",
   "metadata": {},
   "outputs": [],
   "source": [
    "df_final['competition ended hour'] = df_final['competition_ended_time'].str[0:2]\n",
    "df_final['competition ended minute'] = df_final['competition_ended_time'].str[3:5]\n",
    "df_final['competition ended second'] = df_final['competition_ended_time'].str[6:]"
   ]
  },
  {
   "cell_type": "code",
   "execution_count": 424,
   "id": "2573f1dd",
   "metadata": {},
   "outputs": [
    {
     "data": {
      "text/plain": [
       "13916"
      ]
     },
     "execution_count": 424,
     "metadata": {},
     "output_type": "execute_result"
    }
   ],
   "source": [
    "df_final['competition ended hour'].isna().sum()"
   ]
  },
  {
   "cell_type": "code",
   "execution_count": 425,
   "id": "d61e3dfe",
   "metadata": {},
   "outputs": [
    {
     "data": {
      "text/plain": [
       "array(['22', nan, '23', '12', '11', '15', '16', '06', '00', '07', '05',\n",
       "       '14', '02', '18', '09'], dtype=object)"
      ]
     },
     "execution_count": 425,
     "metadata": {},
     "output_type": "execute_result"
    }
   ],
   "source": [
    "df_final['competition ended hour'].unique()"
   ]
  },
  {
   "cell_type": "code",
   "execution_count": 426,
   "id": "03f5bc99",
   "metadata": {},
   "outputs": [],
   "source": [
    "df_final['competition ended hour'].fillna(-1, inplace = True)"
   ]
  },
  {
   "cell_type": "code",
   "execution_count": 427,
   "id": "27abb6b4",
   "metadata": {},
   "outputs": [
    {
     "data": {
      "text/plain": [
       "13916"
      ]
     },
     "execution_count": 427,
     "metadata": {},
     "output_type": "execute_result"
    }
   ],
   "source": [
    "df_final['competition ended minute'].isna().sum()"
   ]
  },
  {
   "cell_type": "code",
   "execution_count": 428,
   "id": "b0dc6339",
   "metadata": {},
   "outputs": [
    {
     "data": {
      "text/plain": [
       "array(['59', nan, '00', '09', '30'], dtype=object)"
      ]
     },
     "execution_count": 428,
     "metadata": {},
     "output_type": "execute_result"
    }
   ],
   "source": [
    "df_final['competition ended minute'].unique()"
   ]
  },
  {
   "cell_type": "code",
   "execution_count": 429,
   "id": "9dc923f1",
   "metadata": {},
   "outputs": [],
   "source": [
    "df_final['competition ended minute'].fillna(-1, inplace = True)"
   ]
  },
  {
   "cell_type": "code",
   "execution_count": 430,
   "id": "5149e6b7",
   "metadata": {},
   "outputs": [
    {
     "data": {
      "text/plain": [
       "13916"
      ]
     },
     "execution_count": 430,
     "metadata": {},
     "output_type": "execute_result"
    }
   ],
   "source": [
    "df_final['competition ended second'].isna().sum()"
   ]
  },
  {
   "cell_type": "code",
   "execution_count": 431,
   "id": "1daf976d",
   "metadata": {},
   "outputs": [
    {
     "data": {
      "text/plain": [
       "array(['00', nan], dtype=object)"
      ]
     },
     "execution_count": 431,
     "metadata": {},
     "output_type": "execute_result"
    }
   ],
   "source": [
    "df_final['competition ended second'].unique()"
   ]
  },
  {
   "cell_type": "code",
   "execution_count": 432,
   "id": "8d6e8419",
   "metadata": {},
   "outputs": [],
   "source": [
    "df_final['competition ended second'].fillna(-1, inplace = True)"
   ]
  },
  {
   "cell_type": "code",
   "execution_count": 433,
   "id": "cd7dae07",
   "metadata": {},
   "outputs": [],
   "source": [
    "df_final.drop('competition_ended_time', axis=1, inplace=True)"
   ]
  },
  {
   "cell_type": "code",
   "execution_count": 434,
   "id": "8dc88c60",
   "metadata": {},
   "outputs": [
    {
     "data": {
      "text/plain": [
       "array([1.000e+00,       nan, 2.023e+03, 4.000e+00, 3.000e+00, 2.000e+00,\n",
       "       5.000e+00])"
      ]
     },
     "execution_count": 434,
     "metadata": {},
     "output_type": "execute_result"
    }
   ],
   "source": [
    "df_final['competition_ended_year'].unique()"
   ]
  },
  {
   "cell_type": "code",
   "execution_count": 435,
   "id": "c55ac0fc",
   "metadata": {},
   "outputs": [],
   "source": [
    "df_final['competition_ended_year'].fillna(0, inplace = True)"
   ]
  },
  {
   "cell_type": "code",
   "execution_count": 436,
   "id": "b2811b01",
   "metadata": {},
   "outputs": [
    {
     "data": {
      "text/plain": [
       "array([ 2., nan,  3.,  5.,  7.,  1., 10.,  4.,  9.,  6.,  8., 12., 11.])"
      ]
     },
     "execution_count": 436,
     "metadata": {},
     "output_type": "execute_result"
    }
   ],
   "source": [
    "df_final['competition_ended_month'].unique()"
   ]
  },
  {
   "cell_type": "code",
   "execution_count": 437,
   "id": "fa2b466f",
   "metadata": {},
   "outputs": [],
   "source": [
    "df_final['competition_ended_month'].fillna(0, inplace = True)"
   ]
  },
  {
   "cell_type": "code",
   "execution_count": 438,
   "id": "2ceca791",
   "metadata": {},
   "outputs": [
    {
     "data": {
      "text/plain": [
       "array([ 3., nan, 28.,  7., 10.,  2.,  8., 26., 31.,  4.,  1., 24.,  5.,\n",
       "       14., 22., 23., 18., 30., 25., 12., 13., 19., 29., 21.,  6., 27.,\n",
       "       17., 15.,  9., 16., 20.])"
      ]
     },
     "execution_count": 438,
     "metadata": {},
     "output_type": "execute_result"
    }
   ],
   "source": [
    "df_final['competition_ended_day'].unique()"
   ]
  },
  {
   "cell_type": "code",
   "execution_count": 439,
   "id": "09832490",
   "metadata": {},
   "outputs": [],
   "source": [
    "df_final['competition_ended_day'].fillna(0, inplace = True)"
   ]
  },
  {
   "cell_type": "code",
   "execution_count": 440,
   "id": "22c426e7",
   "metadata": {},
   "outputs": [
    {
     "data": {
      "text/plain": [
       "array(['22:59:00', nan, '06:00:00', '08:00:00', '09:10:00', '02:00:00',\n",
       "       '07:00:00', '11:00:00', '05:00:00', '00:00:00', '05:13:00',\n",
       "       '23:00:00', '10:00:00', '23:59:00', '09:00:00', '00:01:00',\n",
       "       '10:30:00', '14:00:00', '12:00:00', '13:30:00', '15:00:00',\n",
       "       '04:00:00', '20:00:00', '09:30:00', '13:00:00', '01:59:00',\n",
       "       '17:00:00', '05:59:00'], dtype=object)"
      ]
     },
     "execution_count": 440,
     "metadata": {},
     "output_type": "execute_result"
    }
   ],
   "source": [
    "df_final['competition_started_time'].unique()"
   ]
  },
  {
   "cell_type": "code",
   "execution_count": 441,
   "id": "c28d4ad0",
   "metadata": {},
   "outputs": [],
   "source": [
    "df_final['competition started hour'] = df_final['competition_started_time'].str[0:2]\n",
    "df_final['competition started minute'] = df_final['competition_started_time'].str[3:5]\n",
    "df_final['competition started second'] = df_final['competition_started_time'].str[6:]"
   ]
  },
  {
   "cell_type": "code",
   "execution_count": 442,
   "id": "636b3d4b",
   "metadata": {},
   "outputs": [
    {
     "data": {
      "text/plain": [
       "11702"
      ]
     },
     "execution_count": 442,
     "metadata": {},
     "output_type": "execute_result"
    }
   ],
   "source": [
    "df_final['competition started hour'].isna().sum()"
   ]
  },
  {
   "cell_type": "code",
   "execution_count": 443,
   "id": "f9ade4d3",
   "metadata": {},
   "outputs": [
    {
     "data": {
      "text/plain": [
       "array(['22', nan, '06', '08', '09', '02', '07', '11', '05', '00', '23',\n",
       "       '10', '14', '12', '13', '15', '04', '20', '01', '17'], dtype=object)"
      ]
     },
     "execution_count": 443,
     "metadata": {},
     "output_type": "execute_result"
    }
   ],
   "source": [
    "df_final['competition started hour'].unique()"
   ]
  },
  {
   "cell_type": "code",
   "execution_count": 444,
   "id": "21483759",
   "metadata": {},
   "outputs": [],
   "source": [
    "df_final['competition started hour'].fillna(-1, inplace = True)"
   ]
  },
  {
   "cell_type": "code",
   "execution_count": 445,
   "id": "d7ac4df1",
   "metadata": {},
   "outputs": [
    {
     "data": {
      "text/plain": [
       "11702"
      ]
     },
     "execution_count": 445,
     "metadata": {},
     "output_type": "execute_result"
    }
   ],
   "source": [
    "df_final['competition started minute'].isna().sum()"
   ]
  },
  {
   "cell_type": "code",
   "execution_count": 446,
   "id": "e7304644",
   "metadata": {},
   "outputs": [
    {
     "data": {
      "text/plain": [
       "array(['59', nan, '00', '10', '13', '01', '30'], dtype=object)"
      ]
     },
     "execution_count": 446,
     "metadata": {},
     "output_type": "execute_result"
    }
   ],
   "source": [
    "df_final['competition started minute'].unique()"
   ]
  },
  {
   "cell_type": "code",
   "execution_count": 447,
   "id": "092d27da",
   "metadata": {},
   "outputs": [],
   "source": [
    "df_final['competition started minute'].fillna(-1, inplace = True)"
   ]
  },
  {
   "cell_type": "code",
   "execution_count": 448,
   "id": "67a4edcd",
   "metadata": {},
   "outputs": [
    {
     "data": {
      "text/plain": [
       "11702"
      ]
     },
     "execution_count": 448,
     "metadata": {},
     "output_type": "execute_result"
    }
   ],
   "source": [
    "df_final['competition started second'].isna().sum()"
   ]
  },
  {
   "cell_type": "code",
   "execution_count": 449,
   "id": "441819e6",
   "metadata": {},
   "outputs": [
    {
     "data": {
      "text/plain": [
       "array(['00', nan], dtype=object)"
      ]
     },
     "execution_count": 449,
     "metadata": {},
     "output_type": "execute_result"
    }
   ],
   "source": [
    "df_final['competition started second'].unique()"
   ]
  },
  {
   "cell_type": "code",
   "execution_count": 450,
   "id": "f5680373",
   "metadata": {},
   "outputs": [],
   "source": [
    "df_final['competition started second'].fillna(-1, inplace = True)"
   ]
  },
  {
   "cell_type": "code",
   "execution_count": 451,
   "id": "53654de0",
   "metadata": {},
   "outputs": [],
   "source": [
    "df_final.drop('competition_started_time', axis=1, inplace=True)"
   ]
  },
  {
   "cell_type": "code",
   "execution_count": 452,
   "id": "627fcf41",
   "metadata": {},
   "outputs": [
    {
     "data": {
      "text/plain": [
       "array([ 1., nan,  4.,  3.,  5.,  2.])"
      ]
     },
     "execution_count": 452,
     "metadata": {},
     "output_type": "execute_result"
    }
   ],
   "source": [
    "df_final['competition_started_year'].unique()"
   ]
  },
  {
   "cell_type": "code",
   "execution_count": 453,
   "id": "3c359fe2",
   "metadata": {},
   "outputs": [],
   "source": [
    "df_final['competition_started_year'].fillna(0, inplace = True)"
   ]
  },
  {
   "cell_type": "code",
   "execution_count": 454,
   "id": "982671cc",
   "metadata": {},
   "outputs": [
    {
     "data": {
      "text/plain": [
       "array([12., nan,  2.,  4.,  5.,  1., 11.,  9.,  3.,  6., 10.,  8.,  7.])"
      ]
     },
     "execution_count": 454,
     "metadata": {},
     "output_type": "execute_result"
    }
   ],
   "source": [
    "df_final['competition_started_month'].unique()"
   ]
  },
  {
   "cell_type": "code",
   "execution_count": 455,
   "id": "7b1880e8",
   "metadata": {},
   "outputs": [],
   "source": [
    "df_final['competition_started_month'].fillna(0, inplace = True)"
   ]
  },
  {
   "cell_type": "code",
   "execution_count": 456,
   "id": "84674d98",
   "metadata": {},
   "outputs": [
    {
     "data": {
      "text/plain": [
       "array([28., nan, 24.,  7.,  9.,  4., 15.,  5., 23.,  1., 22.,  3., 13.,\n",
       "       29., 14., 17., 21., 11., 19.,  6., 16.,  2., 20., 30., 26., 27.,\n",
       "       25., 18., 12.])"
      ]
     },
     "execution_count": 456,
     "metadata": {},
     "output_type": "execute_result"
    }
   ],
   "source": [
    "df_final['competition_started_day'].unique()"
   ]
  },
  {
   "cell_type": "code",
   "execution_count": 457,
   "id": "f3a17dad",
   "metadata": {},
   "outputs": [],
   "source": [
    "df_final['competition_started_day'].fillna(0, inplace = True)"
   ]
  },
  {
   "cell_type": "code",
   "execution_count": 458,
   "id": "21f1373d",
   "metadata": {},
   "outputs": [],
   "source": [
    "df_final.rename(columns={'datetime time': 'Time user completed action'},  inplace = True)\n",
    "df_final.rename(columns={'datetime Day_of_month': 'Day last active'},  inplace = True)"
   ]
  },
  {
   "cell_type": "code",
   "execution_count": 459,
   "id": "c236362b",
   "metadata": {},
   "outputs": [
    {
     "data": {
      "text/plain": [
       "array(['20:52:03', '10:38:23', '21:37:16', ..., '19:19:21', '11:57:10',\n",
       "       '23:16:34'], dtype=object)"
      ]
     },
     "execution_count": 459,
     "metadata": {},
     "output_type": "execute_result"
    }
   ],
   "source": [
    "df_final['Time user completed action'].unique()"
   ]
  },
  {
   "cell_type": "code",
   "execution_count": 460,
   "id": "60d9a9d4",
   "metadata": {},
   "outputs": [],
   "source": [
    "df_final['User sign-in hour'] = df_final['User sign-in time'].str[0:2]\n",
    "df_final['User sign-in minute'] = df_final['User sign-in time'].str[3:5]\n",
    "df_final['User sign-in second'] = df_final['User sign-in time'].str[6:]"
   ]
  },
  {
   "cell_type": "code",
   "execution_count": 461,
   "id": "e1df43fc",
   "metadata": {},
   "outputs": [
    {
     "data": {
      "text/plain": [
       "6273"
      ]
     },
     "execution_count": 461,
     "metadata": {},
     "output_type": "execute_result"
    }
   ],
   "source": [
    "df_final['User sign-in hour'].isna().sum()"
   ]
  },
  {
   "cell_type": "code",
   "execution_count": 462,
   "id": "f7ef9b60",
   "metadata": {},
   "outputs": [
    {
     "data": {
      "text/plain": [
       "array(['08', '09', '15', '19', nan, '17', '20', '05', '22', '13', '07',\n",
       "       '16', '06', '14', '18', '03', '10', '23', '12', '11', '00', '21',\n",
       "       '01', '04', '02'], dtype=object)"
      ]
     },
     "execution_count": 462,
     "metadata": {},
     "output_type": "execute_result"
    }
   ],
   "source": [
    "df_final['User sign-in hour'].unique()"
   ]
  },
  {
   "cell_type": "code",
   "execution_count": 463,
   "id": "e291fba5",
   "metadata": {},
   "outputs": [],
   "source": [
    "df_final['User sign-in hour'].fillna(-1, inplace = True)"
   ]
  },
  {
   "cell_type": "code",
   "execution_count": 464,
   "id": "ec0c8c35",
   "metadata": {},
   "outputs": [
    {
     "data": {
      "text/plain": [
       "6273"
      ]
     },
     "execution_count": 464,
     "metadata": {},
     "output_type": "execute_result"
    }
   ],
   "source": [
    "df_final['User sign-in minute'].isna().sum()"
   ]
  },
  {
   "cell_type": "code",
   "execution_count": 465,
   "id": "5dd8ff21",
   "metadata": {},
   "outputs": [
    {
     "data": {
      "text/plain": [
       "array(['26', '28', '29', '25', nan, '21', '19', '48', '55', '37', '08',\n",
       "       '01', '43', '24', '27', '51', '47', '14', '52', '11', '02', '49',\n",
       "       '40', '42', '18', '06', '30', '44', '57', '16', '41', '54', '15',\n",
       "       '12', '32', '17', '23', '03', '20', '31', '10', '46', '33', '36',\n",
       "       '50', '58', '38', '35', '07', '00', '05', '56', '13', '04', '53',\n",
       "       '59', '22', '34', '45', '39', '09'], dtype=object)"
      ]
     },
     "execution_count": 465,
     "metadata": {},
     "output_type": "execute_result"
    }
   ],
   "source": [
    "df_final['User sign-in minute'].unique()"
   ]
  },
  {
   "cell_type": "code",
   "execution_count": 466,
   "id": "2765b0f7",
   "metadata": {},
   "outputs": [],
   "source": [
    "df_final['User sign-in minute'].fillna(-1, inplace = True)"
   ]
  },
  {
   "cell_type": "code",
   "execution_count": 467,
   "id": "03dca499",
   "metadata": {},
   "outputs": [
    {
     "data": {
      "text/plain": [
       "6273"
      ]
     },
     "execution_count": 467,
     "metadata": {},
     "output_type": "execute_result"
    }
   ],
   "source": [
    "df_final['User sign-in second'].isna().sum()"
   ]
  },
  {
   "cell_type": "code",
   "execution_count": 468,
   "id": "15901947",
   "metadata": {},
   "outputs": [
    {
     "data": {
      "text/plain": [
       "array(['28.847530', '59.699371', '09.389920', ..., '12.676400',\n",
       "       '35.535847', '39.352427'], dtype=object)"
      ]
     },
     "execution_count": 468,
     "metadata": {},
     "output_type": "execute_result"
    }
   ],
   "source": [
    "df_final['User sign-in second'].unique()"
   ]
  },
  {
   "cell_type": "code",
   "execution_count": 469,
   "id": "cf0aeff2",
   "metadata": {},
   "outputs": [],
   "source": [
    "df_final['User sign-in second'].fillna(-1, inplace = True)"
   ]
  },
  {
   "cell_type": "code",
   "execution_count": 470,
   "id": "dda92750",
   "metadata": {},
   "outputs": [],
   "source": [
    "df_final.drop('User sign-in time', axis=1, inplace=True)"
   ]
  },
  {
   "cell_type": "code",
   "execution_count": 471,
   "id": "ab3f0138",
   "metadata": {},
   "outputs": [
    {
     "data": {
      "text/plain": [
       "array([28., 20., 24., 27., 29., 31., 26., 30., 15., 21.,  5.,  6., 25.,\n",
       "       nan,  2., 10., 23.,  9.,  4., 19., 14.,  3.,  7., 16., 11., 18.,\n",
       "       22., 17.,  8., 12., 13.,  1.])"
      ]
     },
     "execution_count": 471,
     "metadata": {},
     "output_type": "execute_result"
    }
   ],
   "source": [
    "df_final['Day last active'].unique()"
   ]
  },
  {
   "cell_type": "code",
   "execution_count": 472,
   "id": "6d107de2",
   "metadata": {},
   "outputs": [],
   "source": [
    "df_final['competition_started_day'].fillna(0, inplace = True)"
   ]
  },
  {
   "cell_type": "code",
   "execution_count": 473,
   "id": "18c03d40",
   "metadata": {},
   "outputs": [
    {
     "data": {
      "text/plain": [
       "2984"
      ]
     },
     "execution_count": 473,
     "metadata": {},
     "output_type": "execute_result"
    }
   ],
   "source": [
    "df_final['count_UA'].isna().sum()"
   ]
  },
  {
   "cell_type": "code",
   "execution_count": 474,
   "id": "0f3b08b1",
   "metadata": {},
   "outputs": [
    {
     "data": {
      "text/plain": [
       "270"
      ]
     },
     "execution_count": 474,
     "metadata": {},
     "output_type": "execute_result"
    }
   ],
   "source": [
    "len(df_final['count_UA'].unique())"
   ]
  },
  {
   "cell_type": "code",
   "execution_count": 475,
   "id": "5611a4c0",
   "metadata": {},
   "outputs": [],
   "source": [
    "df_final['count_UA'].fillna(0, inplace = True)"
   ]
  },
  {
   "cell_type": "code",
   "execution_count": 476,
   "id": "9b1fbb53",
   "metadata": {},
   "outputs": [],
   "source": [
    "df_final['Comment Hour'].fillna(-1, inplace = True)\n",
    "df_final['Comment Minute'].fillna(-1, inplace = True)\n",
    "df_final['Comment Second'].fillna(-1, inplace = True)"
   ]
  },
  {
   "cell_type": "code",
   "execution_count": 477,
   "id": "3a0d93a8",
   "metadata": {},
   "outputs": [
    {
     "data": {
      "text/plain": [
       "6273"
      ]
     },
     "execution_count": 477,
     "metadata": {},
     "output_type": "execute_result"
    }
   ],
   "source": [
    "df_final['User sign-in day'].isna().sum()"
   ]
  },
  {
   "cell_type": "code",
   "execution_count": 478,
   "id": "1d991b12",
   "metadata": {},
   "outputs": [
    {
     "data": {
      "text/plain": [
       "array([20.,  8., 27., nan, 13., 21., 31.,  3., 29., 17., 14.,  6.,  5.,\n",
       "       23., 26.,  4., 16., 28., 10., 24., 18., 22., 30.,  7.,  1., 15.,\n",
       "       25., 12.,  2.,  9., 19., 11.])"
      ]
     },
     "execution_count": 478,
     "metadata": {},
     "output_type": "execute_result"
    }
   ],
   "source": [
    "df_final['User sign-in day'].unique()"
   ]
  },
  {
   "cell_type": "code",
   "execution_count": 479,
   "id": "f924906b",
   "metadata": {},
   "outputs": [],
   "source": [
    "df_final['User sign-in day'].fillna(0, inplace = True)"
   ]
  },
  {
   "cell_type": "code",
   "execution_count": 480,
   "id": "7a084107",
   "metadata": {},
   "outputs": [],
   "source": [
    "df_final['Time user completed action in hour'] = df_final['Time user completed action'].str[0:2]\n",
    "df_final['Time user completed action in minute'] = df_final['Time user completed action'].str[3:5]\n",
    "df_final['Time user completed action in second'] = df_final['Time user completed action'].str[6:]"
   ]
  },
  {
   "cell_type": "code",
   "execution_count": 493,
   "id": "efe2050d",
   "metadata": {},
   "outputs": [],
   "source": [
    "df_final.drop('Time user completed action', axis=1, inplace=True)"
   ]
  },
  {
   "cell_type": "code",
   "execution_count": 484,
   "id": "db2cc5c8",
   "metadata": {},
   "outputs": [],
   "source": [
    "df_final['Discussion Hour'] = pd.to_numeric(df_final['Discussion Hour'])\n",
    "df_final['Discussion Minute'] = pd.to_numeric(df_final['Discussion Minute'])\n",
    "df_final['Discussion Second'] = pd.to_numeric(df_final['Discussion Second'])\n",
    "df_final['Discussion Day'] = pd.to_numeric(df_final['Discussion Second'])\n",
    "df_final['Comment Hour'] = pd.to_numeric(df_final['Comment Hour'])\n",
    "df_final['Comment Minute'] = pd.to_numeric(df_final['Comment Minute'])\n",
    "df_final['Comment Second'] = pd.to_numeric(df_final['Comment Second'])\n",
    "df_final['competition enrollment hour'] = pd.to_numeric(df_final['competition enrollment hour'])\n",
    "df_final['competition enrollment minute'] = pd.to_numeric(df_final['competition enrollment minute'])\n",
    "df_final['competition enrollment second'] = pd.to_numeric(df_final['competition enrollment second'])\n",
    "df_final['FeatureA'] = pd.to_numeric(df_final['FeatureA'])\n",
    "df_final['FeatureB'] = pd.to_numeric(df_final['FeatureB'])\n",
    "df_final['FeatureF'] = pd.to_numeric(df_final['FeatureF'])\n",
    "df_final['FeatureG'] = pd.to_numeric(df_final['FeatureG'])\n",
    "df_final['FeatureH'] = pd.to_numeric(df_final['FeatureH'])"
   ]
  },
  {
   "cell_type": "code",
   "execution_count": 485,
   "id": "b48aa25e",
   "metadata": {},
   "outputs": [],
   "source": [
    "df_final['competition ended hour'] = pd.to_numeric(df_final['competition ended hour'])\n",
    "df_final['competition ended minute'] = pd.to_numeric(df_final['competition ended minute'])\n",
    "df_final['competition ended second'] = pd.to_numeric(df_final['competition ended second'])\n",
    "df_final['competition started hour'] = pd.to_numeric(df_final['competition started hour'])\n",
    "df_final['competition started minute'] = pd.to_numeric(df_final['competition started minute'])\n",
    "df_final['competition started second'] = pd.to_numeric(df_final['competition started second'])\n",
    "df_final['Time user completed action in hour'] = pd.to_numeric(df_final['Time user completed action in hour'])\n",
    "df_final['Time user completed action in minute'] = pd.to_numeric(df_final['Time user completed action in minute'])\n",
    "df_final['Time user completed action in second'] = pd.to_numeric(df_final['Time user completed action in second'])\n",
    "df_final['User sign-in hour'] = pd.to_numeric(df_final['User sign-in hour'])\n",
    "df_final['User sign-in minute'] = pd.to_numeric(df_final['User sign-in minute'])\n",
    "df_final['User sign-in second'] = pd.to_numeric(df_final['User sign-in second'])\n",
    "df_final['User sign-in month'] = pd.to_numeric(df_final['User sign-in month'])\n",
    "df_final['Successful Submission Count'] = pd.to_numeric(df_final['Successful Submission Count'])"
   ]
  },
  {
   "cell_type": "code",
   "execution_count": 499,
   "id": "bba0fee5",
   "metadata": {},
   "outputs": [],
   "source": [
    "df_final[\"User sign-in month\"].fillna(0, inplace = True)"
   ]
  },
  {
   "cell_type": "code",
   "execution_count": 501,
   "id": "9b968c92",
   "metadata": {},
   "outputs": [],
   "source": [
    "df_final[\"Day last active\"].fillna(0, inplace = True)"
   ]
  },
  {
   "cell_type": "code",
   "execution_count": 503,
   "id": "36d7e48e",
   "metadata": {},
   "outputs": [],
   "source": [
    "df_final[\"Time user completed action in hour\"].fillna(0, inplace = True)"
   ]
  },
  {
   "cell_type": "code",
   "execution_count": 504,
   "id": "4d56d0d5",
   "metadata": {},
   "outputs": [],
   "source": [
    "df_final[\"Time user completed action in minute\"].fillna(0, inplace = True)"
   ]
  },
  {
   "cell_type": "code",
   "execution_count": 505,
   "id": "8cdda5ef",
   "metadata": {},
   "outputs": [],
   "source": [
    "df_final[\"Time user completed action in second\"].fillna(0, inplace = True)"
   ]
  },
  {
   "cell_type": "code",
   "execution_count": 486,
   "id": "af8312a2",
   "metadata": {},
   "outputs": [],
   "source": [
    "df_temp1 = df_final.groupby('User_ID').max()\n",
    "df_temp2 = df_final.groupby('User_ID').sum()\n",
    "df_temp3 = df_final.groupby('User_ID').count() \n",
    "df_temp4 = df_final.groupby('User_ID').mean()"
   ]
  },
  {
   "cell_type": "code",
   "execution_count": 487,
   "id": "0e047068",
   "metadata": {},
   "outputs": [
    {
     "name": "stdout",
     "output_type": "stream",
     "text": [
      "<class 'pandas.core.frame.DataFrame'>\n",
      "Index: 17391 entries, ID_000H9XOP_Month_5 to ID_ZZVUJ45W_Month_3\n",
      "Data columns (total 51 columns):\n",
      " #   Column                                Non-Null Count  Dtype  \n",
      "---  ------                                --------------  -----  \n",
      " 0   Personal                              17391 non-null  float64\n",
      " 1   Theme                                 17391 non-null  float64\n",
      " 2   comment_day                           17391 non-null  float64\n",
      " 3   Participant Type                      17391 non-null  float64\n",
      " 4   Successful Submission Count           17391 non-null  int64  \n",
      " 5   competition_enrollment_day            17391 non-null  float64\n",
      " 6   FeatureA                              17391 non-null  float64\n",
      " 7   FeatureB                              17391 non-null  float64\n",
      " 8   FeatureC                              17391 non-null  float64\n",
      " 9   FeatureD                              17391 non-null  float64\n",
      " 10  FeatureE                              17391 non-null  float64\n",
      " 11  SecretCode                            17391 non-null  float64\n",
      " 12  FeatureF                              17391 non-null  float64\n",
      " 13  FeatureG                              17391 non-null  float64\n",
      " 14  FeatureH                              17391 non-null  float64\n",
      " 15  FeatureI                              17391 non-null  float64\n",
      " 16  competition_ended_year                17391 non-null  float64\n",
      " 17  competition_ended_month               17391 non-null  float64\n",
      " 18  competition_ended_day                 17391 non-null  float64\n",
      " 19  competition_started_year              17391 non-null  float64\n",
      " 20  competition_started_month             17391 non-null  float64\n",
      " 21  competition_started_day               17391 non-null  float64\n",
      " 22  Time user completed action            15143 non-null  object \n",
      " 23  Day last active                       15143 non-null  float64\n",
      " 24  count_UA                              17391 non-null  float64\n",
      " 25  FeatureX                              17391 non-null  float64\n",
      " 26  FeatureY                              17391 non-null  float64\n",
      " 27  User sign-in month                    12413 non-null  string \n",
      " 28  User sign-in day                      17391 non-null  float64\n",
      " 29  Discussion Hour                       17391 non-null  int64  \n",
      " 30  Discussion Minute                     17391 non-null  int64  \n",
      " 31  Discussion Second                     17391 non-null  float64\n",
      " 32  Comment Hour                          17391 non-null  int64  \n",
      " 33  Comment Minute                        17391 non-null  int64  \n",
      " 34  Comment Second                        17391 non-null  float64\n",
      " 35  competition enrollment hour           17391 non-null  int64  \n",
      " 36  competition enrollment minute         17391 non-null  int64  \n",
      " 37  competition enrollment second         17391 non-null  float64\n",
      " 38  competition ended hour                17391 non-null  int64  \n",
      " 39  competition ended minute              17391 non-null  int64  \n",
      " 40  competition ended second              17391 non-null  int64  \n",
      " 41  competition started hour              17391 non-null  int64  \n",
      " 42  competition started minute            17391 non-null  int64  \n",
      " 43  competition started second            17391 non-null  int64  \n",
      " 44  User sign-in hour                     17391 non-null  int64  \n",
      " 45  User sign-in minute                   17391 non-null  int64  \n",
      " 46  User sign-in second                   17391 non-null  float64\n",
      " 47  Time user completed action in hour    15143 non-null  float64\n",
      " 48  Time user completed action in minute  15143 non-null  float64\n",
      " 49  Time user completed action in second  15143 non-null  float64\n",
      " 50  Discussion Day                        17391 non-null  float64\n",
      "dtypes: float64(34), int64(15), object(1), string(1)\n",
      "memory usage: 6.9+ MB\n"
     ]
    }
   ],
   "source": [
    "df_temp1.info()"
   ]
  },
  {
   "cell_type": "code",
   "execution_count": 488,
   "id": "d54db73d",
   "metadata": {},
   "outputs": [],
   "source": [
    "df_final = df_temp1\n",
    "df_final[\"User sign-in month\"] = df_temp1[\"User sign-in month\"]\n",
    "df_final[\"count_UA\"] = df_temp2[\"count_UA\"]\n",
    "df_final[\"Theme\"] = df_temp4[\"Theme\"]\n",
    "df_final[\"Personal\"] = df_temp4[\"Personal\"]\n",
    "df_final[\"Participant Type\"] = df_temp4[\"Participant Type\"]\n",
    "df_final[\"Successful Submission Count\"] = df_temp2[\"Successful Submission Count\"]"
   ]
  },
  {
   "cell_type": "code",
   "execution_count": 489,
   "id": "a3709d89",
   "metadata": {},
   "outputs": [],
   "source": [
    "df_final.reset_index(level=0, inplace=True)"
   ]
  },
  {
   "cell_type": "code",
   "execution_count": 506,
   "id": "d0698bdd",
   "metadata": {},
   "outputs": [
    {
     "name": "stdout",
     "output_type": "stream",
     "text": [
      "<class 'pandas.core.frame.DataFrame'>\n",
      "RangeIndex: 17391 entries, 0 to 17390\n",
      "Data columns (total 51 columns):\n",
      " #   Column                                Non-Null Count  Dtype  \n",
      "---  ------                                --------------  -----  \n",
      " 0   User_ID                               17391 non-null  object \n",
      " 1   Personal                              17391 non-null  float64\n",
      " 2   Theme                                 17391 non-null  float64\n",
      " 3   comment_day                           17391 non-null  float64\n",
      " 4   Participant Type                      17391 non-null  float64\n",
      " 5   Successful Submission Count           17391 non-null  int64  \n",
      " 6   competition_enrollment_day            17391 non-null  float64\n",
      " 7   FeatureA                              17391 non-null  float64\n",
      " 8   FeatureB                              17391 non-null  float64\n",
      " 9   FeatureC                              17391 non-null  float64\n",
      " 10  FeatureD                              17391 non-null  float64\n",
      " 11  FeatureE                              17391 non-null  float64\n",
      " 12  SecretCode                            17391 non-null  float64\n",
      " 13  FeatureF                              17391 non-null  float64\n",
      " 14  FeatureG                              17391 non-null  float64\n",
      " 15  FeatureH                              17391 non-null  float64\n",
      " 16  FeatureI                              17391 non-null  float64\n",
      " 17  competition_ended_year                17391 non-null  float64\n",
      " 18  competition_ended_month               17391 non-null  float64\n",
      " 19  competition_ended_day                 17391 non-null  float64\n",
      " 20  competition_started_year              17391 non-null  float64\n",
      " 21  competition_started_month             17391 non-null  float64\n",
      " 22  competition_started_day               17391 non-null  float64\n",
      " 23  Day last active                       17391 non-null  float64\n",
      " 24  count_UA                              17391 non-null  float64\n",
      " 25  FeatureX                              17391 non-null  float64\n",
      " 26  FeatureY                              17391 non-null  float64\n",
      " 27  User sign-in month                    17391 non-null  float64\n",
      " 28  User sign-in day                      17391 non-null  float64\n",
      " 29  Discussion Hour                       17391 non-null  int64  \n",
      " 30  Discussion Minute                     17391 non-null  int64  \n",
      " 31  Discussion Second                     17391 non-null  float64\n",
      " 32  Comment Hour                          17391 non-null  int64  \n",
      " 33  Comment Minute                        17391 non-null  int64  \n",
      " 34  Comment Second                        17391 non-null  float64\n",
      " 35  competition enrollment hour           17391 non-null  int64  \n",
      " 36  competition enrollment minute         17391 non-null  int64  \n",
      " 37  competition enrollment second         17391 non-null  float64\n",
      " 38  competition ended hour                17391 non-null  int64  \n",
      " 39  competition ended minute              17391 non-null  int64  \n",
      " 40  competition ended second              17391 non-null  int64  \n",
      " 41  competition started hour              17391 non-null  int64  \n",
      " 42  competition started minute            17391 non-null  int64  \n",
      " 43  competition started second            17391 non-null  int64  \n",
      " 44  User sign-in hour                     17391 non-null  int64  \n",
      " 45  User sign-in minute                   17391 non-null  int64  \n",
      " 46  User sign-in second                   17391 non-null  float64\n",
      " 47  Time user completed action in hour    17391 non-null  float64\n",
      " 48  Time user completed action in minute  17391 non-null  float64\n",
      " 49  Time user completed action in second  17391 non-null  float64\n",
      " 50  Discussion Day                        17391 non-null  float64\n",
      "dtypes: float64(35), int64(15), object(1)\n",
      "memory usage: 6.8+ MB\n"
     ]
    }
   ],
   "source": [
    "df_final.info()"
   ]
  },
  {
   "cell_type": "code",
   "execution_count": 507,
   "id": "a754a1ca",
   "metadata": {},
   "outputs": [
    {
     "data": {
      "text/html": [
       "<div>\n",
       "<style scoped>\n",
       "    .dataframe tbody tr th:only-of-type {\n",
       "        vertical-align: middle;\n",
       "    }\n",
       "\n",
       "    .dataframe tbody tr th {\n",
       "        vertical-align: top;\n",
       "    }\n",
       "\n",
       "    .dataframe thead th {\n",
       "        text-align: right;\n",
       "    }\n",
       "</style>\n",
       "<table border=\"1\" class=\"dataframe\">\n",
       "  <thead>\n",
       "    <tr style=\"text-align: right;\">\n",
       "      <th></th>\n",
       "      <th>User_ID</th>\n",
       "      <th>Personal</th>\n",
       "      <th>Theme</th>\n",
       "      <th>comment_day</th>\n",
       "      <th>Participant Type</th>\n",
       "      <th>Successful Submission Count</th>\n",
       "      <th>competition_enrollment_day</th>\n",
       "      <th>FeatureA</th>\n",
       "      <th>FeatureB</th>\n",
       "      <th>FeatureC</th>\n",
       "      <th>...</th>\n",
       "      <th>competition started hour</th>\n",
       "      <th>competition started minute</th>\n",
       "      <th>competition started second</th>\n",
       "      <th>User sign-in hour</th>\n",
       "      <th>User sign-in minute</th>\n",
       "      <th>User sign-in second</th>\n",
       "      <th>Time user completed action in hour</th>\n",
       "      <th>Time user completed action in minute</th>\n",
       "      <th>Time user completed action in second</th>\n",
       "      <th>Discussion Day</th>\n",
       "    </tr>\n",
       "  </thead>\n",
       "  <tbody>\n",
       "    <tr>\n",
       "      <th>0</th>\n",
       "      <td>ID_000H9XOP_Month_5</td>\n",
       "      <td>-1.0</td>\n",
       "      <td>-1.0</td>\n",
       "      <td>0.0</td>\n",
       "      <td>0.0</td>\n",
       "      <td>0</td>\n",
       "      <td>0.0</td>\n",
       "      <td>-1.0</td>\n",
       "      <td>-1.0</td>\n",
       "      <td>-1.0</td>\n",
       "      <td>...</td>\n",
       "      <td>-1</td>\n",
       "      <td>-1</td>\n",
       "      <td>-1</td>\n",
       "      <td>15</td>\n",
       "      <td>18</td>\n",
       "      <td>11.439200</td>\n",
       "      <td>16.0</td>\n",
       "      <td>18.0</td>\n",
       "      <td>22.0</td>\n",
       "      <td>-1.0</td>\n",
       "    </tr>\n",
       "    <tr>\n",
       "      <th>1</th>\n",
       "      <td>ID_003YJHQA_Month_4</td>\n",
       "      <td>-1.0</td>\n",
       "      <td>-1.0</td>\n",
       "      <td>0.0</td>\n",
       "      <td>0.0</td>\n",
       "      <td>0</td>\n",
       "      <td>0.0</td>\n",
       "      <td>-1.0</td>\n",
       "      <td>-1.0</td>\n",
       "      <td>-1.0</td>\n",
       "      <td>...</td>\n",
       "      <td>-1</td>\n",
       "      <td>-1</td>\n",
       "      <td>-1</td>\n",
       "      <td>10</td>\n",
       "      <td>30</td>\n",
       "      <td>32.261855</td>\n",
       "      <td>11.0</td>\n",
       "      <td>31.0</td>\n",
       "      <td>30.0</td>\n",
       "      <td>-1.0</td>\n",
       "    </tr>\n",
       "    <tr>\n",
       "      <th>2</th>\n",
       "      <td>ID_004UKSJV_Month_1</td>\n",
       "      <td>-1.0</td>\n",
       "      <td>-1.0</td>\n",
       "      <td>0.0</td>\n",
       "      <td>0.0</td>\n",
       "      <td>0</td>\n",
       "      <td>0.0</td>\n",
       "      <td>-1.0</td>\n",
       "      <td>-1.0</td>\n",
       "      <td>-1.0</td>\n",
       "      <td>...</td>\n",
       "      <td>-1</td>\n",
       "      <td>-1</td>\n",
       "      <td>-1</td>\n",
       "      <td>-1</td>\n",
       "      <td>-1</td>\n",
       "      <td>-1.000000</td>\n",
       "      <td>9.0</td>\n",
       "      <td>17.0</td>\n",
       "      <td>9.0</td>\n",
       "      <td>-1.0</td>\n",
       "    </tr>\n",
       "    <tr>\n",
       "      <th>3</th>\n",
       "      <td>ID_004UKSJV_Month_12</td>\n",
       "      <td>-1.0</td>\n",
       "      <td>-1.0</td>\n",
       "      <td>0.0</td>\n",
       "      <td>0.0</td>\n",
       "      <td>0</td>\n",
       "      <td>0.0</td>\n",
       "      <td>-1.0</td>\n",
       "      <td>-1.0</td>\n",
       "      <td>-1.0</td>\n",
       "      <td>...</td>\n",
       "      <td>-1</td>\n",
       "      <td>-1</td>\n",
       "      <td>-1</td>\n",
       "      <td>8</td>\n",
       "      <td>32</td>\n",
       "      <td>14.997443</td>\n",
       "      <td>10.0</td>\n",
       "      <td>51.0</td>\n",
       "      <td>58.0</td>\n",
       "      <td>-1.0</td>\n",
       "    </tr>\n",
       "    <tr>\n",
       "      <th>4</th>\n",
       "      <td>ID_008D2J6C_Month_1</td>\n",
       "      <td>-1.0</td>\n",
       "      <td>-1.0</td>\n",
       "      <td>0.0</td>\n",
       "      <td>0.0</td>\n",
       "      <td>0</td>\n",
       "      <td>0.0</td>\n",
       "      <td>-1.0</td>\n",
       "      <td>-1.0</td>\n",
       "      <td>-1.0</td>\n",
       "      <td>...</td>\n",
       "      <td>-1</td>\n",
       "      <td>-1</td>\n",
       "      <td>-1</td>\n",
       "      <td>9</td>\n",
       "      <td>42</td>\n",
       "      <td>39.695313</td>\n",
       "      <td>10.0</td>\n",
       "      <td>44.0</td>\n",
       "      <td>55.0</td>\n",
       "      <td>-1.0</td>\n",
       "    </tr>\n",
       "    <tr>\n",
       "      <th>...</th>\n",
       "      <td>...</td>\n",
       "      <td>...</td>\n",
       "      <td>...</td>\n",
       "      <td>...</td>\n",
       "      <td>...</td>\n",
       "      <td>...</td>\n",
       "      <td>...</td>\n",
       "      <td>...</td>\n",
       "      <td>...</td>\n",
       "      <td>...</td>\n",
       "      <td>...</td>\n",
       "      <td>...</td>\n",
       "      <td>...</td>\n",
       "      <td>...</td>\n",
       "      <td>...</td>\n",
       "      <td>...</td>\n",
       "      <td>...</td>\n",
       "      <td>...</td>\n",
       "      <td>...</td>\n",
       "      <td>...</td>\n",
       "      <td>...</td>\n",
       "    </tr>\n",
       "    <tr>\n",
       "      <th>17386</th>\n",
       "      <td>ID_ZZMHNLNT_Month_4</td>\n",
       "      <td>-1.0</td>\n",
       "      <td>-1.0</td>\n",
       "      <td>0.0</td>\n",
       "      <td>0.0</td>\n",
       "      <td>0</td>\n",
       "      <td>0.0</td>\n",
       "      <td>-1.0</td>\n",
       "      <td>-1.0</td>\n",
       "      <td>-1.0</td>\n",
       "      <td>...</td>\n",
       "      <td>-1</td>\n",
       "      <td>-1</td>\n",
       "      <td>-1</td>\n",
       "      <td>10</td>\n",
       "      <td>55</td>\n",
       "      <td>11.435972</td>\n",
       "      <td>11.0</td>\n",
       "      <td>57.0</td>\n",
       "      <td>10.0</td>\n",
       "      <td>-1.0</td>\n",
       "    </tr>\n",
       "    <tr>\n",
       "      <th>17387</th>\n",
       "      <td>ID_ZZQK0LU6_Month_3</td>\n",
       "      <td>-1.0</td>\n",
       "      <td>-1.0</td>\n",
       "      <td>0.0</td>\n",
       "      <td>1.0</td>\n",
       "      <td>0</td>\n",
       "      <td>29.0</td>\n",
       "      <td>-1.0</td>\n",
       "      <td>-1.0</td>\n",
       "      <td>28.0</td>\n",
       "      <td>...</td>\n",
       "      <td>9</td>\n",
       "      <td>0</td>\n",
       "      <td>0</td>\n",
       "      <td>9</td>\n",
       "      <td>48</td>\n",
       "      <td>48.866739</td>\n",
       "      <td>23.0</td>\n",
       "      <td>41.0</td>\n",
       "      <td>18.0</td>\n",
       "      <td>-1.0</td>\n",
       "    </tr>\n",
       "    <tr>\n",
       "      <th>17388</th>\n",
       "      <td>ID_ZZUNZJ2U_Month_2</td>\n",
       "      <td>-1.0</td>\n",
       "      <td>-1.0</td>\n",
       "      <td>0.0</td>\n",
       "      <td>0.0</td>\n",
       "      <td>0</td>\n",
       "      <td>0.0</td>\n",
       "      <td>-1.0</td>\n",
       "      <td>-1.0</td>\n",
       "      <td>-1.0</td>\n",
       "      <td>...</td>\n",
       "      <td>-1</td>\n",
       "      <td>-1</td>\n",
       "      <td>-1</td>\n",
       "      <td>22</td>\n",
       "      <td>15</td>\n",
       "      <td>18.135850</td>\n",
       "      <td>23.0</td>\n",
       "      <td>16.0</td>\n",
       "      <td>34.0</td>\n",
       "      <td>-1.0</td>\n",
       "    </tr>\n",
       "    <tr>\n",
       "      <th>17389</th>\n",
       "      <td>ID_ZZVM2KO7_Month_4</td>\n",
       "      <td>-1.0</td>\n",
       "      <td>-1.0</td>\n",
       "      <td>0.0</td>\n",
       "      <td>0.0</td>\n",
       "      <td>0</td>\n",
       "      <td>0.0</td>\n",
       "      <td>-1.0</td>\n",
       "      <td>-1.0</td>\n",
       "      <td>-1.0</td>\n",
       "      <td>...</td>\n",
       "      <td>-1</td>\n",
       "      <td>-1</td>\n",
       "      <td>-1</td>\n",
       "      <td>17</td>\n",
       "      <td>11</td>\n",
       "      <td>20.611646</td>\n",
       "      <td>0.0</td>\n",
       "      <td>0.0</td>\n",
       "      <td>0.0</td>\n",
       "      <td>-1.0</td>\n",
       "    </tr>\n",
       "    <tr>\n",
       "      <th>17390</th>\n",
       "      <td>ID_ZZVUJ45W_Month_3</td>\n",
       "      <td>-1.0</td>\n",
       "      <td>-1.0</td>\n",
       "      <td>0.0</td>\n",
       "      <td>1.0</td>\n",
       "      <td>0</td>\n",
       "      <td>5.0</td>\n",
       "      <td>-1.0</td>\n",
       "      <td>-1.0</td>\n",
       "      <td>4.0</td>\n",
       "      <td>...</td>\n",
       "      <td>6</td>\n",
       "      <td>0</td>\n",
       "      <td>0</td>\n",
       "      <td>8</td>\n",
       "      <td>24</td>\n",
       "      <td>33.732648</td>\n",
       "      <td>9.0</td>\n",
       "      <td>32.0</td>\n",
       "      <td>57.0</td>\n",
       "      <td>-1.0</td>\n",
       "    </tr>\n",
       "  </tbody>\n",
       "</table>\n",
       "<p>17391 rows × 51 columns</p>\n",
       "</div>"
      ],
      "text/plain": [
       "                    User_ID  Personal  Theme  comment_day  Participant Type  \\\n",
       "0       ID_000H9XOP_Month_5      -1.0   -1.0          0.0               0.0   \n",
       "1       ID_003YJHQA_Month_4      -1.0   -1.0          0.0               0.0   \n",
       "2       ID_004UKSJV_Month_1      -1.0   -1.0          0.0               0.0   \n",
       "3      ID_004UKSJV_Month_12      -1.0   -1.0          0.0               0.0   \n",
       "4       ID_008D2J6C_Month_1      -1.0   -1.0          0.0               0.0   \n",
       "...                     ...       ...    ...          ...               ...   \n",
       "17386   ID_ZZMHNLNT_Month_4      -1.0   -1.0          0.0               0.0   \n",
       "17387   ID_ZZQK0LU6_Month_3      -1.0   -1.0          0.0               1.0   \n",
       "17388   ID_ZZUNZJ2U_Month_2      -1.0   -1.0          0.0               0.0   \n",
       "17389   ID_ZZVM2KO7_Month_4      -1.0   -1.0          0.0               0.0   \n",
       "17390   ID_ZZVUJ45W_Month_3      -1.0   -1.0          0.0               1.0   \n",
       "\n",
       "       Successful Submission Count  competition_enrollment_day  FeatureA  \\\n",
       "0                                0                         0.0      -1.0   \n",
       "1                                0                         0.0      -1.0   \n",
       "2                                0                         0.0      -1.0   \n",
       "3                                0                         0.0      -1.0   \n",
       "4                                0                         0.0      -1.0   \n",
       "...                            ...                         ...       ...   \n",
       "17386                            0                         0.0      -1.0   \n",
       "17387                            0                        29.0      -1.0   \n",
       "17388                            0                         0.0      -1.0   \n",
       "17389                            0                         0.0      -1.0   \n",
       "17390                            0                         5.0      -1.0   \n",
       "\n",
       "       FeatureB  FeatureC  ...  competition started hour  \\\n",
       "0          -1.0      -1.0  ...                        -1   \n",
       "1          -1.0      -1.0  ...                        -1   \n",
       "2          -1.0      -1.0  ...                        -1   \n",
       "3          -1.0      -1.0  ...                        -1   \n",
       "4          -1.0      -1.0  ...                        -1   \n",
       "...         ...       ...  ...                       ...   \n",
       "17386      -1.0      -1.0  ...                        -1   \n",
       "17387      -1.0      28.0  ...                         9   \n",
       "17388      -1.0      -1.0  ...                        -1   \n",
       "17389      -1.0      -1.0  ...                        -1   \n",
       "17390      -1.0       4.0  ...                         6   \n",
       "\n",
       "       competition started minute  competition started second  \\\n",
       "0                              -1                          -1   \n",
       "1                              -1                          -1   \n",
       "2                              -1                          -1   \n",
       "3                              -1                          -1   \n",
       "4                              -1                          -1   \n",
       "...                           ...                         ...   \n",
       "17386                          -1                          -1   \n",
       "17387                           0                           0   \n",
       "17388                          -1                          -1   \n",
       "17389                          -1                          -1   \n",
       "17390                           0                           0   \n",
       "\n",
       "       User sign-in hour  User sign-in minute  User sign-in second  \\\n",
       "0                     15                   18            11.439200   \n",
       "1                     10                   30            32.261855   \n",
       "2                     -1                   -1            -1.000000   \n",
       "3                      8                   32            14.997443   \n",
       "4                      9                   42            39.695313   \n",
       "...                  ...                  ...                  ...   \n",
       "17386                 10                   55            11.435972   \n",
       "17387                  9                   48            48.866739   \n",
       "17388                 22                   15            18.135850   \n",
       "17389                 17                   11            20.611646   \n",
       "17390                  8                   24            33.732648   \n",
       "\n",
       "       Time user completed action in hour  \\\n",
       "0                                    16.0   \n",
       "1                                    11.0   \n",
       "2                                     9.0   \n",
       "3                                    10.0   \n",
       "4                                    10.0   \n",
       "...                                   ...   \n",
       "17386                                11.0   \n",
       "17387                                23.0   \n",
       "17388                                23.0   \n",
       "17389                                 0.0   \n",
       "17390                                 9.0   \n",
       "\n",
       "       Time user completed action in minute  \\\n",
       "0                                      18.0   \n",
       "1                                      31.0   \n",
       "2                                      17.0   \n",
       "3                                      51.0   \n",
       "4                                      44.0   \n",
       "...                                     ...   \n",
       "17386                                  57.0   \n",
       "17387                                  41.0   \n",
       "17388                                  16.0   \n",
       "17389                                   0.0   \n",
       "17390                                  32.0   \n",
       "\n",
       "       Time user completed action in second  Discussion Day  \n",
       "0                                      22.0            -1.0  \n",
       "1                                      30.0            -1.0  \n",
       "2                                       9.0            -1.0  \n",
       "3                                      58.0            -1.0  \n",
       "4                                      55.0            -1.0  \n",
       "...                                     ...             ...  \n",
       "17386                                  10.0            -1.0  \n",
       "17387                                  18.0            -1.0  \n",
       "17388                                  34.0            -1.0  \n",
       "17389                                   0.0            -1.0  \n",
       "17390                                  57.0            -1.0  \n",
       "\n",
       "[17391 rows x 51 columns]"
      ]
     },
     "execution_count": 507,
     "metadata": {},
     "output_type": "execute_result"
    }
   ],
   "source": [
    "df_final"
   ]
  },
  {
   "cell_type": "code",
   "execution_count": 508,
   "id": "cf20f44d",
   "metadata": {},
   "outputs": [],
   "source": [
    "df_final.to_csv('Dataset.csv')"
   ]
  }
 ],
 "metadata": {
  "kernelspec": {
   "display_name": "Python 3 (ipykernel)",
   "language": "python",
   "name": "python3"
  },
  "language_info": {
   "codemirror_mode": {
    "name": "ipython",
    "version": 3
   },
   "file_extension": ".py",
   "mimetype": "text/x-python",
   "name": "python",
   "nbconvert_exporter": "python",
   "pygments_lexer": "ipython3",
   "version": "3.9.7"
  }
 },
 "nbformat": 4,
 "nbformat_minor": 5
}
